{
 "cells": [
  {
   "cell_type": "markdown",
   "metadata": {},
   "source": [
    "### Notes\n",
    "\n",
    "The models you can run here will be limited by what's implemented by the litellm library, because that's what managing the API calls.\n",
    "\n",
    "You can see the models here: https://docs.litellm.ai/docs/\n",
    "\n"
   ]
  },
  {
   "cell_type": "code",
   "execution_count": 1,
   "metadata": {},
   "outputs": [
    {
     "name": "stderr",
     "output_type": "stream",
     "text": [
      "C:\\Users\\abiga\\OneDrive\\Documents\\PythonScripts\\llm_eval\\env\\Lib\\site-packages\\tqdm\\auto.py:21: TqdmWarning: IProgress not found. Please update jupyter and ipywidgets. See https://ipywidgets.readthedocs.io/en/stable/user_install.html\n",
      "  from .autonotebook import tqdm as notebook_tqdm\n"
     ]
    }
   ],
   "source": [
    "from functions import *"
   ]
  },
  {
   "cell_type": "markdown",
   "metadata": {},
   "source": [
    "## Parameters"
   ]
  },
  {
   "cell_type": "code",
   "execution_count": 2,
   "metadata": {},
   "outputs": [
    {
     "name": "stderr",
     "output_type": "stream",
     "text": [
      "2023-12-17 09:52:50,808 - INFO - Reading prompts from CSV file.\n",
      "2023-12-17 09:53:01,453 - INFO - HTTP Request: POST https://api.openai.com/v1/chat/completions \"HTTP/1.1 200 OK\"\n",
      "2023-12-17 09:53:01,466 - INFO - API call successful. Model: gpt-4, Provider: OPENAI, Response: ModelResponse(id='chatcmpl-8WmnaQpHs4JR8uT1AXtVapfHLuTtH', choices=[Choices(finish_reason='stop', index=0, message=Message(content=\"- Can you explain the function of the cell's powerhouse and its working mechanism?\\n- What is the main energy source of the cell and how does it operate?\\n- Can you describe the cell's energy factory and how it functions?\\n- What is the cell's main energy producer and how does it work?\\n- What is the energy center of the cell and how does it perform its functions?\\n- Can you tell me about the cell's energy hub and how it works?\\n- What is the energy generator of the cell and how does it function?\\n- What is the primary energy supplier of the cell and how does it operate?\\n- Can you explain the role and function of the cell's powerhouse?\\n- What is the main energy production center of the cell and how does it work?\\n- Can you describe the energy producing unit of the cell and its working process?\", role='assistant'))], created=1702824770, model='gpt-4-0613', object='chat.completion', system_fingerprint=None, usage=Usage(completion_tokens=172, prompt_tokens=35, total_tokens=207))\n",
      "2023-12-17 09:53:12,214 - INFO - HTTP Request: POST https://api.openai.com/v1/chat/completions \"HTTP/1.1 200 OK\"\n",
      "2023-12-17 09:53:12,226 - INFO - API call successful. Model: gpt-4, Provider: OPENAI, Response: ModelResponse(id='chatcmpl-8WmnkWQm56HQBWYCv21PQgrkfjNn3', choices=[Choices(finish_reason='stop', index=0, message=Message(content='- What is the fundamental unit of life and can you explain its significance?\\n- Can you identify the primary unit of life and its meaning?\\n- What is the essential building block of life and what is its implication?\\n- What is the core unit of life and what is its interpretation?\\n- What is the principal unit of life and what does it signify?\\n- What is the key unit of life and what is its relevance?\\n- What is the rudimentary unit of life and what does it represent?\\n- What is the foundational unit of life and what is its importance?\\n- What is the elemental unit of life and what does it denote?\\n- What is the basic component of life and what is its significance?\\n- What is the simplest unit of life and what does it imply?', role='assistant'))], created=1702824781, model='gpt-4-0613', object='chat.completion', system_fingerprint=None, usage=Usage(completion_tokens=156, prompt_tokens=35, total_tokens=191))\n",
      "2023-12-17 09:53:23,632 - INFO - HTTP Request: POST https://api.openai.com/v1/chat/completions \"HTTP/1.1 200 OK\"\n",
      "2023-12-17 09:53:23,638 - INFO - API call successful. Model: gpt-4, Provider: OPENAI, Response: ModelResponse(id='chatcmpl-8Wmnv9Vx45dmBdnpcEd6Iqj68Uclz', choices=[Choices(finish_reason='stop', index=0, message=Message(content='- What are the components of genes and their functioning mechanism?\\n- Can you explain the composition of genes and their operation?\\n- What makes up genes and how do they function?\\n- What are genes made of and how do they operate?\\n- What is the structure of genes and how do they perform their tasks?\\n- What constitutes genes and how do they carry out their work?\\n- What are the elements of genes and how do they execute their functions?\\n- What is the composition and functionality of genes?\\n- What are the building blocks of genes and how do they work?\\n- What are the constituents of genes and how do they function?\\n- What is the makeup of genes and how do they carry out their roles?', role='assistant'))], created=1702824792, model='gpt-4-0613', object='chat.completion', system_fingerprint=None, usage=Usage(completion_tokens=143, prompt_tokens=33, total_tokens=176))\n",
      "2023-12-17 09:53:41,668 - INFO - HTTP Request: POST https://api.openai.com/v1/chat/completions \"HTTP/1.1 200 OK\"\n",
      "2023-12-17 09:53:41,673 - INFO - API call successful. Model: gpt-4, Provider: OPENAI, Response: ModelResponse(id='chatcmpl-8Wmo7JnPcBGwrYoOBbGTCY27ikNKN', choices=[Choices(finish_reason='stop', index=0, message=Message(content=\"- What is the name of the organelle that holds the cell's future-generating material and can you explain its function?\\n- Can you identify the organelle that stores the cell's future-forming material and describe its operation?\\n- Which cellular structure is responsible for containing the material that determines the cell's future and how does it function?\\n- What is the organelle that houses the material responsible for the cell's future development and how does it operate?\\n- Can you specify the organelle that carries the cell's future-determining material and explain its working mechanism?\\n- Which part of the cell holds the material that influences its future and how does this part work?\\n- What is the organelle that contains the material that shapes the cell's future and how does it perform its function?\\n- Can you name the organelle that holds the material that will determine the cell's future and describe how it works?\\n- Which cellular component contains the material that will shape the cell's future and how does it function?\\n- What is the organelle that stores the material that will influence the cell's future and how does it operate?\\n- Can you identify the organelle that carries the material that will determine the cell's future and explain its function?\", role='assistant'))], created=1702824803, model='gpt-4-0613', object='chat.completion', system_fingerprint=None, usage=Usage(completion_tokens=256, prompt_tokens=39, total_tokens=295))\n",
      "2023-12-17 09:53:57,897 - INFO - HTTP Request: POST https://api.openai.com/v1/chat/completions \"HTTP/1.1 200 OK\"\n",
      "2023-12-17 09:53:57,902 - INFO - API call successful. Model: gpt-4, Provider: OPENAI, Response: ModelResponse(id='chatcmpl-8WmoPPr534v9ruDKDoU0kO7TQ8Q8A', choices=[Choices(finish_reason='stop', index=0, message=Message(content='- What is the particle that maintains the stability of the membrane in hover frogs and what is its method of doing so?\\n- Can you identify the particle that ensures the membrane stability in hover frogs and explain its mechanism?\\n- What is the specific particle that keeps the membrane of hover frogs stable and how does it function?\\n- Which particle is responsible for stabilizing the membrane of hover frogs and how does it work?\\n- What particle plays a role in stabilizing the membrane of hover frogs and how does it do this?\\n- What is the particle that contributes to the stability of the membrane in hover frogs and how does it achieve this?\\n- Can you tell me which particle is crucial for the membrane stability in hover frogs and how it operates?\\n- What particle is key in maintaining the stability of the membrane in hover frogs and how does it do so?\\n- Which particle is essential for the stabilization of the membrane in hover frogs and how does it function?\\n- What particle is involved in ensuring the stability of the membrane in hover frogs and how does it work?\\n- What is the particle that aids in stabilizing the membrane of hover frogs and how does it accomplish this?', role='assistant'))], created=1702824821, model='gpt-4-0613', object='chat.completion', system_fingerprint=None, usage=Usage(completion_tokens=232, prompt_tokens=34, total_tokens=266))\n",
      "2023-12-17 09:54:10,927 - INFO - HTTP Request: POST https://api.openai.com/v1/chat/completions \"HTTP/1.1 200 OK\"\n",
      "2023-12-17 09:54:10,931 - INFO - API call successful. Model: gpt-4, Provider: OPENAI, Response: ModelResponse(id='chatcmpl-8WmofjpvpXfbjAMsM5FP9jGoMQEvt', choices=[Choices(finish_reason='stop', index=0, message=Message(content='- How do astroflora conduct photosynthesis in conditions of low light?\\n- In low light conditions, how do astroflora carry out photosynthesis?\\n- How is photosynthesis performed by astroflora in low light?\\n- How do astroflora manage to photosynthesize in low light?\\n- How does photosynthesis occur in astroflora when there is low light?\\n- How can astroflora perform photosynthesis in low light conditions?\\n- How do astroflora execute the process of photosynthesis in low light?\\n- In what way do astroflora perform photosynthesis in low light?\\n- How are astroflora able to photosynthesize in low light?\\n- How do astroflora accomplish photosynthesis in low light?\\n- How is it possible for astroflora to perform photosynthesis in low light?', role='assistant'))], created=1702824837, model='gpt-4-0613', object='chat.completion', system_fingerprint=None, usage=Usage(completion_tokens=166, prompt_tokens=34, total_tokens=200))\n"
     ]
    },
    {
     "name": "stdout",
     "output_type": "stream",
     "text": [
      "0\n"
     ]
    },
    {
     "name": "stderr",
     "output_type": "stream",
     "text": [
      "2023-12-17 09:54:17,254 - INFO - HTTP Request: POST https://api.openai.com/v1/chat/completions \"HTTP/1.1 200 OK\"\n",
      "2023-12-17 09:54:17,259 - INFO - API call successful. Model: gpt-3.5-turbo-0301, Provider: OPENAI, Response: ModelResponse(id='chatcmpl-8Wmosnun2rXPHcvV4xNJM8nWPq59n', choices=[Choices(finish_reason='stop', index=0, message=Message(content='The powerhouse of the cell is the mitochondria. It is responsible for producing energy in the form of ATP (adenosine triphosphate) through a process called cellular respiration. \\n\\nMitochondria have an outer membrane and an inner membrane, with a space in between called the intermembrane space. The inner membrane is highly folded, forming structures called cristae. These folds increase the surface area of the inner membrane, allowing for more ATP production.\\n\\nThe process of cellular respiration occurs in three stages: glycolysis, the citric acid cycle, and oxidative phosphorylation. \\n\\nDuring glycolysis, glucose is broken down into two molecules of pyruvate. This process occurs in the cytoplasm of the cell and does not require oxygen. \\n\\nThe pyruvate then enters the mitochondria and undergoes the citric acid cycle, also known as the Krebs cycle. During this cycle, the pyruvate is further broken down into carbon dioxide and water, releasing energy in the form of ATP.\\n\\nThe final stage of cellular respiration is oxidative phosphorylation. This occurs in the inner membrane of the mitochondria and requires oxygen. Electrons from the breakdown of glucose are passed through a series of proteins in the electron transport chain, generating a proton gradient across the inner membrane. This gradient is then used to power the production of ATP through a process called chemiosmosis.\\n\\nOverall, the mitochondria play a crucial role in providing energy for the cell to carry out its functions. Without the mitochondria, cells would not be able to produce enough ATP to survive.', role='assistant'))], created=1702824850, model='gpt-3.5-turbo-0301', object='chat.completion', system_fingerprint=None, usage=Usage(completion_tokens=322, prompt_tokens=26, total_tokens=348))\n",
      "2023-12-17 09:54:20,379 - INFO - HTTP Request: POST https://api.openai.com/v1/chat/completions \"HTTP/1.1 200 OK\"\n",
      "2023-12-17 09:54:20,398 - INFO - API call successful. Model: gpt-4, Provider: OPENAI, Response: ModelResponse(id='chatcmpl-8Wmp0JelohD9iG43AhpOH0Wejiw9C', choices=[Choices(finish_reason='stop', index=0, message=Message(content='9', role='assistant'))], created=1702824859, model='gpt-4-0613', object='chat.completion', system_fingerprint=None, usage=Usage(completion_tokens=1, prompt_tokens=614, total_tokens=615))\n"
     ]
    },
    {
     "name": "stdout",
     "output_type": "stream",
     "text": [
      "1\n"
     ]
    },
    {
     "name": "stderr",
     "output_type": "stream",
     "text": [
      "2023-12-17 09:54:25,316 - INFO - HTTP Request: POST https://api.openai.com/v1/chat/completions \"HTTP/1.1 200 OK\"\n",
      "2023-12-17 09:54:25,323 - INFO - API call successful. Model: gpt-3.5-turbo-0301, Provider: OPENAI, Response: ModelResponse(id='chatcmpl-8Wmp1LoPBl3dJ8XfO0HHyyKliba7g', choices=[Choices(finish_reason='stop', index=0, message=Message(content=\"Yes, I can explain the role and function of the cell's powerhouse.\\n\\nThe cell's powerhouse is the mitochondria. The mitochondria are responsible for producing ATP (adenosine triphosphate), which is the primary source of energy for the cell. ATP is produced through a process called cellular respiration, which occurs within the mitochondria.\\n\\nThe mitochondria are double-membrane organelles that contain their own DNA and ribosomes. They are involved in several important cellular processes, including the regulation of calcium levels within the cell, the synthesis of certain lipids and amino acids, and the initiation of programmed cell death or apoptosis.\\n\\nThe function of the mitochondria is to convert glucose and other nutrients into ATP through a series of chemical reactions. This process involves the breakdown of glucose through a sequence of metabolic pathways, including glycolysis, the citric acid cycle, and oxidative phosphorylation. As the electrons are passed through the electron transport chain, they are used to power an ATP synthase enzyme, which produces ATP from ADP (adenosine diphosphate) and inorganic phosphate.\\n\\nIn summary, the mitochondria play a crucial role in the production of ATP, which is the primary source of energy for the cell. They are involved in several important cellular processes and are essential for the survival and function of eukaryotic cells.\", role='assistant'))], created=1702824860, model='gpt-3.5-turbo-0301', object='chat.completion', system_fingerprint=None, usage=Usage(completion_tokens=271, prompt_tokens=27, total_tokens=298))\n",
      "2023-12-17 09:54:27,531 - INFO - HTTP Request: POST https://api.openai.com/v1/chat/completions \"HTTP/1.1 200 OK\"\n",
      "2023-12-17 09:54:27,546 - INFO - API call successful. Model: gpt-4, Provider: OPENAI, Response: ModelResponse(id='chatcmpl-8Wmp8AZjq4xUuuxMbKPnvpZd3b3wm', choices=[Choices(finish_reason='stop', index=0, message=Message(content='9', role='assistant'))], created=1702824866, model='gpt-4-0613', object='chat.completion', system_fingerprint=None, usage=Usage(completion_tokens=1, prompt_tokens=563, total_tokens=564))\n"
     ]
    },
    {
     "name": "stdout",
     "output_type": "stream",
     "text": [
      "0\n"
     ]
    },
    {
     "name": "stderr",
     "output_type": "stream",
     "text": [
      "2023-12-17 09:54:30,737 - INFO - HTTP Request: POST https://api.openai.com/v1/chat/completions \"HTTP/1.1 200 OK\"\n",
      "2023-12-17 09:54:30,755 - INFO - API call successful. Model: gpt-3.5-turbo-0301, Provider: OPENAI, Response: ModelResponse(id='chatcmpl-8Wmp9YcoF5ADWy6LRp2Ul1KlbPh0N', choices=[Choices(finish_reason='stop', index=0, message=Message(content=\"The key unit of life is the cell. Cells are the fundamental units of structure and function in all living organisms. They are responsible for carrying out all of the processes necessary for life, including metabolism, reproduction, and response to stimuli. \\n\\nThe relevance of the cell lies in its importance to the overall functioning of an organism. Every organism is composed of cells, and the way that those cells interact and communicate with one another determines the organism's behavior and overall health. Understanding the structure and function of cells is critical to understanding the workings of living organisms, including the human body. \\n\\nFurthermore, knowledge of cells has led to numerous breakthroughs in medicine and biotechnology. Scientists have used cell cultures to develop vaccines, study diseases such as cancer, and create new treatments for a wide range of conditions. In short, the cell is not only the basic building block of life but is also essential for human health and progress.\", role='assistant'))], created=1702824867, model='gpt-3.5-turbo-0301', object='chat.completion', system_fingerprint=None, usage=Usage(completion_tokens=183, prompt_tokens=27, total_tokens=210))\n",
      "2023-12-17 09:54:32,966 - INFO - HTTP Request: POST https://api.openai.com/v1/chat/completions \"HTTP/1.1 200 OK\"\n",
      "2023-12-17 09:54:32,970 - INFO - API call successful. Model: gpt-4, Provider: OPENAI, Response: ModelResponse(id='chatcmpl-8WmpDzcc0bXE76JbQsuh12rW3pQ0J', choices=[Choices(finish_reason='stop', index=0, message=Message(content='8', role='assistant'))], created=1702824872, model='gpt-4-0613', object='chat.completion', system_fingerprint=None, usage=Usage(completion_tokens=1, prompt_tokens=498, total_tokens=499))\n"
     ]
    },
    {
     "name": "stdout",
     "output_type": "stream",
     "text": [
      "1\n"
     ]
    },
    {
     "name": "stderr",
     "output_type": "stream",
     "text": [
      "2023-12-17 09:54:43,804 - INFO - HTTP Request: POST https://api.openai.com/v1/chat/completions \"HTTP/1.1 200 OK\"\n",
      "2023-12-17 09:54:43,808 - INFO - API call successful. Model: gpt-3.5-turbo-0301, Provider: OPENAI, Response: ModelResponse(id='chatcmpl-8WmpEGO1pSrVzXFKJDeLlRWlG5vxx', choices=[Choices(finish_reason='stop', index=0, message=Message(content='The fundamental unit of life is the cell. A cell is the smallest structural and functional unit of all living organisms. It is the basic building block of life. The cell contains all the necessary molecules, structures, and organelles required to carry out the processes essential for life. \\n\\nEach cell has a cell membrane that separates the interior of the cell from its external environment. The cell membrane is selectively permeable, allowing the exchange of molecules and ions between the cell and the environment. Inside the cell, there is a fluid-like substance called cytoplasm, which contains various organelles such as mitochondria, ribosomes, endoplasmic reticulum, Golgi apparatus, and nucleus. \\n\\nThe nucleus is the most significant organelle of the cell, as it contains the genetic material in the form of DNA. DNA contains the instructions required for the proper functioning of the cell. The DNA is responsible for determining the characteristics and traits of an organism, and it is passed down from one generation to the next. \\n\\nThe significance of the cell is that it is the basic unit of life, and all living organisms are made up of cells. Cells are responsible for carrying out all the vital functions required for life, such as respiration, digestion, reproduction, and metabolism. Understanding the structure and function of cells is essential for the study of biology and for the development of new medical treatments and technologies. Additionally, since all organisms are made up of cells, the study of cells has helped scientists to understand the evolutionary relationships between different species.', role='assistant'))], created=1702824872, model='gpt-3.5-turbo-0301', object='chat.completion', system_fingerprint=None, usage=Usage(completion_tokens=310, prompt_tokens=28, total_tokens=338))\n",
      "2023-12-17 09:54:45,767 - INFO - HTTP Request: POST https://api.openai.com/v1/chat/completions \"HTTP/1.1 200 OK\"\n",
      "2023-12-17 09:54:45,784 - INFO - API call successful. Model: gpt-4, Provider: OPENAI, Response: ModelResponse(id='chatcmpl-8WmpQZL5oagrTJB8WAMgxp5KnO6mU', choices=[Choices(finish_reason='stop', index=0, message=Message(content='7', role='assistant'))], created=1702824885, model='gpt-4-0613', object='chat.completion', system_fingerprint=None, usage=Usage(completion_tokens=1, prompt_tokens=625, total_tokens=626))\n"
     ]
    },
    {
     "name": "stdout",
     "output_type": "stream",
     "text": [
      "0\n"
     ]
    },
    {
     "name": "stderr",
     "output_type": "stream",
     "text": [
      "2023-12-17 09:54:56,166 - INFO - HTTP Request: POST https://api.openai.com/v1/chat/completions \"HTTP/1.1 200 OK\"\n",
      "2023-12-17 09:54:56,171 - INFO - API call successful. Model: gpt-3.5-turbo-0301, Provider: OPENAI, Response: ModelResponse(id='chatcmpl-8WmpRku1QGPmEijxusXDxBm3um4VA', choices=[Choices(finish_reason='stop', index=0, message=Message(content='Genes are segments of DNA (deoxyribonucleic acid) located on chromosomes in the nucleus of a cell. DNA is made up of four chemical bases: adenine (A), guanine (G), cytosine (C), and thymine (T). The sequence of these bases determines the genetic code that is responsible for the development and function of all living organisms.\\n\\nGenes function by providing instructions for the production of proteins, which are the building blocks of cells and tissues. The process of protein synthesis begins with the transcription of DNA into RNA (ribonucleic acid), which is then translated into a specific sequence of amino acids that make up a protein.\\n\\nGenes also play a role in regulating the expression of other genes, as well as responding to environmental stimuli and maintaining the integrity of genetic material through processes such as DNA repair.\\n\\nMutations, or changes in the DNA sequence of a gene, can alter the function of the protein it produces or affect the regulation of other genes, leading to genetic disorders or increased susceptibility to diseases. Understanding the structure and function of genes is essential for advancing our knowledge of genetics and developing treatments for genetic diseases.', role='assistant'))], created=1702824885, model='gpt-3.5-turbo-0301', object='chat.completion', system_fingerprint=None, usage=Usage(completion_tokens=235, prompt_tokens=24, total_tokens=259))\n",
      "2023-12-17 09:54:58,155 - INFO - HTTP Request: POST https://api.openai.com/v1/chat/completions \"HTTP/1.1 200 OK\"\n",
      "2023-12-17 09:54:58,172 - INFO - API call successful. Model: gpt-4, Provider: OPENAI, Response: ModelResponse(id='chatcmpl-8WmpdZo2T2NbDbw3jq8Ea3BjPhRVr', choices=[Choices(finish_reason='stop', index=0, message=Message(content='10', role='assistant'))], created=1702824897, model='gpt-4-0613', object='chat.completion', system_fingerprint=None, usage=Usage(completion_tokens=1, prompt_tokens=501, total_tokens=502))\n"
     ]
    },
    {
     "name": "stdout",
     "output_type": "stream",
     "text": [
      "1\n"
     ]
    },
    {
     "name": "stderr",
     "output_type": "stream",
     "text": [
      "2023-12-17 09:55:09,438 - INFO - HTTP Request: POST https://api.openai.com/v1/chat/completions \"HTTP/1.1 200 OK\"\n",
      "2023-12-17 09:55:09,452 - INFO - API call successful. Model: gpt-3.5-turbo-0301, Provider: OPENAI, Response: ModelResponse(id='chatcmpl-8WmpdTLchBsDswYDlTCnN8NrgKrxh', choices=[Choices(finish_reason='stop', index=0, message=Message(content='Genes are made up of DNA (deoxyribonucleic acid) which is a long, double-stranded molecule that contains the genetic instructions for the development and function of all living organisms. The DNA molecule is made up of four different nucleotide bases: adenine (A), thymine (T), guanine (G), and cytosine (C). These bases pair up in a specific way, with A always pairing with T and G always pairing with C, to form the rungs of the DNA ladder.\\n\\nGenes operate by providing the instructions for the synthesis of proteins, which are the building blocks of cells and tissues. The process of protein synthesis begins with the transcription of the DNA code into a complementary RNA (ribonucleic acid) molecule. This RNA molecule then serves as a template for the translation of the genetic code into a specific sequence of amino acids, which are the building blocks of proteins.\\n\\nThe expression of genes is regulated by a complex network of molecular signals and interactions that control when and where genes are turned on or off. This regulation is critical for the proper development and function of cells and tissues, and disruptions in gene expression can lead to a wide range of diseases and disorders.\\n\\nIn summary, genes are made up of DNA and operate by providing the instructions for the synthesis of proteins, which are essential for the development and function of all living organisms. The expression of genes is regulated by a complex network of molecular signals and interactions that ensure proper gene function and prevent disease.', role='assistant'))], created=1702824898, model='gpt-3.5-turbo-0301', object='chat.completion', system_fingerprint=None, usage=Usage(completion_tokens=304, prompt_tokens=25, total_tokens=329))\n",
      "2023-12-17 09:55:11,889 - INFO - HTTP Request: POST https://api.openai.com/v1/chat/completions \"HTTP/1.1 200 OK\"\n",
      "2023-12-17 09:55:11,898 - INFO - API call successful. Model: gpt-4, Provider: OPENAI, Response: ModelResponse(id='chatcmpl-8WmpqvjnuLdF973mQoh3cXQzk1ofp', choices=[Choices(finish_reason='stop', index=0, message=Message(content='9', role='assistant'))], created=1702824910, model='gpt-4-0613', object='chat.completion', system_fingerprint=None, usage=Usage(completion_tokens=1, prompt_tokens=570, total_tokens=571))\n"
     ]
    },
    {
     "name": "stdout",
     "output_type": "stream",
     "text": [
      "0\n"
     ]
    },
    {
     "name": "stderr",
     "output_type": "stream",
     "text": [
      "2023-12-17 09:55:17,856 - INFO - HTTP Request: POST https://api.openai.com/v1/chat/completions \"HTTP/1.1 200 OK\"\n",
      "2023-12-17 09:55:17,870 - INFO - API call successful. Model: gpt-3.5-turbo-0301, Provider: OPENAI, Response: ModelResponse(id='chatcmpl-8WmprUOTaZEjaD6R4uNICSaOQgpyT', choices=[Choices(finish_reason='stop', index=0, message=Message(content=\"The name of the organelle that holds the cell's future-generating material is the nucleus. The nucleus is typically spherical or oval in shape and is surrounded by a double-layered membrane called the nuclear envelope. It contains the cell's genetic material in the form of chromatin, which is made up of DNA and proteins. \\n\\nThe nucleus has several important functions, one of which is to store and protect the cell's genetic information. It controls the cell's growth and reproduction by regulating the expression of genes through the process of transcription, where DNA is converted into messenger RNA (mRNA), and translation, where mRNA is used to synthesize proteins. Additionally, the nucleus plays a role in cell division by controlling the separation of chromosomes during mitosis and meiosis. \\n\\nOverall, the nucleus is a vital component of the cell that helps to maintain the proper functioning and development of the organism.\", role='assistant'))], created=1702824911, model='gpt-3.5-turbo-0301', object='chat.completion', system_fingerprint=None, usage=Usage(completion_tokens=179, prompt_tokens=39, total_tokens=218))\n",
      "2023-12-17 09:55:19,620 - INFO - HTTP Request: POST https://api.openai.com/v1/chat/completions \"HTTP/1.1 200 OK\"\n",
      "2023-12-17 09:55:19,638 - INFO - API call successful. Model: gpt-4, Provider: OPENAI, Response: ModelResponse(id='chatcmpl-8WmpyNozGjZqOfOWdpB1WX2a3sCpH', choices=[Choices(finish_reason='stop', index=0, message=Message(content='0', role='assistant'))], created=1702824919, model='gpt-4-0613', object='chat.completion', system_fingerprint=None, usage=Usage(completion_tokens=1, prompt_tokens=407, total_tokens=408))\n"
     ]
    },
    {
     "name": "stdout",
     "output_type": "stream",
     "text": [
      "1\n"
     ]
    },
    {
     "name": "stderr",
     "output_type": "stream",
     "text": [
      "2023-12-17 09:55:25,523 - INFO - HTTP Request: POST https://api.openai.com/v1/chat/completions \"HTTP/1.1 200 OK\"\n",
      "2023-12-17 09:55:25,533 - INFO - API call successful. Model: gpt-3.5-turbo-0301, Provider: OPENAI, Response: ModelResponse(id='chatcmpl-8Wmpzw0DHad5P496TCDIB5kwvabgA', choices=[Choices(finish_reason='stop', index=0, message=Message(content=\"Yes, the organelle that carries the material that will determine the cell's future is the nucleus. The nucleus is a membrane-bound organelle present in eukaryotic cells that contains genetic material in the form of DNA. The genetic material contains all the instructions required for the development, growth, and function of the cell.\\n\\nThe primary function of the nucleus is to store and protect the genetic material of the cell, which is essential for the transfer of genetic information from one generation to the next. The nucleus also plays a crucial role in the regulation of gene expression, which is the process by which the information stored in the DNA is used to synthesize proteins and other molecules required for cellular processes.\\n\\nDuring cell division, the nucleus plays a critical role in the segregation and distribution of genetic material to the daughter cells. The chromosomes condense and become visible in the nucleus during cell division, and the nuclear membrane breaks down, allowing the chromosomes to move to opposite poles.\\n\\nIn summary, the nucleus is a vital organelle that carries the material that will determine the cell's future by storing genetic material and regulating gene expression. It is also essential for the process of cell division and the distribution of genetic material to daughter cells.\", role='assistant'))], created=1702824919, model='gpt-3.5-turbo-0301', object='chat.completion', system_fingerprint=None, usage=Usage(completion_tokens=245, prompt_tokens=37, total_tokens=282))\n",
      "2023-12-17 09:55:27,458 - INFO - HTTP Request: POST https://api.openai.com/v1/chat/completions \"HTTP/1.1 200 OK\"\n",
      "2023-12-17 09:55:27,473 - INFO - API call successful. Model: gpt-4, Provider: OPENAI, Response: ModelResponse(id='chatcmpl-8Wmq65skCL3hkuvcjzUcgtFuztMNB', choices=[Choices(finish_reason='stop', index=0, message=Message(content='2', role='assistant'))], created=1702824926, model='gpt-4-0613', object='chat.completion', system_fingerprint=None, usage=Usage(completion_tokens=1, prompt_tokens=473, total_tokens=474))\n"
     ]
    },
    {
     "name": "stdout",
     "output_type": "stream",
     "text": [
      "0\n"
     ]
    },
    {
     "name": "stderr",
     "output_type": "stream",
     "text": [
      "2023-12-17 09:55:32,079 - INFO - HTTP Request: POST https://api.openai.com/v1/chat/completions \"HTTP/1.1 200 OK\"\n",
      "2023-12-17 09:55:32,088 - INFO - API call successful. Model: gpt-3.5-turbo-0301, Provider: OPENAI, Response: ModelResponse(id='chatcmpl-8Wmq69Mlu85jIzbPTzi8BkJCCCUOj', choices=[Choices(finish_reason='stop', index=0, message=Message(content='As an AI language model, I do not have access to current research on hover frogs, but I can provide a general answer based on the knowledge available to me.\\n\\nThe membrane stability in cells is maintained by a variety of factors, including the presence of proteins and lipids in the cell membrane. In particular, phospholipids are a major component of cell membranes and play a significant role in maintaining membrane stability. These molecules have hydrophilic (water-loving) heads and hydrophobic (water-fearing) tails, which allow them to form a bilayer that separates the inside of the cell from its surroundings.\\n\\nIn some cases, specialized proteins may also be involved in membrane stability. For example, some organisms have evolved unique adaptations that allow them to maintain cell membrane stability in extreme environments. These adaptations may involve the production of specialized lipids or proteins that can withstand high temperatures, extreme pH levels, or other harsh conditions.\\n\\nIn the case of hover frogs, it is possible that the membrane stability is maintained by a combination of phospholipids and specialized proteins or lipids. However, further research would be needed to identify the specific mechanisms involved in membrane stability in these organisms.', role='assistant'))], created=1702824927, model='gpt-3.5-turbo-0301', object='chat.completion', system_fingerprint=None, usage=Usage(completion_tokens=237, prompt_tokens=32, total_tokens=269))\n",
      "2023-12-17 09:55:34,283 - INFO - HTTP Request: POST https://api.openai.com/v1/chat/completions \"HTTP/1.1 200 OK\"\n",
      "2023-12-17 09:55:34,291 - INFO - API call successful. Model: gpt-4, Provider: OPENAI, Response: ModelResponse(id='chatcmpl-8WmqCJavMfFQCYaV9Ofw6Pr3wkjr1', choices=[Choices(finish_reason='stop', index=0, message=Message(content='1', role='assistant'))], created=1702824933, model='gpt-4-0613', object='chat.completion', system_fingerprint=None, usage=Usage(completion_tokens=1, prompt_tokens=513, total_tokens=514))\n"
     ]
    },
    {
     "name": "stdout",
     "output_type": "stream",
     "text": [
      "1\n"
     ]
    },
    {
     "name": "stderr",
     "output_type": "stream",
     "text": [
      "2023-12-17 09:55:36,638 - INFO - HTTP Request: POST https://api.openai.com/v1/chat/completions \"HTTP/1.1 200 OK\"\n",
      "2023-12-17 09:55:36,642 - INFO - API call successful. Model: gpt-3.5-turbo-0301, Provider: OPENAI, Response: ModelResponse(id='chatcmpl-8WmqDse89IaYFzWIp2jaXd5dNJft4', choices=[Choices(finish_reason='stop', index=0, message=Message(content='As an AI language model, I cannot find any credible source or study that mentions the specific particle or molecule that keeps the membrane of hover frogs stable. It is possible that this information is not currently known or studied extensively. However, the membranes of hover frogs (also known as flying frogs) are unique adaptations that allow them to glide through the air over short distances. These membranes act as wings and are supported by cartilage and connective tissue. The process of flight in hover frogs involves a combination of gliding, falling, and hopping. The exact mechanisms that enable their flight remain the subject of scientific inquiry.', role='assistant'))], created=1702824934, model='gpt-3.5-turbo-0301', object='chat.completion', system_fingerprint=None, usage=Usage(completion_tokens=122, prompt_tokens=33, total_tokens=155))\n",
      "2023-12-17 09:55:38,269 - INFO - HTTP Request: POST https://api.openai.com/v1/chat/completions \"HTTP/1.1 200 OK\"\n",
      "2023-12-17 09:55:38,285 - INFO - API call successful. Model: gpt-4, Provider: OPENAI, Response: ModelResponse(id='chatcmpl-8WmqHZfVtZZFtFb6NW34tTihixYTO', choices=[Choices(finish_reason='stop', index=0, message=Message(content='2', role='assistant'))], created=1702824937, model='gpt-4-0613', object='chat.completion', system_fingerprint=None, usage=Usage(completion_tokens=1, prompt_tokens=398, total_tokens=399))\n"
     ]
    },
    {
     "name": "stdout",
     "output_type": "stream",
     "text": [
      "0\n"
     ]
    },
    {
     "name": "stderr",
     "output_type": "stream",
     "text": [
      "2023-12-17 09:55:43,646 - INFO - HTTP Request: POST https://api.openai.com/v1/chat/completions \"HTTP/1.1 200 OK\"\n",
      "2023-12-17 09:55:43,649 - INFO - API call successful. Model: gpt-3.5-turbo-0301, Provider: OPENAI, Response: ModelResponse(id='chatcmpl-8WmqH71AjzPMKYTMslSS9PoSGNhuZ', choices=[Choices(finish_reason='stop', index=0, message=Message(content='Astroflora, also known as space plants, are plants that are grown in space or in low light environments. These plants have adapted to low light conditions by developing unique mechanisms for photosynthesis.\\n\\nOne way that astroflora perform photosynthesis in low light is by increasing the efficiency of their light-harvesting systems. They have developed specialized pigments that can absorb light at longer wavelengths, such as red and blue light, which are more abundant in low light conditions. These pigments, such as phytochrome and cryptochrome, allow the plants to capture more light energy and convert it into chemical energy through photosynthesis.\\n\\nAnother way that astroflora perform photosynthesis in low light is by adjusting their photosynthetic machinery. They can increase the number of chloroplasts, the organelles responsible for photosynthesis, in their cells. This allows them to capture more light energy and convert it into chemical energy. They can also adjust the size and shape of their chloroplasts to optimize their light absorption.\\n\\nAstroflora can also adjust their photosynthetic rates in response to changes in light availability. They can regulate the expression of genes involved in photosynthesis to increase or decrease their photosynthetic activity depending on the amount of light available.\\n\\nOverall, astroflora have developed a range of adaptations to perform photosynthesis in low light conditions. These adaptations allow them to survive and thrive in environments where other plants would struggle to grow.', role='assistant'))], created=1702824938, model='gpt-3.5-turbo-0301', object='chat.completion', system_fingerprint=None, usage=Usage(completion_tokens=291, prompt_tokens=25, total_tokens=316))\n",
      "2023-12-17 09:55:46,632 - INFO - HTTP Request: POST https://api.openai.com/v1/chat/completions \"HTTP/1.1 200 OK\"\n",
      "2023-12-17 09:55:46,636 - INFO - API call successful. Model: gpt-4, Provider: OPENAI, Response: ModelResponse(id='chatcmpl-8WmqOZMtI8nyVFp3VjPlv8WrEvREa', choices=[Choices(finish_reason='stop', index=0, message=Message(content='8', role='assistant'))], created=1702824945, model='gpt-4-0613', object='chat.completion', system_fingerprint=None, usage=Usage(completion_tokens=1, prompt_tokens=581, total_tokens=582))\n"
     ]
    },
    {
     "name": "stdout",
     "output_type": "stream",
     "text": [
      "1\n"
     ]
    },
    {
     "name": "stderr",
     "output_type": "stream",
     "text": [
      "2023-12-17 09:55:52,134 - INFO - HTTP Request: POST https://api.openai.com/v1/chat/completions \"HTTP/1.1 200 OK\"\n",
      "2023-12-17 09:55:52,138 - INFO - API call successful. Model: gpt-3.5-turbo-0301, Provider: OPENAI, Response: ModelResponse(id='chatcmpl-8WmqQWTOanjLxvhavnbGbzv6GgEbE', choices=[Choices(finish_reason='stop', index=0, message=Message(content='Astroflora, also known as space plants or astrobotany, are plants that are grown in space or low light environments. These plants require light for photosynthesis, which is the process by which they convert light energy into chemical energy that they can use for growth and survival.\\n\\nIn low light conditions, astroflora have adapted several strategies to perform photosynthesis. Here are a few examples:\\n\\n1. Enhanced Pigment Production: Astroflora can produce more pigment to capture light energy in low light environments. One pigment that helps plants absorb light is chlorophyll, which is responsible for the green color of plants. Some astroflora can produce more chlorophyll, or other pigments, to increase their efficiency in capturing light.\\n\\n2. Light Spectrum Alteration: Astroflora can alter the wavelengths of light that they absorb to compensate for low light environments. Some astroflora can adjust the ratios of red and blue light that they absorb to improve their photosynthesis.\\n\\n3. Photon Collectors: Astroflora can also use specialized structures to collect and direct light to their photosynthetic cells. One example is the use of tiny reflective surfaces on their leaves that help to redirect and amplify light to improve photosynthesis.\\n\\n4. Slow Growth: Astroflora can slow down their growth in low light conditions to conserve energy and resources. This can help them survive in low light environments, but may not be a desirable strategy for plants that need to grow quickly in space missions.\\n\\nOverall, astroflora have developed several strategies to perform photosynthesis in low light environments. These adaptations allow them to survive and thrive in space, and may also have applications for growing plants in low light environments on Earth.', role='assistant'))], created=1702824946, model='gpt-3.5-turbo-0301', object='chat.completion', system_fingerprint=None, usage=Usage(completion_tokens=342, prompt_tokens=25, total_tokens=367))\n",
      "2023-12-17 09:55:54,484 - INFO - HTTP Request: POST https://api.openai.com/v1/chat/completions \"HTTP/1.1 200 OK\"\n",
      "2023-12-17 09:55:54,491 - INFO - API call successful. Model: gpt-4, Provider: OPENAI, Response: ModelResponse(id='chatcmpl-8WmqXKaZ3uRYle4YqQFPYRSkjB6Aq', choices=[Choices(finish_reason='stop', index=0, message=Message(content='8', role='assistant'))], created=1702824953, model='gpt-4-0613', object='chat.completion', system_fingerprint=None, usage=Usage(completion_tokens=1, prompt_tokens=632, total_tokens=633))\n"
     ]
    }
   ],
   "source": [
    "models_dict = {\n",
    "    #'claude-2.1':  \"ANTHROPIC\", \n",
    "    'gpt-3.5-turbo-0301': \"OPENAI\"\n",
    "               } \n",
    "csv_file_path = '../data/prompt_target_answer_pairs.csv'\n",
    "similarity_model_name = 'sentence-transformers/paraphrase-mpnet-base-v2'\n",
    "temperature = \"variable\"\n",
    "is_file_path = True\n",
    "max_runs= 2\n",
    "llm_evaluation_model = ['gpt-3.5', \"OPENAI\"]\n",
    "instructions = \"Please answer thoroughly: \"\n",
    "perturbation_model = ['gpt-4', \"OPENAI\"] # I recommend using a good model for perturbations otherwise it may generate the wrong number\n",
    "stability_threshold= 3\n",
    "\n",
    "pipeline = LLMAnalysisPipeline(\n",
    "    input_data=csv_file_path, \n",
    "    models_dict=models_dict, \n",
    "    perturbation_model=perturbation_model, \n",
    "    llm_evaluation_model=llm_evaluation_model,\n",
    "    temperature = temperature,\n",
    "    max_runs= max_runs,\n",
    "    is_file_path = is_file_path,\n",
    "    similarity_model_name = similarity_model_name,\n",
    "    instructions = instructions,\n",
    "    stability_threshold = stability_threshold\n",
    "\n",
    ")\n",
    "\n",
    "# Run the pipeline\n",
    "df_responses = pipeline.run_pipeline()\n",
    "\n"
   ]
  },
  {
   "cell_type": "code",
   "execution_count": 13,
   "metadata": {},
   "outputs": [
    {
     "data": {
      "text/html": [
       "<div>\n",
       "<style scoped>\n",
       "    .dataframe tbody tr th:only-of-type {\n",
       "        vertical-align: middle;\n",
       "    }\n",
       "\n",
       "    .dataframe tbody tr th {\n",
       "        vertical-align: top;\n",
       "    }\n",
       "\n",
       "    .dataframe thead th {\n",
       "        text-align: right;\n",
       "    }\n",
       "</style>\n",
       "<table border=\"1\" class=\"dataframe\">\n",
       "  <thead>\n",
       "    <tr style=\"text-align: right;\">\n",
       "      <th></th>\n",
       "      <th>model</th>\n",
       "      <th>original_prompt</th>\n",
       "      <th>response</th>\n",
       "      <th>temperature</th>\n",
       "      <th>actual_prompt</th>\n",
       "      <th>run_number</th>\n",
       "      <th>similarity_score</th>\n",
       "      <th>keyword_score</th>\n",
       "      <th>llm_rating</th>\n",
       "      <th>true_or_false</th>\n",
       "      <th>keywords</th>\n",
       "    </tr>\n",
       "  </thead>\n",
       "  <tbody>\n",
       "    <tr>\n",
       "      <th>0</th>\n",
       "      <td>gpt-3.5-turbo-0301</td>\n",
       "      <td>What is the powerhouse of the cell and how doe...</td>\n",
       "      <td>The powerhouse of the cell is the mitochondria...</td>\n",
       "      <td>0.066700</td>\n",
       "      <td>What is the powerhouse of the cell and how doe...</td>\n",
       "      <td>0</td>\n",
       "      <td>0.872075</td>\n",
       "      <td>0.642857</td>\n",
       "      <td>0.9</td>\n",
       "      <td>True</td>\n",
       "      <td>[mitochondrion, mitochondria, atp, adenosine t...</td>\n",
       "    </tr>\n",
       "    <tr>\n",
       "      <th>1</th>\n",
       "      <td>gpt-3.5-turbo-0301</td>\n",
       "      <td>What is the powerhouse of the cell and how doe...</td>\n",
       "      <td>Yes, I can explain the role and function of th...</td>\n",
       "      <td>0.902689</td>\n",
       "      <td>- Can you explain the role and function of the...</td>\n",
       "      <td>1</td>\n",
       "      <td>0.835412</td>\n",
       "      <td>0.571429</td>\n",
       "      <td>0.9</td>\n",
       "      <td>True</td>\n",
       "      <td>[mitochondrion, mitochondria, atp, adenosine t...</td>\n",
       "    </tr>\n",
       "    <tr>\n",
       "      <th>2</th>\n",
       "      <td>gpt-3.5-turbo-0301</td>\n",
       "      <td>What is the basic unit of life and what does t...</td>\n",
       "      <td>The key unit of life is the cell. Cells are th...</td>\n",
       "      <td>0.837901</td>\n",
       "      <td>- What is the key unit of life and what is its...</td>\n",
       "      <td>0</td>\n",
       "      <td>0.778232</td>\n",
       "      <td>0.133333</td>\n",
       "      <td>0.8</td>\n",
       "      <td>True</td>\n",
       "      <td>[cell, biology, prokaryotic cells, eukaryotic ...</td>\n",
       "    </tr>\n",
       "    <tr>\n",
       "      <th>3</th>\n",
       "      <td>gpt-3.5-turbo-0301</td>\n",
       "      <td>What is the basic unit of life and what does t...</td>\n",
       "      <td>The fundamental unit of life is the cell. A ce...</td>\n",
       "      <td>0.903338</td>\n",
       "      <td>- What is the fundamental unit of life and can...</td>\n",
       "      <td>1</td>\n",
       "      <td>0.833760</td>\n",
       "      <td>0.400000</td>\n",
       "      <td>0.7</td>\n",
       "      <td>True</td>\n",
       "      <td>[cell, biology, prokaryotic cells, eukaryotic ...</td>\n",
       "    </tr>\n",
       "    <tr>\n",
       "      <th>4</th>\n",
       "      <td>gpt-3.5-turbo-0301</td>\n",
       "      <td>What do genes consist of and how do they work?</td>\n",
       "      <td>Genes are segments of DNA (deoxyribonucleic ac...</td>\n",
       "      <td>0.575674</td>\n",
       "      <td>- What makes up genes and how do they function?</td>\n",
       "      <td>0</td>\n",
       "      <td>0.863344</td>\n",
       "      <td>0.615385</td>\n",
       "      <td>1.0</td>\n",
       "      <td>True</td>\n",
       "      <td>[genes, dna, deoxyribonucleic acid, nucleotide...</td>\n",
       "    </tr>\n",
       "    <tr>\n",
       "      <th>5</th>\n",
       "      <td>gpt-3.5-turbo-0301</td>\n",
       "      <td>What do genes consist of and how do they work?</td>\n",
       "      <td>Genes are made up of DNA (deoxyribonucleic aci...</td>\n",
       "      <td>0.090602</td>\n",
       "      <td>- What are genes made of and how do they operate?</td>\n",
       "      <td>1</td>\n",
       "      <td>0.820403</td>\n",
       "      <td>0.692308</td>\n",
       "      <td>0.9</td>\n",
       "      <td>True</td>\n",
       "      <td>[genes, dna, deoxyribonucleic acid, nucleotide...</td>\n",
       "    </tr>\n",
       "    <tr>\n",
       "      <th>6</th>\n",
       "      <td>gpt-3.5-turbo-0301</td>\n",
       "      <td>Which organelle contains the cell's futurogeni...</td>\n",
       "      <td>The name of the organelle that holds the cell'...</td>\n",
       "      <td>0.898714</td>\n",
       "      <td>- What is the name of the organelle that holds...</td>\n",
       "      <td>0</td>\n",
       "      <td>0.478814</td>\n",
       "      <td>0.000000</td>\n",
       "      <td>0.0</td>\n",
       "      <td>False</td>\n",
       "      <td>[chronocytum, futurogenic material, temporal a...</td>\n",
       "    </tr>\n",
       "    <tr>\n",
       "      <th>7</th>\n",
       "      <td>gpt-3.5-turbo-0301</td>\n",
       "      <td>Which organelle contains the cell's futurogeni...</td>\n",
       "      <td>Yes, the organelle that carries the material t...</td>\n",
       "      <td>0.858036</td>\n",
       "      <td>- Can you identify the organelle that carries ...</td>\n",
       "      <td>1</td>\n",
       "      <td>0.454238</td>\n",
       "      <td>0.000000</td>\n",
       "      <td>0.2</td>\n",
       "      <td>False</td>\n",
       "      <td>[chronocytum, futurogenic material, temporal a...</td>\n",
       "    </tr>\n",
       "    <tr>\n",
       "      <th>8</th>\n",
       "      <td>gpt-3.5-turbo-0301</td>\n",
       "      <td>What particle stabilizes the membrane of hover...</td>\n",
       "      <td>As an AI language model, I do not have access ...</td>\n",
       "      <td>0.705843</td>\n",
       "      <td>- Can you identify the particle that ensures t...</td>\n",
       "      <td>0</td>\n",
       "      <td>0.587539</td>\n",
       "      <td>0.111111</td>\n",
       "      <td>0.1</td>\n",
       "      <td>False</td>\n",
       "      <td>[levitonium, hover frogs, membrane stabilizati...</td>\n",
       "    </tr>\n",
       "    <tr>\n",
       "      <th>9</th>\n",
       "      <td>gpt-3.5-turbo-0301</td>\n",
       "      <td>What particle stabilizes the membrane of hover...</td>\n",
       "      <td>As an AI language model, I cannot find any cre...</td>\n",
       "      <td>0.973983</td>\n",
       "      <td>- What is the specific particle that keeps the...</td>\n",
       "      <td>1</td>\n",
       "      <td>0.709304</td>\n",
       "      <td>0.111111</td>\n",
       "      <td>0.2</td>\n",
       "      <td>False</td>\n",
       "      <td>[levitonium, hover frogs, membrane stabilizati...</td>\n",
       "    </tr>\n",
       "    <tr>\n",
       "      <th>10</th>\n",
       "      <td>gpt-3.5-turbo-0301</td>\n",
       "      <td>How do astroflora perform photosynthesis in lo...</td>\n",
       "      <td>Astroflora, also known as space plants, are pl...</td>\n",
       "      <td>0.075535</td>\n",
       "      <td>How do astroflora perform photosynthesis in lo...</td>\n",
       "      <td>0</td>\n",
       "      <td>0.843159</td>\n",
       "      <td>0.363636</td>\n",
       "      <td>0.8</td>\n",
       "      <td>False</td>\n",
       "      <td>[astroflora, photosynthesis, low light conditi...</td>\n",
       "    </tr>\n",
       "    <tr>\n",
       "      <th>11</th>\n",
       "      <td>gpt-3.5-turbo-0301</td>\n",
       "      <td>How do astroflora perform photosynthesis in lo...</td>\n",
       "      <td>Astroflora, also known as space plants or astr...</td>\n",
       "      <td>0.876012</td>\n",
       "      <td>How do astroflora perform photosynthesis in lo...</td>\n",
       "      <td>1</td>\n",
       "      <td>0.847789</td>\n",
       "      <td>0.363636</td>\n",
       "      <td>0.8</td>\n",
       "      <td>False</td>\n",
       "      <td>[astroflora, photosynthesis, low light conditi...</td>\n",
       "    </tr>\n",
       "  </tbody>\n",
       "</table>\n",
       "</div>"
      ],
      "text/plain": [
       "                 model                                    original_prompt  \\\n",
       "0   gpt-3.5-turbo-0301  What is the powerhouse of the cell and how doe...   \n",
       "1   gpt-3.5-turbo-0301  What is the powerhouse of the cell and how doe...   \n",
       "2   gpt-3.5-turbo-0301  What is the basic unit of life and what does t...   \n",
       "3   gpt-3.5-turbo-0301  What is the basic unit of life and what does t...   \n",
       "4   gpt-3.5-turbo-0301     What do genes consist of and how do they work?   \n",
       "5   gpt-3.5-turbo-0301     What do genes consist of and how do they work?   \n",
       "6   gpt-3.5-turbo-0301  Which organelle contains the cell's futurogeni...   \n",
       "7   gpt-3.5-turbo-0301  Which organelle contains the cell's futurogeni...   \n",
       "8   gpt-3.5-turbo-0301  What particle stabilizes the membrane of hover...   \n",
       "9   gpt-3.5-turbo-0301  What particle stabilizes the membrane of hover...   \n",
       "10  gpt-3.5-turbo-0301  How do astroflora perform photosynthesis in lo...   \n",
       "11  gpt-3.5-turbo-0301  How do astroflora perform photosynthesis in lo...   \n",
       "\n",
       "                                             response  temperature  \\\n",
       "0   The powerhouse of the cell is the mitochondria...     0.066700   \n",
       "1   Yes, I can explain the role and function of th...     0.902689   \n",
       "2   The key unit of life is the cell. Cells are th...     0.837901   \n",
       "3   The fundamental unit of life is the cell. A ce...     0.903338   \n",
       "4   Genes are segments of DNA (deoxyribonucleic ac...     0.575674   \n",
       "5   Genes are made up of DNA (deoxyribonucleic aci...     0.090602   \n",
       "6   The name of the organelle that holds the cell'...     0.898714   \n",
       "7   Yes, the organelle that carries the material t...     0.858036   \n",
       "8   As an AI language model, I do not have access ...     0.705843   \n",
       "9   As an AI language model, I cannot find any cre...     0.973983   \n",
       "10  Astroflora, also known as space plants, are pl...     0.075535   \n",
       "11  Astroflora, also known as space plants or astr...     0.876012   \n",
       "\n",
       "                                        actual_prompt  run_number  \\\n",
       "0   What is the powerhouse of the cell and how doe...           0   \n",
       "1   - Can you explain the role and function of the...           1   \n",
       "2   - What is the key unit of life and what is its...           0   \n",
       "3   - What is the fundamental unit of life and can...           1   \n",
       "4     - What makes up genes and how do they function?           0   \n",
       "5   - What are genes made of and how do they operate?           1   \n",
       "6   - What is the name of the organelle that holds...           0   \n",
       "7   - Can you identify the organelle that carries ...           1   \n",
       "8   - Can you identify the particle that ensures t...           0   \n",
       "9   - What is the specific particle that keeps the...           1   \n",
       "10  How do astroflora perform photosynthesis in lo...           0   \n",
       "11  How do astroflora perform photosynthesis in lo...           1   \n",
       "\n",
       "    similarity_score  keyword_score  llm_rating  true_or_false  \\\n",
       "0           0.872075       0.642857         0.9           True   \n",
       "1           0.835412       0.571429         0.9           True   \n",
       "2           0.778232       0.133333         0.8           True   \n",
       "3           0.833760       0.400000         0.7           True   \n",
       "4           0.863344       0.615385         1.0           True   \n",
       "5           0.820403       0.692308         0.9           True   \n",
       "6           0.478814       0.000000         0.0          False   \n",
       "7           0.454238       0.000000         0.2          False   \n",
       "8           0.587539       0.111111         0.1          False   \n",
       "9           0.709304       0.111111         0.2          False   \n",
       "10          0.843159       0.363636         0.8          False   \n",
       "11          0.847789       0.363636         0.8          False   \n",
       "\n",
       "                                             keywords  \n",
       "0   [mitochondrion, mitochondria, atp, adenosine t...  \n",
       "1   [mitochondrion, mitochondria, atp, adenosine t...  \n",
       "2   [cell, biology, prokaryotic cells, eukaryotic ...  \n",
       "3   [cell, biology, prokaryotic cells, eukaryotic ...  \n",
       "4   [genes, dna, deoxyribonucleic acid, nucleotide...  \n",
       "5   [genes, dna, deoxyribonucleic acid, nucleotide...  \n",
       "6   [chronocytum, futurogenic material, temporal a...  \n",
       "7   [chronocytum, futurogenic material, temporal a...  \n",
       "8   [levitonium, hover frogs, membrane stabilizati...  \n",
       "9   [levitonium, hover frogs, membrane stabilizati...  \n",
       "10  [astroflora, photosynthesis, low light conditi...  \n",
       "11  [astroflora, photosynthesis, low light conditi...  "
      ]
     },
     "execution_count": 13,
     "metadata": {},
     "output_type": "execute_result"
    }
   ],
   "source": [
    "df_responses"
   ]
  },
  {
   "cell_type": "code",
   "execution_count": 14,
   "metadata": {},
   "outputs": [
    {
     "data": {
      "text/html": [
       "<div>\n",
       "<style scoped>\n",
       "    .dataframe tbody tr th:only-of-type {\n",
       "        vertical-align: middle;\n",
       "    }\n",
       "\n",
       "    .dataframe tbody tr th {\n",
       "        vertical-align: top;\n",
       "    }\n",
       "\n",
       "    .dataframe thead th {\n",
       "        text-align: right;\n",
       "    }\n",
       "</style>\n",
       "<table border=\"1\" class=\"dataframe\">\n",
       "  <thead>\n",
       "    <tr style=\"text-align: right;\">\n",
       "      <th></th>\n",
       "      <th>model</th>\n",
       "      <th>original_prompt</th>\n",
       "      <th>actual_prompt</th>\n",
       "      <th>response</th>\n",
       "      <th>true_or_false</th>\n",
       "      <th>similarity_score</th>\n",
       "    </tr>\n",
       "  </thead>\n",
       "  <tbody>\n",
       "    <tr>\n",
       "      <th>11</th>\n",
       "      <td>gpt-3.5-turbo-0301</td>\n",
       "      <td>How do astroflora perform photosynthesis in lo...</td>\n",
       "      <td>How do astroflora perform photosynthesis in lo...</td>\n",
       "      <td>Astroflora, also known as space plants or astr...</td>\n",
       "      <td>False</td>\n",
       "      <td>0.847789</td>\n",
       "    </tr>\n",
       "    <tr>\n",
       "      <th>4</th>\n",
       "      <td>gpt-3.5-turbo-0301</td>\n",
       "      <td>What do genes consist of and how do they work?</td>\n",
       "      <td>- What makes up genes and how do they function?</td>\n",
       "      <td>Genes are segments of DNA (deoxyribonucleic ac...</td>\n",
       "      <td>True</td>\n",
       "      <td>0.863344</td>\n",
       "    </tr>\n",
       "    <tr>\n",
       "      <th>3</th>\n",
       "      <td>gpt-3.5-turbo-0301</td>\n",
       "      <td>What is the basic unit of life and what does t...</td>\n",
       "      <td>- What is the fundamental unit of life and can...</td>\n",
       "      <td>The fundamental unit of life is the cell. A ce...</td>\n",
       "      <td>True</td>\n",
       "      <td>0.833760</td>\n",
       "    </tr>\n",
       "    <tr>\n",
       "      <th>0</th>\n",
       "      <td>gpt-3.5-turbo-0301</td>\n",
       "      <td>What is the powerhouse of the cell and how doe...</td>\n",
       "      <td>What is the powerhouse of the cell and how doe...</td>\n",
       "      <td>The powerhouse of the cell is the mitochondria...</td>\n",
       "      <td>True</td>\n",
       "      <td>0.872075</td>\n",
       "    </tr>\n",
       "    <tr>\n",
       "      <th>9</th>\n",
       "      <td>gpt-3.5-turbo-0301</td>\n",
       "      <td>What particle stabilizes the membrane of hover...</td>\n",
       "      <td>- What is the specific particle that keeps the...</td>\n",
       "      <td>As an AI language model, I cannot find any cre...</td>\n",
       "      <td>False</td>\n",
       "      <td>0.709304</td>\n",
       "    </tr>\n",
       "    <tr>\n",
       "      <th>6</th>\n",
       "      <td>gpt-3.5-turbo-0301</td>\n",
       "      <td>Which organelle contains the cell's futurogeni...</td>\n",
       "      <td>- What is the name of the organelle that holds...</td>\n",
       "      <td>The name of the organelle that holds the cell'...</td>\n",
       "      <td>False</td>\n",
       "      <td>0.478814</td>\n",
       "    </tr>\n",
       "  </tbody>\n",
       "</table>\n",
       "</div>"
      ],
      "text/plain": [
       "                 model                                    original_prompt  \\\n",
       "11  gpt-3.5-turbo-0301  How do astroflora perform photosynthesis in lo...   \n",
       "4   gpt-3.5-turbo-0301     What do genes consist of and how do they work?   \n",
       "3   gpt-3.5-turbo-0301  What is the basic unit of life and what does t...   \n",
       "0   gpt-3.5-turbo-0301  What is the powerhouse of the cell and how doe...   \n",
       "9   gpt-3.5-turbo-0301  What particle stabilizes the membrane of hover...   \n",
       "6   gpt-3.5-turbo-0301  Which organelle contains the cell's futurogeni...   \n",
       "\n",
       "                                        actual_prompt  \\\n",
       "11  How do astroflora perform photosynthesis in lo...   \n",
       "4     - What makes up genes and how do they function?   \n",
       "3   - What is the fundamental unit of life and can...   \n",
       "0   What is the powerhouse of the cell and how doe...   \n",
       "9   - What is the specific particle that keeps the...   \n",
       "6   - What is the name of the organelle that holds...   \n",
       "\n",
       "                                             response  true_or_false  \\\n",
       "11  Astroflora, also known as space plants or astr...          False   \n",
       "4   Genes are segments of DNA (deoxyribonucleic ac...           True   \n",
       "3   The fundamental unit of life is the cell. A ce...           True   \n",
       "0   The powerhouse of the cell is the mitochondria...           True   \n",
       "9   As an AI language model, I cannot find any cre...          False   \n",
       "6   The name of the organelle that holds the cell'...          False   \n",
       "\n",
       "    similarity_score  \n",
       "11          0.847789  \n",
       "4           0.863344  \n",
       "3           0.833760  \n",
       "0           0.872075  \n",
       "9           0.709304  \n",
       "6           0.478814  "
      ]
     },
     "execution_count": 14,
     "metadata": {},
     "output_type": "execute_result"
    }
   ],
   "source": [
    "aggregate_best_scores(df_responses, \"similarity_score\")"
   ]
  },
  {
   "cell_type": "code",
   "execution_count": 5,
   "metadata": {},
   "outputs": [
    {
     "data": {
      "text/html": [
       "<div>\n",
       "<style scoped>\n",
       "    .dataframe tbody tr th:only-of-type {\n",
       "        vertical-align: middle;\n",
       "    }\n",
       "\n",
       "    .dataframe tbody tr th {\n",
       "        vertical-align: top;\n",
       "    }\n",
       "\n",
       "    .dataframe thead th {\n",
       "        text-align: right;\n",
       "    }\n",
       "</style>\n",
       "<table border=\"1\" class=\"dataframe\">\n",
       "  <thead>\n",
       "    <tr style=\"text-align: right;\">\n",
       "      <th></th>\n",
       "      <th>model</th>\n",
       "      <th>original_prompt</th>\n",
       "      <th>actual_prompt</th>\n",
       "      <th>response</th>\n",
       "      <th>true_or_false</th>\n",
       "      <th>similarity_score</th>\n",
       "    </tr>\n",
       "  </thead>\n",
       "  <tbody>\n",
       "    <tr>\n",
       "      <th>11</th>\n",
       "      <td>gpt-3.5-turbo-0301</td>\n",
       "      <td>How do astroflora perform photosynthesis in lo...</td>\n",
       "      <td>How do astroflora perform photosynthesis in lo...</td>\n",
       "      <td>Astroflora, also known as space plants or astr...</td>\n",
       "      <td>False</td>\n",
       "      <td>0.847789</td>\n",
       "    </tr>\n",
       "    <tr>\n",
       "      <th>4</th>\n",
       "      <td>gpt-3.5-turbo-0301</td>\n",
       "      <td>What do genes consist of and how do they work?</td>\n",
       "      <td>- What makes up genes and how do they function?</td>\n",
       "      <td>Genes are segments of DNA (deoxyribonucleic ac...</td>\n",
       "      <td>True</td>\n",
       "      <td>0.863344</td>\n",
       "    </tr>\n",
       "    <tr>\n",
       "      <th>3</th>\n",
       "      <td>gpt-3.5-turbo-0301</td>\n",
       "      <td>What is the basic unit of life and what does t...</td>\n",
       "      <td>- What is the fundamental unit of life and can...</td>\n",
       "      <td>The fundamental unit of life is the cell. A ce...</td>\n",
       "      <td>True</td>\n",
       "      <td>0.833760</td>\n",
       "    </tr>\n",
       "    <tr>\n",
       "      <th>0</th>\n",
       "      <td>gpt-3.5-turbo-0301</td>\n",
       "      <td>What is the powerhouse of the cell and how doe...</td>\n",
       "      <td>What is the powerhouse of the cell and how doe...</td>\n",
       "      <td>The powerhouse of the cell is the mitochondria...</td>\n",
       "      <td>True</td>\n",
       "      <td>0.872075</td>\n",
       "    </tr>\n",
       "    <tr>\n",
       "      <th>9</th>\n",
       "      <td>gpt-3.5-turbo-0301</td>\n",
       "      <td>What particle stabilizes the membrane of hover...</td>\n",
       "      <td>- What is the specific particle that keeps the...</td>\n",
       "      <td>As an AI language model, I cannot find any cre...</td>\n",
       "      <td>False</td>\n",
       "      <td>0.709304</td>\n",
       "    </tr>\n",
       "    <tr>\n",
       "      <th>6</th>\n",
       "      <td>gpt-3.5-turbo-0301</td>\n",
       "      <td>Which organelle contains the cell's futurogeni...</td>\n",
       "      <td>- What is the name of the organelle that holds...</td>\n",
       "      <td>The name of the organelle that holds the cell'...</td>\n",
       "      <td>False</td>\n",
       "      <td>0.478814</td>\n",
       "    </tr>\n",
       "  </tbody>\n",
       "</table>\n",
       "</div>"
      ],
      "text/plain": [
       "                 model                                    original_prompt  \\\n",
       "11  gpt-3.5-turbo-0301  How do astroflora perform photosynthesis in lo...   \n",
       "4   gpt-3.5-turbo-0301     What do genes consist of and how do they work?   \n",
       "3   gpt-3.5-turbo-0301  What is the basic unit of life and what does t...   \n",
       "0   gpt-3.5-turbo-0301  What is the powerhouse of the cell and how doe...   \n",
       "9   gpt-3.5-turbo-0301  What particle stabilizes the membrane of hover...   \n",
       "6   gpt-3.5-turbo-0301  Which organelle contains the cell's futurogeni...   \n",
       "\n",
       "                                        actual_prompt  \\\n",
       "11  How do astroflora perform photosynthesis in lo...   \n",
       "4     - What makes up genes and how do they function?   \n",
       "3   - What is the fundamental unit of life and can...   \n",
       "0   What is the powerhouse of the cell and how doe...   \n",
       "9   - What is the specific particle that keeps the...   \n",
       "6   - What is the name of the organelle that holds...   \n",
       "\n",
       "                                             response  true_or_false  \\\n",
       "11  Astroflora, also known as space plants or astr...          False   \n",
       "4   Genes are segments of DNA (deoxyribonucleic ac...           True   \n",
       "3   The fundamental unit of life is the cell. A ce...           True   \n",
       "0   The powerhouse of the cell is the mitochondria...           True   \n",
       "9   As an AI language model, I cannot find any cre...          False   \n",
       "6   The name of the organelle that holds the cell'...          False   \n",
       "\n",
       "    similarity_score  \n",
       "11          0.847789  \n",
       "4           0.863344  \n",
       "3           0.833760  \n",
       "0           0.872075  \n",
       "9           0.709304  \n",
       "6           0.478814  "
      ]
     },
     "execution_count": 5,
     "metadata": {},
     "output_type": "execute_result"
    }
   ],
   "source": [
    "aggregate_best_scores(df_responses, \"similarity_score\")"
   ]
  },
  {
   "cell_type": "code",
   "execution_count": 6,
   "metadata": {},
   "outputs": [
    {
     "data": {
      "text/html": [
       "<div>\n",
       "<style scoped>\n",
       "    .dataframe tbody tr th:only-of-type {\n",
       "        vertical-align: middle;\n",
       "    }\n",
       "\n",
       "    .dataframe tbody tr th {\n",
       "        vertical-align: top;\n",
       "    }\n",
       "\n",
       "    .dataframe thead th {\n",
       "        text-align: right;\n",
       "    }\n",
       "</style>\n",
       "<table border=\"1\" class=\"dataframe\">\n",
       "  <thead>\n",
       "    <tr style=\"text-align: right;\">\n",
       "      <th></th>\n",
       "      <th>model</th>\n",
       "      <th>original_prompt</th>\n",
       "      <th>actual_prompt</th>\n",
       "      <th>response</th>\n",
       "      <th>true_or_false</th>\n",
       "      <th>keyword_score</th>\n",
       "    </tr>\n",
       "  </thead>\n",
       "  <tbody>\n",
       "    <tr>\n",
       "      <th>10</th>\n",
       "      <td>gpt-3.5-turbo-0301</td>\n",
       "      <td>How do astroflora perform photosynthesis in lo...</td>\n",
       "      <td>How do astroflora perform photosynthesis in lo...</td>\n",
       "      <td>Astroflora, also known as space plants, are pl...</td>\n",
       "      <td>False</td>\n",
       "      <td>0.363636</td>\n",
       "    </tr>\n",
       "    <tr>\n",
       "      <th>5</th>\n",
       "      <td>gpt-3.5-turbo-0301</td>\n",
       "      <td>What do genes consist of and how do they work?</td>\n",
       "      <td>- What are genes made of and how do they operate?</td>\n",
       "      <td>Genes are made up of DNA (deoxyribonucleic aci...</td>\n",
       "      <td>True</td>\n",
       "      <td>0.692308</td>\n",
       "    </tr>\n",
       "    <tr>\n",
       "      <th>3</th>\n",
       "      <td>gpt-3.5-turbo-0301</td>\n",
       "      <td>What is the basic unit of life and what does t...</td>\n",
       "      <td>- What is the fundamental unit of life and can...</td>\n",
       "      <td>The fundamental unit of life is the cell. A ce...</td>\n",
       "      <td>True</td>\n",
       "      <td>0.400000</td>\n",
       "    </tr>\n",
       "    <tr>\n",
       "      <th>0</th>\n",
       "      <td>gpt-3.5-turbo-0301</td>\n",
       "      <td>What is the powerhouse of the cell and how doe...</td>\n",
       "      <td>What is the powerhouse of the cell and how doe...</td>\n",
       "      <td>The powerhouse of the cell is the mitochondria...</td>\n",
       "      <td>True</td>\n",
       "      <td>0.642857</td>\n",
       "    </tr>\n",
       "    <tr>\n",
       "      <th>8</th>\n",
       "      <td>gpt-3.5-turbo-0301</td>\n",
       "      <td>What particle stabilizes the membrane of hover...</td>\n",
       "      <td>- Can you identify the particle that ensures t...</td>\n",
       "      <td>As an AI language model, I do not have access ...</td>\n",
       "      <td>False</td>\n",
       "      <td>0.111111</td>\n",
       "    </tr>\n",
       "    <tr>\n",
       "      <th>6</th>\n",
       "      <td>gpt-3.5-turbo-0301</td>\n",
       "      <td>Which organelle contains the cell's futurogeni...</td>\n",
       "      <td>- What is the name of the organelle that holds...</td>\n",
       "      <td>The name of the organelle that holds the cell'...</td>\n",
       "      <td>False</td>\n",
       "      <td>0.000000</td>\n",
       "    </tr>\n",
       "  </tbody>\n",
       "</table>\n",
       "</div>"
      ],
      "text/plain": [
       "                 model                                    original_prompt  \\\n",
       "10  gpt-3.5-turbo-0301  How do astroflora perform photosynthesis in lo...   \n",
       "5   gpt-3.5-turbo-0301     What do genes consist of and how do they work?   \n",
       "3   gpt-3.5-turbo-0301  What is the basic unit of life and what does t...   \n",
       "0   gpt-3.5-turbo-0301  What is the powerhouse of the cell and how doe...   \n",
       "8   gpt-3.5-turbo-0301  What particle stabilizes the membrane of hover...   \n",
       "6   gpt-3.5-turbo-0301  Which organelle contains the cell's futurogeni...   \n",
       "\n",
       "                                        actual_prompt  \\\n",
       "10  How do astroflora perform photosynthesis in lo...   \n",
       "5   - What are genes made of and how do they operate?   \n",
       "3   - What is the fundamental unit of life and can...   \n",
       "0   What is the powerhouse of the cell and how doe...   \n",
       "8   - Can you identify the particle that ensures t...   \n",
       "6   - What is the name of the organelle that holds...   \n",
       "\n",
       "                                             response  true_or_false  \\\n",
       "10  Astroflora, also known as space plants, are pl...          False   \n",
       "5   Genes are made up of DNA (deoxyribonucleic aci...           True   \n",
       "3   The fundamental unit of life is the cell. A ce...           True   \n",
       "0   The powerhouse of the cell is the mitochondria...           True   \n",
       "8   As an AI language model, I do not have access ...          False   \n",
       "6   The name of the organelle that holds the cell'...          False   \n",
       "\n",
       "    keyword_score  \n",
       "10       0.363636  \n",
       "5        0.692308  \n",
       "3        0.400000  \n",
       "0        0.642857  \n",
       "8        0.111111  \n",
       "6        0.000000  "
      ]
     },
     "execution_count": 6,
     "metadata": {},
     "output_type": "execute_result"
    }
   ],
   "source": [
    "aggregate_best_scores(df_responses, 'keyword_score')"
   ]
  },
  {
   "cell_type": "code",
   "execution_count": 7,
   "metadata": {},
   "outputs": [
    {
     "data": {
      "text/html": [
       "<div>\n",
       "<style scoped>\n",
       "    .dataframe tbody tr th:only-of-type {\n",
       "        vertical-align: middle;\n",
       "    }\n",
       "\n",
       "    .dataframe tbody tr th {\n",
       "        vertical-align: top;\n",
       "    }\n",
       "\n",
       "    .dataframe thead th {\n",
       "        text-align: right;\n",
       "    }\n",
       "</style>\n",
       "<table border=\"1\" class=\"dataframe\">\n",
       "  <thead>\n",
       "    <tr style=\"text-align: right;\">\n",
       "      <th></th>\n",
       "      <th>model</th>\n",
       "      <th>original_prompt</th>\n",
       "      <th>actual_prompt</th>\n",
       "      <th>response</th>\n",
       "      <th>true_or_false</th>\n",
       "      <th>llm_rating</th>\n",
       "    </tr>\n",
       "  </thead>\n",
       "  <tbody>\n",
       "    <tr>\n",
       "      <th>10</th>\n",
       "      <td>gpt-3.5-turbo-0301</td>\n",
       "      <td>How do astroflora perform photosynthesis in lo...</td>\n",
       "      <td>How do astroflora perform photosynthesis in lo...</td>\n",
       "      <td>Astroflora, also known as space plants, are pl...</td>\n",
       "      <td>False</td>\n",
       "      <td>0.8</td>\n",
       "    </tr>\n",
       "    <tr>\n",
       "      <th>4</th>\n",
       "      <td>gpt-3.5-turbo-0301</td>\n",
       "      <td>What do genes consist of and how do they work?</td>\n",
       "      <td>- What makes up genes and how do they function?</td>\n",
       "      <td>Genes are segments of DNA (deoxyribonucleic ac...</td>\n",
       "      <td>True</td>\n",
       "      <td>1.0</td>\n",
       "    </tr>\n",
       "    <tr>\n",
       "      <th>2</th>\n",
       "      <td>gpt-3.5-turbo-0301</td>\n",
       "      <td>What is the basic unit of life and what does t...</td>\n",
       "      <td>- What is the key unit of life and what is its...</td>\n",
       "      <td>The key unit of life is the cell. Cells are th...</td>\n",
       "      <td>True</td>\n",
       "      <td>0.8</td>\n",
       "    </tr>\n",
       "    <tr>\n",
       "      <th>0</th>\n",
       "      <td>gpt-3.5-turbo-0301</td>\n",
       "      <td>What is the powerhouse of the cell and how doe...</td>\n",
       "      <td>What is the powerhouse of the cell and how doe...</td>\n",
       "      <td>The powerhouse of the cell is the mitochondria...</td>\n",
       "      <td>True</td>\n",
       "      <td>0.9</td>\n",
       "    </tr>\n",
       "    <tr>\n",
       "      <th>9</th>\n",
       "      <td>gpt-3.5-turbo-0301</td>\n",
       "      <td>What particle stabilizes the membrane of hover...</td>\n",
       "      <td>- What is the specific particle that keeps the...</td>\n",
       "      <td>As an AI language model, I cannot find any cre...</td>\n",
       "      <td>False</td>\n",
       "      <td>0.2</td>\n",
       "    </tr>\n",
       "    <tr>\n",
       "      <th>7</th>\n",
       "      <td>gpt-3.5-turbo-0301</td>\n",
       "      <td>Which organelle contains the cell's futurogeni...</td>\n",
       "      <td>- Can you identify the organelle that carries ...</td>\n",
       "      <td>Yes, the organelle that carries the material t...</td>\n",
       "      <td>False</td>\n",
       "      <td>0.2</td>\n",
       "    </tr>\n",
       "  </tbody>\n",
       "</table>\n",
       "</div>"
      ],
      "text/plain": [
       "                 model                                    original_prompt  \\\n",
       "10  gpt-3.5-turbo-0301  How do astroflora perform photosynthesis in lo...   \n",
       "4   gpt-3.5-turbo-0301     What do genes consist of and how do they work?   \n",
       "2   gpt-3.5-turbo-0301  What is the basic unit of life and what does t...   \n",
       "0   gpt-3.5-turbo-0301  What is the powerhouse of the cell and how doe...   \n",
       "9   gpt-3.5-turbo-0301  What particle stabilizes the membrane of hover...   \n",
       "7   gpt-3.5-turbo-0301  Which organelle contains the cell's futurogeni...   \n",
       "\n",
       "                                        actual_prompt  \\\n",
       "10  How do astroflora perform photosynthesis in lo...   \n",
       "4     - What makes up genes and how do they function?   \n",
       "2   - What is the key unit of life and what is its...   \n",
       "0   What is the powerhouse of the cell and how doe...   \n",
       "9   - What is the specific particle that keeps the...   \n",
       "7   - Can you identify the organelle that carries ...   \n",
       "\n",
       "                                             response  true_or_false  \\\n",
       "10  Astroflora, also known as space plants, are pl...          False   \n",
       "4   Genes are segments of DNA (deoxyribonucleic ac...           True   \n",
       "2   The key unit of life is the cell. Cells are th...           True   \n",
       "0   The powerhouse of the cell is the mitochondria...           True   \n",
       "9   As an AI language model, I cannot find any cre...          False   \n",
       "7   Yes, the organelle that carries the material t...          False   \n",
       "\n",
       "    llm_rating  \n",
       "10         0.8  \n",
       "4          1.0  \n",
       "2          0.8  \n",
       "0          0.9  \n",
       "9          0.2  \n",
       "7          0.2  "
      ]
     },
     "execution_count": 7,
     "metadata": {},
     "output_type": "execute_result"
    }
   ],
   "source": [
    "aggregate_best_scores(df_responses, 'llm_rating')"
   ]
  },
  {
   "cell_type": "code",
   "execution_count": 8,
   "metadata": {},
   "outputs": [
    {
     "data": {
      "text/plain": [
       "Index(['model', 'original_prompt', 'response', 'temperature', 'actual_prompt',\n",
       "       'run_number', 'similarity_score', 'keyword_score', 'llm_rating',\n",
       "       'true_or_false', 'keywords'],\n",
       "      dtype='object')"
      ]
     },
     "execution_count": 8,
     "metadata": {},
     "output_type": "execute_result"
    }
   ],
   "source": [
    "df_responses.columns"
   ]
  },
  {
   "cell_type": "code",
   "execution_count": 9,
   "metadata": {},
   "outputs": [
    {
     "name": "stdout",
     "output_type": "stream",
     "text": [
      "Starting aggregation...\n",
      "Aggregating method: llm_rating\n",
      "Aggregating method: keyword_score\n",
      "Aggregating method: similarity_score\n"
     ]
    },
    {
     "data": {
      "text/html": [
       "<div>\n",
       "<style scoped>\n",
       "    .dataframe tbody tr th:only-of-type {\n",
       "        vertical-align: middle;\n",
       "    }\n",
       "\n",
       "    .dataframe tbody tr th {\n",
       "        vertical-align: top;\n",
       "    }\n",
       "\n",
       "    .dataframe thead th {\n",
       "        text-align: right;\n",
       "    }\n",
       "</style>\n",
       "<table border=\"1\" class=\"dataframe\">\n",
       "  <thead>\n",
       "    <tr style=\"text-align: right;\">\n",
       "      <th></th>\n",
       "      <th>model</th>\n",
       "      <th>original_prompt</th>\n",
       "      <th>true_or_false</th>\n",
       "      <th>score</th>\n",
       "      <th>method</th>\n",
       "    </tr>\n",
       "  </thead>\n",
       "  <tbody>\n",
       "    <tr>\n",
       "      <th>0</th>\n",
       "      <td>gpt-3.5-turbo-0301</td>\n",
       "      <td>How do astroflora perform photosynthesis in lo...</td>\n",
       "      <td>False</td>\n",
       "      <td>0.800000</td>\n",
       "      <td>llm_rating</td>\n",
       "    </tr>\n",
       "    <tr>\n",
       "      <th>1</th>\n",
       "      <td>gpt-3.5-turbo-0301</td>\n",
       "      <td>What do genes consist of and how do they work?</td>\n",
       "      <td>True</td>\n",
       "      <td>1.000000</td>\n",
       "      <td>llm_rating</td>\n",
       "    </tr>\n",
       "    <tr>\n",
       "      <th>2</th>\n",
       "      <td>gpt-3.5-turbo-0301</td>\n",
       "      <td>What is the basic unit of life and what does t...</td>\n",
       "      <td>True</td>\n",
       "      <td>0.800000</td>\n",
       "      <td>llm_rating</td>\n",
       "    </tr>\n",
       "    <tr>\n",
       "      <th>3</th>\n",
       "      <td>gpt-3.5-turbo-0301</td>\n",
       "      <td>What is the powerhouse of the cell and how doe...</td>\n",
       "      <td>True</td>\n",
       "      <td>0.900000</td>\n",
       "      <td>llm_rating</td>\n",
       "    </tr>\n",
       "    <tr>\n",
       "      <th>4</th>\n",
       "      <td>gpt-3.5-turbo-0301</td>\n",
       "      <td>What particle stabilizes the membrane of hover...</td>\n",
       "      <td>False</td>\n",
       "      <td>0.200000</td>\n",
       "      <td>llm_rating</td>\n",
       "    </tr>\n",
       "    <tr>\n",
       "      <th>5</th>\n",
       "      <td>gpt-3.5-turbo-0301</td>\n",
       "      <td>Which organelle contains the cell's futurogeni...</td>\n",
       "      <td>False</td>\n",
       "      <td>0.200000</td>\n",
       "      <td>llm_rating</td>\n",
       "    </tr>\n",
       "    <tr>\n",
       "      <th>6</th>\n",
       "      <td>gpt-3.5-turbo-0301</td>\n",
       "      <td>How do astroflora perform photosynthesis in lo...</td>\n",
       "      <td>False</td>\n",
       "      <td>0.363636</td>\n",
       "      <td>keyword_score</td>\n",
       "    </tr>\n",
       "    <tr>\n",
       "      <th>7</th>\n",
       "      <td>gpt-3.5-turbo-0301</td>\n",
       "      <td>What do genes consist of and how do they work?</td>\n",
       "      <td>True</td>\n",
       "      <td>0.692308</td>\n",
       "      <td>keyword_score</td>\n",
       "    </tr>\n",
       "    <tr>\n",
       "      <th>8</th>\n",
       "      <td>gpt-3.5-turbo-0301</td>\n",
       "      <td>What is the basic unit of life and what does t...</td>\n",
       "      <td>True</td>\n",
       "      <td>0.400000</td>\n",
       "      <td>keyword_score</td>\n",
       "    </tr>\n",
       "    <tr>\n",
       "      <th>9</th>\n",
       "      <td>gpt-3.5-turbo-0301</td>\n",
       "      <td>What is the powerhouse of the cell and how doe...</td>\n",
       "      <td>True</td>\n",
       "      <td>0.642857</td>\n",
       "      <td>keyword_score</td>\n",
       "    </tr>\n",
       "    <tr>\n",
       "      <th>10</th>\n",
       "      <td>gpt-3.5-turbo-0301</td>\n",
       "      <td>What particle stabilizes the membrane of hover...</td>\n",
       "      <td>False</td>\n",
       "      <td>0.111111</td>\n",
       "      <td>keyword_score</td>\n",
       "    </tr>\n",
       "    <tr>\n",
       "      <th>11</th>\n",
       "      <td>gpt-3.5-turbo-0301</td>\n",
       "      <td>Which organelle contains the cell's futurogeni...</td>\n",
       "      <td>False</td>\n",
       "      <td>0.000000</td>\n",
       "      <td>keyword_score</td>\n",
       "    </tr>\n",
       "    <tr>\n",
       "      <th>12</th>\n",
       "      <td>gpt-3.5-turbo-0301</td>\n",
       "      <td>How do astroflora perform photosynthesis in lo...</td>\n",
       "      <td>False</td>\n",
       "      <td>0.847789</td>\n",
       "      <td>similarity_score</td>\n",
       "    </tr>\n",
       "    <tr>\n",
       "      <th>13</th>\n",
       "      <td>gpt-3.5-turbo-0301</td>\n",
       "      <td>What do genes consist of and how do they work?</td>\n",
       "      <td>True</td>\n",
       "      <td>0.863344</td>\n",
       "      <td>similarity_score</td>\n",
       "    </tr>\n",
       "    <tr>\n",
       "      <th>14</th>\n",
       "      <td>gpt-3.5-turbo-0301</td>\n",
       "      <td>What is the basic unit of life and what does t...</td>\n",
       "      <td>True</td>\n",
       "      <td>0.833760</td>\n",
       "      <td>similarity_score</td>\n",
       "    </tr>\n",
       "    <tr>\n",
       "      <th>15</th>\n",
       "      <td>gpt-3.5-turbo-0301</td>\n",
       "      <td>What is the powerhouse of the cell and how doe...</td>\n",
       "      <td>True</td>\n",
       "      <td>0.872075</td>\n",
       "      <td>similarity_score</td>\n",
       "    </tr>\n",
       "    <tr>\n",
       "      <th>16</th>\n",
       "      <td>gpt-3.5-turbo-0301</td>\n",
       "      <td>What particle stabilizes the membrane of hover...</td>\n",
       "      <td>False</td>\n",
       "      <td>0.709304</td>\n",
       "      <td>similarity_score</td>\n",
       "    </tr>\n",
       "    <tr>\n",
       "      <th>17</th>\n",
       "      <td>gpt-3.5-turbo-0301</td>\n",
       "      <td>Which organelle contains the cell's futurogeni...</td>\n",
       "      <td>False</td>\n",
       "      <td>0.478814</td>\n",
       "      <td>similarity_score</td>\n",
       "    </tr>\n",
       "  </tbody>\n",
       "</table>\n",
       "</div>"
      ],
      "text/plain": [
       "                 model                                    original_prompt  \\\n",
       "0   gpt-3.5-turbo-0301  How do astroflora perform photosynthesis in lo...   \n",
       "1   gpt-3.5-turbo-0301     What do genes consist of and how do they work?   \n",
       "2   gpt-3.5-turbo-0301  What is the basic unit of life and what does t...   \n",
       "3   gpt-3.5-turbo-0301  What is the powerhouse of the cell and how doe...   \n",
       "4   gpt-3.5-turbo-0301  What particle stabilizes the membrane of hover...   \n",
       "5   gpt-3.5-turbo-0301  Which organelle contains the cell's futurogeni...   \n",
       "6   gpt-3.5-turbo-0301  How do astroflora perform photosynthesis in lo...   \n",
       "7   gpt-3.5-turbo-0301     What do genes consist of and how do they work?   \n",
       "8   gpt-3.5-turbo-0301  What is the basic unit of life and what does t...   \n",
       "9   gpt-3.5-turbo-0301  What is the powerhouse of the cell and how doe...   \n",
       "10  gpt-3.5-turbo-0301  What particle stabilizes the membrane of hover...   \n",
       "11  gpt-3.5-turbo-0301  Which organelle contains the cell's futurogeni...   \n",
       "12  gpt-3.5-turbo-0301  How do astroflora perform photosynthesis in lo...   \n",
       "13  gpt-3.5-turbo-0301     What do genes consist of and how do they work?   \n",
       "14  gpt-3.5-turbo-0301  What is the basic unit of life and what does t...   \n",
       "15  gpt-3.5-turbo-0301  What is the powerhouse of the cell and how doe...   \n",
       "16  gpt-3.5-turbo-0301  What particle stabilizes the membrane of hover...   \n",
       "17  gpt-3.5-turbo-0301  Which organelle contains the cell's futurogeni...   \n",
       "\n",
       "    true_or_false     score            method  \n",
       "0           False  0.800000        llm_rating  \n",
       "1            True  1.000000        llm_rating  \n",
       "2            True  0.800000        llm_rating  \n",
       "3            True  0.900000        llm_rating  \n",
       "4           False  0.200000        llm_rating  \n",
       "5           False  0.200000        llm_rating  \n",
       "6           False  0.363636     keyword_score  \n",
       "7            True  0.692308     keyword_score  \n",
       "8            True  0.400000     keyword_score  \n",
       "9            True  0.642857     keyword_score  \n",
       "10          False  0.111111     keyword_score  \n",
       "11          False  0.000000     keyword_score  \n",
       "12          False  0.847789  similarity_score  \n",
       "13           True  0.863344  similarity_score  \n",
       "14           True  0.833760  similarity_score  \n",
       "15           True  0.872075  similarity_score  \n",
       "16          False  0.709304  similarity_score  \n",
       "17          False  0.478814  similarity_score  "
      ]
     },
     "execution_count": 9,
     "metadata": {},
     "output_type": "execute_result"
    }
   ],
   "source": [
    "def aggregate_all_best(df, methods):\n",
    "    print(\"Starting aggregation...\")  # Debugging print\n",
    "    aggregated_dfs = []\n",
    "\n",
    "    for method in methods:\n",
    "        print(f\"Aggregating method: {method}\")  # Debugging print\n",
    "        if method not in df.columns:\n",
    "            print(f\"Warning: Column '{method}' not found in DataFrame\")  # Debugging print\n",
    "            continue\n",
    "\n",
    "        df_method_best = df.loc[df.groupby(['model', 'original_prompt'])[method].idxmax()]\n",
    "        df_method_best = df_method_best[['model', 'original_prompt', 'true_or_false', method]]\n",
    "        df_method_best.rename(columns={method: 'score'}, inplace=True)\n",
    "        df_method_best['method'] = method\n",
    "        aggregated_dfs.append(df_method_best)\n",
    "\n",
    "    df_best_scores = pd.concat(aggregated_dfs, ignore_index=True)\n",
    "    return df_best_scores\n",
    "\n",
    "# Then call the function\n",
    "methods = ['llm_rating', 'keyword_score', 'similarity_score']\n",
    "df_best_scores = aggregate_all_best(df_responses, methods)\n",
    "df_best_scores"
   ]
  },
  {
   "cell_type": "markdown",
   "metadata": {},
   "source": []
  },
  {
   "cell_type": "code",
   "execution_count": 15,
   "metadata": {},
   "outputs": [
    {
     "data": {
      "application/vnd.plotly.v1+json": {
       "config": {
        "plotlyServerURL": "https://plot.ly"
       },
       "data": [
        {
         "customdata": [
          [
           "How do astroflora perform photosynthesis in low light?"
          ],
          [
           "What particle stabilizes the membrane of hover frogs and how?"
          ],
          [
           "Which organelle contains the cell's futurogenic material and how does it work?"
          ],
          [
           "How do astroflora perform photosynthesis in low light?"
          ],
          [
           "What particle stabilizes the membrane of hover frogs and how?"
          ],
          [
           "Which organelle contains the cell's futurogenic material and how does it work?"
          ],
          [
           "How do astroflora perform photosynthesis in low light?"
          ],
          [
           "What particle stabilizes the membrane of hover frogs and how?"
          ],
          [
           "Which organelle contains the cell's futurogenic material and how does it work?"
          ]
         ],
         "hovertemplate": "true_or_false=False<br>model=gpt-3.5-turbo-0301<br>method=%{x}<br>score=%{y}<br>count=%{marker.size}<br>original_prompt=%{customdata[0]}<extra></extra>",
         "legendgroup": "False",
         "marker": {
          "color": "#00cc96",
          "size": [
           1,
           2,
           2,
           1,
           1,
           1,
           1,
           1,
           1
          ],
          "sizemode": "area",
          "sizeref": 0.008888888888888889,
          "symbol": "circle"
         },
         "mode": "markers",
         "name": "False",
         "orientation": "v",
         "showlegend": true,
         "type": "scatter",
         "x": [
          "llm_rating",
          "llm_rating",
          "llm_rating",
          "keyword_score",
          "keyword_score",
          "keyword_score",
          "similarity_score",
          "similarity_score",
          "similarity_score"
         ],
         "xaxis": "x",
         "y": [
          0.8,
          0.2,
          0.2,
          0.36363636363636365,
          0.1111111111111111,
          0,
          0.847789466381073,
          0.7093039155006409,
          0.47881385684013367
         ],
         "yaxis": "y"
        },
        {
         "customdata": [
          [
           "What do genes consist of and how do they work?"
          ],
          [
           "What is the basic unit of life and what does this mean?"
          ],
          [
           "What is the powerhouse of the cell and how does it work?"
          ],
          [
           "What do genes consist of and how do they work?"
          ],
          [
           "What is the basic unit of life and what does this mean?"
          ],
          [
           "What is the powerhouse of the cell and how does it work?"
          ],
          [
           "What do genes consist of and how do they work?"
          ],
          [
           "What is the basic unit of life and what does this mean?"
          ],
          [
           "What is the powerhouse of the cell and how does it work?"
          ]
         ],
         "hovertemplate": "true_or_false=True<br>model=gpt-3.5-turbo-0301<br>method=%{x}<br>score=%{y}<br>count=%{marker.size}<br>original_prompt=%{customdata[0]}<extra></extra>",
         "legendgroup": "True",
         "marker": {
          "color": "#ab63fa",
          "size": [
           1,
           1,
           1,
           1,
           1,
           1,
           1,
           1,
           1
          ],
          "sizemode": "area",
          "sizeref": 0.008888888888888889,
          "symbol": "circle"
         },
         "mode": "markers",
         "name": "True",
         "orientation": "v",
         "showlegend": true,
         "type": "scatter",
         "x": [
          "llm_rating",
          "llm_rating",
          "llm_rating",
          "keyword_score",
          "keyword_score",
          "keyword_score",
          "similarity_score",
          "similarity_score",
          "similarity_score"
         ],
         "xaxis": "x",
         "y": [
          1,
          0.8,
          0.9,
          0.6923076923076923,
          0.4,
          0.6428571428571429,
          0.8633443117141724,
          0.8337595462799072,
          0.8720748424530029
         ],
         "yaxis": "y"
        }
       ],
       "layout": {
        "annotations": [
         {
          "font": {},
          "showarrow": false,
          "text": "model=gpt-3.5-turbo-0301",
          "x": 0.5,
          "xanchor": "center",
          "xref": "paper",
          "y": 1,
          "yanchor": "bottom",
          "yref": "paper"
         }
        ],
        "legend": {
         "itemsizing": "constant",
         "title": {
          "text": "True or False"
         },
         "tracegroupgap": 0
        },
        "margin": {
         "t": 60
        },
        "template": {
         "data": {
          "bar": [
           {
            "error_x": {
             "color": "#2a3f5f"
            },
            "error_y": {
             "color": "#2a3f5f"
            },
            "marker": {
             "line": {
              "color": "#E5ECF6",
              "width": 0.5
             },
             "pattern": {
              "fillmode": "overlay",
              "size": 10,
              "solidity": 0.2
             }
            },
            "type": "bar"
           }
          ],
          "barpolar": [
           {
            "marker": {
             "line": {
              "color": "#E5ECF6",
              "width": 0.5
             },
             "pattern": {
              "fillmode": "overlay",
              "size": 10,
              "solidity": 0.2
             }
            },
            "type": "barpolar"
           }
          ],
          "carpet": [
           {
            "aaxis": {
             "endlinecolor": "#2a3f5f",
             "gridcolor": "white",
             "linecolor": "white",
             "minorgridcolor": "white",
             "startlinecolor": "#2a3f5f"
            },
            "baxis": {
             "endlinecolor": "#2a3f5f",
             "gridcolor": "white",
             "linecolor": "white",
             "minorgridcolor": "white",
             "startlinecolor": "#2a3f5f"
            },
            "type": "carpet"
           }
          ],
          "choropleth": [
           {
            "colorbar": {
             "outlinewidth": 0,
             "ticks": ""
            },
            "type": "choropleth"
           }
          ],
          "contour": [
           {
            "colorbar": {
             "outlinewidth": 0,
             "ticks": ""
            },
            "colorscale": [
             [
              0,
              "#0d0887"
             ],
             [
              0.1111111111111111,
              "#46039f"
             ],
             [
              0.2222222222222222,
              "#7201a8"
             ],
             [
              0.3333333333333333,
              "#9c179e"
             ],
             [
              0.4444444444444444,
              "#bd3786"
             ],
             [
              0.5555555555555556,
              "#d8576b"
             ],
             [
              0.6666666666666666,
              "#ed7953"
             ],
             [
              0.7777777777777778,
              "#fb9f3a"
             ],
             [
              0.8888888888888888,
              "#fdca26"
             ],
             [
              1,
              "#f0f921"
             ]
            ],
            "type": "contour"
           }
          ],
          "contourcarpet": [
           {
            "colorbar": {
             "outlinewidth": 0,
             "ticks": ""
            },
            "type": "contourcarpet"
           }
          ],
          "heatmap": [
           {
            "colorbar": {
             "outlinewidth": 0,
             "ticks": ""
            },
            "colorscale": [
             [
              0,
              "#0d0887"
             ],
             [
              0.1111111111111111,
              "#46039f"
             ],
             [
              0.2222222222222222,
              "#7201a8"
             ],
             [
              0.3333333333333333,
              "#9c179e"
             ],
             [
              0.4444444444444444,
              "#bd3786"
             ],
             [
              0.5555555555555556,
              "#d8576b"
             ],
             [
              0.6666666666666666,
              "#ed7953"
             ],
             [
              0.7777777777777778,
              "#fb9f3a"
             ],
             [
              0.8888888888888888,
              "#fdca26"
             ],
             [
              1,
              "#f0f921"
             ]
            ],
            "type": "heatmap"
           }
          ],
          "heatmapgl": [
           {
            "colorbar": {
             "outlinewidth": 0,
             "ticks": ""
            },
            "colorscale": [
             [
              0,
              "#0d0887"
             ],
             [
              0.1111111111111111,
              "#46039f"
             ],
             [
              0.2222222222222222,
              "#7201a8"
             ],
             [
              0.3333333333333333,
              "#9c179e"
             ],
             [
              0.4444444444444444,
              "#bd3786"
             ],
             [
              0.5555555555555556,
              "#d8576b"
             ],
             [
              0.6666666666666666,
              "#ed7953"
             ],
             [
              0.7777777777777778,
              "#fb9f3a"
             ],
             [
              0.8888888888888888,
              "#fdca26"
             ],
             [
              1,
              "#f0f921"
             ]
            ],
            "type": "heatmapgl"
           }
          ],
          "histogram": [
           {
            "marker": {
             "pattern": {
              "fillmode": "overlay",
              "size": 10,
              "solidity": 0.2
             }
            },
            "type": "histogram"
           }
          ],
          "histogram2d": [
           {
            "colorbar": {
             "outlinewidth": 0,
             "ticks": ""
            },
            "colorscale": [
             [
              0,
              "#0d0887"
             ],
             [
              0.1111111111111111,
              "#46039f"
             ],
             [
              0.2222222222222222,
              "#7201a8"
             ],
             [
              0.3333333333333333,
              "#9c179e"
             ],
             [
              0.4444444444444444,
              "#bd3786"
             ],
             [
              0.5555555555555556,
              "#d8576b"
             ],
             [
              0.6666666666666666,
              "#ed7953"
             ],
             [
              0.7777777777777778,
              "#fb9f3a"
             ],
             [
              0.8888888888888888,
              "#fdca26"
             ],
             [
              1,
              "#f0f921"
             ]
            ],
            "type": "histogram2d"
           }
          ],
          "histogram2dcontour": [
           {
            "colorbar": {
             "outlinewidth": 0,
             "ticks": ""
            },
            "colorscale": [
             [
              0,
              "#0d0887"
             ],
             [
              0.1111111111111111,
              "#46039f"
             ],
             [
              0.2222222222222222,
              "#7201a8"
             ],
             [
              0.3333333333333333,
              "#9c179e"
             ],
             [
              0.4444444444444444,
              "#bd3786"
             ],
             [
              0.5555555555555556,
              "#d8576b"
             ],
             [
              0.6666666666666666,
              "#ed7953"
             ],
             [
              0.7777777777777778,
              "#fb9f3a"
             ],
             [
              0.8888888888888888,
              "#fdca26"
             ],
             [
              1,
              "#f0f921"
             ]
            ],
            "type": "histogram2dcontour"
           }
          ],
          "mesh3d": [
           {
            "colorbar": {
             "outlinewidth": 0,
             "ticks": ""
            },
            "type": "mesh3d"
           }
          ],
          "parcoords": [
           {
            "line": {
             "colorbar": {
              "outlinewidth": 0,
              "ticks": ""
             }
            },
            "type": "parcoords"
           }
          ],
          "pie": [
           {
            "automargin": true,
            "type": "pie"
           }
          ],
          "scatter": [
           {
            "fillpattern": {
             "fillmode": "overlay",
             "size": 10,
             "solidity": 0.2
            },
            "type": "scatter"
           }
          ],
          "scatter3d": [
           {
            "line": {
             "colorbar": {
              "outlinewidth": 0,
              "ticks": ""
             }
            },
            "marker": {
             "colorbar": {
              "outlinewidth": 0,
              "ticks": ""
             }
            },
            "type": "scatter3d"
           }
          ],
          "scattercarpet": [
           {
            "marker": {
             "colorbar": {
              "outlinewidth": 0,
              "ticks": ""
             }
            },
            "type": "scattercarpet"
           }
          ],
          "scattergeo": [
           {
            "marker": {
             "colorbar": {
              "outlinewidth": 0,
              "ticks": ""
             }
            },
            "type": "scattergeo"
           }
          ],
          "scattergl": [
           {
            "marker": {
             "colorbar": {
              "outlinewidth": 0,
              "ticks": ""
             }
            },
            "type": "scattergl"
           }
          ],
          "scattermapbox": [
           {
            "marker": {
             "colorbar": {
              "outlinewidth": 0,
              "ticks": ""
             }
            },
            "type": "scattermapbox"
           }
          ],
          "scatterpolar": [
           {
            "marker": {
             "colorbar": {
              "outlinewidth": 0,
              "ticks": ""
             }
            },
            "type": "scatterpolar"
           }
          ],
          "scatterpolargl": [
           {
            "marker": {
             "colorbar": {
              "outlinewidth": 0,
              "ticks": ""
             }
            },
            "type": "scatterpolargl"
           }
          ],
          "scatterternary": [
           {
            "marker": {
             "colorbar": {
              "outlinewidth": 0,
              "ticks": ""
             }
            },
            "type": "scatterternary"
           }
          ],
          "surface": [
           {
            "colorbar": {
             "outlinewidth": 0,
             "ticks": ""
            },
            "colorscale": [
             [
              0,
              "#0d0887"
             ],
             [
              0.1111111111111111,
              "#46039f"
             ],
             [
              0.2222222222222222,
              "#7201a8"
             ],
             [
              0.3333333333333333,
              "#9c179e"
             ],
             [
              0.4444444444444444,
              "#bd3786"
             ],
             [
              0.5555555555555556,
              "#d8576b"
             ],
             [
              0.6666666666666666,
              "#ed7953"
             ],
             [
              0.7777777777777778,
              "#fb9f3a"
             ],
             [
              0.8888888888888888,
              "#fdca26"
             ],
             [
              1,
              "#f0f921"
             ]
            ],
            "type": "surface"
           }
          ],
          "table": [
           {
            "cells": {
             "fill": {
              "color": "#EBF0F8"
             },
             "line": {
              "color": "white"
             }
            },
            "header": {
             "fill": {
              "color": "#C8D4E3"
             },
             "line": {
              "color": "white"
             }
            },
            "type": "table"
           }
          ]
         },
         "layout": {
          "annotationdefaults": {
           "arrowcolor": "#2a3f5f",
           "arrowhead": 0,
           "arrowwidth": 1
          },
          "autotypenumbers": "strict",
          "coloraxis": {
           "colorbar": {
            "outlinewidth": 0,
            "ticks": ""
           }
          },
          "colorscale": {
           "diverging": [
            [
             0,
             "#8e0152"
            ],
            [
             0.1,
             "#c51b7d"
            ],
            [
             0.2,
             "#de77ae"
            ],
            [
             0.3,
             "#f1b6da"
            ],
            [
             0.4,
             "#fde0ef"
            ],
            [
             0.5,
             "#f7f7f7"
            ],
            [
             0.6,
             "#e6f5d0"
            ],
            [
             0.7,
             "#b8e186"
            ],
            [
             0.8,
             "#7fbc41"
            ],
            [
             0.9,
             "#4d9221"
            ],
            [
             1,
             "#276419"
            ]
           ],
           "sequential": [
            [
             0,
             "#0d0887"
            ],
            [
             0.1111111111111111,
             "#46039f"
            ],
            [
             0.2222222222222222,
             "#7201a8"
            ],
            [
             0.3333333333333333,
             "#9c179e"
            ],
            [
             0.4444444444444444,
             "#bd3786"
            ],
            [
             0.5555555555555556,
             "#d8576b"
            ],
            [
             0.6666666666666666,
             "#ed7953"
            ],
            [
             0.7777777777777778,
             "#fb9f3a"
            ],
            [
             0.8888888888888888,
             "#fdca26"
            ],
            [
             1,
             "#f0f921"
            ]
           ],
           "sequentialminus": [
            [
             0,
             "#0d0887"
            ],
            [
             0.1111111111111111,
             "#46039f"
            ],
            [
             0.2222222222222222,
             "#7201a8"
            ],
            [
             0.3333333333333333,
             "#9c179e"
            ],
            [
             0.4444444444444444,
             "#bd3786"
            ],
            [
             0.5555555555555556,
             "#d8576b"
            ],
            [
             0.6666666666666666,
             "#ed7953"
            ],
            [
             0.7777777777777778,
             "#fb9f3a"
            ],
            [
             0.8888888888888888,
             "#fdca26"
            ],
            [
             1,
             "#f0f921"
            ]
           ]
          },
          "colorway": [
           "#636efa",
           "#EF553B",
           "#00cc96",
           "#ab63fa",
           "#FFA15A",
           "#19d3f3",
           "#FF6692",
           "#B6E880",
           "#FF97FF",
           "#FECB52"
          ],
          "font": {
           "color": "#2a3f5f"
          },
          "geo": {
           "bgcolor": "white",
           "lakecolor": "white",
           "landcolor": "#E5ECF6",
           "showlakes": true,
           "showland": true,
           "subunitcolor": "white"
          },
          "hoverlabel": {
           "align": "left"
          },
          "hovermode": "closest",
          "mapbox": {
           "style": "light"
          },
          "paper_bgcolor": "white",
          "plot_bgcolor": "#E5ECF6",
          "polar": {
           "angularaxis": {
            "gridcolor": "white",
            "linecolor": "white",
            "ticks": ""
           },
           "bgcolor": "#E5ECF6",
           "radialaxis": {
            "gridcolor": "white",
            "linecolor": "white",
            "ticks": ""
           }
          },
          "scene": {
           "xaxis": {
            "backgroundcolor": "#E5ECF6",
            "gridcolor": "white",
            "gridwidth": 2,
            "linecolor": "white",
            "showbackground": true,
            "ticks": "",
            "zerolinecolor": "white"
           },
           "yaxis": {
            "backgroundcolor": "#E5ECF6",
            "gridcolor": "white",
            "gridwidth": 2,
            "linecolor": "white",
            "showbackground": true,
            "ticks": "",
            "zerolinecolor": "white"
           },
           "zaxis": {
            "backgroundcolor": "#E5ECF6",
            "gridcolor": "white",
            "gridwidth": 2,
            "linecolor": "white",
            "showbackground": true,
            "ticks": "",
            "zerolinecolor": "white"
           }
          },
          "shapedefaults": {
           "line": {
            "color": "#2a3f5f"
           }
          },
          "ternary": {
           "aaxis": {
            "gridcolor": "white",
            "linecolor": "white",
            "ticks": ""
           },
           "baxis": {
            "gridcolor": "white",
            "linecolor": "white",
            "ticks": ""
           },
           "bgcolor": "#E5ECF6",
           "caxis": {
            "gridcolor": "white",
            "linecolor": "white",
            "ticks": ""
           }
          },
          "title": {
           "x": 0.05
          },
          "xaxis": {
           "automargin": true,
           "gridcolor": "white",
           "linecolor": "white",
           "ticks": "",
           "title": {
            "standoff": 15
           },
           "zerolinecolor": "white",
           "zerolinewidth": 2
          },
          "yaxis": {
           "automargin": true,
           "gridcolor": "white",
           "linecolor": "white",
           "ticks": "",
           "title": {
            "standoff": 15
           },
           "zerolinecolor": "white",
           "zerolinewidth": 2
          }
         }
        },
        "title": {
         "text": "Comparison of Evaluation Methods for True vs False Prompts"
        },
        "xaxis": {
         "anchor": "y",
         "domain": [
          0,
          1
         ],
         "title": {
          "text": "Method"
         }
        },
        "yaxis": {
         "anchor": "x",
         "domain": [
          0,
          1
         ],
         "title": {
          "text": "Score"
         }
        }
       }
      },
      "text/html": [
       "<div>                            <div id=\"ce7f3647-9d36-4327-9989-39c0826fef6f\" class=\"plotly-graph-div\" style=\"height:525px; width:100%;\"></div>            <script type=\"text/javascript\">                require([\"plotly\"], function(Plotly) {                    window.PLOTLYENV=window.PLOTLYENV || {};                                    if (document.getElementById(\"ce7f3647-9d36-4327-9989-39c0826fef6f\")) {                    Plotly.newPlot(                        \"ce7f3647-9d36-4327-9989-39c0826fef6f\",                        [{\"customdata\":[[\"How do astroflora perform photosynthesis in low light?\"],[\"What particle stabilizes the membrane of hover frogs and how?\"],[\"Which organelle contains the cell's futurogenic material and how does it work?\"],[\"How do astroflora perform photosynthesis in low light?\"],[\"What particle stabilizes the membrane of hover frogs and how?\"],[\"Which organelle contains the cell's futurogenic material and how does it work?\"],[\"How do astroflora perform photosynthesis in low light?\"],[\"What particle stabilizes the membrane of hover frogs and how?\"],[\"Which organelle contains the cell's futurogenic material and how does it work?\"]],\"hovertemplate\":\"true_or_false=False\\u003cbr\\u003emodel=gpt-3.5-turbo-0301\\u003cbr\\u003emethod=%{x}\\u003cbr\\u003escore=%{y}\\u003cbr\\u003ecount=%{marker.size}\\u003cbr\\u003eoriginal_prompt=%{customdata[0]}\\u003cextra\\u003e\\u003c\\u002fextra\\u003e\",\"legendgroup\":\"False\",\"marker\":{\"color\":\"#00cc96\",\"size\":[1,2,2,1,1,1,1,1,1],\"sizemode\":\"area\",\"sizeref\":0.008888888888888889,\"symbol\":\"circle\"},\"mode\":\"markers\",\"name\":\"False\",\"orientation\":\"v\",\"showlegend\":true,\"x\":[\"llm_rating\",\"llm_rating\",\"llm_rating\",\"keyword_score\",\"keyword_score\",\"keyword_score\",\"similarity_score\",\"similarity_score\",\"similarity_score\"],\"xaxis\":\"x\",\"y\":[0.8,0.2,0.2,0.36363636363636365,0.1111111111111111,0.0,0.847789466381073,0.7093039155006409,0.47881385684013367],\"yaxis\":\"y\",\"type\":\"scatter\"},{\"customdata\":[[\"What do genes consist of and how do they work?\"],[\"What is the basic unit of life and what does this mean?\"],[\"What is the powerhouse of the cell and how does it work?\"],[\"What do genes consist of and how do they work?\"],[\"What is the basic unit of life and what does this mean?\"],[\"What is the powerhouse of the cell and how does it work?\"],[\"What do genes consist of and how do they work?\"],[\"What is the basic unit of life and what does this mean?\"],[\"What is the powerhouse of the cell and how does it work?\"]],\"hovertemplate\":\"true_or_false=True\\u003cbr\\u003emodel=gpt-3.5-turbo-0301\\u003cbr\\u003emethod=%{x}\\u003cbr\\u003escore=%{y}\\u003cbr\\u003ecount=%{marker.size}\\u003cbr\\u003eoriginal_prompt=%{customdata[0]}\\u003cextra\\u003e\\u003c\\u002fextra\\u003e\",\"legendgroup\":\"True\",\"marker\":{\"color\":\"#ab63fa\",\"size\":[1,1,1,1,1,1,1,1,1],\"sizemode\":\"area\",\"sizeref\":0.008888888888888889,\"symbol\":\"circle\"},\"mode\":\"markers\",\"name\":\"True\",\"orientation\":\"v\",\"showlegend\":true,\"x\":[\"llm_rating\",\"llm_rating\",\"llm_rating\",\"keyword_score\",\"keyword_score\",\"keyword_score\",\"similarity_score\",\"similarity_score\",\"similarity_score\"],\"xaxis\":\"x\",\"y\":[1.0,0.8,0.9,0.6923076923076923,0.4,0.6428571428571429,0.8633443117141724,0.8337595462799072,0.8720748424530029],\"yaxis\":\"y\",\"type\":\"scatter\"}],                        {\"template\":{\"data\":{\"histogram2dcontour\":[{\"type\":\"histogram2dcontour\",\"colorbar\":{\"outlinewidth\":0,\"ticks\":\"\"},\"colorscale\":[[0.0,\"#0d0887\"],[0.1111111111111111,\"#46039f\"],[0.2222222222222222,\"#7201a8\"],[0.3333333333333333,\"#9c179e\"],[0.4444444444444444,\"#bd3786\"],[0.5555555555555556,\"#d8576b\"],[0.6666666666666666,\"#ed7953\"],[0.7777777777777778,\"#fb9f3a\"],[0.8888888888888888,\"#fdca26\"],[1.0,\"#f0f921\"]]}],\"choropleth\":[{\"type\":\"choropleth\",\"colorbar\":{\"outlinewidth\":0,\"ticks\":\"\"}}],\"histogram2d\":[{\"type\":\"histogram2d\",\"colorbar\":{\"outlinewidth\":0,\"ticks\":\"\"},\"colorscale\":[[0.0,\"#0d0887\"],[0.1111111111111111,\"#46039f\"],[0.2222222222222222,\"#7201a8\"],[0.3333333333333333,\"#9c179e\"],[0.4444444444444444,\"#bd3786\"],[0.5555555555555556,\"#d8576b\"],[0.6666666666666666,\"#ed7953\"],[0.7777777777777778,\"#fb9f3a\"],[0.8888888888888888,\"#fdca26\"],[1.0,\"#f0f921\"]]}],\"heatmap\":[{\"type\":\"heatmap\",\"colorbar\":{\"outlinewidth\":0,\"ticks\":\"\"},\"colorscale\":[[0.0,\"#0d0887\"],[0.1111111111111111,\"#46039f\"],[0.2222222222222222,\"#7201a8\"],[0.3333333333333333,\"#9c179e\"],[0.4444444444444444,\"#bd3786\"],[0.5555555555555556,\"#d8576b\"],[0.6666666666666666,\"#ed7953\"],[0.7777777777777778,\"#fb9f3a\"],[0.8888888888888888,\"#fdca26\"],[1.0,\"#f0f921\"]]}],\"heatmapgl\":[{\"type\":\"heatmapgl\",\"colorbar\":{\"outlinewidth\":0,\"ticks\":\"\"},\"colorscale\":[[0.0,\"#0d0887\"],[0.1111111111111111,\"#46039f\"],[0.2222222222222222,\"#7201a8\"],[0.3333333333333333,\"#9c179e\"],[0.4444444444444444,\"#bd3786\"],[0.5555555555555556,\"#d8576b\"],[0.6666666666666666,\"#ed7953\"],[0.7777777777777778,\"#fb9f3a\"],[0.8888888888888888,\"#fdca26\"],[1.0,\"#f0f921\"]]}],\"contourcarpet\":[{\"type\":\"contourcarpet\",\"colorbar\":{\"outlinewidth\":0,\"ticks\":\"\"}}],\"contour\":[{\"type\":\"contour\",\"colorbar\":{\"outlinewidth\":0,\"ticks\":\"\"},\"colorscale\":[[0.0,\"#0d0887\"],[0.1111111111111111,\"#46039f\"],[0.2222222222222222,\"#7201a8\"],[0.3333333333333333,\"#9c179e\"],[0.4444444444444444,\"#bd3786\"],[0.5555555555555556,\"#d8576b\"],[0.6666666666666666,\"#ed7953\"],[0.7777777777777778,\"#fb9f3a\"],[0.8888888888888888,\"#fdca26\"],[1.0,\"#f0f921\"]]}],\"surface\":[{\"type\":\"surface\",\"colorbar\":{\"outlinewidth\":0,\"ticks\":\"\"},\"colorscale\":[[0.0,\"#0d0887\"],[0.1111111111111111,\"#46039f\"],[0.2222222222222222,\"#7201a8\"],[0.3333333333333333,\"#9c179e\"],[0.4444444444444444,\"#bd3786\"],[0.5555555555555556,\"#d8576b\"],[0.6666666666666666,\"#ed7953\"],[0.7777777777777778,\"#fb9f3a\"],[0.8888888888888888,\"#fdca26\"],[1.0,\"#f0f921\"]]}],\"mesh3d\":[{\"type\":\"mesh3d\",\"colorbar\":{\"outlinewidth\":0,\"ticks\":\"\"}}],\"scatter\":[{\"fillpattern\":{\"fillmode\":\"overlay\",\"size\":10,\"solidity\":0.2},\"type\":\"scatter\"}],\"parcoords\":[{\"type\":\"parcoords\",\"line\":{\"colorbar\":{\"outlinewidth\":0,\"ticks\":\"\"}}}],\"scatterpolargl\":[{\"type\":\"scatterpolargl\",\"marker\":{\"colorbar\":{\"outlinewidth\":0,\"ticks\":\"\"}}}],\"bar\":[{\"error_x\":{\"color\":\"#2a3f5f\"},\"error_y\":{\"color\":\"#2a3f5f\"},\"marker\":{\"line\":{\"color\":\"#E5ECF6\",\"width\":0.5},\"pattern\":{\"fillmode\":\"overlay\",\"size\":10,\"solidity\":0.2}},\"type\":\"bar\"}],\"scattergeo\":[{\"type\":\"scattergeo\",\"marker\":{\"colorbar\":{\"outlinewidth\":0,\"ticks\":\"\"}}}],\"scatterpolar\":[{\"type\":\"scatterpolar\",\"marker\":{\"colorbar\":{\"outlinewidth\":0,\"ticks\":\"\"}}}],\"histogram\":[{\"marker\":{\"pattern\":{\"fillmode\":\"overlay\",\"size\":10,\"solidity\":0.2}},\"type\":\"histogram\"}],\"scattergl\":[{\"type\":\"scattergl\",\"marker\":{\"colorbar\":{\"outlinewidth\":0,\"ticks\":\"\"}}}],\"scatter3d\":[{\"type\":\"scatter3d\",\"line\":{\"colorbar\":{\"outlinewidth\":0,\"ticks\":\"\"}},\"marker\":{\"colorbar\":{\"outlinewidth\":0,\"ticks\":\"\"}}}],\"scattermapbox\":[{\"type\":\"scattermapbox\",\"marker\":{\"colorbar\":{\"outlinewidth\":0,\"ticks\":\"\"}}}],\"scatterternary\":[{\"type\":\"scatterternary\",\"marker\":{\"colorbar\":{\"outlinewidth\":0,\"ticks\":\"\"}}}],\"scattercarpet\":[{\"type\":\"scattercarpet\",\"marker\":{\"colorbar\":{\"outlinewidth\":0,\"ticks\":\"\"}}}],\"carpet\":[{\"aaxis\":{\"endlinecolor\":\"#2a3f5f\",\"gridcolor\":\"white\",\"linecolor\":\"white\",\"minorgridcolor\":\"white\",\"startlinecolor\":\"#2a3f5f\"},\"baxis\":{\"endlinecolor\":\"#2a3f5f\",\"gridcolor\":\"white\",\"linecolor\":\"white\",\"minorgridcolor\":\"white\",\"startlinecolor\":\"#2a3f5f\"},\"type\":\"carpet\"}],\"table\":[{\"cells\":{\"fill\":{\"color\":\"#EBF0F8\"},\"line\":{\"color\":\"white\"}},\"header\":{\"fill\":{\"color\":\"#C8D4E3\"},\"line\":{\"color\":\"white\"}},\"type\":\"table\"}],\"barpolar\":[{\"marker\":{\"line\":{\"color\":\"#E5ECF6\",\"width\":0.5},\"pattern\":{\"fillmode\":\"overlay\",\"size\":10,\"solidity\":0.2}},\"type\":\"barpolar\"}],\"pie\":[{\"automargin\":true,\"type\":\"pie\"}]},\"layout\":{\"autotypenumbers\":\"strict\",\"colorway\":[\"#636efa\",\"#EF553B\",\"#00cc96\",\"#ab63fa\",\"#FFA15A\",\"#19d3f3\",\"#FF6692\",\"#B6E880\",\"#FF97FF\",\"#FECB52\"],\"font\":{\"color\":\"#2a3f5f\"},\"hovermode\":\"closest\",\"hoverlabel\":{\"align\":\"left\"},\"paper_bgcolor\":\"white\",\"plot_bgcolor\":\"#E5ECF6\",\"polar\":{\"bgcolor\":\"#E5ECF6\",\"angularaxis\":{\"gridcolor\":\"white\",\"linecolor\":\"white\",\"ticks\":\"\"},\"radialaxis\":{\"gridcolor\":\"white\",\"linecolor\":\"white\",\"ticks\":\"\"}},\"ternary\":{\"bgcolor\":\"#E5ECF6\",\"aaxis\":{\"gridcolor\":\"white\",\"linecolor\":\"white\",\"ticks\":\"\"},\"baxis\":{\"gridcolor\":\"white\",\"linecolor\":\"white\",\"ticks\":\"\"},\"caxis\":{\"gridcolor\":\"white\",\"linecolor\":\"white\",\"ticks\":\"\"}},\"coloraxis\":{\"colorbar\":{\"outlinewidth\":0,\"ticks\":\"\"}},\"colorscale\":{\"sequential\":[[0.0,\"#0d0887\"],[0.1111111111111111,\"#46039f\"],[0.2222222222222222,\"#7201a8\"],[0.3333333333333333,\"#9c179e\"],[0.4444444444444444,\"#bd3786\"],[0.5555555555555556,\"#d8576b\"],[0.6666666666666666,\"#ed7953\"],[0.7777777777777778,\"#fb9f3a\"],[0.8888888888888888,\"#fdca26\"],[1.0,\"#f0f921\"]],\"sequentialminus\":[[0.0,\"#0d0887\"],[0.1111111111111111,\"#46039f\"],[0.2222222222222222,\"#7201a8\"],[0.3333333333333333,\"#9c179e\"],[0.4444444444444444,\"#bd3786\"],[0.5555555555555556,\"#d8576b\"],[0.6666666666666666,\"#ed7953\"],[0.7777777777777778,\"#fb9f3a\"],[0.8888888888888888,\"#fdca26\"],[1.0,\"#f0f921\"]],\"diverging\":[[0,\"#8e0152\"],[0.1,\"#c51b7d\"],[0.2,\"#de77ae\"],[0.3,\"#f1b6da\"],[0.4,\"#fde0ef\"],[0.5,\"#f7f7f7\"],[0.6,\"#e6f5d0\"],[0.7,\"#b8e186\"],[0.8,\"#7fbc41\"],[0.9,\"#4d9221\"],[1,\"#276419\"]]},\"xaxis\":{\"gridcolor\":\"white\",\"linecolor\":\"white\",\"ticks\":\"\",\"title\":{\"standoff\":15},\"zerolinecolor\":\"white\",\"automargin\":true,\"zerolinewidth\":2},\"yaxis\":{\"gridcolor\":\"white\",\"linecolor\":\"white\",\"ticks\":\"\",\"title\":{\"standoff\":15},\"zerolinecolor\":\"white\",\"automargin\":true,\"zerolinewidth\":2},\"scene\":{\"xaxis\":{\"backgroundcolor\":\"#E5ECF6\",\"gridcolor\":\"white\",\"linecolor\":\"white\",\"showbackground\":true,\"ticks\":\"\",\"zerolinecolor\":\"white\",\"gridwidth\":2},\"yaxis\":{\"backgroundcolor\":\"#E5ECF6\",\"gridcolor\":\"white\",\"linecolor\":\"white\",\"showbackground\":true,\"ticks\":\"\",\"zerolinecolor\":\"white\",\"gridwidth\":2},\"zaxis\":{\"backgroundcolor\":\"#E5ECF6\",\"gridcolor\":\"white\",\"linecolor\":\"white\",\"showbackground\":true,\"ticks\":\"\",\"zerolinecolor\":\"white\",\"gridwidth\":2}},\"shapedefaults\":{\"line\":{\"color\":\"#2a3f5f\"}},\"annotationdefaults\":{\"arrowcolor\":\"#2a3f5f\",\"arrowhead\":0,\"arrowwidth\":1},\"geo\":{\"bgcolor\":\"white\",\"landcolor\":\"#E5ECF6\",\"subunitcolor\":\"white\",\"showland\":true,\"showlakes\":true,\"lakecolor\":\"white\"},\"title\":{\"x\":0.05},\"mapbox\":{\"style\":\"light\"}}},\"xaxis\":{\"anchor\":\"y\",\"domain\":[0.0,1.0],\"title\":{\"text\":\"Method\"}},\"yaxis\":{\"anchor\":\"x\",\"domain\":[0.0,1.0],\"title\":{\"text\":\"Score\"}},\"annotations\":[{\"font\":{},\"showarrow\":false,\"text\":\"model=gpt-3.5-turbo-0301\",\"x\":0.5,\"xanchor\":\"center\",\"xref\":\"paper\",\"y\":1.0,\"yanchor\":\"bottom\",\"yref\":\"paper\"}],\"legend\":{\"title\":{\"text\":\"True or False\"},\"tracegroupgap\":0,\"itemsizing\":\"constant\"},\"margin\":{\"t\":60},\"title\":{\"text\":\"Comparison of Evaluation Methods for True vs False Prompts\"}},                        {\"responsive\": true}                    ).then(function(){\n",
       "                            \n",
       "var gd = document.getElementById('ce7f3647-9d36-4327-9989-39c0826fef6f');\n",
       "var x = new MutationObserver(function (mutations, observer) {{\n",
       "        var display = window.getComputedStyle(gd).display;\n",
       "        if (!display || display === 'none') {{\n",
       "            console.log([gd, 'removed!']);\n",
       "            Plotly.purge(gd);\n",
       "            observer.disconnect();\n",
       "        }}\n",
       "}});\n",
       "\n",
       "// Listen for the removal of the full notebook cells\n",
       "var notebookContainer = gd.closest('#notebook-container');\n",
       "if (notebookContainer) {{\n",
       "    x.observe(notebookContainer, {childList: true});\n",
       "}}\n",
       "\n",
       "// Listen for the clearing of the current output cell\n",
       "var outputEl = gd.closest('.output');\n",
       "if (outputEl) {{\n",
       "    x.observe(outputEl, {childList: true});\n",
       "}}\n",
       "\n",
       "                        })                };                });            </script>        </div>"
      ]
     },
     "metadata": {},
     "output_type": "display_data"
    }
   ],
   "source": [
    "import plotly.express as px\n",
    "\n",
    "# Calculate the count for each combination of method, score, true_or_false, and model\n",
    "df_best_scores['count'] = df_best_scores.groupby(['method', 'score', 'true_or_false', 'model'])['model'].transform('count')\n",
    "\n",
    "# Creating the scatter plot\n",
    "fig = px.scatter(df_best_scores, x='method', y='score', color='true_or_false', \n",
    "                 facet_col='model', facet_col_wrap=2, \n",
    "                 hover_data=['original_prompt'], category_orders={'true_or_false': ['True', 'False']},\n",
    "                 size='count', size_max=15)\n",
    "\n",
    "# Customizing the layout\n",
    "fig.update_layout(title='Comparison of Evaluation Methods for True vs False Prompts',\n",
    "                  xaxis_title='Method', yaxis_title='Score',\n",
    "                  legend_title_text='True or False')"
   ]
  },
  {
   "cell_type": "code",
   "execution_count": 16,
   "metadata": {},
   "outputs": [
    {
     "data": {
      "text/html": [
       "<div>\n",
       "<style scoped>\n",
       "    .dataframe tbody tr th:only-of-type {\n",
       "        vertical-align: middle;\n",
       "    }\n",
       "\n",
       "    .dataframe tbody tr th {\n",
       "        vertical-align: top;\n",
       "    }\n",
       "\n",
       "    .dataframe thead th {\n",
       "        text-align: right;\n",
       "    }\n",
       "</style>\n",
       "<table border=\"1\" class=\"dataframe\">\n",
       "  <thead>\n",
       "    <tr style=\"text-align: right;\">\n",
       "      <th></th>\n",
       "      <th>model</th>\n",
       "      <th>original_prompt</th>\n",
       "      <th>similarity_score</th>\n",
       "      <th>keyword_score</th>\n",
       "      <th>llm_rating</th>\n",
       "    </tr>\n",
       "  </thead>\n",
       "  <tbody>\n",
       "    <tr>\n",
       "      <th>0</th>\n",
       "      <td>gpt-3.5-turbo-0301</td>\n",
       "      <td>How do astroflora perform photosynthesis in lo...</td>\n",
       "      <td>0.003274</td>\n",
       "      <td>0.000000</td>\n",
       "      <td>0.000000</td>\n",
       "    </tr>\n",
       "    <tr>\n",
       "      <th>1</th>\n",
       "      <td>gpt-3.5-turbo-0301</td>\n",
       "      <td>What do genes consist of and how do they work?</td>\n",
       "      <td>0.030364</td>\n",
       "      <td>0.054393</td>\n",
       "      <td>0.070711</td>\n",
       "    </tr>\n",
       "    <tr>\n",
       "      <th>2</th>\n",
       "      <td>gpt-3.5-turbo-0301</td>\n",
       "      <td>What is the basic unit of life and what does t...</td>\n",
       "      <td>0.039264</td>\n",
       "      <td>0.188562</td>\n",
       "      <td>0.070711</td>\n",
       "    </tr>\n",
       "    <tr>\n",
       "      <th>3</th>\n",
       "      <td>gpt-3.5-turbo-0301</td>\n",
       "      <td>What is the powerhouse of the cell and how doe...</td>\n",
       "      <td>0.025924</td>\n",
       "      <td>0.050508</td>\n",
       "      <td>0.000000</td>\n",
       "    </tr>\n",
       "    <tr>\n",
       "      <th>4</th>\n",
       "      <td>gpt-3.5-turbo-0301</td>\n",
       "      <td>What particle stabilizes the membrane of hover...</td>\n",
       "      <td>0.086101</td>\n",
       "      <td>0.000000</td>\n",
       "      <td>0.070711</td>\n",
       "    </tr>\n",
       "    <tr>\n",
       "      <th>5</th>\n",
       "      <td>gpt-3.5-turbo-0301</td>\n",
       "      <td>Which organelle contains the cell's futurogeni...</td>\n",
       "      <td>0.017378</td>\n",
       "      <td>0.000000</td>\n",
       "      <td>0.141421</td>\n",
       "    </tr>\n",
       "  </tbody>\n",
       "</table>\n",
       "</div>"
      ],
      "text/plain": [
       "                model                                    original_prompt  \\\n",
       "0  gpt-3.5-turbo-0301  How do astroflora perform photosynthesis in lo...   \n",
       "1  gpt-3.5-turbo-0301     What do genes consist of and how do they work?   \n",
       "2  gpt-3.5-turbo-0301  What is the basic unit of life and what does t...   \n",
       "3  gpt-3.5-turbo-0301  What is the powerhouse of the cell and how doe...   \n",
       "4  gpt-3.5-turbo-0301  What particle stabilizes the membrane of hover...   \n",
       "5  gpt-3.5-turbo-0301  Which organelle contains the cell's futurogeni...   \n",
       "\n",
       "   similarity_score  keyword_score  llm_rating  \n",
       "0          0.003274       0.000000    0.000000  \n",
       "1          0.030364       0.054393    0.070711  \n",
       "2          0.039264       0.188562    0.070711  \n",
       "3          0.025924       0.050508    0.000000  \n",
       "4          0.086101       0.000000    0.070711  \n",
       "5          0.017378       0.000000    0.141421  "
      ]
     },
     "execution_count": 16,
     "metadata": {},
     "output_type": "execute_result"
    }
   ],
   "source": [
    "def calculate_spread(df_responses):\n",
    "    grouped = df_responses.groupby(['model', 'original_prompt'])\n",
    "    spread_df = grouped.agg({'similarity_score': 'std', 'keyword_score': 'std', 'llm_rating': 'std'}).reset_index()\n",
    "    return spread_df\n",
    "\n",
    "calculate_spread(df_responses)"
   ]
  },
  {
   "cell_type": "code",
   "execution_count": 12,
   "metadata": {},
   "outputs": [
    {
     "data": {
      "application/vnd.plotly.v1+json": {
       "config": {
        "plotlyServerURL": "https://plot.ly"
       },
       "data": [
        {
         "marker": {
          "color": "blue",
          "opacity": 0.5,
          "size": 10
         },
         "mode": "markers",
         "name": "Similarity",
         "type": "scatter",
         "x": [
          0.9945056473614833,
          1.027109283740771
         ],
         "xaxis": "x",
         "y": [
          0.8720748424530029,
          0.835412323474884
         ],
         "yaxis": "y"
        },
        {
         "marker": {
          "color": "green",
          "opacity": 0.5,
          "size": 10
         },
         "mode": "markers",
         "name": "Keyword",
         "type": "scatter",
         "x": [
          1.9029744751361373,
          1.9821346358962362
         ],
         "xaxis": "x2",
         "y": [
          0.6428571428571429,
          0.5714285714285714
         ],
         "yaxis": "y2"
        },
        {
         "marker": {
          "color": "red",
          "opacity": 0.5,
          "size": 10
         },
         "mode": "markers",
         "name": "LLM Rating",
         "type": "scatter",
         "x": [
          2.998442067055136,
          2.9285953884589
         ],
         "xaxis": "x3",
         "y": [
          0.9,
          0.9
         ],
         "yaxis": "y3"
        },
        {
         "marker": {
          "color": "blue",
          "opacity": 0.5,
          "size": 10
         },
         "mode": "markers",
         "name": "Similarity",
         "type": "scatter",
         "x": [
          0.9452307248313954,
          1.0480690671820077
         ],
         "xaxis": "x4",
         "y": [
          0.7782316207885742,
          0.8337595462799072
         ],
         "yaxis": "y4"
        },
        {
         "marker": {
          "color": "green",
          "opacity": 0.5,
          "size": 10
         },
         "mode": "markers",
         "name": "Keyword",
         "type": "scatter",
         "x": [
          1.941789683657472,
          2.0439191663763054
         ],
         "xaxis": "x5",
         "y": [
          0.13333333333333333,
          0.4
         ],
         "yaxis": "y5"
        },
        {
         "marker": {
          "color": "red",
          "opacity": 0.5,
          "size": 10
         },
         "mode": "markers",
         "name": "LLM Rating",
         "type": "scatter",
         "x": [
          2.9506886199837896,
          3.0397567296082713
         ],
         "xaxis": "x6",
         "y": [
          0.8,
          0.7
         ],
         "yaxis": "y6"
        },
        {
         "marker": {
          "color": "blue",
          "opacity": 0.5,
          "size": 10
         },
         "mode": "markers",
         "name": "Similarity",
         "type": "scatter",
         "x": [
          1.032358774709098,
          0.9137944344765787
         ],
         "xaxis": "x7",
         "y": [
          0.8633443117141724,
          0.8204027414321899
         ],
         "yaxis": "y7"
        },
        {
         "marker": {
          "color": "green",
          "opacity": 0.5,
          "size": 10
         },
         "mode": "markers",
         "name": "Keyword",
         "type": "scatter",
         "x": [
          2.0981167388593347,
          1.9009046877486075
         ],
         "xaxis": "x8",
         "y": [
          0.6153846153846154,
          0.6923076923076923
         ],
         "yaxis": "y8"
        },
        {
         "marker": {
          "color": "red",
          "opacity": 0.5,
          "size": 10
         },
         "mode": "markers",
         "name": "LLM Rating",
         "type": "scatter",
         "x": [
          2.98278426268093,
          3.044743348717958
         ],
         "xaxis": "x9",
         "y": [
          1,
          0.9
         ],
         "yaxis": "y9"
        },
        {
         "marker": {
          "color": "blue",
          "opacity": 0.5,
          "size": 10
         },
         "mode": "markers",
         "name": "Similarity",
         "type": "scatter",
         "x": [
          1.0329115045564918,
          0.9664851130257589
         ],
         "xaxis": "x10",
         "y": [
          0.47881385684013367,
          0.45423805713653564
         ],
         "yaxis": "y10"
        },
        {
         "marker": {
          "color": "green",
          "opacity": 0.5,
          "size": 10
         },
         "mode": "markers",
         "name": "Keyword",
         "type": "scatter",
         "x": [
          1.9781422286783712,
          2.002026309491246
         ],
         "xaxis": "x11",
         "y": [
          0,
          0
         ],
         "yaxis": "y11"
        },
        {
         "marker": {
          "color": "red",
          "opacity": 0.5,
          "size": 10
         },
         "mode": "markers",
         "name": "LLM Rating",
         "type": "scatter",
         "x": [
          2.9548335044992395,
          3.0014857507654815
         ],
         "xaxis": "x12",
         "y": [
          0,
          0.2
         ],
         "yaxis": "y12"
        },
        {
         "marker": {
          "color": "blue",
          "opacity": 0.5,
          "size": 10
         },
         "mode": "markers",
         "name": "Similarity",
         "type": "scatter",
         "x": [
          0.9873768209481677,
          0.9428187773773384
         ],
         "xaxis": "x13",
         "y": [
          0.5875393152236938,
          0.7093039155006409
         ],
         "yaxis": "y13"
        },
        {
         "marker": {
          "color": "green",
          "opacity": 0.5,
          "size": 10
         },
         "mode": "markers",
         "name": "Keyword",
         "type": "scatter",
         "x": [
          2.0280067462190408,
          2.058341671583693
         ],
         "xaxis": "x14",
         "y": [
          0.1111111111111111,
          0.1111111111111111
         ],
         "yaxis": "y14"
        },
        {
         "marker": {
          "color": "red",
          "opacity": 0.5,
          "size": 10
         },
         "mode": "markers",
         "name": "LLM Rating",
         "type": "scatter",
         "x": [
          2.9722913332950887,
          3.049851061024227
         ],
         "xaxis": "x15",
         "y": [
          0.1,
          0.2
         ],
         "yaxis": "y15"
        },
        {
         "marker": {
          "color": "blue",
          "opacity": 0.5,
          "size": 10
         },
         "mode": "markers",
         "name": "Similarity",
         "type": "scatter",
         "x": [
          1.0491536544535967,
          1.049045154070177
         ],
         "xaxis": "x16",
         "y": [
          0.8431591987609863,
          0.847789466381073
         ],
         "yaxis": "y16"
        },
        {
         "marker": {
          "color": "green",
          "opacity": 0.5,
          "size": 10
         },
         "mode": "markers",
         "name": "Keyword",
         "type": "scatter",
         "x": [
          1.9457440320831252,
          1.985855459589082
         ],
         "xaxis": "x17",
         "y": [
          0.36363636363636365,
          0.36363636363636365
         ],
         "yaxis": "y17"
        },
        {
         "marker": {
          "color": "red",
          "opacity": 0.5,
          "size": 10
         },
         "mode": "markers",
         "name": "LLM Rating",
         "type": "scatter",
         "x": [
          3.068622605071244,
          2.9637940700954335
         ],
         "xaxis": "x18",
         "y": [
          0.8,
          0.8
         ],
         "yaxis": "y18"
        }
       ],
       "layout": {
        "annotations": [
         {
          "font": {
           "size": 16
          },
          "showarrow": false,
          "text": "What is the powerhouse of the cell and how does it work?",
          "x": 0.5,
          "xanchor": "center",
          "xref": "paper",
          "y": 1,
          "yanchor": "bottom",
          "yref": "paper"
         },
         {
          "font": {
           "size": 16
          },
          "showarrow": false,
          "text": "What is the basic unit of life and what does this mean?",
          "x": 0.5,
          "xanchor": "center",
          "xref": "paper",
          "y": 0.825,
          "yanchor": "bottom",
          "yref": "paper"
         },
         {
          "font": {
           "size": 16
          },
          "showarrow": false,
          "text": "What do genes consist of and how do they work?",
          "x": 0.5,
          "xanchor": "center",
          "xref": "paper",
          "y": 0.65,
          "yanchor": "bottom",
          "yref": "paper"
         },
         {
          "font": {
           "size": 16
          },
          "showarrow": false,
          "text": "Which organelle contains the cell's futurogenic material and how does it work?",
          "x": 0.5,
          "xanchor": "center",
          "xref": "paper",
          "y": 0.475,
          "yanchor": "bottom",
          "yref": "paper"
         },
         {
          "font": {
           "size": 16
          },
          "showarrow": false,
          "text": "What particle stabilizes the membrane of hover frogs and how?",
          "x": 0.5,
          "xanchor": "center",
          "xref": "paper",
          "y": 0.3,
          "yanchor": "bottom",
          "yref": "paper"
         },
         {
          "font": {
           "size": 16
          },
          "showarrow": false,
          "text": "How do astroflora perform photosynthesis in low light?",
          "x": 0.5,
          "xanchor": "center",
          "xref": "paper",
          "y": 0.125,
          "yanchor": "bottom",
          "yref": "paper"
         }
        ],
        "height": 1200,
        "showlegend": false,
        "template": {
         "data": {
          "bar": [
           {
            "error_x": {
             "color": "#2a3f5f"
            },
            "error_y": {
             "color": "#2a3f5f"
            },
            "marker": {
             "line": {
              "color": "#E5ECF6",
              "width": 0.5
             },
             "pattern": {
              "fillmode": "overlay",
              "size": 10,
              "solidity": 0.2
             }
            },
            "type": "bar"
           }
          ],
          "barpolar": [
           {
            "marker": {
             "line": {
              "color": "#E5ECF6",
              "width": 0.5
             },
             "pattern": {
              "fillmode": "overlay",
              "size": 10,
              "solidity": 0.2
             }
            },
            "type": "barpolar"
           }
          ],
          "carpet": [
           {
            "aaxis": {
             "endlinecolor": "#2a3f5f",
             "gridcolor": "white",
             "linecolor": "white",
             "minorgridcolor": "white",
             "startlinecolor": "#2a3f5f"
            },
            "baxis": {
             "endlinecolor": "#2a3f5f",
             "gridcolor": "white",
             "linecolor": "white",
             "minorgridcolor": "white",
             "startlinecolor": "#2a3f5f"
            },
            "type": "carpet"
           }
          ],
          "choropleth": [
           {
            "colorbar": {
             "outlinewidth": 0,
             "ticks": ""
            },
            "type": "choropleth"
           }
          ],
          "contour": [
           {
            "colorbar": {
             "outlinewidth": 0,
             "ticks": ""
            },
            "colorscale": [
             [
              0,
              "#0d0887"
             ],
             [
              0.1111111111111111,
              "#46039f"
             ],
             [
              0.2222222222222222,
              "#7201a8"
             ],
             [
              0.3333333333333333,
              "#9c179e"
             ],
             [
              0.4444444444444444,
              "#bd3786"
             ],
             [
              0.5555555555555556,
              "#d8576b"
             ],
             [
              0.6666666666666666,
              "#ed7953"
             ],
             [
              0.7777777777777778,
              "#fb9f3a"
             ],
             [
              0.8888888888888888,
              "#fdca26"
             ],
             [
              1,
              "#f0f921"
             ]
            ],
            "type": "contour"
           }
          ],
          "contourcarpet": [
           {
            "colorbar": {
             "outlinewidth": 0,
             "ticks": ""
            },
            "type": "contourcarpet"
           }
          ],
          "heatmap": [
           {
            "colorbar": {
             "outlinewidth": 0,
             "ticks": ""
            },
            "colorscale": [
             [
              0,
              "#0d0887"
             ],
             [
              0.1111111111111111,
              "#46039f"
             ],
             [
              0.2222222222222222,
              "#7201a8"
             ],
             [
              0.3333333333333333,
              "#9c179e"
             ],
             [
              0.4444444444444444,
              "#bd3786"
             ],
             [
              0.5555555555555556,
              "#d8576b"
             ],
             [
              0.6666666666666666,
              "#ed7953"
             ],
             [
              0.7777777777777778,
              "#fb9f3a"
             ],
             [
              0.8888888888888888,
              "#fdca26"
             ],
             [
              1,
              "#f0f921"
             ]
            ],
            "type": "heatmap"
           }
          ],
          "heatmapgl": [
           {
            "colorbar": {
             "outlinewidth": 0,
             "ticks": ""
            },
            "colorscale": [
             [
              0,
              "#0d0887"
             ],
             [
              0.1111111111111111,
              "#46039f"
             ],
             [
              0.2222222222222222,
              "#7201a8"
             ],
             [
              0.3333333333333333,
              "#9c179e"
             ],
             [
              0.4444444444444444,
              "#bd3786"
             ],
             [
              0.5555555555555556,
              "#d8576b"
             ],
             [
              0.6666666666666666,
              "#ed7953"
             ],
             [
              0.7777777777777778,
              "#fb9f3a"
             ],
             [
              0.8888888888888888,
              "#fdca26"
             ],
             [
              1,
              "#f0f921"
             ]
            ],
            "type": "heatmapgl"
           }
          ],
          "histogram": [
           {
            "marker": {
             "pattern": {
              "fillmode": "overlay",
              "size": 10,
              "solidity": 0.2
             }
            },
            "type": "histogram"
           }
          ],
          "histogram2d": [
           {
            "colorbar": {
             "outlinewidth": 0,
             "ticks": ""
            },
            "colorscale": [
             [
              0,
              "#0d0887"
             ],
             [
              0.1111111111111111,
              "#46039f"
             ],
             [
              0.2222222222222222,
              "#7201a8"
             ],
             [
              0.3333333333333333,
              "#9c179e"
             ],
             [
              0.4444444444444444,
              "#bd3786"
             ],
             [
              0.5555555555555556,
              "#d8576b"
             ],
             [
              0.6666666666666666,
              "#ed7953"
             ],
             [
              0.7777777777777778,
              "#fb9f3a"
             ],
             [
              0.8888888888888888,
              "#fdca26"
             ],
             [
              1,
              "#f0f921"
             ]
            ],
            "type": "histogram2d"
           }
          ],
          "histogram2dcontour": [
           {
            "colorbar": {
             "outlinewidth": 0,
             "ticks": ""
            },
            "colorscale": [
             [
              0,
              "#0d0887"
             ],
             [
              0.1111111111111111,
              "#46039f"
             ],
             [
              0.2222222222222222,
              "#7201a8"
             ],
             [
              0.3333333333333333,
              "#9c179e"
             ],
             [
              0.4444444444444444,
              "#bd3786"
             ],
             [
              0.5555555555555556,
              "#d8576b"
             ],
             [
              0.6666666666666666,
              "#ed7953"
             ],
             [
              0.7777777777777778,
              "#fb9f3a"
             ],
             [
              0.8888888888888888,
              "#fdca26"
             ],
             [
              1,
              "#f0f921"
             ]
            ],
            "type": "histogram2dcontour"
           }
          ],
          "mesh3d": [
           {
            "colorbar": {
             "outlinewidth": 0,
             "ticks": ""
            },
            "type": "mesh3d"
           }
          ],
          "parcoords": [
           {
            "line": {
             "colorbar": {
              "outlinewidth": 0,
              "ticks": ""
             }
            },
            "type": "parcoords"
           }
          ],
          "pie": [
           {
            "automargin": true,
            "type": "pie"
           }
          ],
          "scatter": [
           {
            "fillpattern": {
             "fillmode": "overlay",
             "size": 10,
             "solidity": 0.2
            },
            "type": "scatter"
           }
          ],
          "scatter3d": [
           {
            "line": {
             "colorbar": {
              "outlinewidth": 0,
              "ticks": ""
             }
            },
            "marker": {
             "colorbar": {
              "outlinewidth": 0,
              "ticks": ""
             }
            },
            "type": "scatter3d"
           }
          ],
          "scattercarpet": [
           {
            "marker": {
             "colorbar": {
              "outlinewidth": 0,
              "ticks": ""
             }
            },
            "type": "scattercarpet"
           }
          ],
          "scattergeo": [
           {
            "marker": {
             "colorbar": {
              "outlinewidth": 0,
              "ticks": ""
             }
            },
            "type": "scattergeo"
           }
          ],
          "scattergl": [
           {
            "marker": {
             "colorbar": {
              "outlinewidth": 0,
              "ticks": ""
             }
            },
            "type": "scattergl"
           }
          ],
          "scattermapbox": [
           {
            "marker": {
             "colorbar": {
              "outlinewidth": 0,
              "ticks": ""
             }
            },
            "type": "scattermapbox"
           }
          ],
          "scatterpolar": [
           {
            "marker": {
             "colorbar": {
              "outlinewidth": 0,
              "ticks": ""
             }
            },
            "type": "scatterpolar"
           }
          ],
          "scatterpolargl": [
           {
            "marker": {
             "colorbar": {
              "outlinewidth": 0,
              "ticks": ""
             }
            },
            "type": "scatterpolargl"
           }
          ],
          "scatterternary": [
           {
            "marker": {
             "colorbar": {
              "outlinewidth": 0,
              "ticks": ""
             }
            },
            "type": "scatterternary"
           }
          ],
          "surface": [
           {
            "colorbar": {
             "outlinewidth": 0,
             "ticks": ""
            },
            "colorscale": [
             [
              0,
              "#0d0887"
             ],
             [
              0.1111111111111111,
              "#46039f"
             ],
             [
              0.2222222222222222,
              "#7201a8"
             ],
             [
              0.3333333333333333,
              "#9c179e"
             ],
             [
              0.4444444444444444,
              "#bd3786"
             ],
             [
              0.5555555555555556,
              "#d8576b"
             ],
             [
              0.6666666666666666,
              "#ed7953"
             ],
             [
              0.7777777777777778,
              "#fb9f3a"
             ],
             [
              0.8888888888888888,
              "#fdca26"
             ],
             [
              1,
              "#f0f921"
             ]
            ],
            "type": "surface"
           }
          ],
          "table": [
           {
            "cells": {
             "fill": {
              "color": "#EBF0F8"
             },
             "line": {
              "color": "white"
             }
            },
            "header": {
             "fill": {
              "color": "#C8D4E3"
             },
             "line": {
              "color": "white"
             }
            },
            "type": "table"
           }
          ]
         },
         "layout": {
          "annotationdefaults": {
           "arrowcolor": "#2a3f5f",
           "arrowhead": 0,
           "arrowwidth": 1
          },
          "autotypenumbers": "strict",
          "coloraxis": {
           "colorbar": {
            "outlinewidth": 0,
            "ticks": ""
           }
          },
          "colorscale": {
           "diverging": [
            [
             0,
             "#8e0152"
            ],
            [
             0.1,
             "#c51b7d"
            ],
            [
             0.2,
             "#de77ae"
            ],
            [
             0.3,
             "#f1b6da"
            ],
            [
             0.4,
             "#fde0ef"
            ],
            [
             0.5,
             "#f7f7f7"
            ],
            [
             0.6,
             "#e6f5d0"
            ],
            [
             0.7,
             "#b8e186"
            ],
            [
             0.8,
             "#7fbc41"
            ],
            [
             0.9,
             "#4d9221"
            ],
            [
             1,
             "#276419"
            ]
           ],
           "sequential": [
            [
             0,
             "#0d0887"
            ],
            [
             0.1111111111111111,
             "#46039f"
            ],
            [
             0.2222222222222222,
             "#7201a8"
            ],
            [
             0.3333333333333333,
             "#9c179e"
            ],
            [
             0.4444444444444444,
             "#bd3786"
            ],
            [
             0.5555555555555556,
             "#d8576b"
            ],
            [
             0.6666666666666666,
             "#ed7953"
            ],
            [
             0.7777777777777778,
             "#fb9f3a"
            ],
            [
             0.8888888888888888,
             "#fdca26"
            ],
            [
             1,
             "#f0f921"
            ]
           ],
           "sequentialminus": [
            [
             0,
             "#0d0887"
            ],
            [
             0.1111111111111111,
             "#46039f"
            ],
            [
             0.2222222222222222,
             "#7201a8"
            ],
            [
             0.3333333333333333,
             "#9c179e"
            ],
            [
             0.4444444444444444,
             "#bd3786"
            ],
            [
             0.5555555555555556,
             "#d8576b"
            ],
            [
             0.6666666666666666,
             "#ed7953"
            ],
            [
             0.7777777777777778,
             "#fb9f3a"
            ],
            [
             0.8888888888888888,
             "#fdca26"
            ],
            [
             1,
             "#f0f921"
            ]
           ]
          },
          "colorway": [
           "#636efa",
           "#EF553B",
           "#00cc96",
           "#ab63fa",
           "#FFA15A",
           "#19d3f3",
           "#FF6692",
           "#B6E880",
           "#FF97FF",
           "#FECB52"
          ],
          "font": {
           "color": "#2a3f5f"
          },
          "geo": {
           "bgcolor": "white",
           "lakecolor": "white",
           "landcolor": "#E5ECF6",
           "showlakes": true,
           "showland": true,
           "subunitcolor": "white"
          },
          "hoverlabel": {
           "align": "left"
          },
          "hovermode": "closest",
          "mapbox": {
           "style": "light"
          },
          "paper_bgcolor": "white",
          "plot_bgcolor": "#E5ECF6",
          "polar": {
           "angularaxis": {
            "gridcolor": "white",
            "linecolor": "white",
            "ticks": ""
           },
           "bgcolor": "#E5ECF6",
           "radialaxis": {
            "gridcolor": "white",
            "linecolor": "white",
            "ticks": ""
           }
          },
          "scene": {
           "xaxis": {
            "backgroundcolor": "#E5ECF6",
            "gridcolor": "white",
            "gridwidth": 2,
            "linecolor": "white",
            "showbackground": true,
            "ticks": "",
            "zerolinecolor": "white"
           },
           "yaxis": {
            "backgroundcolor": "#E5ECF6",
            "gridcolor": "white",
            "gridwidth": 2,
            "linecolor": "white",
            "showbackground": true,
            "ticks": "",
            "zerolinecolor": "white"
           },
           "zaxis": {
            "backgroundcolor": "#E5ECF6",
            "gridcolor": "white",
            "gridwidth": 2,
            "linecolor": "white",
            "showbackground": true,
            "ticks": "",
            "zerolinecolor": "white"
           }
          },
          "shapedefaults": {
           "line": {
            "color": "#2a3f5f"
           }
          },
          "ternary": {
           "aaxis": {
            "gridcolor": "white",
            "linecolor": "white",
            "ticks": ""
           },
           "baxis": {
            "gridcolor": "white",
            "linecolor": "white",
            "ticks": ""
           },
           "bgcolor": "#E5ECF6",
           "caxis": {
            "gridcolor": "white",
            "linecolor": "white",
            "ticks": ""
           }
          },
          "title": {
           "x": 0.05
          },
          "xaxis": {
           "automargin": true,
           "gridcolor": "white",
           "linecolor": "white",
           "ticks": "",
           "title": {
            "standoff": 15
           },
           "zerolinecolor": "white",
           "zerolinewidth": 2
          },
          "yaxis": {
           "automargin": true,
           "gridcolor": "white",
           "linecolor": "white",
           "ticks": "",
           "title": {
            "standoff": 15
           },
           "zerolinecolor": "white",
           "zerolinewidth": 2
          }
         }
        },
        "title": {
         "text": "Evaluation Scores by Prompt and Method"
        },
        "width": 1200,
        "xaxis": {
         "anchor": "y",
         "domain": [
          0,
          0.32
         ],
         "showticklabels": false
        },
        "xaxis10": {
         "anchor": "y10",
         "domain": [
          0,
          0.32
         ],
         "showticklabels": false
        },
        "xaxis11": {
         "anchor": "y11",
         "domain": [
          0.34,
          0.66
         ],
         "showticklabels": false
        },
        "xaxis12": {
         "anchor": "y12",
         "domain": [
          0.68,
          1
         ],
         "showticklabels": false
        },
        "xaxis13": {
         "anchor": "y13",
         "domain": [
          0,
          0.32
         ],
         "showticklabels": false
        },
        "xaxis14": {
         "anchor": "y14",
         "domain": [
          0.34,
          0.66
         ],
         "showticklabels": false
        },
        "xaxis15": {
         "anchor": "y15",
         "domain": [
          0.68,
          1
         ],
         "showticklabels": false
        },
        "xaxis16": {
         "anchor": "y16",
         "domain": [
          0,
          0.32
         ],
         "showticklabels": false
        },
        "xaxis17": {
         "anchor": "y17",
         "domain": [
          0.34,
          0.66
         ],
         "showticklabels": false
        },
        "xaxis18": {
         "anchor": "y18",
         "domain": [
          0.68,
          1
         ],
         "showticklabels": false
        },
        "xaxis2": {
         "anchor": "y2",
         "domain": [
          0.34,
          0.66
         ],
         "showticklabels": false
        },
        "xaxis3": {
         "anchor": "y3",
         "domain": [
          0.68,
          1
         ],
         "showticklabels": false
        },
        "xaxis4": {
         "anchor": "y4",
         "domain": [
          0,
          0.32
         ],
         "showticklabels": false
        },
        "xaxis5": {
         "anchor": "y5",
         "domain": [
          0.34,
          0.66
         ],
         "showticklabels": false
        },
        "xaxis6": {
         "anchor": "y6",
         "domain": [
          0.68,
          1
         ],
         "showticklabels": false
        },
        "xaxis7": {
         "anchor": "y7",
         "domain": [
          0,
          0.32
         ],
         "showticklabels": false
        },
        "xaxis8": {
         "anchor": "y8",
         "domain": [
          0.34,
          0.66
         ],
         "showticklabels": false
        },
        "xaxis9": {
         "anchor": "y9",
         "domain": [
          0.68,
          1
         ],
         "showticklabels": false
        },
        "yaxis": {
         "anchor": "x",
         "domain": [
          0.875,
          1
         ],
         "range": [
          -0.1,
          1.1
         ]
        },
        "yaxis10": {
         "anchor": "x10",
         "domain": [
          0.35,
          0.475
         ],
         "range": [
          -0.1,
          1.1
         ]
        },
        "yaxis11": {
         "anchor": "x11",
         "domain": [
          0.35,
          0.475
         ],
         "range": [
          -0.1,
          1.1
         ]
        },
        "yaxis12": {
         "anchor": "x12",
         "domain": [
          0.35,
          0.475
         ],
         "range": [
          -0.1,
          1.1
         ]
        },
        "yaxis13": {
         "anchor": "x13",
         "domain": [
          0.175,
          0.3
         ],
         "range": [
          -0.1,
          1.1
         ]
        },
        "yaxis14": {
         "anchor": "x14",
         "domain": [
          0.175,
          0.3
         ],
         "range": [
          -0.1,
          1.1
         ]
        },
        "yaxis15": {
         "anchor": "x15",
         "domain": [
          0.175,
          0.3
         ],
         "range": [
          -0.1,
          1.1
         ]
        },
        "yaxis16": {
         "anchor": "x16",
         "domain": [
          0,
          0.125
         ],
         "range": [
          -0.1,
          1.1
         ]
        },
        "yaxis17": {
         "anchor": "x17",
         "domain": [
          0,
          0.125
         ],
         "range": [
          -0.1,
          1.1
         ]
        },
        "yaxis18": {
         "anchor": "x18",
         "domain": [
          0,
          0.125
         ],
         "range": [
          -0.1,
          1.1
         ]
        },
        "yaxis2": {
         "anchor": "x2",
         "domain": [
          0.875,
          1
         ],
         "range": [
          -0.1,
          1.1
         ]
        },
        "yaxis3": {
         "anchor": "x3",
         "domain": [
          0.875,
          1
         ],
         "range": [
          -0.1,
          1.1
         ]
        },
        "yaxis4": {
         "anchor": "x4",
         "domain": [
          0.7,
          0.825
         ],
         "range": [
          -0.1,
          1.1
         ]
        },
        "yaxis5": {
         "anchor": "x5",
         "domain": [
          0.7,
          0.825
         ],
         "range": [
          -0.1,
          1.1
         ]
        },
        "yaxis6": {
         "anchor": "x6",
         "domain": [
          0.7,
          0.825
         ],
         "range": [
          -0.1,
          1.1
         ]
        },
        "yaxis7": {
         "anchor": "x7",
         "domain": [
          0.525,
          0.65
         ],
         "range": [
          -0.1,
          1.1
         ]
        },
        "yaxis8": {
         "anchor": "x8",
         "domain": [
          0.525,
          0.65
         ],
         "range": [
          -0.1,
          1.1
         ]
        },
        "yaxis9": {
         "anchor": "x9",
         "domain": [
          0.525,
          0.65
         ],
         "range": [
          -0.1,
          1.1
         ]
        }
       }
      },
      "text/html": [
       "<div>                            <div id=\"5939b6a9-a944-481d-89bb-1c398d8d9796\" class=\"plotly-graph-div\" style=\"height:1200px; width:1200px;\"></div>            <script type=\"text/javascript\">                require([\"plotly\"], function(Plotly) {                    window.PLOTLYENV=window.PLOTLYENV || {};                                    if (document.getElementById(\"5939b6a9-a944-481d-89bb-1c398d8d9796\")) {                    Plotly.newPlot(                        \"5939b6a9-a944-481d-89bb-1c398d8d9796\",                        [{\"marker\":{\"color\":\"blue\",\"opacity\":0.5,\"size\":10},\"mode\":\"markers\",\"name\":\"Similarity\",\"x\":[0.9945056473614833,1.027109283740771],\"y\":[0.8720748424530029,0.835412323474884],\"type\":\"scatter\",\"xaxis\":\"x\",\"yaxis\":\"y\"},{\"marker\":{\"color\":\"green\",\"opacity\":0.5,\"size\":10},\"mode\":\"markers\",\"name\":\"Keyword\",\"x\":[1.9029744751361373,1.9821346358962362],\"y\":[0.6428571428571429,0.5714285714285714],\"type\":\"scatter\",\"xaxis\":\"x2\",\"yaxis\":\"y2\"},{\"marker\":{\"color\":\"red\",\"opacity\":0.5,\"size\":10},\"mode\":\"markers\",\"name\":\"LLM Rating\",\"x\":[2.998442067055136,2.9285953884589],\"y\":[0.9,0.9],\"type\":\"scatter\",\"xaxis\":\"x3\",\"yaxis\":\"y3\"},{\"marker\":{\"color\":\"blue\",\"opacity\":0.5,\"size\":10},\"mode\":\"markers\",\"name\":\"Similarity\",\"x\":[0.9452307248313954,1.0480690671820077],\"y\":[0.7782316207885742,0.8337595462799072],\"type\":\"scatter\",\"xaxis\":\"x4\",\"yaxis\":\"y4\"},{\"marker\":{\"color\":\"green\",\"opacity\":0.5,\"size\":10},\"mode\":\"markers\",\"name\":\"Keyword\",\"x\":[1.941789683657472,2.0439191663763054],\"y\":[0.13333333333333333,0.4],\"type\":\"scatter\",\"xaxis\":\"x5\",\"yaxis\":\"y5\"},{\"marker\":{\"color\":\"red\",\"opacity\":0.5,\"size\":10},\"mode\":\"markers\",\"name\":\"LLM Rating\",\"x\":[2.9506886199837896,3.0397567296082713],\"y\":[0.8,0.7],\"type\":\"scatter\",\"xaxis\":\"x6\",\"yaxis\":\"y6\"},{\"marker\":{\"color\":\"blue\",\"opacity\":0.5,\"size\":10},\"mode\":\"markers\",\"name\":\"Similarity\",\"x\":[1.032358774709098,0.9137944344765787],\"y\":[0.8633443117141724,0.8204027414321899],\"type\":\"scatter\",\"xaxis\":\"x7\",\"yaxis\":\"y7\"},{\"marker\":{\"color\":\"green\",\"opacity\":0.5,\"size\":10},\"mode\":\"markers\",\"name\":\"Keyword\",\"x\":[2.0981167388593347,1.9009046877486075],\"y\":[0.6153846153846154,0.6923076923076923],\"type\":\"scatter\",\"xaxis\":\"x8\",\"yaxis\":\"y8\"},{\"marker\":{\"color\":\"red\",\"opacity\":0.5,\"size\":10},\"mode\":\"markers\",\"name\":\"LLM Rating\",\"x\":[2.98278426268093,3.044743348717958],\"y\":[1.0,0.9],\"type\":\"scatter\",\"xaxis\":\"x9\",\"yaxis\":\"y9\"},{\"marker\":{\"color\":\"blue\",\"opacity\":0.5,\"size\":10},\"mode\":\"markers\",\"name\":\"Similarity\",\"x\":[1.0329115045564918,0.9664851130257589],\"y\":[0.47881385684013367,0.45423805713653564],\"type\":\"scatter\",\"xaxis\":\"x10\",\"yaxis\":\"y10\"},{\"marker\":{\"color\":\"green\",\"opacity\":0.5,\"size\":10},\"mode\":\"markers\",\"name\":\"Keyword\",\"x\":[1.9781422286783712,2.002026309491246],\"y\":[0.0,0.0],\"type\":\"scatter\",\"xaxis\":\"x11\",\"yaxis\":\"y11\"},{\"marker\":{\"color\":\"red\",\"opacity\":0.5,\"size\":10},\"mode\":\"markers\",\"name\":\"LLM Rating\",\"x\":[2.9548335044992395,3.0014857507654815],\"y\":[0.0,0.2],\"type\":\"scatter\",\"xaxis\":\"x12\",\"yaxis\":\"y12\"},{\"marker\":{\"color\":\"blue\",\"opacity\":0.5,\"size\":10},\"mode\":\"markers\",\"name\":\"Similarity\",\"x\":[0.9873768209481677,0.9428187773773384],\"y\":[0.5875393152236938,0.7093039155006409],\"type\":\"scatter\",\"xaxis\":\"x13\",\"yaxis\":\"y13\"},{\"marker\":{\"color\":\"green\",\"opacity\":0.5,\"size\":10},\"mode\":\"markers\",\"name\":\"Keyword\",\"x\":[2.0280067462190408,2.058341671583693],\"y\":[0.1111111111111111,0.1111111111111111],\"type\":\"scatter\",\"xaxis\":\"x14\",\"yaxis\":\"y14\"},{\"marker\":{\"color\":\"red\",\"opacity\":0.5,\"size\":10},\"mode\":\"markers\",\"name\":\"LLM Rating\",\"x\":[2.9722913332950887,3.049851061024227],\"y\":[0.1,0.2],\"type\":\"scatter\",\"xaxis\":\"x15\",\"yaxis\":\"y15\"},{\"marker\":{\"color\":\"blue\",\"opacity\":0.5,\"size\":10},\"mode\":\"markers\",\"name\":\"Similarity\",\"x\":[1.0491536544535967,1.049045154070177],\"y\":[0.8431591987609863,0.847789466381073],\"type\":\"scatter\",\"xaxis\":\"x16\",\"yaxis\":\"y16\"},{\"marker\":{\"color\":\"green\",\"opacity\":0.5,\"size\":10},\"mode\":\"markers\",\"name\":\"Keyword\",\"x\":[1.9457440320831252,1.985855459589082],\"y\":[0.36363636363636365,0.36363636363636365],\"type\":\"scatter\",\"xaxis\":\"x17\",\"yaxis\":\"y17\"},{\"marker\":{\"color\":\"red\",\"opacity\":0.5,\"size\":10},\"mode\":\"markers\",\"name\":\"LLM Rating\",\"x\":[3.068622605071244,2.9637940700954335],\"y\":[0.8,0.8],\"type\":\"scatter\",\"xaxis\":\"x18\",\"yaxis\":\"y18\"}],                        {\"template\":{\"data\":{\"histogram2dcontour\":[{\"type\":\"histogram2dcontour\",\"colorbar\":{\"outlinewidth\":0,\"ticks\":\"\"},\"colorscale\":[[0.0,\"#0d0887\"],[0.1111111111111111,\"#46039f\"],[0.2222222222222222,\"#7201a8\"],[0.3333333333333333,\"#9c179e\"],[0.4444444444444444,\"#bd3786\"],[0.5555555555555556,\"#d8576b\"],[0.6666666666666666,\"#ed7953\"],[0.7777777777777778,\"#fb9f3a\"],[0.8888888888888888,\"#fdca26\"],[1.0,\"#f0f921\"]]}],\"choropleth\":[{\"type\":\"choropleth\",\"colorbar\":{\"outlinewidth\":0,\"ticks\":\"\"}}],\"histogram2d\":[{\"type\":\"histogram2d\",\"colorbar\":{\"outlinewidth\":0,\"ticks\":\"\"},\"colorscale\":[[0.0,\"#0d0887\"],[0.1111111111111111,\"#46039f\"],[0.2222222222222222,\"#7201a8\"],[0.3333333333333333,\"#9c179e\"],[0.4444444444444444,\"#bd3786\"],[0.5555555555555556,\"#d8576b\"],[0.6666666666666666,\"#ed7953\"],[0.7777777777777778,\"#fb9f3a\"],[0.8888888888888888,\"#fdca26\"],[1.0,\"#f0f921\"]]}],\"heatmap\":[{\"type\":\"heatmap\",\"colorbar\":{\"outlinewidth\":0,\"ticks\":\"\"},\"colorscale\":[[0.0,\"#0d0887\"],[0.1111111111111111,\"#46039f\"],[0.2222222222222222,\"#7201a8\"],[0.3333333333333333,\"#9c179e\"],[0.4444444444444444,\"#bd3786\"],[0.5555555555555556,\"#d8576b\"],[0.6666666666666666,\"#ed7953\"],[0.7777777777777778,\"#fb9f3a\"],[0.8888888888888888,\"#fdca26\"],[1.0,\"#f0f921\"]]}],\"heatmapgl\":[{\"type\":\"heatmapgl\",\"colorbar\":{\"outlinewidth\":0,\"ticks\":\"\"},\"colorscale\":[[0.0,\"#0d0887\"],[0.1111111111111111,\"#46039f\"],[0.2222222222222222,\"#7201a8\"],[0.3333333333333333,\"#9c179e\"],[0.4444444444444444,\"#bd3786\"],[0.5555555555555556,\"#d8576b\"],[0.6666666666666666,\"#ed7953\"],[0.7777777777777778,\"#fb9f3a\"],[0.8888888888888888,\"#fdca26\"],[1.0,\"#f0f921\"]]}],\"contourcarpet\":[{\"type\":\"contourcarpet\",\"colorbar\":{\"outlinewidth\":0,\"ticks\":\"\"}}],\"contour\":[{\"type\":\"contour\",\"colorbar\":{\"outlinewidth\":0,\"ticks\":\"\"},\"colorscale\":[[0.0,\"#0d0887\"],[0.1111111111111111,\"#46039f\"],[0.2222222222222222,\"#7201a8\"],[0.3333333333333333,\"#9c179e\"],[0.4444444444444444,\"#bd3786\"],[0.5555555555555556,\"#d8576b\"],[0.6666666666666666,\"#ed7953\"],[0.7777777777777778,\"#fb9f3a\"],[0.8888888888888888,\"#fdca26\"],[1.0,\"#f0f921\"]]}],\"surface\":[{\"type\":\"surface\",\"colorbar\":{\"outlinewidth\":0,\"ticks\":\"\"},\"colorscale\":[[0.0,\"#0d0887\"],[0.1111111111111111,\"#46039f\"],[0.2222222222222222,\"#7201a8\"],[0.3333333333333333,\"#9c179e\"],[0.4444444444444444,\"#bd3786\"],[0.5555555555555556,\"#d8576b\"],[0.6666666666666666,\"#ed7953\"],[0.7777777777777778,\"#fb9f3a\"],[0.8888888888888888,\"#fdca26\"],[1.0,\"#f0f921\"]]}],\"mesh3d\":[{\"type\":\"mesh3d\",\"colorbar\":{\"outlinewidth\":0,\"ticks\":\"\"}}],\"scatter\":[{\"fillpattern\":{\"fillmode\":\"overlay\",\"size\":10,\"solidity\":0.2},\"type\":\"scatter\"}],\"parcoords\":[{\"type\":\"parcoords\",\"line\":{\"colorbar\":{\"outlinewidth\":0,\"ticks\":\"\"}}}],\"scatterpolargl\":[{\"type\":\"scatterpolargl\",\"marker\":{\"colorbar\":{\"outlinewidth\":0,\"ticks\":\"\"}}}],\"bar\":[{\"error_x\":{\"color\":\"#2a3f5f\"},\"error_y\":{\"color\":\"#2a3f5f\"},\"marker\":{\"line\":{\"color\":\"#E5ECF6\",\"width\":0.5},\"pattern\":{\"fillmode\":\"overlay\",\"size\":10,\"solidity\":0.2}},\"type\":\"bar\"}],\"scattergeo\":[{\"type\":\"scattergeo\",\"marker\":{\"colorbar\":{\"outlinewidth\":0,\"ticks\":\"\"}}}],\"scatterpolar\":[{\"type\":\"scatterpolar\",\"marker\":{\"colorbar\":{\"outlinewidth\":0,\"ticks\":\"\"}}}],\"histogram\":[{\"marker\":{\"pattern\":{\"fillmode\":\"overlay\",\"size\":10,\"solidity\":0.2}},\"type\":\"histogram\"}],\"scattergl\":[{\"type\":\"scattergl\",\"marker\":{\"colorbar\":{\"outlinewidth\":0,\"ticks\":\"\"}}}],\"scatter3d\":[{\"type\":\"scatter3d\",\"line\":{\"colorbar\":{\"outlinewidth\":0,\"ticks\":\"\"}},\"marker\":{\"colorbar\":{\"outlinewidth\":0,\"ticks\":\"\"}}}],\"scattermapbox\":[{\"type\":\"scattermapbox\",\"marker\":{\"colorbar\":{\"outlinewidth\":0,\"ticks\":\"\"}}}],\"scatterternary\":[{\"type\":\"scatterternary\",\"marker\":{\"colorbar\":{\"outlinewidth\":0,\"ticks\":\"\"}}}],\"scattercarpet\":[{\"type\":\"scattercarpet\",\"marker\":{\"colorbar\":{\"outlinewidth\":0,\"ticks\":\"\"}}}],\"carpet\":[{\"aaxis\":{\"endlinecolor\":\"#2a3f5f\",\"gridcolor\":\"white\",\"linecolor\":\"white\",\"minorgridcolor\":\"white\",\"startlinecolor\":\"#2a3f5f\"},\"baxis\":{\"endlinecolor\":\"#2a3f5f\",\"gridcolor\":\"white\",\"linecolor\":\"white\",\"minorgridcolor\":\"white\",\"startlinecolor\":\"#2a3f5f\"},\"type\":\"carpet\"}],\"table\":[{\"cells\":{\"fill\":{\"color\":\"#EBF0F8\"},\"line\":{\"color\":\"white\"}},\"header\":{\"fill\":{\"color\":\"#C8D4E3\"},\"line\":{\"color\":\"white\"}},\"type\":\"table\"}],\"barpolar\":[{\"marker\":{\"line\":{\"color\":\"#E5ECF6\",\"width\":0.5},\"pattern\":{\"fillmode\":\"overlay\",\"size\":10,\"solidity\":0.2}},\"type\":\"barpolar\"}],\"pie\":[{\"automargin\":true,\"type\":\"pie\"}]},\"layout\":{\"autotypenumbers\":\"strict\",\"colorway\":[\"#636efa\",\"#EF553B\",\"#00cc96\",\"#ab63fa\",\"#FFA15A\",\"#19d3f3\",\"#FF6692\",\"#B6E880\",\"#FF97FF\",\"#FECB52\"],\"font\":{\"color\":\"#2a3f5f\"},\"hovermode\":\"closest\",\"hoverlabel\":{\"align\":\"left\"},\"paper_bgcolor\":\"white\",\"plot_bgcolor\":\"#E5ECF6\",\"polar\":{\"bgcolor\":\"#E5ECF6\",\"angularaxis\":{\"gridcolor\":\"white\",\"linecolor\":\"white\",\"ticks\":\"\"},\"radialaxis\":{\"gridcolor\":\"white\",\"linecolor\":\"white\",\"ticks\":\"\"}},\"ternary\":{\"bgcolor\":\"#E5ECF6\",\"aaxis\":{\"gridcolor\":\"white\",\"linecolor\":\"white\",\"ticks\":\"\"},\"baxis\":{\"gridcolor\":\"white\",\"linecolor\":\"white\",\"ticks\":\"\"},\"caxis\":{\"gridcolor\":\"white\",\"linecolor\":\"white\",\"ticks\":\"\"}},\"coloraxis\":{\"colorbar\":{\"outlinewidth\":0,\"ticks\":\"\"}},\"colorscale\":{\"sequential\":[[0.0,\"#0d0887\"],[0.1111111111111111,\"#46039f\"],[0.2222222222222222,\"#7201a8\"],[0.3333333333333333,\"#9c179e\"],[0.4444444444444444,\"#bd3786\"],[0.5555555555555556,\"#d8576b\"],[0.6666666666666666,\"#ed7953\"],[0.7777777777777778,\"#fb9f3a\"],[0.8888888888888888,\"#fdca26\"],[1.0,\"#f0f921\"]],\"sequentialminus\":[[0.0,\"#0d0887\"],[0.1111111111111111,\"#46039f\"],[0.2222222222222222,\"#7201a8\"],[0.3333333333333333,\"#9c179e\"],[0.4444444444444444,\"#bd3786\"],[0.5555555555555556,\"#d8576b\"],[0.6666666666666666,\"#ed7953\"],[0.7777777777777778,\"#fb9f3a\"],[0.8888888888888888,\"#fdca26\"],[1.0,\"#f0f921\"]],\"diverging\":[[0,\"#8e0152\"],[0.1,\"#c51b7d\"],[0.2,\"#de77ae\"],[0.3,\"#f1b6da\"],[0.4,\"#fde0ef\"],[0.5,\"#f7f7f7\"],[0.6,\"#e6f5d0\"],[0.7,\"#b8e186\"],[0.8,\"#7fbc41\"],[0.9,\"#4d9221\"],[1,\"#276419\"]]},\"xaxis\":{\"gridcolor\":\"white\",\"linecolor\":\"white\",\"ticks\":\"\",\"title\":{\"standoff\":15},\"zerolinecolor\":\"white\",\"automargin\":true,\"zerolinewidth\":2},\"yaxis\":{\"gridcolor\":\"white\",\"linecolor\":\"white\",\"ticks\":\"\",\"title\":{\"standoff\":15},\"zerolinecolor\":\"white\",\"automargin\":true,\"zerolinewidth\":2},\"scene\":{\"xaxis\":{\"backgroundcolor\":\"#E5ECF6\",\"gridcolor\":\"white\",\"linecolor\":\"white\",\"showbackground\":true,\"ticks\":\"\",\"zerolinecolor\":\"white\",\"gridwidth\":2},\"yaxis\":{\"backgroundcolor\":\"#E5ECF6\",\"gridcolor\":\"white\",\"linecolor\":\"white\",\"showbackground\":true,\"ticks\":\"\",\"zerolinecolor\":\"white\",\"gridwidth\":2},\"zaxis\":{\"backgroundcolor\":\"#E5ECF6\",\"gridcolor\":\"white\",\"linecolor\":\"white\",\"showbackground\":true,\"ticks\":\"\",\"zerolinecolor\":\"white\",\"gridwidth\":2}},\"shapedefaults\":{\"line\":{\"color\":\"#2a3f5f\"}},\"annotationdefaults\":{\"arrowcolor\":\"#2a3f5f\",\"arrowhead\":0,\"arrowwidth\":1},\"geo\":{\"bgcolor\":\"white\",\"landcolor\":\"#E5ECF6\",\"subunitcolor\":\"white\",\"showland\":true,\"showlakes\":true,\"lakecolor\":\"white\"},\"title\":{\"x\":0.05},\"mapbox\":{\"style\":\"light\"}}},\"xaxis\":{\"anchor\":\"y\",\"domain\":[0.0,0.32],\"showticklabels\":false},\"yaxis\":{\"anchor\":\"x\",\"domain\":[0.875,1.0],\"range\":[-0.1,1.1]},\"xaxis2\":{\"anchor\":\"y2\",\"domain\":[0.34,0.66],\"showticklabels\":false},\"yaxis2\":{\"anchor\":\"x2\",\"domain\":[0.875,1.0],\"range\":[-0.1,1.1]},\"xaxis3\":{\"anchor\":\"y3\",\"domain\":[0.68,1.0],\"showticklabels\":false},\"yaxis3\":{\"anchor\":\"x3\",\"domain\":[0.875,1.0],\"range\":[-0.1,1.1]},\"xaxis4\":{\"anchor\":\"y4\",\"domain\":[0.0,0.32],\"showticklabels\":false},\"yaxis4\":{\"anchor\":\"x4\",\"domain\":[0.7,0.825],\"range\":[-0.1,1.1]},\"xaxis5\":{\"anchor\":\"y5\",\"domain\":[0.34,0.66],\"showticklabels\":false},\"yaxis5\":{\"anchor\":\"x5\",\"domain\":[0.7,0.825],\"range\":[-0.1,1.1]},\"xaxis6\":{\"anchor\":\"y6\",\"domain\":[0.68,1.0],\"showticklabels\":false},\"yaxis6\":{\"anchor\":\"x6\",\"domain\":[0.7,0.825],\"range\":[-0.1,1.1]},\"xaxis7\":{\"anchor\":\"y7\",\"domain\":[0.0,0.32],\"showticklabels\":false},\"yaxis7\":{\"anchor\":\"x7\",\"domain\":[0.525,0.65],\"range\":[-0.1,1.1]},\"xaxis8\":{\"anchor\":\"y8\",\"domain\":[0.34,0.66],\"showticklabels\":false},\"yaxis8\":{\"anchor\":\"x8\",\"domain\":[0.525,0.65],\"range\":[-0.1,1.1]},\"xaxis9\":{\"anchor\":\"y9\",\"domain\":[0.68,1.0],\"showticklabels\":false},\"yaxis9\":{\"anchor\":\"x9\",\"domain\":[0.525,0.65],\"range\":[-0.1,1.1]},\"xaxis10\":{\"anchor\":\"y10\",\"domain\":[0.0,0.32],\"showticklabels\":false},\"yaxis10\":{\"anchor\":\"x10\",\"domain\":[0.35,0.475],\"range\":[-0.1,1.1]},\"xaxis11\":{\"anchor\":\"y11\",\"domain\":[0.34,0.66],\"showticklabels\":false},\"yaxis11\":{\"anchor\":\"x11\",\"domain\":[0.35,0.475],\"range\":[-0.1,1.1]},\"xaxis12\":{\"anchor\":\"y12\",\"domain\":[0.68,1.0],\"showticklabels\":false},\"yaxis12\":{\"anchor\":\"x12\",\"domain\":[0.35,0.475],\"range\":[-0.1,1.1]},\"xaxis13\":{\"anchor\":\"y13\",\"domain\":[0.0,0.32],\"showticklabels\":false},\"yaxis13\":{\"anchor\":\"x13\",\"domain\":[0.175,0.3],\"range\":[-0.1,1.1]},\"xaxis14\":{\"anchor\":\"y14\",\"domain\":[0.34,0.66],\"showticklabels\":false},\"yaxis14\":{\"anchor\":\"x14\",\"domain\":[0.175,0.3],\"range\":[-0.1,1.1]},\"xaxis15\":{\"anchor\":\"y15\",\"domain\":[0.68,1.0],\"showticklabels\":false},\"yaxis15\":{\"anchor\":\"x15\",\"domain\":[0.175,0.3],\"range\":[-0.1,1.1]},\"xaxis16\":{\"anchor\":\"y16\",\"domain\":[0.0,0.32],\"showticklabels\":false},\"yaxis16\":{\"anchor\":\"x16\",\"domain\":[0.0,0.125],\"range\":[-0.1,1.1]},\"xaxis17\":{\"anchor\":\"y17\",\"domain\":[0.34,0.66],\"showticklabels\":false},\"yaxis17\":{\"anchor\":\"x17\",\"domain\":[0.0,0.125],\"range\":[-0.1,1.1]},\"xaxis18\":{\"anchor\":\"y18\",\"domain\":[0.68,1.0],\"showticklabels\":false},\"yaxis18\":{\"anchor\":\"x18\",\"domain\":[0.0,0.125],\"range\":[-0.1,1.1]},\"annotations\":[{\"font\":{\"size\":16},\"showarrow\":false,\"text\":\"What is the powerhouse of the cell and how does it work?\",\"x\":0.5,\"xanchor\":\"center\",\"xref\":\"paper\",\"y\":1.0,\"yanchor\":\"bottom\",\"yref\":\"paper\"},{\"font\":{\"size\":16},\"showarrow\":false,\"text\":\"What is the basic unit of life and what does this mean?\",\"x\":0.5,\"xanchor\":\"center\",\"xref\":\"paper\",\"y\":0.825,\"yanchor\":\"bottom\",\"yref\":\"paper\"},{\"font\":{\"size\":16},\"showarrow\":false,\"text\":\"What do genes consist of and how do they work?\",\"x\":0.5,\"xanchor\":\"center\",\"xref\":\"paper\",\"y\":0.65,\"yanchor\":\"bottom\",\"yref\":\"paper\"},{\"font\":{\"size\":16},\"showarrow\":false,\"text\":\"Which organelle contains the cell's futurogenic material and how does it work?\",\"x\":0.5,\"xanchor\":\"center\",\"xref\":\"paper\",\"y\":0.475,\"yanchor\":\"bottom\",\"yref\":\"paper\"},{\"font\":{\"size\":16},\"showarrow\":false,\"text\":\"What particle stabilizes the membrane of hover frogs and how?\",\"x\":0.5,\"xanchor\":\"center\",\"xref\":\"paper\",\"y\":0.3,\"yanchor\":\"bottom\",\"yref\":\"paper\"},{\"font\":{\"size\":16},\"showarrow\":false,\"text\":\"How do astroflora perform photosynthesis in low light?\",\"x\":0.5,\"xanchor\":\"center\",\"xref\":\"paper\",\"y\":0.125,\"yanchor\":\"bottom\",\"yref\":\"paper\"}],\"title\":{\"text\":\"Evaluation Scores by Prompt and Method\"},\"height\":1200,\"width\":1200,\"showlegend\":false},                        {\"responsive\": true}                    ).then(function(){\n",
       "                            \n",
       "var gd = document.getElementById('5939b6a9-a944-481d-89bb-1c398d8d9796');\n",
       "var x = new MutationObserver(function (mutations, observer) {{\n",
       "        var display = window.getComputedStyle(gd).display;\n",
       "        if (!display || display === 'none') {{\n",
       "            console.log([gd, 'removed!']);\n",
       "            Plotly.purge(gd);\n",
       "            observer.disconnect();\n",
       "        }}\n",
       "}});\n",
       "\n",
       "// Listen for the removal of the full notebook cells\n",
       "var notebookContainer = gd.closest('#notebook-container');\n",
       "if (notebookContainer) {{\n",
       "    x.observe(notebookContainer, {childList: true});\n",
       "}}\n",
       "\n",
       "// Listen for the clearing of the current output cell\n",
       "var outputEl = gd.closest('.output');\n",
       "if (outputEl) {{\n",
       "    x.observe(outputEl, {childList: true});\n",
       "}}\n",
       "\n",
       "                        })                };                });            </script>        </div>"
      ]
     },
     "metadata": {},
     "output_type": "display_data"
    }
   ],
   "source": [
    "import plotly.graph_objs as go\n",
    "from plotly.subplots import make_subplots\n",
    "import numpy as np\n",
    "\n",
    "# Assuming df_responses contains columns 'original_prompt', 'similarity_scores', 'keyword_scores', 'llm_ratings'\n",
    "prompts = df_responses['original_prompt'].unique()\n",
    "\n",
    "# Create subplot titles\n",
    "subplot_titles = [(\"\", prompt, \"\") for prompt in prompts]\n",
    "\n",
    "# Flatten the list of subplot titles\n",
    "subplot_titles_flat = [title for trio in subplot_titles for title in trio]\n",
    "\n",
    "# Create subplots with the specified titles\n",
    "fig = make_subplots(rows=len(prompts), cols=3, subplot_titles=subplot_titles_flat, horizontal_spacing=0.02, vertical_spacing=0.05)\n",
    "\n",
    "# Define colors for each method\n",
    "colors = {'Similarity': 'blue', 'Keyword': 'green', 'LLM Rating': 'red'}\n",
    "\n",
    "# Function to slightly adjust x positions for swarm plot effect\n",
    "def jitter_x_positions(length, center_position, width=0.2):\n",
    "    return np.random.uniform(center_position - width/2, center_position + width/2, length)\n",
    "\n",
    "# Add traces for each method with specified colors\n",
    "for i, prompt in enumerate(prompts, start=1):\n",
    "    # Filter data for each prompt\n",
    "    filtered_data = df_responses[df_responses['original_prompt'] == prompt]\n",
    "    \n",
    "    # Similarity Scores\n",
    "    fig.add_trace(go.Scatter(\n",
    "        x=jitter_x_positions(len(filtered_data), 1), \n",
    "        y=filtered_data['similarity_score'], \n",
    "        mode='markers', \n",
    "        marker=dict(size=10, opacity=0.5, color=colors['Similarity']),\n",
    "        name=\"Similarity\"\n",
    "    ), row=i, col=1)\n",
    "\n",
    "    # Keyword Scores\n",
    "    fig.add_trace(go.Scatter(\n",
    "        x=jitter_x_positions(len(filtered_data), 2), \n",
    "        y=filtered_data['keyword_score'], \n",
    "        mode='markers', \n",
    "        marker=dict(size=10, opacity=0.5, color=colors['Keyword']),\n",
    "        name=\"Keyword\"\n",
    "    ), row=i, col=2)\n",
    "\n",
    "    # LLM Ratings\n",
    "    fig.add_trace(go.Scatter(\n",
    "        x=jitter_x_positions(len(filtered_data), 3), \n",
    "        y=filtered_data['llm_rating'], \n",
    "        mode='markers', \n",
    "        marker=dict(size=10, opacity=0.5, color=colors['LLM Rating']),\n",
    "        name=\"LLM Rating\"\n",
    "    ), row=i, col=3)\n",
    "\n",
    "# Update layout\n",
    "fig.update_layout(height=200*len(prompts), width=1200, title_text=\"Evaluation Scores by Prompt and Method\", showlegend=False)\n",
    "fig.update_yaxes(range=[-.1, 1.1])  # Set y-axis range for all subplots\n",
    "fig.update_xaxes(showticklabels=False)\n",
    "\n",
    "fig.show()\n"
   ]
  }
 ],
 "metadata": {
  "kernelspec": {
   "display_name": "Python 3 (ipykernel)",
   "language": "python",
   "name": "python3"
  },
  "language_info": {
   "codemirror_mode": {
    "name": "ipython",
    "version": 3
   },
   "file_extension": ".py",
   "mimetype": "text/x-python",
   "name": "python",
   "nbconvert_exporter": "python",
   "pygments_lexer": "ipython3",
   "version": "3.11.2"
  }
 },
 "nbformat": 4,
 "nbformat_minor": 2
}
