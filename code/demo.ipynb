{
 "cells": [
  {
   "cell_type": "markdown",
   "metadata": {},
   "source": [
    "### Notes\n",
    "\n",
    "The models you can run here will be limited by what's implemented by the litellm library, because that's what managing the API calls.\n",
    "\n",
    "You can see the models here: https://docs.litellm.ai/docs/\n",
    "\n"
   ]
  },
  {
   "cell_type": "code",
   "execution_count": 1,
   "metadata": {},
   "outputs": [
    {
     "name": "stderr",
     "output_type": "stream",
     "text": [
      "C:\\Users\\abiga\\OneDrive\\Documents\\PythonScripts\\llm_eval\\env\\Lib\\site-packages\\tqdm\\auto.py:21: TqdmWarning: IProgress not found. Please update jupyter and ipywidgets. See https://ipywidgets.readthedocs.io/en/stable/user_install.html\n",
      "  from .autonotebook import tqdm as notebook_tqdm\n"
     ]
    }
   ],
   "source": [
    "from functions import *\n"
   ]
  },
  {
   "cell_type": "markdown",
   "metadata": {},
   "source": [
    "## Parameters"
   ]
  },
  {
   "cell_type": "code",
   "execution_count": 2,
   "metadata": {},
   "outputs": [
    {
     "name": "stderr",
     "output_type": "stream",
     "text": [
      "2023-12-13 15:46:34,564 - INFO - Reading prompts from CSV file.\n",
      "2023-12-13 15:46:38,872 - INFO - HTTP Request: POST https://api.openai.com/v1/chat/completions \"HTTP/1.1 200 OK\"\n",
      "2023-12-13 15:46:41,545 - INFO - HTTP Request: POST https://api.openai.com/v1/chat/completions \"HTTP/1.1 200 OK\"\n",
      "2023-12-13 15:46:46,714 - INFO - HTTP Request: POST https://api.openai.com/v1/chat/completions \"HTTP/1.1 200 OK\"\n",
      "2023-12-13 15:46:49,573 - INFO - HTTP Request: POST https://api.openai.com/v1/chat/completions \"HTTP/1.1 200 OK\"\n",
      "2023-12-13 15:46:51,953 - INFO - HTTP Request: POST https://api.openai.com/v1/chat/completions \"HTTP/1.1 200 OK\"\n",
      "2023-12-13 15:46:56,172 - INFO - HTTP Request: POST https://api.openai.com/v1/chat/completions \"HTTP/1.1 200 OK\"\n",
      "2023-12-13 15:47:13,753 - INFO - HTTP Request: POST https://api.openai.com/v1/chat/completions \"HTTP/1.1 200 OK\"\n",
      "2023-12-13 15:47:14,668 - INFO - HTTP Request: POST https://api.openai.com/v1/chat/completions \"HTTP/1.1 200 OK\"\n",
      "2023-12-13 15:47:15,579 - INFO - HTTP Request: POST https://api.openai.com/v1/chat/completions \"HTTP/1.1 200 OK\"\n",
      "2023-12-13 15:47:16,915 - INFO - HTTP Request: POST https://api.openai.com/v1/chat/completions \"HTTP/1.1 200 OK\"\n",
      "2023-12-13 15:47:17,698 - INFO - HTTP Request: POST https://api.openai.com/v1/chat/completions \"HTTP/1.1 200 OK\"\n",
      "2023-12-13 15:47:19,592 - INFO - HTTP Request: POST https://api.openai.com/v1/chat/completions \"HTTP/1.1 200 OK\"\n"
     ]
    }
   ],
   "source": [
    "models_dict = {\n",
    "    'claude-2.1':  \"ANTHROPIC\", \n",
    "    'gpt-3.5-turbo-0301': \"OPENAI\"\n",
    "               } \n",
    "csv_file_path = '../data/prompt_target_answer_pairs.csv'\n",
    "similarity_model_name = 'sentence-transformers/paraphrase-mpnet-base-v2'\n",
    "num_runs = 2\n",
    "temperature = .9\n",
    "num_perturbations= 1\n",
    "is_file_path = True\n",
    "llm_evaluation_model = ['gpt-4', \"OPENAI\"]\n",
    "instructions = \"Please answer thoroughly: \"\n",
    "perturbation_model = ['gpt-3.5-turbo-0301', \"OPENAI\"]\n",
    "\n",
    "pipeline = LLMAnalysisPipeline(\n",
    "    input_data=csv_file_path, \n",
    "    models_dict=models_dict, \n",
    "    perturbation_model=perturbation_model, \n",
    "    llm_evaluation_model=llm_evaluation_model,\n",
    "    temperature = temperature,\n",
    "    num_runs= num_runs,\n",
    "    is_file_path = is_file_path,\n",
    "    similarity_model_name = similarity_model_name,\n",
    "    num_perturbations = num_perturbations,\n",
    "    instructions = instructions\n",
    "\n",
    ")\n",
    "\n",
    "# Run the pipeline\n",
    "df_responses = pipeline.run_pipeline()\n",
    "\n",
    "\n"
   ]
  },
  {
   "cell_type": "code",
   "execution_count": 3,
   "metadata": {},
   "outputs": [
    {
     "data": {
      "text/html": [
       "<div>\n",
       "<style scoped>\n",
       "    .dataframe tbody tr th:only-of-type {\n",
       "        vertical-align: middle;\n",
       "    }\n",
       "\n",
       "    .dataframe tbody tr th {\n",
       "        vertical-align: top;\n",
       "    }\n",
       "\n",
       "    .dataframe thead th {\n",
       "        text-align: right;\n",
       "    }\n",
       "</style>\n",
       "<table border=\"1\" class=\"dataframe\">\n",
       "  <thead>\n",
       "    <tr style=\"text-align: right;\">\n",
       "      <th></th>\n",
       "      <th>model</th>\n",
       "      <th>original_prompt</th>\n",
       "      <th>response</th>\n",
       "      <th>temperature</th>\n",
       "      <th>actual_prompt</th>\n",
       "      <th>target_answer</th>\n",
       "      <th>keywords</th>\n",
       "      <th>similarity_scores</th>\n",
       "      <th>keyword_scores</th>\n",
       "      <th>llm_ratings</th>\n",
       "    </tr>\n",
       "  </thead>\n",
       "  <tbody>\n",
       "    <tr>\n",
       "      <th>0</th>\n",
       "      <td>gpt-3.5-turbo-0301</td>\n",
       "      <td>What is the powerhouse of the cell and how doe...</td>\n",
       "      <td>The powerhouse of the cell is the mitochondrio...</td>\n",
       "      <td>0.9</td>\n",
       "      <td>What is the powerhouse of the cell and how doe...</td>\n",
       "      <td>The powerhouse of the cell is the mitochondrio...</td>\n",
       "      <td>[mitochondrion, mitochondria, atp, adenosine t...</td>\n",
       "      <td>0.871755</td>\n",
       "      <td>0.428571</td>\n",
       "      <td>8</td>\n",
       "    </tr>\n",
       "    <tr>\n",
       "      <th>1</th>\n",
       "      <td>gpt-3.5-turbo-0301</td>\n",
       "      <td>What is the basic unit of life and what does t...</td>\n",
       "      <td>The basic unit of life is the cell. This means...</td>\n",
       "      <td>0.9</td>\n",
       "      <td>What is the basic unit of life and what does t...</td>\n",
       "      <td>The basic unit of life is the cell. This conce...</td>\n",
       "      <td>[cell, biology, prokaryotic cells, eukaryotic ...</td>\n",
       "      <td>0.921858</td>\n",
       "      <td>0.466667</td>\n",
       "      <td>8</td>\n",
       "    </tr>\n",
       "    <tr>\n",
       "      <th>2</th>\n",
       "      <td>gpt-3.5-turbo-0301</td>\n",
       "      <td>What do genes consist of and how do they work?</td>\n",
       "      <td>Genes are segments of DNA molecules which cont...</td>\n",
       "      <td>0.9</td>\n",
       "      <td>What do genes consist of and how do they work?</td>\n",
       "      <td>Genes are segments of DNA (deoxyribonucleic ac...</td>\n",
       "      <td>[genes, dna, deoxyribonucleic acid, nucleotide...</td>\n",
       "      <td>0.792699</td>\n",
       "      <td>0.692308</td>\n",
       "      <td>10</td>\n",
       "    </tr>\n",
       "    <tr>\n",
       "      <th>3</th>\n",
       "      <td>gpt-3.5-turbo-0301</td>\n",
       "      <td>Which organelle contains the cell's futurogeni...</td>\n",
       "      <td>The organelle that contains the cell's genetic...</td>\n",
       "      <td>0.9</td>\n",
       "      <td>Which organelle contains the cell's futurogeni...</td>\n",
       "      <td>The Chronocytum is a unique organelle in cells...</td>\n",
       "      <td>[chronocytum, futurogenic material, temporal a...</td>\n",
       "      <td>0.460168</td>\n",
       "      <td>0.000000</td>\n",
       "      <td>1</td>\n",
       "    </tr>\n",
       "    <tr>\n",
       "      <th>4</th>\n",
       "      <td>gpt-3.5-turbo-0301</td>\n",
       "      <td>What particle stabilizes the membrane of hover...</td>\n",
       "      <td>As an AI language model, I do not have access ...</td>\n",
       "      <td>0.9</td>\n",
       "      <td>What particle stabilizes the membrane of hover...</td>\n",
       "      <td>In the world of hover frogs, their unique abil...</td>\n",
       "      <td>[levitonium, hover frogs, membrane stabilizati...</td>\n",
       "      <td>0.588004</td>\n",
       "      <td>0.111111</td>\n",
       "      <td>1</td>\n",
       "    </tr>\n",
       "    <tr>\n",
       "      <th>5</th>\n",
       "      <td>gpt-3.5-turbo-0301</td>\n",
       "      <td>How do astroflora perform photosynthesis in lo...</td>\n",
       "      <td>As an AI language model, I do not have persona...</td>\n",
       "      <td>0.9</td>\n",
       "      <td>How do astroflora perform photosynthesis in lo...</td>\n",
       "      <td>Astroflora, a unique class of extraterrestrial...</td>\n",
       "      <td>[astroflora, photosynthesis, low light conditi...</td>\n",
       "      <td>0.800584</td>\n",
       "      <td>0.454545</td>\n",
       "      <td>6</td>\n",
       "    </tr>\n",
       "  </tbody>\n",
       "</table>\n",
       "</div>"
      ],
      "text/plain": [
       "                model                                    original_prompt  \\\n",
       "0  gpt-3.5-turbo-0301  What is the powerhouse of the cell and how doe...   \n",
       "1  gpt-3.5-turbo-0301  What is the basic unit of life and what does t...   \n",
       "2  gpt-3.5-turbo-0301     What do genes consist of and how do they work?   \n",
       "3  gpt-3.5-turbo-0301  Which organelle contains the cell's futurogeni...   \n",
       "4  gpt-3.5-turbo-0301  What particle stabilizes the membrane of hover...   \n",
       "5  gpt-3.5-turbo-0301  How do astroflora perform photosynthesis in lo...   \n",
       "\n",
       "                                            response  temperature  \\\n",
       "0  The powerhouse of the cell is the mitochondrio...          0.9   \n",
       "1  The basic unit of life is the cell. This means...          0.9   \n",
       "2  Genes are segments of DNA molecules which cont...          0.9   \n",
       "3  The organelle that contains the cell's genetic...          0.9   \n",
       "4  As an AI language model, I do not have access ...          0.9   \n",
       "5  As an AI language model, I do not have persona...          0.9   \n",
       "\n",
       "                                       actual_prompt  \\\n",
       "0  What is the powerhouse of the cell and how doe...   \n",
       "1  What is the basic unit of life and what does t...   \n",
       "2     What do genes consist of and how do they work?   \n",
       "3  Which organelle contains the cell's futurogeni...   \n",
       "4  What particle stabilizes the membrane of hover...   \n",
       "5  How do astroflora perform photosynthesis in lo...   \n",
       "\n",
       "                                       target_answer  \\\n",
       "0  The powerhouse of the cell is the mitochondrio...   \n",
       "1  The basic unit of life is the cell. This conce...   \n",
       "2  Genes are segments of DNA (deoxyribonucleic ac...   \n",
       "3  The Chronocytum is a unique organelle in cells...   \n",
       "4  In the world of hover frogs, their unique abil...   \n",
       "5  Astroflora, a unique class of extraterrestrial...   \n",
       "\n",
       "                                            keywords  similarity_scores  \\\n",
       "0  [mitochondrion, mitochondria, atp, adenosine t...           0.871755   \n",
       "1  [cell, biology, prokaryotic cells, eukaryotic ...           0.921858   \n",
       "2  [genes, dna, deoxyribonucleic acid, nucleotide...           0.792699   \n",
       "3  [chronocytum, futurogenic material, temporal a...           0.460168   \n",
       "4  [levitonium, hover frogs, membrane stabilizati...           0.588004   \n",
       "5  [astroflora, photosynthesis, low light conditi...           0.800584   \n",
       "\n",
       "   keyword_scores  llm_ratings  \n",
       "0        0.428571            8  \n",
       "1        0.466667            8  \n",
       "2        0.692308           10  \n",
       "3        0.000000            1  \n",
       "4        0.111111            1  \n",
       "5        0.454545            6  "
      ]
     },
     "execution_count": 3,
     "metadata": {},
     "output_type": "execute_result"
    }
   ],
   "source": [
    "df_responses"
   ]
  },
  {
   "cell_type": "markdown",
   "metadata": {},
   "source": [
    "## Responses from LLMs"
   ]
  },
  {
   "cell_type": "markdown",
   "metadata": {},
   "source": [
    "### With Similarity Scores"
   ]
  },
  {
   "cell_type": "markdown",
   "metadata": {},
   "source": [
    "### Best and Worst Response from Each Model/Prompt Combo"
   ]
  },
  {
   "cell_type": "markdown",
   "metadata": {},
   "source": [
    "### With Keyword Matching"
   ]
  },
  {
   "cell_type": "code",
   "execution_count": null,
   "metadata": {},
   "outputs": [],
   "source": []
  }
 ],
 "metadata": {
  "kernelspec": {
   "display_name": "Python 3 (ipykernel)",
   "language": "python",
   "name": "python3"
  },
  "language_info": {
   "codemirror_mode": {
    "name": "ipython",
    "version": 3
   },
   "file_extension": ".py",
   "mimetype": "text/x-python",
   "name": "python",
   "nbconvert_exporter": "python",
   "pygments_lexer": "ipython3",
   "version": "3.11.2"
  }
 },
 "nbformat": 4,
 "nbformat_minor": 2
}
