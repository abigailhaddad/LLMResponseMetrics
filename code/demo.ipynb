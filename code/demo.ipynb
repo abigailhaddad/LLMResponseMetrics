{
 "cells": [
  {
   "cell_type": "markdown",
   "metadata": {},
   "source": [
    "### Notes\n",
    "\n",
    "The models you can run here will be limited by what's implemented by the litellm library, because that's what managing the API calls.\n",
    "\n",
    "You can see the models here: https://docs.litellm.ai/docs/\n",
    "\n"
   ]
  },
  {
   "cell_type": "code",
   "execution_count": 1,
   "metadata": {},
   "outputs": [],
   "source": [
    "from functions import *"
   ]
  },
  {
   "cell_type": "markdown",
   "metadata": {},
   "source": [
    "## Parameters"
   ]
  },
  {
   "cell_type": "code",
   "execution_count": 2,
   "metadata": {},
   "outputs": [],
   "source": [
    "num_perturbations = 5\n",
    "models_dict = {'claude-2.1':  \"ANTHROPIC\", 'gpt-3.5-turbo-0301': \"OPENAI\"\n",
    "               } \n",
    "csv_file_path = '../data/prompt_target_answer_pairs.csv'\n",
    "similarity_model_name = 'sentence-transformers/paraphrase-mpnet-base-v2'\n",
    "num_runs = 2\n",
    "variable_temperature = .9\n",
    "\n"
   ]
  },
  {
   "cell_type": "code",
   "execution_count": 4,
   "metadata": {},
   "outputs": [
    {
     "name": "stderr",
     "output_type": "stream",
     "text": [
      "2023-12-01 11:35:52,564 - INFO - Using direct list of prompts.\n",
      "2023-12-01 11:36:03,878 - INFO - HTTP Request: POST https://api.openai.com/v1/chat/completions \"HTTP/1.1 200 OK\"\n",
      "2023-12-01 11:36:06,318 - INFO - HTTP Request: POST https://api.openai.com/v1/chat/completions \"HTTP/1.1 200 OK\"\n",
      "2023-12-01 11:36:06,318 - INFO - Processing complete.\n"
     ]
    }
   ],
   "source": [
    "prompts = [\n",
    "    {\"prompt\": \"What is the capital of France?\"},\n",
    "    {\"prompt\": \"What is the boiling point of water?\"}\n",
    "]\n",
    "instructions = \"Please answer thoroughly: \"\n",
    "results = process_prompts(prompts, models_dict, num_perturbations=5, num_runs=1, is_file_path=True, generate_perturbations=True, perform_similarity=False, instructions =\"Please answer as briefly as possible: \", variable_temperature=False\n",
    ")\n"
   ]
  },
  {
   "cell_type": "code",
   "execution_count": 5,
   "metadata": {},
   "outputs": [
    {
     "data": {
      "text/html": [
       "<div>\n",
       "<style scoped>\n",
       "    .dataframe tbody tr th:only-of-type {\n",
       "        vertical-align: middle;\n",
       "    }\n",
       "\n",
       "    .dataframe tbody tr th {\n",
       "        vertical-align: top;\n",
       "    }\n",
       "\n",
       "    .dataframe thead th {\n",
       "        text-align: right;\n",
       "    }\n",
       "</style>\n",
       "<table border=\"1\" class=\"dataframe\">\n",
       "  <thead>\n",
       "    <tr style=\"text-align: right;\">\n",
       "      <th></th>\n",
       "      <th>model</th>\n",
       "      <th>original_prompt</th>\n",
       "      <th>response</th>\n",
       "      <th>temperature</th>\n",
       "    </tr>\n",
       "  </thead>\n",
       "  <tbody>\n",
       "    <tr>\n",
       "      <th>0</th>\n",
       "      <td>claude-2.1</td>\n",
       "      <td>What is the capital of France?</td>\n",
       "      <td>The capital of France is Paris.</td>\n",
       "      <td>0.259931</td>\n",
       "    </tr>\n",
       "    <tr>\n",
       "      <th>1</th>\n",
       "      <td>claude-2.1</td>\n",
       "      <td>What is the boiling point of water?</td>\n",
       "      <td>The boiling point of water is 100 degrees Cel...</td>\n",
       "      <td>0.038786</td>\n",
       "    </tr>\n",
       "    <tr>\n",
       "      <th>2</th>\n",
       "      <td>gpt-3.5-turbo-0301</td>\n",
       "      <td>What is the capital of France?</td>\n",
       "      <td>The capital of France is Paris. It is located ...</td>\n",
       "      <td>0.050149</td>\n",
       "    </tr>\n",
       "    <tr>\n",
       "      <th>3</th>\n",
       "      <td>gpt-3.5-turbo-0301</td>\n",
       "      <td>What is the boiling point of water?</td>\n",
       "      <td>The boiling point of pure water at standard at...</td>\n",
       "      <td>0.915284</td>\n",
       "    </tr>\n",
       "  </tbody>\n",
       "</table>\n",
       "</div>"
      ],
      "text/plain": [
       "                model                      original_prompt  \\\n",
       "0          claude-2.1       What is the capital of France?   \n",
       "1          claude-2.1  What is the boiling point of water?   \n",
       "2  gpt-3.5-turbo-0301       What is the capital of France?   \n",
       "3  gpt-3.5-turbo-0301  What is the boiling point of water?   \n",
       "\n",
       "                                            response  temperature  \n",
       "0                    The capital of France is Paris.     0.259931  \n",
       "1   The boiling point of water is 100 degrees Cel...     0.038786  \n",
       "2  The capital of France is Paris. It is located ...     0.050149  \n",
       "3  The boiling point of pure water at standard at...     0.915284  "
      ]
     },
     "execution_count": 5,
     "metadata": {},
     "output_type": "execute_result"
    }
   ],
   "source": [
    "results"
   ]
  },
  {
   "cell_type": "markdown",
   "metadata": {},
   "source": [
    "## Responses from LLMs"
   ]
  },
  {
   "cell_type": "markdown",
   "metadata": {},
   "source": [
    "### With Similarity Scores"
   ]
  },
  {
   "cell_type": "code",
   "execution_count": 7,
   "metadata": {},
   "outputs": [
    {
     "ename": "KeyError",
     "evalue": "'target_answer'",
     "output_type": "error",
     "traceback": [
      "\u001b[1;31m---------------------------------------------------------------------------\u001b[0m",
      "\u001b[1;31mKeyError\u001b[0m                                  Traceback (most recent call last)",
      "File \u001b[1;32m~\\AppData\\Local\\Programs\\Python\\Python311\\Lib\\site-packages\\pandas\\core\\indexes\\base.py:3802\u001b[0m, in \u001b[0;36mIndex.get_loc\u001b[1;34m(self, key, method, tolerance)\u001b[0m\n\u001b[0;32m   3801\u001b[0m \u001b[39mtry\u001b[39;00m:\n\u001b[1;32m-> 3802\u001b[0m     \u001b[39mreturn\u001b[39;00m \u001b[39mself\u001b[39;49m\u001b[39m.\u001b[39;49m_engine\u001b[39m.\u001b[39;49mget_loc(casted_key)\n\u001b[0;32m   3803\u001b[0m \u001b[39mexcept\u001b[39;00m \u001b[39mKeyError\u001b[39;00m \u001b[39mas\u001b[39;00m err:\n",
      "File \u001b[1;32m~\\AppData\\Local\\Programs\\Python\\Python311\\Lib\\site-packages\\pandas\\_libs\\index.pyx:138\u001b[0m, in \u001b[0;36mpandas._libs.index.IndexEngine.get_loc\u001b[1;34m()\u001b[0m\n",
      "File \u001b[1;32m~\\AppData\\Local\\Programs\\Python\\Python311\\Lib\\site-packages\\pandas\\_libs\\index.pyx:165\u001b[0m, in \u001b[0;36mpandas._libs.index.IndexEngine.get_loc\u001b[1;34m()\u001b[0m\n",
      "File \u001b[1;32mpandas\\_libs\\hashtable_class_helper.pxi:5745\u001b[0m, in \u001b[0;36mpandas._libs.hashtable.PyObjectHashTable.get_item\u001b[1;34m()\u001b[0m\n",
      "File \u001b[1;32mpandas\\_libs\\hashtable_class_helper.pxi:5753\u001b[0m, in \u001b[0;36mpandas._libs.hashtable.PyObjectHashTable.get_item\u001b[1;34m()\u001b[0m\n",
      "\u001b[1;31mKeyError\u001b[0m: 'target_answer'",
      "\nThe above exception was the direct cause of the following exception:\n",
      "\u001b[1;31mKeyError\u001b[0m                                  Traceback (most recent call last)",
      "\u001b[1;32mc:\\Users\\abiga\\OneDrive\\Documents\\PythonScripts\\llm_eval\\code\\demo.ipynb Cell 9\u001b[0m line \u001b[0;36m1\n\u001b[1;32m----> <a href='vscode-notebook-cell:/c%3A/Users/abiga/OneDrive/Documents/PythonScripts/llm_eval/code/demo.ipynb#X10sZmlsZQ%3D%3D?line=0'>1</a>\u001b[0m results [\u001b[39m'\u001b[39m\u001b[39msimilarity_score\u001b[39m\u001b[39m'\u001b[39m] \u001b[39m=\u001b[39m calculate_similarity(results [\u001b[39m'\u001b[39;49m\u001b[39mtarget_answer\u001b[39;49m\u001b[39m'\u001b[39;49m]\u001b[39m.\u001b[39mtolist(), results[\u001b[39m'\u001b[39m\u001b[39mresponse\u001b[39m\u001b[39m'\u001b[39m]\u001b[39m.\u001b[39mtolist(), similarity_model_name)\n\u001b[0;32m      <a href='vscode-notebook-cell:/c%3A/Users/abiga/OneDrive/Documents/PythonScripts/llm_eval/code/demo.ipynb#X10sZmlsZQ%3D%3D?line=1'>2</a>\u001b[0m results\n",
      "File \u001b[1;32m~\\AppData\\Local\\Programs\\Python\\Python311\\Lib\\site-packages\\pandas\\core\\frame.py:3807\u001b[0m, in \u001b[0;36mDataFrame.__getitem__\u001b[1;34m(self, key)\u001b[0m\n\u001b[0;32m   3805\u001b[0m \u001b[39mif\u001b[39;00m \u001b[39mself\u001b[39m\u001b[39m.\u001b[39mcolumns\u001b[39m.\u001b[39mnlevels \u001b[39m>\u001b[39m \u001b[39m1\u001b[39m:\n\u001b[0;32m   3806\u001b[0m     \u001b[39mreturn\u001b[39;00m \u001b[39mself\u001b[39m\u001b[39m.\u001b[39m_getitem_multilevel(key)\n\u001b[1;32m-> 3807\u001b[0m indexer \u001b[39m=\u001b[39m \u001b[39mself\u001b[39;49m\u001b[39m.\u001b[39;49mcolumns\u001b[39m.\u001b[39;49mget_loc(key)\n\u001b[0;32m   3808\u001b[0m \u001b[39mif\u001b[39;00m is_integer(indexer):\n\u001b[0;32m   3809\u001b[0m     indexer \u001b[39m=\u001b[39m [indexer]\n",
      "File \u001b[1;32m~\\AppData\\Local\\Programs\\Python\\Python311\\Lib\\site-packages\\pandas\\core\\indexes\\base.py:3804\u001b[0m, in \u001b[0;36mIndex.get_loc\u001b[1;34m(self, key, method, tolerance)\u001b[0m\n\u001b[0;32m   3802\u001b[0m     \u001b[39mreturn\u001b[39;00m \u001b[39mself\u001b[39m\u001b[39m.\u001b[39m_engine\u001b[39m.\u001b[39mget_loc(casted_key)\n\u001b[0;32m   3803\u001b[0m \u001b[39mexcept\u001b[39;00m \u001b[39mKeyError\u001b[39;00m \u001b[39mas\u001b[39;00m err:\n\u001b[1;32m-> 3804\u001b[0m     \u001b[39mraise\u001b[39;00m \u001b[39mKeyError\u001b[39;00m(key) \u001b[39mfrom\u001b[39;00m \u001b[39merr\u001b[39;00m\n\u001b[0;32m   3805\u001b[0m \u001b[39mexcept\u001b[39;00m \u001b[39mTypeError\u001b[39;00m:\n\u001b[0;32m   3806\u001b[0m     \u001b[39m# If we have a listlike key, _check_indexing_error will raise\u001b[39;00m\n\u001b[0;32m   3807\u001b[0m     \u001b[39m#  InvalidIndexError. Otherwise we fall through and re-raise\u001b[39;00m\n\u001b[0;32m   3808\u001b[0m     \u001b[39m#  the TypeError.\u001b[39;00m\n\u001b[0;32m   3809\u001b[0m     \u001b[39mself\u001b[39m\u001b[39m.\u001b[39m_check_indexing_error(key)\n",
      "\u001b[1;31mKeyError\u001b[0m: 'target_answer'"
     ]
    }
   ],
   "source": [
    "results ['similarity_score'] = calculate_similarity(results ['target_answer'].tolist(), results['response'].tolist(), similarity_model_name)\n",
    "results\n"
   ]
  },
  {
   "cell_type": "markdown",
   "metadata": {},
   "source": [
    "### Best and Worst Response from Each Model/Prompt Combo"
   ]
  },
  {
   "cell_type": "code",
   "execution_count": 5,
   "metadata": {},
   "outputs": [
    {
     "data": {
      "text/html": [
       "<div>\n",
       "<style scoped>\n",
       "    .dataframe tbody tr th:only-of-type {\n",
       "        vertical-align: middle;\n",
       "    }\n",
       "\n",
       "    .dataframe tbody tr th {\n",
       "        vertical-align: top;\n",
       "    }\n",
       "\n",
       "    .dataframe thead th {\n",
       "        text-align: right;\n",
       "    }\n",
       "</style>\n",
       "<table border=\"1\" class=\"dataframe\">\n",
       "  <thead>\n",
       "    <tr style=\"text-align: right;\">\n",
       "      <th></th>\n",
       "      <th>model</th>\n",
       "      <th>original_prompt</th>\n",
       "      <th>best_answer</th>\n",
       "      <th>best_similarity</th>\n",
       "      <th>worst_answer</th>\n",
       "      <th>worst_similarity</th>\n",
       "    </tr>\n",
       "  </thead>\n",
       "  <tbody>\n",
       "    <tr>\n",
       "      <th>0</th>\n",
       "      <td>gpt-3.5-turbo-0301</td>\n",
       "      <td>What is the powerhouse of the cell?</td>\n",
       "      <td>The mitochondria is known as the energy factor...</td>\n",
       "      <td>0.839692</td>\n",
       "      <td>The primary source of energy production in the...</td>\n",
       "      <td>0.537239</td>\n",
       "    </tr>\n",
       "    <tr>\n",
       "      <th>1</th>\n",
       "      <td>gpt-3.5-turbo-0301</td>\n",
       "      <td>What is the basic unit of life?</td>\n",
       "      <td>The fundamental entity that makes up all livin...</td>\n",
       "      <td>0.834349</td>\n",
       "      <td>The smallest structural and functional unit of...</td>\n",
       "      <td>0.712358</td>\n",
       "    </tr>\n",
       "    <tr>\n",
       "      <th>2</th>\n",
       "      <td>gpt-3.5-turbo-0301</td>\n",
       "      <td>What do genes consist of?</td>\n",
       "      <td>Genes are composed of DNA (deoxyribonucleic ac...</td>\n",
       "      <td>0.815171</td>\n",
       "      <td>Genetic structures consist of DNA (deoxyribonu...</td>\n",
       "      <td>0.681154</td>\n",
       "    </tr>\n",
       "    <tr>\n",
       "      <th>3</th>\n",
       "      <td>gpt-3.5-turbo-0301</td>\n",
       "      <td>How do astroflora perform photosynthesis in lo...</td>\n",
       "      <td>Astroflora, or plants that grow in space, have...</td>\n",
       "      <td>0.806800</td>\n",
       "      <td>As an AI language model, I do not have informa...</td>\n",
       "      <td>0.703187</td>\n",
       "    </tr>\n",
       "    <tr>\n",
       "      <th>4</th>\n",
       "      <td>claude-2.1</td>\n",
       "      <td>What is the powerhouse of the cell?</td>\n",
       "      <td>The mitochondria are the intracellular struct...</td>\n",
       "      <td>0.804405</td>\n",
       "      <td>Aerobic respiration and most ATP synthesis ta...</td>\n",
       "      <td>0.486933</td>\n",
       "    </tr>\n",
       "    <tr>\n",
       "      <th>5</th>\n",
       "      <td>claude-2.1</td>\n",
       "      <td>What do genes consist of?</td>\n",
       "      <td>Genes are made up of DNA (deoxyribonucleic ac...</td>\n",
       "      <td>0.779261</td>\n",
       "      <td>The basic building blocks of genes are nucleo...</td>\n",
       "      <td>0.650256</td>\n",
       "    </tr>\n",
       "    <tr>\n",
       "      <th>6</th>\n",
       "      <td>gpt-3.5-turbo-0301</td>\n",
       "      <td>What particle stabilizes the membrane of hover...</td>\n",
       "      <td>As an AI language model, I cannot find any spe...</td>\n",
       "      <td>0.756064</td>\n",
       "      <td>The particle is called dermaseptin.</td>\n",
       "      <td>0.332667</td>\n",
       "    </tr>\n",
       "    <tr>\n",
       "      <th>7</th>\n",
       "      <td>claude-2.1</td>\n",
       "      <td>What is the basic unit of life?</td>\n",
       "      <td>The most basic component that makes up all li...</td>\n",
       "      <td>0.754846</td>\n",
       "      <td>There is no definitive \"simplest form of matt...</td>\n",
       "      <td>0.488756</td>\n",
       "    </tr>\n",
       "    <tr>\n",
       "      <th>8</th>\n",
       "      <td>claude-2.1</td>\n",
       "      <td>What particle stabilizes the membrane of hover...</td>\n",
       "      <td>Unfortunately, I do not have enough context t...</td>\n",
       "      <td>0.714272</td>\n",
       "      <td>Unfortunately, I do not have enough context t...</td>\n",
       "      <td>0.562627</td>\n",
       "    </tr>\n",
       "    <tr>\n",
       "      <th>9</th>\n",
       "      <td>claude-2.1</td>\n",
       "      <td>How do astroflora perform photosynthesis in lo...</td>\n",
       "      <td>Unfortunately, I do not have enough context t...</td>\n",
       "      <td>0.632290</td>\n",
       "      <td>There are no known plants native to outer spa...</td>\n",
       "      <td>0.385661</td>\n",
       "    </tr>\n",
       "    <tr>\n",
       "      <th>10</th>\n",
       "      <td>claude-2.1</td>\n",
       "      <td>Which organelle contains the cell's futurogeni...</td>\n",
       "      <td>The material that enables a cell to make copi...</td>\n",
       "      <td>0.520747</td>\n",
       "      <td>The cell's hereditary information, or DNA, is...</td>\n",
       "      <td>0.375380</td>\n",
       "    </tr>\n",
       "    <tr>\n",
       "      <th>11</th>\n",
       "      <td>gpt-3.5-turbo-0301</td>\n",
       "      <td>Which organelle contains the cell's futurogeni...</td>\n",
       "      <td>The organelle that houses the cell's genetic m...</td>\n",
       "      <td>0.454550</td>\n",
       "      <td>The nucleus contains the cell's DNA.</td>\n",
       "      <td>0.405975</td>\n",
       "    </tr>\n",
       "  </tbody>\n",
       "</table>\n",
       "</div>"
      ],
      "text/plain": [
       "                 model                                    original_prompt  \\\n",
       "0   gpt-3.5-turbo-0301                What is the powerhouse of the cell?   \n",
       "1   gpt-3.5-turbo-0301                    What is the basic unit of life?   \n",
       "2   gpt-3.5-turbo-0301                          What do genes consist of?   \n",
       "3   gpt-3.5-turbo-0301  How do astroflora perform photosynthesis in lo...   \n",
       "4           claude-2.1                What is the powerhouse of the cell?   \n",
       "5           claude-2.1                          What do genes consist of?   \n",
       "6   gpt-3.5-turbo-0301  What particle stabilizes the membrane of hover...   \n",
       "7           claude-2.1                    What is the basic unit of life?   \n",
       "8           claude-2.1  What particle stabilizes the membrane of hover...   \n",
       "9           claude-2.1  How do astroflora perform photosynthesis in lo...   \n",
       "10          claude-2.1  Which organelle contains the cell's futurogeni...   \n",
       "11  gpt-3.5-turbo-0301  Which organelle contains the cell's futurogeni...   \n",
       "\n",
       "                                          best_answer  best_similarity  \\\n",
       "0   The mitochondria is known as the energy factor...         0.839692   \n",
       "1   The fundamental entity that makes up all livin...         0.834349   \n",
       "2   Genes are composed of DNA (deoxyribonucleic ac...         0.815171   \n",
       "3   Astroflora, or plants that grow in space, have...         0.806800   \n",
       "4    The mitochondria are the intracellular struct...         0.804405   \n",
       "5    Genes are made up of DNA (deoxyribonucleic ac...         0.779261   \n",
       "6   As an AI language model, I cannot find any spe...         0.756064   \n",
       "7    The most basic component that makes up all li...         0.754846   \n",
       "8    Unfortunately, I do not have enough context t...         0.714272   \n",
       "9    Unfortunately, I do not have enough context t...         0.632290   \n",
       "10   The material that enables a cell to make copi...         0.520747   \n",
       "11  The organelle that houses the cell's genetic m...         0.454550   \n",
       "\n",
       "                                         worst_answer  worst_similarity  \n",
       "0   The primary source of energy production in the...          0.537239  \n",
       "1   The smallest structural and functional unit of...          0.712358  \n",
       "2   Genetic structures consist of DNA (deoxyribonu...          0.681154  \n",
       "3   As an AI language model, I do not have informa...          0.703187  \n",
       "4    Aerobic respiration and most ATP synthesis ta...          0.486933  \n",
       "5    The basic building blocks of genes are nucleo...          0.650256  \n",
       "6                 The particle is called dermaseptin.          0.332667  \n",
       "7    There is no definitive \"simplest form of matt...          0.488756  \n",
       "8    Unfortunately, I do not have enough context t...          0.562627  \n",
       "9    There are no known plants native to outer spa...          0.385661  \n",
       "10   The cell's hereditary information, or DNA, is...          0.375380  \n",
       "11               The nucleus contains the cell's DNA.          0.405975  "
      ]
     },
     "execution_count": 5,
     "metadata": {},
     "output_type": "execute_result"
    }
   ],
   "source": [
    "aggregate_results(responses_df)"
   ]
  }
 ],
 "metadata": {
  "kernelspec": {
   "display_name": "llm_eval_env",
   "language": "python",
   "name": "llm_eval_env"
  },
  "language_info": {
   "codemirror_mode": {
    "name": "ipython",
    "version": 3
   },
   "file_extension": ".py",
   "mimetype": "text/x-python",
   "name": "python",
   "nbconvert_exporter": "python",
   "pygments_lexer": "ipython3",
   "version": "3.11.2"
  }
 },
 "nbformat": 4,
 "nbformat_minor": 2
}
