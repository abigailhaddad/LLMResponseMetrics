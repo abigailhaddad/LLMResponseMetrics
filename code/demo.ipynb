{
 "cells": [
  {
   "cell_type": "markdown",
   "metadata": {},
   "source": [
    "### Notes\n",
    "\n",
    "The models you can run here will be limited by what's implemented by the litellm library, because that's what managing the API calls.\n",
    "\n",
    "You can see the models here: https://docs.litellm.ai/docs/\n",
    "\n"
   ]
  },
  {
   "cell_type": "code",
   "execution_count": 1,
   "metadata": {},
   "outputs": [
    {
     "name": "stderr",
     "output_type": "stream",
     "text": [
      "C:\\Users\\abiga\\OneDrive\\Documents\\PythonScripts\\llm_eval\\env\\Lib\\site-packages\\tqdm\\auto.py:21: TqdmWarning: IProgress not found. Please update jupyter and ipywidgets. See https://ipywidgets.readthedocs.io/en/stable/user_install.html\n",
      "  from .autonotebook import tqdm as notebook_tqdm\n"
     ]
    }
   ],
   "source": [
    "from functions import *\n"
   ]
  },
  {
   "cell_type": "markdown",
   "metadata": {},
   "source": [
    "## Parameters"
   ]
  },
  {
   "cell_type": "code",
   "execution_count": 2,
   "metadata": {},
   "outputs": [
    {
     "name": "stderr",
     "output_type": "stream",
     "text": [
      "2023-12-14 14:24:02,123 - INFO - Reading prompts from CSV file.\n",
      "2023-12-14 14:24:13,642 - INFO - HTTP Request: POST https://api.openai.com/v1/chat/completions \"HTTP/1.1 200 OK\"\n",
      "2023-12-14 14:24:18,379 - INFO - HTTP Request: POST https://api.openai.com/v1/chat/completions \"HTTP/1.1 200 OK\"\n",
      "2023-12-14 14:24:25,590 - INFO - HTTP Request: POST https://api.openai.com/v1/chat/completions \"HTTP/1.1 200 OK\"\n",
      "2023-12-14 14:24:30,007 - INFO - HTTP Request: POST https://api.openai.com/v1/chat/completions \"HTTP/1.1 200 OK\"\n",
      "2023-12-14 14:24:34,487 - INFO - HTTP Request: POST https://api.openai.com/v1/chat/completions \"HTTP/1.1 200 OK\"\n",
      "2023-12-14 14:24:39,036 - INFO - HTTP Request: POST https://api.openai.com/v1/chat/completions \"HTTP/1.1 200 OK\"\n",
      "2023-12-14 14:24:52,344 - INFO - HTTP Request: POST https://api.openai.com/v1/chat/completions \"HTTP/1.1 200 OK\"\n",
      "2023-12-14 14:24:53,750 - INFO - HTTP Request: POST https://api.openai.com/v1/chat/completions \"HTTP/1.1 200 OK\"\n",
      "2023-12-14 14:24:55,130 - INFO - HTTP Request: POST https://api.openai.com/v1/chat/completions \"HTTP/1.1 200 OK\"\n",
      "2023-12-14 14:24:57,450 - INFO - HTTP Request: POST https://api.openai.com/v1/chat/completions \"HTTP/1.1 200 OK\"\n",
      "2023-12-14 14:24:58,569 - INFO - HTTP Request: POST https://api.openai.com/v1/chat/completions \"HTTP/1.1 200 OK\"\n",
      "2023-12-14 14:24:59,975 - INFO - HTTP Request: POST https://api.openai.com/v1/chat/completions \"HTTP/1.1 200 OK\"\n"
     ]
    }
   ],
   "source": [
    "models_dict = {\n",
    "    #'claude-2.1':  \"ANTHROPIC\", \n",
    "    'gpt-3.5-turbo-0301': \"OPENAI\"\n",
    "               } \n",
    "csv_file_path = '../data/prompt_target_answer_pairs.csv'\n",
    "similarity_model_name = 'sentence-transformers/paraphrase-mpnet-base-v2'\n",
    "num_runs = 1\n",
    "temperature = .9\n",
    "num_perturbations= 0\n",
    "is_file_path = True\n",
    "llm_evaluation_model = ['gpt-4', \"OPENAI\"]\n",
    "instructions = \"Please answer thoroughly: \"\n",
    "perturbation_model = ['gpt-4', \"OPENAI\"] # I recommend using a good model for perturbations otherwise it may generate the wrong number\n",
    "\n",
    "pipeline = LLMAnalysisPipeline(\n",
    "    input_data=csv_file_path, \n",
    "    models_dict=models_dict, \n",
    "    perturbation_model=perturbation_model, \n",
    "    llm_evaluation_model=llm_evaluation_model,\n",
    "    temperature = temperature,\n",
    "    num_runs= num_runs,\n",
    "    is_file_path = is_file_path,\n",
    "    similarity_model_name = similarity_model_name,\n",
    "    num_perturbations = num_perturbations,\n",
    "    instructions = instructions\n",
    "\n",
    ")\n",
    "\n",
    "# Run the pipeline\n",
    "df_responses = pipeline.run_pipeline()\n",
    "\n"
   ]
  },
  {
   "cell_type": "code",
   "execution_count": 3,
   "metadata": {},
   "outputs": [
    {
     "data": {
      "text/html": [
       "<div>\n",
       "<style scoped>\n",
       "    .dataframe tbody tr th:only-of-type {\n",
       "        vertical-align: middle;\n",
       "    }\n",
       "\n",
       "    .dataframe tbody tr th {\n",
       "        vertical-align: top;\n",
       "    }\n",
       "\n",
       "    .dataframe thead th {\n",
       "        text-align: right;\n",
       "    }\n",
       "</style>\n",
       "<table border=\"1\" class=\"dataframe\">\n",
       "  <thead>\n",
       "    <tr style=\"text-align: right;\">\n",
       "      <th></th>\n",
       "      <th>model</th>\n",
       "      <th>original_prompt</th>\n",
       "      <th>response</th>\n",
       "      <th>temperature</th>\n",
       "      <th>actual_prompt</th>\n",
       "      <th>target_answer</th>\n",
       "      <th>keywords</th>\n",
       "      <th>true_or_false</th>\n",
       "      <th>similarity_scores</th>\n",
       "      <th>keyword_scores</th>\n",
       "      <th>llm_ratings</th>\n",
       "    </tr>\n",
       "  </thead>\n",
       "  <tbody>\n",
       "    <tr>\n",
       "      <th>0</th>\n",
       "      <td>gpt-3.5-turbo-0301</td>\n",
       "      <td>What is the powerhouse of the cell and how doe...</td>\n",
       "      <td>The powerhouse of the cell is the mitochondria...</td>\n",
       "      <td>0.9</td>\n",
       "      <td>What is the powerhouse of the cell and how doe...</td>\n",
       "      <td>The powerhouse of the cell is the mitochondrio...</td>\n",
       "      <td>[mitochondrion, mitochondria, atp, adenosine t...</td>\n",
       "      <td>True</td>\n",
       "      <td>0.868904</td>\n",
       "      <td>0.428571</td>\n",
       "      <td>0.9</td>\n",
       "    </tr>\n",
       "    <tr>\n",
       "      <th>1</th>\n",
       "      <td>gpt-3.5-turbo-0301</td>\n",
       "      <td>What is the basic unit of life and what does t...</td>\n",
       "      <td>The basic unit of life is the cell. This means...</td>\n",
       "      <td>0.9</td>\n",
       "      <td>What is the basic unit of life and what does t...</td>\n",
       "      <td>The basic unit of life is the cell. This conce...</td>\n",
       "      <td>[cell, biology, prokaryotic cells, eukaryotic ...</td>\n",
       "      <td>True</td>\n",
       "      <td>0.922272</td>\n",
       "      <td>0.266667</td>\n",
       "      <td>0.8</td>\n",
       "    </tr>\n",
       "    <tr>\n",
       "      <th>2</th>\n",
       "      <td>gpt-3.5-turbo-0301</td>\n",
       "      <td>What do genes consist of and how do they work?</td>\n",
       "      <td>Genes are the basic units of heredity that con...</td>\n",
       "      <td>0.9</td>\n",
       "      <td>What do genes consist of and how do they work?</td>\n",
       "      <td>Genes are segments of DNA (deoxyribonucleic ac...</td>\n",
       "      <td>[genes, dna, deoxyribonucleic acid, nucleotide...</td>\n",
       "      <td>True</td>\n",
       "      <td>0.837910</td>\n",
       "      <td>0.461538</td>\n",
       "      <td>0.8</td>\n",
       "    </tr>\n",
       "    <tr>\n",
       "      <th>3</th>\n",
       "      <td>gpt-3.5-turbo-0301</td>\n",
       "      <td>Which organelle contains the cell's futurogeni...</td>\n",
       "      <td>The organelle that contains the cell's genetic...</td>\n",
       "      <td>0.9</td>\n",
       "      <td>Which organelle contains the cell's futurogeni...</td>\n",
       "      <td>The Chronocytum is a unique organelle in cells...</td>\n",
       "      <td>[chronocytum, futurogenic material, temporal a...</td>\n",
       "      <td>False</td>\n",
       "      <td>0.440708</td>\n",
       "      <td>0.000000</td>\n",
       "      <td>0.1</td>\n",
       "    </tr>\n",
       "    <tr>\n",
       "      <th>4</th>\n",
       "      <td>gpt-3.5-turbo-0301</td>\n",
       "      <td>What particle stabilizes the membrane of hover...</td>\n",
       "      <td>As an AI language model, I don't have enough i...</td>\n",
       "      <td>0.9</td>\n",
       "      <td>What particle stabilizes the membrane of hover...</td>\n",
       "      <td>In the world of hover frogs, their unique abil...</td>\n",
       "      <td>[levitonium, hover frogs, membrane stabilizati...</td>\n",
       "      <td>False</td>\n",
       "      <td>0.470651</td>\n",
       "      <td>0.111111</td>\n",
       "      <td>0.0</td>\n",
       "    </tr>\n",
       "    <tr>\n",
       "      <th>5</th>\n",
       "      <td>gpt-3.5-turbo-0301</td>\n",
       "      <td>How do astroflora perform photosynthesis in lo...</td>\n",
       "      <td>Astroflora are plants grown in environments wi...</td>\n",
       "      <td>0.9</td>\n",
       "      <td>How do astroflora perform photosynthesis in lo...</td>\n",
       "      <td>Astroflora, a unique class of extraterrestrial...</td>\n",
       "      <td>[astroflora, photosynthesis, low light conditi...</td>\n",
       "      <td>False</td>\n",
       "      <td>0.814272</td>\n",
       "      <td>0.363636</td>\n",
       "      <td>0.7</td>\n",
       "    </tr>\n",
       "  </tbody>\n",
       "</table>\n",
       "</div>"
      ],
      "text/plain": [
       "                model                                    original_prompt  \\\n",
       "0  gpt-3.5-turbo-0301  What is the powerhouse of the cell and how doe...   \n",
       "1  gpt-3.5-turbo-0301  What is the basic unit of life and what does t...   \n",
       "2  gpt-3.5-turbo-0301     What do genes consist of and how do they work?   \n",
       "3  gpt-3.5-turbo-0301  Which organelle contains the cell's futurogeni...   \n",
       "4  gpt-3.5-turbo-0301  What particle stabilizes the membrane of hover...   \n",
       "5  gpt-3.5-turbo-0301  How do astroflora perform photosynthesis in lo...   \n",
       "\n",
       "                                            response  temperature  \\\n",
       "0  The powerhouse of the cell is the mitochondria...          0.9   \n",
       "1  The basic unit of life is the cell. This means...          0.9   \n",
       "2  Genes are the basic units of heredity that con...          0.9   \n",
       "3  The organelle that contains the cell's genetic...          0.9   \n",
       "4  As an AI language model, I don't have enough i...          0.9   \n",
       "5  Astroflora are plants grown in environments wi...          0.9   \n",
       "\n",
       "                                       actual_prompt  \\\n",
       "0  What is the powerhouse of the cell and how doe...   \n",
       "1  What is the basic unit of life and what does t...   \n",
       "2     What do genes consist of and how do they work?   \n",
       "3  Which organelle contains the cell's futurogeni...   \n",
       "4  What particle stabilizes the membrane of hover...   \n",
       "5  How do astroflora perform photosynthesis in lo...   \n",
       "\n",
       "                                       target_answer  \\\n",
       "0  The powerhouse of the cell is the mitochondrio...   \n",
       "1  The basic unit of life is the cell. This conce...   \n",
       "2  Genes are segments of DNA (deoxyribonucleic ac...   \n",
       "3  The Chronocytum is a unique organelle in cells...   \n",
       "4  In the world of hover frogs, their unique abil...   \n",
       "5  Astroflora, a unique class of extraterrestrial...   \n",
       "\n",
       "                                            keywords  true_or_false  \\\n",
       "0  [mitochondrion, mitochondria, atp, adenosine t...           True   \n",
       "1  [cell, biology, prokaryotic cells, eukaryotic ...           True   \n",
       "2  [genes, dna, deoxyribonucleic acid, nucleotide...           True   \n",
       "3  [chronocytum, futurogenic material, temporal a...          False   \n",
       "4  [levitonium, hover frogs, membrane stabilizati...          False   \n",
       "5  [astroflora, photosynthesis, low light conditi...          False   \n",
       "\n",
       "   similarity_scores  keyword_scores  llm_ratings  \n",
       "0           0.868904        0.428571          0.9  \n",
       "1           0.922272        0.266667          0.8  \n",
       "2           0.837910        0.461538          0.8  \n",
       "3           0.440708        0.000000          0.1  \n",
       "4           0.470651        0.111111          0.0  \n",
       "5           0.814272        0.363636          0.7  "
      ]
     },
     "execution_count": 3,
     "metadata": {},
     "output_type": "execute_result"
    }
   ],
   "source": [
    "df_responses"
   ]
  },
  {
   "cell_type": "code",
   "execution_count": 4,
   "metadata": {},
   "outputs": [
    {
     "data": {
      "text/html": [
       "<div>\n",
       "<style scoped>\n",
       "    .dataframe tbody tr th:only-of-type {\n",
       "        vertical-align: middle;\n",
       "    }\n",
       "\n",
       "    .dataframe tbody tr th {\n",
       "        vertical-align: top;\n",
       "    }\n",
       "\n",
       "    .dataframe thead th {\n",
       "        text-align: right;\n",
       "    }\n",
       "</style>\n",
       "<table border=\"1\" class=\"dataframe\">\n",
       "  <thead>\n",
       "    <tr style=\"text-align: right;\">\n",
       "      <th></th>\n",
       "      <th>model</th>\n",
       "      <th>original_prompt</th>\n",
       "      <th>actual_prompt</th>\n",
       "      <th>response</th>\n",
       "      <th>true_or_false</th>\n",
       "      <th>similarity_scores</th>\n",
       "    </tr>\n",
       "  </thead>\n",
       "  <tbody>\n",
       "    <tr>\n",
       "      <th>5</th>\n",
       "      <td>gpt-3.5-turbo-0301</td>\n",
       "      <td>How do astroflora perform photosynthesis in lo...</td>\n",
       "      <td>How do astroflora perform photosynthesis in lo...</td>\n",
       "      <td>Astroflora are plants grown in environments wi...</td>\n",
       "      <td>False</td>\n",
       "      <td>0.814272</td>\n",
       "    </tr>\n",
       "    <tr>\n",
       "      <th>2</th>\n",
       "      <td>gpt-3.5-turbo-0301</td>\n",
       "      <td>What do genes consist of and how do they work?</td>\n",
       "      <td>What do genes consist of and how do they work?</td>\n",
       "      <td>Genes are the basic units of heredity that con...</td>\n",
       "      <td>True</td>\n",
       "      <td>0.837910</td>\n",
       "    </tr>\n",
       "    <tr>\n",
       "      <th>1</th>\n",
       "      <td>gpt-3.5-turbo-0301</td>\n",
       "      <td>What is the basic unit of life and what does t...</td>\n",
       "      <td>What is the basic unit of life and what does t...</td>\n",
       "      <td>The basic unit of life is the cell. This means...</td>\n",
       "      <td>True</td>\n",
       "      <td>0.922272</td>\n",
       "    </tr>\n",
       "    <tr>\n",
       "      <th>0</th>\n",
       "      <td>gpt-3.5-turbo-0301</td>\n",
       "      <td>What is the powerhouse of the cell and how doe...</td>\n",
       "      <td>What is the powerhouse of the cell and how doe...</td>\n",
       "      <td>The powerhouse of the cell is the mitochondria...</td>\n",
       "      <td>True</td>\n",
       "      <td>0.868904</td>\n",
       "    </tr>\n",
       "    <tr>\n",
       "      <th>4</th>\n",
       "      <td>gpt-3.5-turbo-0301</td>\n",
       "      <td>What particle stabilizes the membrane of hover...</td>\n",
       "      <td>What particle stabilizes the membrane of hover...</td>\n",
       "      <td>As an AI language model, I don't have enough i...</td>\n",
       "      <td>False</td>\n",
       "      <td>0.470651</td>\n",
       "    </tr>\n",
       "    <tr>\n",
       "      <th>3</th>\n",
       "      <td>gpt-3.5-turbo-0301</td>\n",
       "      <td>Which organelle contains the cell's futurogeni...</td>\n",
       "      <td>Which organelle contains the cell's futurogeni...</td>\n",
       "      <td>The organelle that contains the cell's genetic...</td>\n",
       "      <td>False</td>\n",
       "      <td>0.440708</td>\n",
       "    </tr>\n",
       "  </tbody>\n",
       "</table>\n",
       "</div>"
      ],
      "text/plain": [
       "                model                                    original_prompt  \\\n",
       "5  gpt-3.5-turbo-0301  How do astroflora perform photosynthesis in lo...   \n",
       "2  gpt-3.5-turbo-0301     What do genes consist of and how do they work?   \n",
       "1  gpt-3.5-turbo-0301  What is the basic unit of life and what does t...   \n",
       "0  gpt-3.5-turbo-0301  What is the powerhouse of the cell and how doe...   \n",
       "4  gpt-3.5-turbo-0301  What particle stabilizes the membrane of hover...   \n",
       "3  gpt-3.5-turbo-0301  Which organelle contains the cell's futurogeni...   \n",
       "\n",
       "                                       actual_prompt  \\\n",
       "5  How do astroflora perform photosynthesis in lo...   \n",
       "2     What do genes consist of and how do they work?   \n",
       "1  What is the basic unit of life and what does t...   \n",
       "0  What is the powerhouse of the cell and how doe...   \n",
       "4  What particle stabilizes the membrane of hover...   \n",
       "3  Which organelle contains the cell's futurogeni...   \n",
       "\n",
       "                                            response  true_or_false  \\\n",
       "5  Astroflora are plants grown in environments wi...          False   \n",
       "2  Genes are the basic units of heredity that con...           True   \n",
       "1  The basic unit of life is the cell. This means...           True   \n",
       "0  The powerhouse of the cell is the mitochondria...           True   \n",
       "4  As an AI language model, I don't have enough i...          False   \n",
       "3  The organelle that contains the cell's genetic...          False   \n",
       "\n",
       "   similarity_scores  \n",
       "5           0.814272  \n",
       "2           0.837910  \n",
       "1           0.922272  \n",
       "0           0.868904  \n",
       "4           0.470651  \n",
       "3           0.440708  "
      ]
     },
     "execution_count": 4,
     "metadata": {},
     "output_type": "execute_result"
    }
   ],
   "source": [
    "aggregate_best_scores(df_responses, \"similarity_scores\")"
   ]
  },
  {
   "cell_type": "code",
   "execution_count": 5,
   "metadata": {},
   "outputs": [
    {
     "data": {
      "text/html": [
       "<div>\n",
       "<style scoped>\n",
       "    .dataframe tbody tr th:only-of-type {\n",
       "        vertical-align: middle;\n",
       "    }\n",
       "\n",
       "    .dataframe tbody tr th {\n",
       "        vertical-align: top;\n",
       "    }\n",
       "\n",
       "    .dataframe thead th {\n",
       "        text-align: right;\n",
       "    }\n",
       "</style>\n",
       "<table border=\"1\" class=\"dataframe\">\n",
       "  <thead>\n",
       "    <tr style=\"text-align: right;\">\n",
       "      <th></th>\n",
       "      <th>model</th>\n",
       "      <th>original_prompt</th>\n",
       "      <th>actual_prompt</th>\n",
       "      <th>response</th>\n",
       "      <th>true_or_false</th>\n",
       "      <th>similarity_scores</th>\n",
       "    </tr>\n",
       "  </thead>\n",
       "  <tbody>\n",
       "    <tr>\n",
       "      <th>5</th>\n",
       "      <td>gpt-3.5-turbo-0301</td>\n",
       "      <td>How do astroflora perform photosynthesis in lo...</td>\n",
       "      <td>How do astroflora perform photosynthesis in lo...</td>\n",
       "      <td>Astroflora are plants grown in environments wi...</td>\n",
       "      <td>False</td>\n",
       "      <td>0.814272</td>\n",
       "    </tr>\n",
       "    <tr>\n",
       "      <th>2</th>\n",
       "      <td>gpt-3.5-turbo-0301</td>\n",
       "      <td>What do genes consist of and how do they work?</td>\n",
       "      <td>What do genes consist of and how do they work?</td>\n",
       "      <td>Genes are the basic units of heredity that con...</td>\n",
       "      <td>True</td>\n",
       "      <td>0.837910</td>\n",
       "    </tr>\n",
       "    <tr>\n",
       "      <th>1</th>\n",
       "      <td>gpt-3.5-turbo-0301</td>\n",
       "      <td>What is the basic unit of life and what does t...</td>\n",
       "      <td>What is the basic unit of life and what does t...</td>\n",
       "      <td>The basic unit of life is the cell. This means...</td>\n",
       "      <td>True</td>\n",
       "      <td>0.922272</td>\n",
       "    </tr>\n",
       "    <tr>\n",
       "      <th>0</th>\n",
       "      <td>gpt-3.5-turbo-0301</td>\n",
       "      <td>What is the powerhouse of the cell and how doe...</td>\n",
       "      <td>What is the powerhouse of the cell and how doe...</td>\n",
       "      <td>The powerhouse of the cell is the mitochondria...</td>\n",
       "      <td>True</td>\n",
       "      <td>0.868904</td>\n",
       "    </tr>\n",
       "    <tr>\n",
       "      <th>4</th>\n",
       "      <td>gpt-3.5-turbo-0301</td>\n",
       "      <td>What particle stabilizes the membrane of hover...</td>\n",
       "      <td>What particle stabilizes the membrane of hover...</td>\n",
       "      <td>As an AI language model, I don't have enough i...</td>\n",
       "      <td>False</td>\n",
       "      <td>0.470651</td>\n",
       "    </tr>\n",
       "    <tr>\n",
       "      <th>3</th>\n",
       "      <td>gpt-3.5-turbo-0301</td>\n",
       "      <td>Which organelle contains the cell's futurogeni...</td>\n",
       "      <td>Which organelle contains the cell's futurogeni...</td>\n",
       "      <td>The organelle that contains the cell's genetic...</td>\n",
       "      <td>False</td>\n",
       "      <td>0.440708</td>\n",
       "    </tr>\n",
       "  </tbody>\n",
       "</table>\n",
       "</div>"
      ],
      "text/plain": [
       "                model                                    original_prompt  \\\n",
       "5  gpt-3.5-turbo-0301  How do astroflora perform photosynthesis in lo...   \n",
       "2  gpt-3.5-turbo-0301     What do genes consist of and how do they work?   \n",
       "1  gpt-3.5-turbo-0301  What is the basic unit of life and what does t...   \n",
       "0  gpt-3.5-turbo-0301  What is the powerhouse of the cell and how doe...   \n",
       "4  gpt-3.5-turbo-0301  What particle stabilizes the membrane of hover...   \n",
       "3  gpt-3.5-turbo-0301  Which organelle contains the cell's futurogeni...   \n",
       "\n",
       "                                       actual_prompt  \\\n",
       "5  How do astroflora perform photosynthesis in lo...   \n",
       "2     What do genes consist of and how do they work?   \n",
       "1  What is the basic unit of life and what does t...   \n",
       "0  What is the powerhouse of the cell and how doe...   \n",
       "4  What particle stabilizes the membrane of hover...   \n",
       "3  Which organelle contains the cell's futurogeni...   \n",
       "\n",
       "                                            response  true_or_false  \\\n",
       "5  Astroflora are plants grown in environments wi...          False   \n",
       "2  Genes are the basic units of heredity that con...           True   \n",
       "1  The basic unit of life is the cell. This means...           True   \n",
       "0  The powerhouse of the cell is the mitochondria...           True   \n",
       "4  As an AI language model, I don't have enough i...          False   \n",
       "3  The organelle that contains the cell's genetic...          False   \n",
       "\n",
       "   similarity_scores  \n",
       "5           0.814272  \n",
       "2           0.837910  \n",
       "1           0.922272  \n",
       "0           0.868904  \n",
       "4           0.470651  \n",
       "3           0.440708  "
      ]
     },
     "execution_count": 5,
     "metadata": {},
     "output_type": "execute_result"
    }
   ],
   "source": [
    "aggregate_best_scores(df_responses, \"similarity_scores\")"
   ]
  },
  {
   "cell_type": "code",
   "execution_count": 6,
   "metadata": {},
   "outputs": [
    {
     "data": {
      "text/html": [
       "<div>\n",
       "<style scoped>\n",
       "    .dataframe tbody tr th:only-of-type {\n",
       "        vertical-align: middle;\n",
       "    }\n",
       "\n",
       "    .dataframe tbody tr th {\n",
       "        vertical-align: top;\n",
       "    }\n",
       "\n",
       "    .dataframe thead th {\n",
       "        text-align: right;\n",
       "    }\n",
       "</style>\n",
       "<table border=\"1\" class=\"dataframe\">\n",
       "  <thead>\n",
       "    <tr style=\"text-align: right;\">\n",
       "      <th></th>\n",
       "      <th>model</th>\n",
       "      <th>original_prompt</th>\n",
       "      <th>actual_prompt</th>\n",
       "      <th>response</th>\n",
       "      <th>true_or_false</th>\n",
       "      <th>keyword_scores</th>\n",
       "    </tr>\n",
       "  </thead>\n",
       "  <tbody>\n",
       "    <tr>\n",
       "      <th>5</th>\n",
       "      <td>gpt-3.5-turbo-0301</td>\n",
       "      <td>How do astroflora perform photosynthesis in lo...</td>\n",
       "      <td>How do astroflora perform photosynthesis in lo...</td>\n",
       "      <td>Astroflora are plants grown in environments wi...</td>\n",
       "      <td>False</td>\n",
       "      <td>0.363636</td>\n",
       "    </tr>\n",
       "    <tr>\n",
       "      <th>2</th>\n",
       "      <td>gpt-3.5-turbo-0301</td>\n",
       "      <td>What do genes consist of and how do they work?</td>\n",
       "      <td>What do genes consist of and how do they work?</td>\n",
       "      <td>Genes are the basic units of heredity that con...</td>\n",
       "      <td>True</td>\n",
       "      <td>0.461538</td>\n",
       "    </tr>\n",
       "    <tr>\n",
       "      <th>1</th>\n",
       "      <td>gpt-3.5-turbo-0301</td>\n",
       "      <td>What is the basic unit of life and what does t...</td>\n",
       "      <td>What is the basic unit of life and what does t...</td>\n",
       "      <td>The basic unit of life is the cell. This means...</td>\n",
       "      <td>True</td>\n",
       "      <td>0.266667</td>\n",
       "    </tr>\n",
       "    <tr>\n",
       "      <th>0</th>\n",
       "      <td>gpt-3.5-turbo-0301</td>\n",
       "      <td>What is the powerhouse of the cell and how doe...</td>\n",
       "      <td>What is the powerhouse of the cell and how doe...</td>\n",
       "      <td>The powerhouse of the cell is the mitochondria...</td>\n",
       "      <td>True</td>\n",
       "      <td>0.428571</td>\n",
       "    </tr>\n",
       "    <tr>\n",
       "      <th>4</th>\n",
       "      <td>gpt-3.5-turbo-0301</td>\n",
       "      <td>What particle stabilizes the membrane of hover...</td>\n",
       "      <td>What particle stabilizes the membrane of hover...</td>\n",
       "      <td>As an AI language model, I don't have enough i...</td>\n",
       "      <td>False</td>\n",
       "      <td>0.111111</td>\n",
       "    </tr>\n",
       "    <tr>\n",
       "      <th>3</th>\n",
       "      <td>gpt-3.5-turbo-0301</td>\n",
       "      <td>Which organelle contains the cell's futurogeni...</td>\n",
       "      <td>Which organelle contains the cell's futurogeni...</td>\n",
       "      <td>The organelle that contains the cell's genetic...</td>\n",
       "      <td>False</td>\n",
       "      <td>0.000000</td>\n",
       "    </tr>\n",
       "  </tbody>\n",
       "</table>\n",
       "</div>"
      ],
      "text/plain": [
       "                model                                    original_prompt  \\\n",
       "5  gpt-3.5-turbo-0301  How do astroflora perform photosynthesis in lo...   \n",
       "2  gpt-3.5-turbo-0301     What do genes consist of and how do they work?   \n",
       "1  gpt-3.5-turbo-0301  What is the basic unit of life and what does t...   \n",
       "0  gpt-3.5-turbo-0301  What is the powerhouse of the cell and how doe...   \n",
       "4  gpt-3.5-turbo-0301  What particle stabilizes the membrane of hover...   \n",
       "3  gpt-3.5-turbo-0301  Which organelle contains the cell's futurogeni...   \n",
       "\n",
       "                                       actual_prompt  \\\n",
       "5  How do astroflora perform photosynthesis in lo...   \n",
       "2     What do genes consist of and how do they work?   \n",
       "1  What is the basic unit of life and what does t...   \n",
       "0  What is the powerhouse of the cell and how doe...   \n",
       "4  What particle stabilizes the membrane of hover...   \n",
       "3  Which organelle contains the cell's futurogeni...   \n",
       "\n",
       "                                            response  true_or_false  \\\n",
       "5  Astroflora are plants grown in environments wi...          False   \n",
       "2  Genes are the basic units of heredity that con...           True   \n",
       "1  The basic unit of life is the cell. This means...           True   \n",
       "0  The powerhouse of the cell is the mitochondria...           True   \n",
       "4  As an AI language model, I don't have enough i...          False   \n",
       "3  The organelle that contains the cell's genetic...          False   \n",
       "\n",
       "   keyword_scores  \n",
       "5        0.363636  \n",
       "2        0.461538  \n",
       "1        0.266667  \n",
       "0        0.428571  \n",
       "4        0.111111  \n",
       "3        0.000000  "
      ]
     },
     "execution_count": 6,
     "metadata": {},
     "output_type": "execute_result"
    }
   ],
   "source": [
    "aggregate_best_scores(df_responses, 'keyword_scores')"
   ]
  },
  {
   "cell_type": "code",
   "execution_count": 7,
   "metadata": {},
   "outputs": [
    {
     "data": {
      "text/html": [
       "<div>\n",
       "<style scoped>\n",
       "    .dataframe tbody tr th:only-of-type {\n",
       "        vertical-align: middle;\n",
       "    }\n",
       "\n",
       "    .dataframe tbody tr th {\n",
       "        vertical-align: top;\n",
       "    }\n",
       "\n",
       "    .dataframe thead th {\n",
       "        text-align: right;\n",
       "    }\n",
       "</style>\n",
       "<table border=\"1\" class=\"dataframe\">\n",
       "  <thead>\n",
       "    <tr style=\"text-align: right;\">\n",
       "      <th></th>\n",
       "      <th>model</th>\n",
       "      <th>original_prompt</th>\n",
       "      <th>actual_prompt</th>\n",
       "      <th>response</th>\n",
       "      <th>true_or_false</th>\n",
       "      <th>llm_ratings</th>\n",
       "    </tr>\n",
       "  </thead>\n",
       "  <tbody>\n",
       "    <tr>\n",
       "      <th>5</th>\n",
       "      <td>gpt-3.5-turbo-0301</td>\n",
       "      <td>How do astroflora perform photosynthesis in lo...</td>\n",
       "      <td>How do astroflora perform photosynthesis in lo...</td>\n",
       "      <td>Astroflora are plants grown in environments wi...</td>\n",
       "      <td>False</td>\n",
       "      <td>0.7</td>\n",
       "    </tr>\n",
       "    <tr>\n",
       "      <th>2</th>\n",
       "      <td>gpt-3.5-turbo-0301</td>\n",
       "      <td>What do genes consist of and how do they work?</td>\n",
       "      <td>What do genes consist of and how do they work?</td>\n",
       "      <td>Genes are the basic units of heredity that con...</td>\n",
       "      <td>True</td>\n",
       "      <td>0.8</td>\n",
       "    </tr>\n",
       "    <tr>\n",
       "      <th>1</th>\n",
       "      <td>gpt-3.5-turbo-0301</td>\n",
       "      <td>What is the basic unit of life and what does t...</td>\n",
       "      <td>What is the basic unit of life and what does t...</td>\n",
       "      <td>The basic unit of life is the cell. This means...</td>\n",
       "      <td>True</td>\n",
       "      <td>0.8</td>\n",
       "    </tr>\n",
       "    <tr>\n",
       "      <th>0</th>\n",
       "      <td>gpt-3.5-turbo-0301</td>\n",
       "      <td>What is the powerhouse of the cell and how doe...</td>\n",
       "      <td>What is the powerhouse of the cell and how doe...</td>\n",
       "      <td>The powerhouse of the cell is the mitochondria...</td>\n",
       "      <td>True</td>\n",
       "      <td>0.9</td>\n",
       "    </tr>\n",
       "    <tr>\n",
       "      <th>4</th>\n",
       "      <td>gpt-3.5-turbo-0301</td>\n",
       "      <td>What particle stabilizes the membrane of hover...</td>\n",
       "      <td>What particle stabilizes the membrane of hover...</td>\n",
       "      <td>As an AI language model, I don't have enough i...</td>\n",
       "      <td>False</td>\n",
       "      <td>0.0</td>\n",
       "    </tr>\n",
       "    <tr>\n",
       "      <th>3</th>\n",
       "      <td>gpt-3.5-turbo-0301</td>\n",
       "      <td>Which organelle contains the cell's futurogeni...</td>\n",
       "      <td>Which organelle contains the cell's futurogeni...</td>\n",
       "      <td>The organelle that contains the cell's genetic...</td>\n",
       "      <td>False</td>\n",
       "      <td>0.1</td>\n",
       "    </tr>\n",
       "  </tbody>\n",
       "</table>\n",
       "</div>"
      ],
      "text/plain": [
       "                model                                    original_prompt  \\\n",
       "5  gpt-3.5-turbo-0301  How do astroflora perform photosynthesis in lo...   \n",
       "2  gpt-3.5-turbo-0301     What do genes consist of and how do they work?   \n",
       "1  gpt-3.5-turbo-0301  What is the basic unit of life and what does t...   \n",
       "0  gpt-3.5-turbo-0301  What is the powerhouse of the cell and how doe...   \n",
       "4  gpt-3.5-turbo-0301  What particle stabilizes the membrane of hover...   \n",
       "3  gpt-3.5-turbo-0301  Which organelle contains the cell's futurogeni...   \n",
       "\n",
       "                                       actual_prompt  \\\n",
       "5  How do astroflora perform photosynthesis in lo...   \n",
       "2     What do genes consist of and how do they work?   \n",
       "1  What is the basic unit of life and what does t...   \n",
       "0  What is the powerhouse of the cell and how doe...   \n",
       "4  What particle stabilizes the membrane of hover...   \n",
       "3  Which organelle contains the cell's futurogeni...   \n",
       "\n",
       "                                            response  true_or_false  \\\n",
       "5  Astroflora are plants grown in environments wi...          False   \n",
       "2  Genes are the basic units of heredity that con...           True   \n",
       "1  The basic unit of life is the cell. This means...           True   \n",
       "0  The powerhouse of the cell is the mitochondria...           True   \n",
       "4  As an AI language model, I don't have enough i...          False   \n",
       "3  The organelle that contains the cell's genetic...          False   \n",
       "\n",
       "   llm_ratings  \n",
       "5          0.7  \n",
       "2          0.8  \n",
       "1          0.8  \n",
       "0          0.9  \n",
       "4          0.0  \n",
       "3          0.1  "
      ]
     },
     "execution_count": 7,
     "metadata": {},
     "output_type": "execute_result"
    }
   ],
   "source": [
    "aggregate_best_scores(df_responses, 'llm_ratings')"
   ]
  },
  {
   "cell_type": "code",
   "execution_count": 11,
   "metadata": {},
   "outputs": [
    {
     "data": {
      "text/plain": [
       "Index(['model', 'original_prompt', 'response', 'temperature', 'actual_prompt',\n",
       "       'target_answer', 'keywords', 'true_or_false', 'similarity_scores',\n",
       "       'keyword_scores', 'llm_ratings'],\n",
       "      dtype='object')"
      ]
     },
     "execution_count": 11,
     "metadata": {},
     "output_type": "execute_result"
    }
   ],
   "source": [
    "df_responses.columns"
   ]
  },
  {
   "cell_type": "code",
   "execution_count": 26,
   "metadata": {},
   "outputs": [
    {
     "name": "stdout",
     "output_type": "stream",
     "text": [
      "Starting aggregation...\n",
      "Aggregating method: llm_ratings\n",
      "Aggregating method: keyword_scores\n",
      "Aggregating method: similarity_scores\n"
     ]
    },
    {
     "data": {
      "text/html": [
       "<div>\n",
       "<style scoped>\n",
       "    .dataframe tbody tr th:only-of-type {\n",
       "        vertical-align: middle;\n",
       "    }\n",
       "\n",
       "    .dataframe tbody tr th {\n",
       "        vertical-align: top;\n",
       "    }\n",
       "\n",
       "    .dataframe thead th {\n",
       "        text-align: right;\n",
       "    }\n",
       "</style>\n",
       "<table border=\"1\" class=\"dataframe\">\n",
       "  <thead>\n",
       "    <tr style=\"text-align: right;\">\n",
       "      <th></th>\n",
       "      <th>model</th>\n",
       "      <th>original_prompt</th>\n",
       "      <th>true_or_false</th>\n",
       "      <th>score</th>\n",
       "      <th>method</th>\n",
       "    </tr>\n",
       "  </thead>\n",
       "  <tbody>\n",
       "    <tr>\n",
       "      <th>0</th>\n",
       "      <td>gpt-3.5-turbo-0301</td>\n",
       "      <td>How do astroflora perform photosynthesis in lo...</td>\n",
       "      <td>False</td>\n",
       "      <td>0.700000</td>\n",
       "      <td>llm_ratings</td>\n",
       "    </tr>\n",
       "    <tr>\n",
       "      <th>1</th>\n",
       "      <td>gpt-3.5-turbo-0301</td>\n",
       "      <td>What do genes consist of and how do they work?</td>\n",
       "      <td>True</td>\n",
       "      <td>0.800000</td>\n",
       "      <td>llm_ratings</td>\n",
       "    </tr>\n",
       "    <tr>\n",
       "      <th>2</th>\n",
       "      <td>gpt-3.5-turbo-0301</td>\n",
       "      <td>What is the basic unit of life and what does t...</td>\n",
       "      <td>True</td>\n",
       "      <td>0.800000</td>\n",
       "      <td>llm_ratings</td>\n",
       "    </tr>\n",
       "    <tr>\n",
       "      <th>3</th>\n",
       "      <td>gpt-3.5-turbo-0301</td>\n",
       "      <td>What is the powerhouse of the cell and how doe...</td>\n",
       "      <td>True</td>\n",
       "      <td>0.900000</td>\n",
       "      <td>llm_ratings</td>\n",
       "    </tr>\n",
       "    <tr>\n",
       "      <th>4</th>\n",
       "      <td>gpt-3.5-turbo-0301</td>\n",
       "      <td>What particle stabilizes the membrane of hover...</td>\n",
       "      <td>False</td>\n",
       "      <td>0.000000</td>\n",
       "      <td>llm_ratings</td>\n",
       "    </tr>\n",
       "    <tr>\n",
       "      <th>5</th>\n",
       "      <td>gpt-3.5-turbo-0301</td>\n",
       "      <td>Which organelle contains the cell's futurogeni...</td>\n",
       "      <td>False</td>\n",
       "      <td>0.100000</td>\n",
       "      <td>llm_ratings</td>\n",
       "    </tr>\n",
       "    <tr>\n",
       "      <th>6</th>\n",
       "      <td>gpt-3.5-turbo-0301</td>\n",
       "      <td>How do astroflora perform photosynthesis in lo...</td>\n",
       "      <td>False</td>\n",
       "      <td>0.363636</td>\n",
       "      <td>keyword_scores</td>\n",
       "    </tr>\n",
       "    <tr>\n",
       "      <th>7</th>\n",
       "      <td>gpt-3.5-turbo-0301</td>\n",
       "      <td>What do genes consist of and how do they work?</td>\n",
       "      <td>True</td>\n",
       "      <td>0.461538</td>\n",
       "      <td>keyword_scores</td>\n",
       "    </tr>\n",
       "    <tr>\n",
       "      <th>8</th>\n",
       "      <td>gpt-3.5-turbo-0301</td>\n",
       "      <td>What is the basic unit of life and what does t...</td>\n",
       "      <td>True</td>\n",
       "      <td>0.266667</td>\n",
       "      <td>keyword_scores</td>\n",
       "    </tr>\n",
       "    <tr>\n",
       "      <th>9</th>\n",
       "      <td>gpt-3.5-turbo-0301</td>\n",
       "      <td>What is the powerhouse of the cell and how doe...</td>\n",
       "      <td>True</td>\n",
       "      <td>0.428571</td>\n",
       "      <td>keyword_scores</td>\n",
       "    </tr>\n",
       "    <tr>\n",
       "      <th>10</th>\n",
       "      <td>gpt-3.5-turbo-0301</td>\n",
       "      <td>What particle stabilizes the membrane of hover...</td>\n",
       "      <td>False</td>\n",
       "      <td>0.111111</td>\n",
       "      <td>keyword_scores</td>\n",
       "    </tr>\n",
       "    <tr>\n",
       "      <th>11</th>\n",
       "      <td>gpt-3.5-turbo-0301</td>\n",
       "      <td>Which organelle contains the cell's futurogeni...</td>\n",
       "      <td>False</td>\n",
       "      <td>0.000000</td>\n",
       "      <td>keyword_scores</td>\n",
       "    </tr>\n",
       "    <tr>\n",
       "      <th>12</th>\n",
       "      <td>gpt-3.5-turbo-0301</td>\n",
       "      <td>How do astroflora perform photosynthesis in lo...</td>\n",
       "      <td>False</td>\n",
       "      <td>0.814272</td>\n",
       "      <td>similarity_scores</td>\n",
       "    </tr>\n",
       "    <tr>\n",
       "      <th>13</th>\n",
       "      <td>gpt-3.5-turbo-0301</td>\n",
       "      <td>What do genes consist of and how do they work?</td>\n",
       "      <td>True</td>\n",
       "      <td>0.837910</td>\n",
       "      <td>similarity_scores</td>\n",
       "    </tr>\n",
       "    <tr>\n",
       "      <th>14</th>\n",
       "      <td>gpt-3.5-turbo-0301</td>\n",
       "      <td>What is the basic unit of life and what does t...</td>\n",
       "      <td>True</td>\n",
       "      <td>0.922272</td>\n",
       "      <td>similarity_scores</td>\n",
       "    </tr>\n",
       "    <tr>\n",
       "      <th>15</th>\n",
       "      <td>gpt-3.5-turbo-0301</td>\n",
       "      <td>What is the powerhouse of the cell and how doe...</td>\n",
       "      <td>True</td>\n",
       "      <td>0.868904</td>\n",
       "      <td>similarity_scores</td>\n",
       "    </tr>\n",
       "    <tr>\n",
       "      <th>16</th>\n",
       "      <td>gpt-3.5-turbo-0301</td>\n",
       "      <td>What particle stabilizes the membrane of hover...</td>\n",
       "      <td>False</td>\n",
       "      <td>0.470651</td>\n",
       "      <td>similarity_scores</td>\n",
       "    </tr>\n",
       "    <tr>\n",
       "      <th>17</th>\n",
       "      <td>gpt-3.5-turbo-0301</td>\n",
       "      <td>Which organelle contains the cell's futurogeni...</td>\n",
       "      <td>False</td>\n",
       "      <td>0.440708</td>\n",
       "      <td>similarity_scores</td>\n",
       "    </tr>\n",
       "  </tbody>\n",
       "</table>\n",
       "</div>"
      ],
      "text/plain": [
       "                 model                                    original_prompt  \\\n",
       "0   gpt-3.5-turbo-0301  How do astroflora perform photosynthesis in lo...   \n",
       "1   gpt-3.5-turbo-0301     What do genes consist of and how do they work?   \n",
       "2   gpt-3.5-turbo-0301  What is the basic unit of life and what does t...   \n",
       "3   gpt-3.5-turbo-0301  What is the powerhouse of the cell and how doe...   \n",
       "4   gpt-3.5-turbo-0301  What particle stabilizes the membrane of hover...   \n",
       "5   gpt-3.5-turbo-0301  Which organelle contains the cell's futurogeni...   \n",
       "6   gpt-3.5-turbo-0301  How do astroflora perform photosynthesis in lo...   \n",
       "7   gpt-3.5-turbo-0301     What do genes consist of and how do they work?   \n",
       "8   gpt-3.5-turbo-0301  What is the basic unit of life and what does t...   \n",
       "9   gpt-3.5-turbo-0301  What is the powerhouse of the cell and how doe...   \n",
       "10  gpt-3.5-turbo-0301  What particle stabilizes the membrane of hover...   \n",
       "11  gpt-3.5-turbo-0301  Which organelle contains the cell's futurogeni...   \n",
       "12  gpt-3.5-turbo-0301  How do astroflora perform photosynthesis in lo...   \n",
       "13  gpt-3.5-turbo-0301     What do genes consist of and how do they work?   \n",
       "14  gpt-3.5-turbo-0301  What is the basic unit of life and what does t...   \n",
       "15  gpt-3.5-turbo-0301  What is the powerhouse of the cell and how doe...   \n",
       "16  gpt-3.5-turbo-0301  What particle stabilizes the membrane of hover...   \n",
       "17  gpt-3.5-turbo-0301  Which organelle contains the cell's futurogeni...   \n",
       "\n",
       "    true_or_false     score             method  \n",
       "0           False  0.700000        llm_ratings  \n",
       "1            True  0.800000        llm_ratings  \n",
       "2            True  0.800000        llm_ratings  \n",
       "3            True  0.900000        llm_ratings  \n",
       "4           False  0.000000        llm_ratings  \n",
       "5           False  0.100000        llm_ratings  \n",
       "6           False  0.363636     keyword_scores  \n",
       "7            True  0.461538     keyword_scores  \n",
       "8            True  0.266667     keyword_scores  \n",
       "9            True  0.428571     keyword_scores  \n",
       "10          False  0.111111     keyword_scores  \n",
       "11          False  0.000000     keyword_scores  \n",
       "12          False  0.814272  similarity_scores  \n",
       "13           True  0.837910  similarity_scores  \n",
       "14           True  0.922272  similarity_scores  \n",
       "15           True  0.868904  similarity_scores  \n",
       "16          False  0.470651  similarity_scores  \n",
       "17          False  0.440708  similarity_scores  "
      ]
     },
     "execution_count": 26,
     "metadata": {},
     "output_type": "execute_result"
    }
   ],
   "source": [
    "def aggregate_all_best(df, methods):\n",
    "    print(\"Starting aggregation...\")  # Debugging print\n",
    "    aggregated_dfs = []\n",
    "\n",
    "    for method in methods:\n",
    "        print(f\"Aggregating method: {method}\")  # Debugging print\n",
    "        if method not in df.columns:\n",
    "            print(f\"Warning: Column '{method}' not found in DataFrame\")  # Debugging print\n",
    "            continue\n",
    "\n",
    "        df_method_best = df.loc[df.groupby(['model', 'original_prompt'])[method].idxmax()]\n",
    "        df_method_best = df_method_best[['model', 'original_prompt', 'true_or_false', method]]\n",
    "        df_method_best.rename(columns={method: 'score'}, inplace=True)\n",
    "        df_method_best['method'] = method\n",
    "        aggregated_dfs.append(df_method_best)\n",
    "\n",
    "    df_best_scores = pd.concat(aggregated_dfs, ignore_index=True)\n",
    "    return df_best_scores\n",
    "\n",
    "# Then call the function\n",
    "methods = ['llm_ratings', 'keyword_scores', 'similarity_scores']\n",
    "df_best_scores = aggregate_all_best(df_responses, methods)\n",
    "df_best_scores"
   ]
  },
  {
   "cell_type": "markdown",
   "metadata": {},
   "source": []
  },
  {
   "cell_type": "code",
   "execution_count": 28,
   "metadata": {},
   "outputs": [
    {
     "data": {
      "application/vnd.plotly.v1+json": {
       "config": {
        "plotlyServerURL": "https://plot.ly"
       },
       "data": [
        {
         "customdata": [
          [
           "How do astroflora perform photosynthesis in low light?"
          ],
          [
           "What particle stabilizes the membrane of hover frogs and how?"
          ],
          [
           "Which organelle contains the cell's futurogenic material and how does it work?"
          ],
          [
           "How do astroflora perform photosynthesis in low light?"
          ],
          [
           "What particle stabilizes the membrane of hover frogs and how?"
          ],
          [
           "Which organelle contains the cell's futurogenic material and how does it work?"
          ],
          [
           "How do astroflora perform photosynthesis in low light?"
          ],
          [
           "What particle stabilizes the membrane of hover frogs and how?"
          ],
          [
           "Which organelle contains the cell's futurogenic material and how does it work?"
          ]
         ],
         "hovertemplate": "true_or_false=False<br>model=gpt-3.5-turbo-0301<br>method=%{x}<br>score=%{y}<br>count=%{marker.size}<br>original_prompt=%{customdata[0]}<extra></extra>",
         "legendgroup": "False",
         "marker": {
          "color": "#00cc96",
          "size": [
           1,
           1,
           1,
           1,
           1,
           1,
           1,
           1,
           1
          ],
          "sizemode": "area",
          "sizeref": 0.008888888888888889,
          "symbol": "circle"
         },
         "mode": "markers",
         "name": "False",
         "orientation": "v",
         "showlegend": true,
         "type": "scatter",
         "x": [
          "llm_ratings",
          "llm_ratings",
          "llm_ratings",
          "keyword_scores",
          "keyword_scores",
          "keyword_scores",
          "similarity_scores",
          "similarity_scores",
          "similarity_scores"
         ],
         "xaxis": "x",
         "y": [
          0.7,
          0,
          0.1,
          0.36363636363636365,
          0.1111111111111111,
          0,
          0.8142715692520142,
          0.47065070271492004,
          0.44070783257484436
         ],
         "yaxis": "y"
        },
        {
         "customdata": [
          [
           "What do genes consist of and how do they work?"
          ],
          [
           "What is the basic unit of life and what does this mean?"
          ],
          [
           "What is the powerhouse of the cell and how does it work?"
          ],
          [
           "What do genes consist of and how do they work?"
          ],
          [
           "What is the basic unit of life and what does this mean?"
          ],
          [
           "What is the powerhouse of the cell and how does it work?"
          ],
          [
           "What do genes consist of and how do they work?"
          ],
          [
           "What is the basic unit of life and what does this mean?"
          ],
          [
           "What is the powerhouse of the cell and how does it work?"
          ]
         ],
         "hovertemplate": "true_or_false=True<br>model=gpt-3.5-turbo-0301<br>method=%{x}<br>score=%{y}<br>count=%{marker.size}<br>original_prompt=%{customdata[0]}<extra></extra>",
         "legendgroup": "True",
         "marker": {
          "color": "#ab63fa",
          "size": [
           2,
           2,
           1,
           1,
           1,
           1,
           1,
           1,
           1
          ],
          "sizemode": "area",
          "sizeref": 0.008888888888888889,
          "symbol": "circle"
         },
         "mode": "markers",
         "name": "True",
         "orientation": "v",
         "showlegend": true,
         "type": "scatter",
         "x": [
          "llm_ratings",
          "llm_ratings",
          "llm_ratings",
          "keyword_scores",
          "keyword_scores",
          "keyword_scores",
          "similarity_scores",
          "similarity_scores",
          "similarity_scores"
         ],
         "xaxis": "x",
         "y": [
          0.8,
          0.8,
          0.9,
          0.46153846153846156,
          0.26666666666666666,
          0.42857142857142855,
          0.8379098176956177,
          0.9222719669342041,
          0.8689042925834656
         ],
         "yaxis": "y"
        }
       ],
       "layout": {
        "annotations": [
         {
          "font": {},
          "showarrow": false,
          "text": "model=gpt-3.5-turbo-0301",
          "x": 0.5,
          "xanchor": "center",
          "xref": "paper",
          "y": 1,
          "yanchor": "bottom",
          "yref": "paper"
         }
        ],
        "legend": {
         "itemsizing": "constant",
         "title": {
          "text": "True or False"
         },
         "tracegroupgap": 0
        },
        "margin": {
         "t": 60
        },
        "template": {
         "data": {
          "bar": [
           {
            "error_x": {
             "color": "#2a3f5f"
            },
            "error_y": {
             "color": "#2a3f5f"
            },
            "marker": {
             "line": {
              "color": "#E5ECF6",
              "width": 0.5
             },
             "pattern": {
              "fillmode": "overlay",
              "size": 10,
              "solidity": 0.2
             }
            },
            "type": "bar"
           }
          ],
          "barpolar": [
           {
            "marker": {
             "line": {
              "color": "#E5ECF6",
              "width": 0.5
             },
             "pattern": {
              "fillmode": "overlay",
              "size": 10,
              "solidity": 0.2
             }
            },
            "type": "barpolar"
           }
          ],
          "carpet": [
           {
            "aaxis": {
             "endlinecolor": "#2a3f5f",
             "gridcolor": "white",
             "linecolor": "white",
             "minorgridcolor": "white",
             "startlinecolor": "#2a3f5f"
            },
            "baxis": {
             "endlinecolor": "#2a3f5f",
             "gridcolor": "white",
             "linecolor": "white",
             "minorgridcolor": "white",
             "startlinecolor": "#2a3f5f"
            },
            "type": "carpet"
           }
          ],
          "choropleth": [
           {
            "colorbar": {
             "outlinewidth": 0,
             "ticks": ""
            },
            "type": "choropleth"
           }
          ],
          "contour": [
           {
            "colorbar": {
             "outlinewidth": 0,
             "ticks": ""
            },
            "colorscale": [
             [
              0,
              "#0d0887"
             ],
             [
              0.1111111111111111,
              "#46039f"
             ],
             [
              0.2222222222222222,
              "#7201a8"
             ],
             [
              0.3333333333333333,
              "#9c179e"
             ],
             [
              0.4444444444444444,
              "#bd3786"
             ],
             [
              0.5555555555555556,
              "#d8576b"
             ],
             [
              0.6666666666666666,
              "#ed7953"
             ],
             [
              0.7777777777777778,
              "#fb9f3a"
             ],
             [
              0.8888888888888888,
              "#fdca26"
             ],
             [
              1,
              "#f0f921"
             ]
            ],
            "type": "contour"
           }
          ],
          "contourcarpet": [
           {
            "colorbar": {
             "outlinewidth": 0,
             "ticks": ""
            },
            "type": "contourcarpet"
           }
          ],
          "heatmap": [
           {
            "colorbar": {
             "outlinewidth": 0,
             "ticks": ""
            },
            "colorscale": [
             [
              0,
              "#0d0887"
             ],
             [
              0.1111111111111111,
              "#46039f"
             ],
             [
              0.2222222222222222,
              "#7201a8"
             ],
             [
              0.3333333333333333,
              "#9c179e"
             ],
             [
              0.4444444444444444,
              "#bd3786"
             ],
             [
              0.5555555555555556,
              "#d8576b"
             ],
             [
              0.6666666666666666,
              "#ed7953"
             ],
             [
              0.7777777777777778,
              "#fb9f3a"
             ],
             [
              0.8888888888888888,
              "#fdca26"
             ],
             [
              1,
              "#f0f921"
             ]
            ],
            "type": "heatmap"
           }
          ],
          "heatmapgl": [
           {
            "colorbar": {
             "outlinewidth": 0,
             "ticks": ""
            },
            "colorscale": [
             [
              0,
              "#0d0887"
             ],
             [
              0.1111111111111111,
              "#46039f"
             ],
             [
              0.2222222222222222,
              "#7201a8"
             ],
             [
              0.3333333333333333,
              "#9c179e"
             ],
             [
              0.4444444444444444,
              "#bd3786"
             ],
             [
              0.5555555555555556,
              "#d8576b"
             ],
             [
              0.6666666666666666,
              "#ed7953"
             ],
             [
              0.7777777777777778,
              "#fb9f3a"
             ],
             [
              0.8888888888888888,
              "#fdca26"
             ],
             [
              1,
              "#f0f921"
             ]
            ],
            "type": "heatmapgl"
           }
          ],
          "histogram": [
           {
            "marker": {
             "pattern": {
              "fillmode": "overlay",
              "size": 10,
              "solidity": 0.2
             }
            },
            "type": "histogram"
           }
          ],
          "histogram2d": [
           {
            "colorbar": {
             "outlinewidth": 0,
             "ticks": ""
            },
            "colorscale": [
             [
              0,
              "#0d0887"
             ],
             [
              0.1111111111111111,
              "#46039f"
             ],
             [
              0.2222222222222222,
              "#7201a8"
             ],
             [
              0.3333333333333333,
              "#9c179e"
             ],
             [
              0.4444444444444444,
              "#bd3786"
             ],
             [
              0.5555555555555556,
              "#d8576b"
             ],
             [
              0.6666666666666666,
              "#ed7953"
             ],
             [
              0.7777777777777778,
              "#fb9f3a"
             ],
             [
              0.8888888888888888,
              "#fdca26"
             ],
             [
              1,
              "#f0f921"
             ]
            ],
            "type": "histogram2d"
           }
          ],
          "histogram2dcontour": [
           {
            "colorbar": {
             "outlinewidth": 0,
             "ticks": ""
            },
            "colorscale": [
             [
              0,
              "#0d0887"
             ],
             [
              0.1111111111111111,
              "#46039f"
             ],
             [
              0.2222222222222222,
              "#7201a8"
             ],
             [
              0.3333333333333333,
              "#9c179e"
             ],
             [
              0.4444444444444444,
              "#bd3786"
             ],
             [
              0.5555555555555556,
              "#d8576b"
             ],
             [
              0.6666666666666666,
              "#ed7953"
             ],
             [
              0.7777777777777778,
              "#fb9f3a"
             ],
             [
              0.8888888888888888,
              "#fdca26"
             ],
             [
              1,
              "#f0f921"
             ]
            ],
            "type": "histogram2dcontour"
           }
          ],
          "mesh3d": [
           {
            "colorbar": {
             "outlinewidth": 0,
             "ticks": ""
            },
            "type": "mesh3d"
           }
          ],
          "parcoords": [
           {
            "line": {
             "colorbar": {
              "outlinewidth": 0,
              "ticks": ""
             }
            },
            "type": "parcoords"
           }
          ],
          "pie": [
           {
            "automargin": true,
            "type": "pie"
           }
          ],
          "scatter": [
           {
            "fillpattern": {
             "fillmode": "overlay",
             "size": 10,
             "solidity": 0.2
            },
            "type": "scatter"
           }
          ],
          "scatter3d": [
           {
            "line": {
             "colorbar": {
              "outlinewidth": 0,
              "ticks": ""
             }
            },
            "marker": {
             "colorbar": {
              "outlinewidth": 0,
              "ticks": ""
             }
            },
            "type": "scatter3d"
           }
          ],
          "scattercarpet": [
           {
            "marker": {
             "colorbar": {
              "outlinewidth": 0,
              "ticks": ""
             }
            },
            "type": "scattercarpet"
           }
          ],
          "scattergeo": [
           {
            "marker": {
             "colorbar": {
              "outlinewidth": 0,
              "ticks": ""
             }
            },
            "type": "scattergeo"
           }
          ],
          "scattergl": [
           {
            "marker": {
             "colorbar": {
              "outlinewidth": 0,
              "ticks": ""
             }
            },
            "type": "scattergl"
           }
          ],
          "scattermapbox": [
           {
            "marker": {
             "colorbar": {
              "outlinewidth": 0,
              "ticks": ""
             }
            },
            "type": "scattermapbox"
           }
          ],
          "scatterpolar": [
           {
            "marker": {
             "colorbar": {
              "outlinewidth": 0,
              "ticks": ""
             }
            },
            "type": "scatterpolar"
           }
          ],
          "scatterpolargl": [
           {
            "marker": {
             "colorbar": {
              "outlinewidth": 0,
              "ticks": ""
             }
            },
            "type": "scatterpolargl"
           }
          ],
          "scatterternary": [
           {
            "marker": {
             "colorbar": {
              "outlinewidth": 0,
              "ticks": ""
             }
            },
            "type": "scatterternary"
           }
          ],
          "surface": [
           {
            "colorbar": {
             "outlinewidth": 0,
             "ticks": ""
            },
            "colorscale": [
             [
              0,
              "#0d0887"
             ],
             [
              0.1111111111111111,
              "#46039f"
             ],
             [
              0.2222222222222222,
              "#7201a8"
             ],
             [
              0.3333333333333333,
              "#9c179e"
             ],
             [
              0.4444444444444444,
              "#bd3786"
             ],
             [
              0.5555555555555556,
              "#d8576b"
             ],
             [
              0.6666666666666666,
              "#ed7953"
             ],
             [
              0.7777777777777778,
              "#fb9f3a"
             ],
             [
              0.8888888888888888,
              "#fdca26"
             ],
             [
              1,
              "#f0f921"
             ]
            ],
            "type": "surface"
           }
          ],
          "table": [
           {
            "cells": {
             "fill": {
              "color": "#EBF0F8"
             },
             "line": {
              "color": "white"
             }
            },
            "header": {
             "fill": {
              "color": "#C8D4E3"
             },
             "line": {
              "color": "white"
             }
            },
            "type": "table"
           }
          ]
         },
         "layout": {
          "annotationdefaults": {
           "arrowcolor": "#2a3f5f",
           "arrowhead": 0,
           "arrowwidth": 1
          },
          "autotypenumbers": "strict",
          "coloraxis": {
           "colorbar": {
            "outlinewidth": 0,
            "ticks": ""
           }
          },
          "colorscale": {
           "diverging": [
            [
             0,
             "#8e0152"
            ],
            [
             0.1,
             "#c51b7d"
            ],
            [
             0.2,
             "#de77ae"
            ],
            [
             0.3,
             "#f1b6da"
            ],
            [
             0.4,
             "#fde0ef"
            ],
            [
             0.5,
             "#f7f7f7"
            ],
            [
             0.6,
             "#e6f5d0"
            ],
            [
             0.7,
             "#b8e186"
            ],
            [
             0.8,
             "#7fbc41"
            ],
            [
             0.9,
             "#4d9221"
            ],
            [
             1,
             "#276419"
            ]
           ],
           "sequential": [
            [
             0,
             "#0d0887"
            ],
            [
             0.1111111111111111,
             "#46039f"
            ],
            [
             0.2222222222222222,
             "#7201a8"
            ],
            [
             0.3333333333333333,
             "#9c179e"
            ],
            [
             0.4444444444444444,
             "#bd3786"
            ],
            [
             0.5555555555555556,
             "#d8576b"
            ],
            [
             0.6666666666666666,
             "#ed7953"
            ],
            [
             0.7777777777777778,
             "#fb9f3a"
            ],
            [
             0.8888888888888888,
             "#fdca26"
            ],
            [
             1,
             "#f0f921"
            ]
           ],
           "sequentialminus": [
            [
             0,
             "#0d0887"
            ],
            [
             0.1111111111111111,
             "#46039f"
            ],
            [
             0.2222222222222222,
             "#7201a8"
            ],
            [
             0.3333333333333333,
             "#9c179e"
            ],
            [
             0.4444444444444444,
             "#bd3786"
            ],
            [
             0.5555555555555556,
             "#d8576b"
            ],
            [
             0.6666666666666666,
             "#ed7953"
            ],
            [
             0.7777777777777778,
             "#fb9f3a"
            ],
            [
             0.8888888888888888,
             "#fdca26"
            ],
            [
             1,
             "#f0f921"
            ]
           ]
          },
          "colorway": [
           "#636efa",
           "#EF553B",
           "#00cc96",
           "#ab63fa",
           "#FFA15A",
           "#19d3f3",
           "#FF6692",
           "#B6E880",
           "#FF97FF",
           "#FECB52"
          ],
          "font": {
           "color": "#2a3f5f"
          },
          "geo": {
           "bgcolor": "white",
           "lakecolor": "white",
           "landcolor": "#E5ECF6",
           "showlakes": true,
           "showland": true,
           "subunitcolor": "white"
          },
          "hoverlabel": {
           "align": "left"
          },
          "hovermode": "closest",
          "mapbox": {
           "style": "light"
          },
          "paper_bgcolor": "white",
          "plot_bgcolor": "#E5ECF6",
          "polar": {
           "angularaxis": {
            "gridcolor": "white",
            "linecolor": "white",
            "ticks": ""
           },
           "bgcolor": "#E5ECF6",
           "radialaxis": {
            "gridcolor": "white",
            "linecolor": "white",
            "ticks": ""
           }
          },
          "scene": {
           "xaxis": {
            "backgroundcolor": "#E5ECF6",
            "gridcolor": "white",
            "gridwidth": 2,
            "linecolor": "white",
            "showbackground": true,
            "ticks": "",
            "zerolinecolor": "white"
           },
           "yaxis": {
            "backgroundcolor": "#E5ECF6",
            "gridcolor": "white",
            "gridwidth": 2,
            "linecolor": "white",
            "showbackground": true,
            "ticks": "",
            "zerolinecolor": "white"
           },
           "zaxis": {
            "backgroundcolor": "#E5ECF6",
            "gridcolor": "white",
            "gridwidth": 2,
            "linecolor": "white",
            "showbackground": true,
            "ticks": "",
            "zerolinecolor": "white"
           }
          },
          "shapedefaults": {
           "line": {
            "color": "#2a3f5f"
           }
          },
          "ternary": {
           "aaxis": {
            "gridcolor": "white",
            "linecolor": "white",
            "ticks": ""
           },
           "baxis": {
            "gridcolor": "white",
            "linecolor": "white",
            "ticks": ""
           },
           "bgcolor": "#E5ECF6",
           "caxis": {
            "gridcolor": "white",
            "linecolor": "white",
            "ticks": ""
           }
          },
          "title": {
           "x": 0.05
          },
          "xaxis": {
           "automargin": true,
           "gridcolor": "white",
           "linecolor": "white",
           "ticks": "",
           "title": {
            "standoff": 15
           },
           "zerolinecolor": "white",
           "zerolinewidth": 2
          },
          "yaxis": {
           "automargin": true,
           "gridcolor": "white",
           "linecolor": "white",
           "ticks": "",
           "title": {
            "standoff": 15
           },
           "zerolinecolor": "white",
           "zerolinewidth": 2
          }
         }
        },
        "title": {
         "text": "Comparison of Evaluation Methods for True vs False Prompts"
        },
        "xaxis": {
         "anchor": "y",
         "domain": [
          0,
          1
         ],
         "title": {
          "text": "Method"
         }
        },
        "yaxis": {
         "anchor": "x",
         "domain": [
          0,
          1
         ],
         "title": {
          "text": "Score"
         }
        }
       }
      },
      "text/html": [
       "<div>                            <div id=\"e19899d5-edf3-4425-8891-5813789c33aa\" class=\"plotly-graph-div\" style=\"height:525px; width:100%;\"></div>            <script type=\"text/javascript\">                require([\"plotly\"], function(Plotly) {                    window.PLOTLYENV=window.PLOTLYENV || {};                                    if (document.getElementById(\"e19899d5-edf3-4425-8891-5813789c33aa\")) {                    Plotly.newPlot(                        \"e19899d5-edf3-4425-8891-5813789c33aa\",                        [{\"customdata\":[[\"How do astroflora perform photosynthesis in low light?\"],[\"What particle stabilizes the membrane of hover frogs and how?\"],[\"Which organelle contains the cell's futurogenic material and how does it work?\"],[\"How do astroflora perform photosynthesis in low light?\"],[\"What particle stabilizes the membrane of hover frogs and how?\"],[\"Which organelle contains the cell's futurogenic material and how does it work?\"],[\"How do astroflora perform photosynthesis in low light?\"],[\"What particle stabilizes the membrane of hover frogs and how?\"],[\"Which organelle contains the cell's futurogenic material and how does it work?\"]],\"hovertemplate\":\"true_or_false=False\\u003cbr\\u003emodel=gpt-3.5-turbo-0301\\u003cbr\\u003emethod=%{x}\\u003cbr\\u003escore=%{y}\\u003cbr\\u003ecount=%{marker.size}\\u003cbr\\u003eoriginal_prompt=%{customdata[0]}\\u003cextra\\u003e\\u003c\\u002fextra\\u003e\",\"legendgroup\":\"False\",\"marker\":{\"color\":\"#00cc96\",\"size\":[1,1,1,1,1,1,1,1,1],\"sizemode\":\"area\",\"sizeref\":0.008888888888888889,\"symbol\":\"circle\"},\"mode\":\"markers\",\"name\":\"False\",\"orientation\":\"v\",\"showlegend\":true,\"x\":[\"llm_ratings\",\"llm_ratings\",\"llm_ratings\",\"keyword_scores\",\"keyword_scores\",\"keyword_scores\",\"similarity_scores\",\"similarity_scores\",\"similarity_scores\"],\"xaxis\":\"x\",\"y\":[0.7,0.0,0.1,0.36363636363636365,0.1111111111111111,0.0,0.8142715692520142,0.47065070271492004,0.44070783257484436],\"yaxis\":\"y\",\"type\":\"scatter\"},{\"customdata\":[[\"What do genes consist of and how do they work?\"],[\"What is the basic unit of life and what does this mean?\"],[\"What is the powerhouse of the cell and how does it work?\"],[\"What do genes consist of and how do they work?\"],[\"What is the basic unit of life and what does this mean?\"],[\"What is the powerhouse of the cell and how does it work?\"],[\"What do genes consist of and how do they work?\"],[\"What is the basic unit of life and what does this mean?\"],[\"What is the powerhouse of the cell and how does it work?\"]],\"hovertemplate\":\"true_or_false=True\\u003cbr\\u003emodel=gpt-3.5-turbo-0301\\u003cbr\\u003emethod=%{x}\\u003cbr\\u003escore=%{y}\\u003cbr\\u003ecount=%{marker.size}\\u003cbr\\u003eoriginal_prompt=%{customdata[0]}\\u003cextra\\u003e\\u003c\\u002fextra\\u003e\",\"legendgroup\":\"True\",\"marker\":{\"color\":\"#ab63fa\",\"size\":[2,2,1,1,1,1,1,1,1],\"sizemode\":\"area\",\"sizeref\":0.008888888888888889,\"symbol\":\"circle\"},\"mode\":\"markers\",\"name\":\"True\",\"orientation\":\"v\",\"showlegend\":true,\"x\":[\"llm_ratings\",\"llm_ratings\",\"llm_ratings\",\"keyword_scores\",\"keyword_scores\",\"keyword_scores\",\"similarity_scores\",\"similarity_scores\",\"similarity_scores\"],\"xaxis\":\"x\",\"y\":[0.8,0.8,0.9,0.46153846153846156,0.26666666666666666,0.42857142857142855,0.8379098176956177,0.9222719669342041,0.8689042925834656],\"yaxis\":\"y\",\"type\":\"scatter\"}],                        {\"template\":{\"data\":{\"histogram2dcontour\":[{\"type\":\"histogram2dcontour\",\"colorbar\":{\"outlinewidth\":0,\"ticks\":\"\"},\"colorscale\":[[0.0,\"#0d0887\"],[0.1111111111111111,\"#46039f\"],[0.2222222222222222,\"#7201a8\"],[0.3333333333333333,\"#9c179e\"],[0.4444444444444444,\"#bd3786\"],[0.5555555555555556,\"#d8576b\"],[0.6666666666666666,\"#ed7953\"],[0.7777777777777778,\"#fb9f3a\"],[0.8888888888888888,\"#fdca26\"],[1.0,\"#f0f921\"]]}],\"choropleth\":[{\"type\":\"choropleth\",\"colorbar\":{\"outlinewidth\":0,\"ticks\":\"\"}}],\"histogram2d\":[{\"type\":\"histogram2d\",\"colorbar\":{\"outlinewidth\":0,\"ticks\":\"\"},\"colorscale\":[[0.0,\"#0d0887\"],[0.1111111111111111,\"#46039f\"],[0.2222222222222222,\"#7201a8\"],[0.3333333333333333,\"#9c179e\"],[0.4444444444444444,\"#bd3786\"],[0.5555555555555556,\"#d8576b\"],[0.6666666666666666,\"#ed7953\"],[0.7777777777777778,\"#fb9f3a\"],[0.8888888888888888,\"#fdca26\"],[1.0,\"#f0f921\"]]}],\"heatmap\":[{\"type\":\"heatmap\",\"colorbar\":{\"outlinewidth\":0,\"ticks\":\"\"},\"colorscale\":[[0.0,\"#0d0887\"],[0.1111111111111111,\"#46039f\"],[0.2222222222222222,\"#7201a8\"],[0.3333333333333333,\"#9c179e\"],[0.4444444444444444,\"#bd3786\"],[0.5555555555555556,\"#d8576b\"],[0.6666666666666666,\"#ed7953\"],[0.7777777777777778,\"#fb9f3a\"],[0.8888888888888888,\"#fdca26\"],[1.0,\"#f0f921\"]]}],\"heatmapgl\":[{\"type\":\"heatmapgl\",\"colorbar\":{\"outlinewidth\":0,\"ticks\":\"\"},\"colorscale\":[[0.0,\"#0d0887\"],[0.1111111111111111,\"#46039f\"],[0.2222222222222222,\"#7201a8\"],[0.3333333333333333,\"#9c179e\"],[0.4444444444444444,\"#bd3786\"],[0.5555555555555556,\"#d8576b\"],[0.6666666666666666,\"#ed7953\"],[0.7777777777777778,\"#fb9f3a\"],[0.8888888888888888,\"#fdca26\"],[1.0,\"#f0f921\"]]}],\"contourcarpet\":[{\"type\":\"contourcarpet\",\"colorbar\":{\"outlinewidth\":0,\"ticks\":\"\"}}],\"contour\":[{\"type\":\"contour\",\"colorbar\":{\"outlinewidth\":0,\"ticks\":\"\"},\"colorscale\":[[0.0,\"#0d0887\"],[0.1111111111111111,\"#46039f\"],[0.2222222222222222,\"#7201a8\"],[0.3333333333333333,\"#9c179e\"],[0.4444444444444444,\"#bd3786\"],[0.5555555555555556,\"#d8576b\"],[0.6666666666666666,\"#ed7953\"],[0.7777777777777778,\"#fb9f3a\"],[0.8888888888888888,\"#fdca26\"],[1.0,\"#f0f921\"]]}],\"surface\":[{\"type\":\"surface\",\"colorbar\":{\"outlinewidth\":0,\"ticks\":\"\"},\"colorscale\":[[0.0,\"#0d0887\"],[0.1111111111111111,\"#46039f\"],[0.2222222222222222,\"#7201a8\"],[0.3333333333333333,\"#9c179e\"],[0.4444444444444444,\"#bd3786\"],[0.5555555555555556,\"#d8576b\"],[0.6666666666666666,\"#ed7953\"],[0.7777777777777778,\"#fb9f3a\"],[0.8888888888888888,\"#fdca26\"],[1.0,\"#f0f921\"]]}],\"mesh3d\":[{\"type\":\"mesh3d\",\"colorbar\":{\"outlinewidth\":0,\"ticks\":\"\"}}],\"scatter\":[{\"fillpattern\":{\"fillmode\":\"overlay\",\"size\":10,\"solidity\":0.2},\"type\":\"scatter\"}],\"parcoords\":[{\"type\":\"parcoords\",\"line\":{\"colorbar\":{\"outlinewidth\":0,\"ticks\":\"\"}}}],\"scatterpolargl\":[{\"type\":\"scatterpolargl\",\"marker\":{\"colorbar\":{\"outlinewidth\":0,\"ticks\":\"\"}}}],\"bar\":[{\"error_x\":{\"color\":\"#2a3f5f\"},\"error_y\":{\"color\":\"#2a3f5f\"},\"marker\":{\"line\":{\"color\":\"#E5ECF6\",\"width\":0.5},\"pattern\":{\"fillmode\":\"overlay\",\"size\":10,\"solidity\":0.2}},\"type\":\"bar\"}],\"scattergeo\":[{\"type\":\"scattergeo\",\"marker\":{\"colorbar\":{\"outlinewidth\":0,\"ticks\":\"\"}}}],\"scatterpolar\":[{\"type\":\"scatterpolar\",\"marker\":{\"colorbar\":{\"outlinewidth\":0,\"ticks\":\"\"}}}],\"histogram\":[{\"marker\":{\"pattern\":{\"fillmode\":\"overlay\",\"size\":10,\"solidity\":0.2}},\"type\":\"histogram\"}],\"scattergl\":[{\"type\":\"scattergl\",\"marker\":{\"colorbar\":{\"outlinewidth\":0,\"ticks\":\"\"}}}],\"scatter3d\":[{\"type\":\"scatter3d\",\"line\":{\"colorbar\":{\"outlinewidth\":0,\"ticks\":\"\"}},\"marker\":{\"colorbar\":{\"outlinewidth\":0,\"ticks\":\"\"}}}],\"scattermapbox\":[{\"type\":\"scattermapbox\",\"marker\":{\"colorbar\":{\"outlinewidth\":0,\"ticks\":\"\"}}}],\"scatterternary\":[{\"type\":\"scatterternary\",\"marker\":{\"colorbar\":{\"outlinewidth\":0,\"ticks\":\"\"}}}],\"scattercarpet\":[{\"type\":\"scattercarpet\",\"marker\":{\"colorbar\":{\"outlinewidth\":0,\"ticks\":\"\"}}}],\"carpet\":[{\"aaxis\":{\"endlinecolor\":\"#2a3f5f\",\"gridcolor\":\"white\",\"linecolor\":\"white\",\"minorgridcolor\":\"white\",\"startlinecolor\":\"#2a3f5f\"},\"baxis\":{\"endlinecolor\":\"#2a3f5f\",\"gridcolor\":\"white\",\"linecolor\":\"white\",\"minorgridcolor\":\"white\",\"startlinecolor\":\"#2a3f5f\"},\"type\":\"carpet\"}],\"table\":[{\"cells\":{\"fill\":{\"color\":\"#EBF0F8\"},\"line\":{\"color\":\"white\"}},\"header\":{\"fill\":{\"color\":\"#C8D4E3\"},\"line\":{\"color\":\"white\"}},\"type\":\"table\"}],\"barpolar\":[{\"marker\":{\"line\":{\"color\":\"#E5ECF6\",\"width\":0.5},\"pattern\":{\"fillmode\":\"overlay\",\"size\":10,\"solidity\":0.2}},\"type\":\"barpolar\"}],\"pie\":[{\"automargin\":true,\"type\":\"pie\"}]},\"layout\":{\"autotypenumbers\":\"strict\",\"colorway\":[\"#636efa\",\"#EF553B\",\"#00cc96\",\"#ab63fa\",\"#FFA15A\",\"#19d3f3\",\"#FF6692\",\"#B6E880\",\"#FF97FF\",\"#FECB52\"],\"font\":{\"color\":\"#2a3f5f\"},\"hovermode\":\"closest\",\"hoverlabel\":{\"align\":\"left\"},\"paper_bgcolor\":\"white\",\"plot_bgcolor\":\"#E5ECF6\",\"polar\":{\"bgcolor\":\"#E5ECF6\",\"angularaxis\":{\"gridcolor\":\"white\",\"linecolor\":\"white\",\"ticks\":\"\"},\"radialaxis\":{\"gridcolor\":\"white\",\"linecolor\":\"white\",\"ticks\":\"\"}},\"ternary\":{\"bgcolor\":\"#E5ECF6\",\"aaxis\":{\"gridcolor\":\"white\",\"linecolor\":\"white\",\"ticks\":\"\"},\"baxis\":{\"gridcolor\":\"white\",\"linecolor\":\"white\",\"ticks\":\"\"},\"caxis\":{\"gridcolor\":\"white\",\"linecolor\":\"white\",\"ticks\":\"\"}},\"coloraxis\":{\"colorbar\":{\"outlinewidth\":0,\"ticks\":\"\"}},\"colorscale\":{\"sequential\":[[0.0,\"#0d0887\"],[0.1111111111111111,\"#46039f\"],[0.2222222222222222,\"#7201a8\"],[0.3333333333333333,\"#9c179e\"],[0.4444444444444444,\"#bd3786\"],[0.5555555555555556,\"#d8576b\"],[0.6666666666666666,\"#ed7953\"],[0.7777777777777778,\"#fb9f3a\"],[0.8888888888888888,\"#fdca26\"],[1.0,\"#f0f921\"]],\"sequentialminus\":[[0.0,\"#0d0887\"],[0.1111111111111111,\"#46039f\"],[0.2222222222222222,\"#7201a8\"],[0.3333333333333333,\"#9c179e\"],[0.4444444444444444,\"#bd3786\"],[0.5555555555555556,\"#d8576b\"],[0.6666666666666666,\"#ed7953\"],[0.7777777777777778,\"#fb9f3a\"],[0.8888888888888888,\"#fdca26\"],[1.0,\"#f0f921\"]],\"diverging\":[[0,\"#8e0152\"],[0.1,\"#c51b7d\"],[0.2,\"#de77ae\"],[0.3,\"#f1b6da\"],[0.4,\"#fde0ef\"],[0.5,\"#f7f7f7\"],[0.6,\"#e6f5d0\"],[0.7,\"#b8e186\"],[0.8,\"#7fbc41\"],[0.9,\"#4d9221\"],[1,\"#276419\"]]},\"xaxis\":{\"gridcolor\":\"white\",\"linecolor\":\"white\",\"ticks\":\"\",\"title\":{\"standoff\":15},\"zerolinecolor\":\"white\",\"automargin\":true,\"zerolinewidth\":2},\"yaxis\":{\"gridcolor\":\"white\",\"linecolor\":\"white\",\"ticks\":\"\",\"title\":{\"standoff\":15},\"zerolinecolor\":\"white\",\"automargin\":true,\"zerolinewidth\":2},\"scene\":{\"xaxis\":{\"backgroundcolor\":\"#E5ECF6\",\"gridcolor\":\"white\",\"linecolor\":\"white\",\"showbackground\":true,\"ticks\":\"\",\"zerolinecolor\":\"white\",\"gridwidth\":2},\"yaxis\":{\"backgroundcolor\":\"#E5ECF6\",\"gridcolor\":\"white\",\"linecolor\":\"white\",\"showbackground\":true,\"ticks\":\"\",\"zerolinecolor\":\"white\",\"gridwidth\":2},\"zaxis\":{\"backgroundcolor\":\"#E5ECF6\",\"gridcolor\":\"white\",\"linecolor\":\"white\",\"showbackground\":true,\"ticks\":\"\",\"zerolinecolor\":\"white\",\"gridwidth\":2}},\"shapedefaults\":{\"line\":{\"color\":\"#2a3f5f\"}},\"annotationdefaults\":{\"arrowcolor\":\"#2a3f5f\",\"arrowhead\":0,\"arrowwidth\":1},\"geo\":{\"bgcolor\":\"white\",\"landcolor\":\"#E5ECF6\",\"subunitcolor\":\"white\",\"showland\":true,\"showlakes\":true,\"lakecolor\":\"white\"},\"title\":{\"x\":0.05},\"mapbox\":{\"style\":\"light\"}}},\"xaxis\":{\"anchor\":\"y\",\"domain\":[0.0,1.0],\"title\":{\"text\":\"Method\"}},\"yaxis\":{\"anchor\":\"x\",\"domain\":[0.0,1.0],\"title\":{\"text\":\"Score\"}},\"annotations\":[{\"font\":{},\"showarrow\":false,\"text\":\"model=gpt-3.5-turbo-0301\",\"x\":0.5,\"xanchor\":\"center\",\"xref\":\"paper\",\"y\":1.0,\"yanchor\":\"bottom\",\"yref\":\"paper\"}],\"legend\":{\"title\":{\"text\":\"True or False\"},\"tracegroupgap\":0,\"itemsizing\":\"constant\"},\"margin\":{\"t\":60},\"title\":{\"text\":\"Comparison of Evaluation Methods for True vs False Prompts\"}},                        {\"responsive\": true}                    ).then(function(){\n",
       "                            \n",
       "var gd = document.getElementById('e19899d5-edf3-4425-8891-5813789c33aa');\n",
       "var x = new MutationObserver(function (mutations, observer) {{\n",
       "        var display = window.getComputedStyle(gd).display;\n",
       "        if (!display || display === 'none') {{\n",
       "            console.log([gd, 'removed!']);\n",
       "            Plotly.purge(gd);\n",
       "            observer.disconnect();\n",
       "        }}\n",
       "}});\n",
       "\n",
       "// Listen for the removal of the full notebook cells\n",
       "var notebookContainer = gd.closest('#notebook-container');\n",
       "if (notebookContainer) {{\n",
       "    x.observe(notebookContainer, {childList: true});\n",
       "}}\n",
       "\n",
       "// Listen for the clearing of the current output cell\n",
       "var outputEl = gd.closest('.output');\n",
       "if (outputEl) {{\n",
       "    x.observe(outputEl, {childList: true});\n",
       "}}\n",
       "\n",
       "                        })                };                });            </script>        </div>"
      ]
     },
     "metadata": {},
     "output_type": "display_data"
    }
   ],
   "source": [
    "# Calculate the count for each combination of method, score, true_or_false, and model\n",
    "df_best_scores['count'] = df_best_scores.groupby(['method', 'score', 'true_or_false', 'model'])['model'].transform('count')\n",
    "\n",
    "# Creating the scatter plot\n",
    "fig = px.scatter(df_best_scores, x='method', y='score', color='true_or_false', \n",
    "                 facet_col='model', facet_col_wrap=2, \n",
    "                 hover_data=['original_prompt'], category_orders={'true_or_false': ['True', 'False']},\n",
    "                 size='count', size_max=15)\n",
    "\n",
    "# Customizing the layout\n",
    "fig.update_layout(title='Comparison of Evaluation Methods for True vs False Prompts',\n",
    "                  xaxis_title='Method', yaxis_title='Score',\n",
    "                  legend_title_text='True or False')"
   ]
  }
 ],
 "metadata": {
  "kernelspec": {
   "display_name": "Python 3 (ipykernel)",
   "language": "python",
   "name": "python3"
  },
  "language_info": {
   "codemirror_mode": {
    "name": "ipython",
    "version": 3
   },
   "file_extension": ".py",
   "mimetype": "text/x-python",
   "name": "python",
   "nbconvert_exporter": "python",
   "pygments_lexer": "ipython3",
   "version": "3.11.2"
  }
 },
 "nbformat": 4,
 "nbformat_minor": 2
}
