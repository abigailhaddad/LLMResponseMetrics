{
 "cells": [
  {
   "cell_type": "markdown",
   "metadata": {},
   "source": [
    "## Finding the Maximum: Simulating Population Sampling\n",
    "\n",
    "### Overview\n",
    "This simulation does population sampling to try to find the maximum (true) value in the population. \n",
    "\n",
    "The simulation is conducted under the following conditions:\n",
    "- The known maximum value of the population is `1`.\n",
    "- The population distribution is a continuous uniform distribution, ranging from `0` to `1`.\n",
    "\n",
    "### Key Parameters of the Simulation\n",
    "The simulation is governed by two main parameters, which help us assess the effectiveness of our sampling approach:\n",
    "1. **Stability Threshold (`stability_threshold`)**: \n",
    "   - This parameter represents the number of consecutive sampling runs needed where the maximum value does not change.\n",
    "   - The sampling process concludes when this stability is observed.\n",
    "   - For instance, if this is set to 4, and the maximum observed value is stable across 4 periods, then the simulation will complete. \n",
    "2. **Maximum Runs Range (`max_runs_range`)**: \n",
    "   - This defines the upper boundary for the total number of samples that will be taken in the simulation.\n",
    "   - The process halts at this limit, regardless of whether the maximum value has stabilized.\n",
    "   - For instance, if this is set to 10, the simultion will end after 10 samples regardless of whether the stability threshold criteria has been met.\n",
    "\n",
    "The true population maximum is 1, so the closer the results are to 1, the better it's performing. "
   ]
  },
  {
   "cell_type": "markdown",
   "metadata": {},
   "source": [
    "## Code"
   ]
  },
  {
   "cell_type": "code",
   "execution_count": 10,
   "metadata": {},
   "outputs": [],
   "source": [
    "import random\n",
    "import pandas as pd\n",
    "\n",
    "def generate_random_scores(max_runs):\n",
    "    \"\"\"\n",
    "    Generate a list of random scores between 0 and 1.\n",
    "\n",
    "    Parameters:\n",
    "    max_runs (int): The number of random scores to generate.\n",
    "\n",
    "    Returns:\n",
    "    list: A list of floating-point numbers representing random scores.\n",
    "    \"\"\"\n",
    "    return [random.uniform(0, 1) for _ in range(max_runs)]\n",
    "\n",
    "def is_stable(scores, stability_threshold):\n",
    "    \"\"\"\n",
    "    Check if the last 'n' scores are stable, where 'n' is the stability threshold.\n",
    "\n",
    "    Parameters:\n",
    "    scores (list): A list of floating-point numbers representing scores.\n",
    "    stability_threshold (int): The number of scores to check for stability.\n",
    "\n",
    "    Returns:\n",
    "    bool: True if the last 'n' scores are stable, False otherwise.\n",
    "    \"\"\"\n",
    "    if len(scores) < stability_threshold:\n",
    "        return False\n",
    "\n",
    "    last_n_scores = scores[-stability_threshold:]\n",
    "    max_score = max(last_n_scores)\n",
    "    return all(score == max_score for score in last_n_scores)\n",
    "\n",
    "def simulate_run(max_runs, stability_threshold):\n",
    "    \"\"\"\n",
    "    Simulate a single run of the sampling process.\n",
    "\n",
    "    Parameters:\n",
    "    max_runs (int): The maximum number of runs.\n",
    "    stability_threshold (int): The threshold for stability in scores.\n",
    "\n",
    "    Returns:\n",
    "    float: The maximum score achieved in the simulation run.\n",
    "    \"\"\"\n",
    "    scores = generate_random_scores(max_runs)\n",
    "    for run in range(max_runs):\n",
    "        if is_stable(scores[:run + 1], stability_threshold):\n",
    "            return max(scores[:run + 1])\n",
    "    return max(scores)\n",
    "\n",
    "def simulation_results(num_simulations, max_runs, stability_threshold):\n",
    "    \"\"\"\n",
    "    Calculate the average maximum score over a number of simulations.\n",
    "\n",
    "    Parameters:\n",
    "    num_simulations (int): The number of simulations to run.\n",
    "    max_runs (int): The maximum number of runs in each simulation.\n",
    "    stability_threshold (int): The threshold for stability in scores.\n",
    "\n",
    "    Returns:\n",
    "    float: The average maximum score over all simulations.\n",
    "    \"\"\"\n",
    "    total_max_score = sum(simulate_run(max_runs, stability_threshold) for _ in range(num_simulations))\n",
    "    return total_max_score / num_simulations\n",
    "\n",
    "def run_simulations(num_simulations, max_runs_range, stability_threshold_range):\n",
    "    \"\"\"\n",
    "    Run multiple simulations and record the results in a DataFrame.\n",
    "\n",
    "    Parameters:\n",
    "    num_simulations (int): The number of simulations to run for each parameter set.\n",
    "    max_runs_range (iterable): An iterable of integers representing different max runs.\n",
    "    stability_threshold_range (iterable): An iterable of integers representing different stability thresholds.\n",
    "\n",
    "    Returns:\n",
    "    pandas.DataFrame: A DataFrame with the results of the simulations, \n",
    "                      where rows represent stability thresholds and columns represent max runs.\n",
    "    \"\"\"\n",
    "    # Using dictionary comprehension to calculate the results\n",
    "    data = {max_runs: {stability_threshold: simulation_results(num_simulations, max_runs, stability_threshold)\n",
    "                       for stability_threshold in stability_threshold_range}\n",
    "            for max_runs in max_runs_range}\n",
    "\n",
    "    # Creating the DataFrame\n",
    "    results = pd.DataFrame(data)\n",
    "\n",
    "    # Setting labels for rows and columns\n",
    "    results.index.name = 'Stability Threshold'\n",
    "    results.columns.name = 'Max Runs'\n",
    "\n",
    "    return results\n",
    "\n"
   ]
  },
  {
   "cell_type": "markdown",
   "metadata": {},
   "source": [
    "## Simulation of One Run"
   ]
  },
  {
   "cell_type": "code",
   "execution_count": 11,
   "metadata": {},
   "outputs": [
    {
     "name": "stdout",
     "output_type": "stream",
     "text": [
      "Maximum value found:\n"
     ]
    },
    {
     "data": {
      "text/plain": [
       "0.9989229733660068"
      ]
     },
     "execution_count": 11,
     "metadata": {},
     "output_type": "execute_result"
    }
   ],
   "source": [
    "max_runs = 100\n",
    "stability_threshold = 10\n",
    "print(\"Maximum value found:\")\n",
    "simulate_run(max_runs, stability_threshold)"
   ]
  },
  {
   "cell_type": "markdown",
   "metadata": {},
   "source": [
    "## Simulation of Multiple Runs With Range of Stability Thresholds and Maximum Runs: \n",
    "\n",
    "### Average maximum value found"
   ]
  },
  {
   "cell_type": "code",
   "execution_count": 12,
   "metadata": {},
   "outputs": [
    {
     "name": "stdout",
     "output_type": "stream",
     "text": [
      "Max Runs                   5         10        15        20        25\n",
      "Stability Threshold                                                  \n",
      "2                    0.814337  0.913660  0.939050  0.953933  0.960969\n",
      "3                    0.837133  0.900081  0.933646  0.956188  0.962902\n",
      "4                    0.815836  0.897233  0.921017  0.961401  0.965908\n",
      "5                    0.847609  0.904466  0.933269  0.945223  0.961862\n",
      "6                    0.812723  0.925210  0.941523  0.955148  0.961865\n",
      "7                    0.827760  0.896904  0.931840  0.954833  0.957815\n"
     ]
    }
   ],
   "source": [
    "num_simulations = 100\n",
    "max_runs_range = range(5, 30, 5)  # From 5 to 20, step by 5\n",
    "stability_threshold_range = range(2, 8)  # From 2 to 8\n",
    "df_results = run_simulations(num_simulations, max_runs_range, stability_threshold_range)\n",
    "print(df_results)"
   ]
  }
 ],
 "metadata": {
  "kernelspec": {
   "display_name": "llm_eval_env",
   "language": "python",
   "name": "llm_eval_env"
  },
  "language_info": {
   "codemirror_mode": {
    "name": "ipython",
    "version": 3
   },
   "file_extension": ".py",
   "mimetype": "text/x-python",
   "name": "python",
   "nbconvert_exporter": "python",
   "pygments_lexer": "ipython3",
   "version": "3.11.2"
  }
 },
 "nbformat": 4,
 "nbformat_minor": 2
}
