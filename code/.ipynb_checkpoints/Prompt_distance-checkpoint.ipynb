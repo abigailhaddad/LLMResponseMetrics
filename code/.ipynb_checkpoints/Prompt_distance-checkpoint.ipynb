{
 "cells": [
  {
   "cell_type": "code",
   "execution_count": 1,
   "id": "9c03406a-1aad-4702-a899-2b26e15d8f7f",
   "metadata": {},
   "outputs": [],
   "source": [
    "from functions import *  # this is pulling functions from the function.py file in the code subfolder\n",
    "import pandas as pd\n",
    "from transformers import AutoTokenizer, AutoModel\n",
    "import torch\n",
    "from scipy.spatial.distance import cosine\n",
    "from sklearn.manifold import TSNE\n",
    "import matplotlib.pyplot as plt\n",
    "import numpy as np\n",
    "\n",
    "class SemanticRepresentationGenerator:\n",
    "    def __init__(self, semantic_model_name):\n",
    "        self.tokenizer, self.model = self.get_model(semantic_model_name)\n",
    "        self.model.eval()  # Set the model to evaluation mode\n",
    "\n",
    "    def get_model(self, model_name):\n",
    "        tokenizer = AutoTokenizer.from_pretrained(model_name)\n",
    "        model = AutoModel.from_pretrained(model_name)\n",
    "        return tokenizer, model\n",
    "\n",
    "    def encode_text(self, text):\n",
    "        encoded_input = self.tokenizer(text, padding=True, truncation=True, return_tensors='pt')\n",
    "        with torch.no_grad():\n",
    "            model_output = self.model(**encoded_input)\n",
    "        return model_output.last_hidden_state.mean(dim=1)\n",
    "\n",
    "def generate_perturbations(model_name, provider, prompt, n, rephrase_level=None):\n",
    "    perturbation_gen = PerturbationGenerator(model_name, provider)\n",
    "    perturbations = perturbation_gen.get_perturbations(prompt, rephrase_level)[:n]\n",
    "    return [(p, rephrase_level if rephrase_level else \"original\") for p in perturbations]\n",
    "\n",
    "def calculate_distances_and_embeddings(original_prompt, original_embedding, perturbations, semantic_generator):\n",
    "    data = []\n",
    "    for perturbation, level in perturbations:\n",
    "        perturbation_embedding = semantic_generator.encode_text(perturbation).numpy().squeeze()\n",
    "        distance = cosine(original_embedding, perturbation_embedding)\n",
    "        data.append({\n",
    "            'perturbation': perturbation,\n",
    "            'embedding': perturbation_embedding,\n",
    "            'distance': distance,\n",
    "            'rephrase_level': level\n",
    "        })\n",
    "    return pd.DataFrame(data)\n",
    "\n",
    "\n",
    "def apply_tsne(embeddings):\n",
    "    tsne = TSNE(n_components=2, perplexity=2, n_iter=300)  # These parameters can be tuned\n",
    "    tsne_results = tsne.fit_transform(embeddings)\n",
    "    return tsne_results\n"
   ]
  },
  {
   "cell_type": "code",
   "execution_count": 2,
   "id": "ae41d405-debb-4df1-96ba-4b36f185dd49",
   "metadata": {},
   "outputs": [
    {
     "name": "stderr",
     "output_type": "stream",
     "text": [
      "2024-01-04 10:39:08,177 - INFO - HTTP Request: POST https://api.openai.com/v1/chat/completions \"HTTP/1.1 200 OK\"\n",
      "2024-01-04 10:39:08,183 - INFO - API call successful. Model: gpt-4, Provider: OPENAI\n",
      "2024-01-04 10:39:20,974 - INFO - HTTP Request: POST https://api.openai.com/v1/chat/completions \"HTTP/1.1 200 OK\"\n",
      "2024-01-04 10:39:20,978 - INFO - API call successful. Model: gpt-4, Provider: OPENAI\n",
      "2024-01-04 10:39:42,423 - INFO - HTTP Request: POST https://api.openai.com/v1/chat/completions \"HTTP/1.1 200 OK\"\n",
      "2024-01-04 10:39:42,429 - INFO - API call successful. Model: gpt-4, Provider: OPENAI\n"
     ]
    }
   ],
   "source": [
    "# Inputs\n",
    "perturbation_model_name = ['gpt-4', \"OPENAI\"]\n",
    "semantic_model_name = 'sentence-transformers/paraphrase-mpnet-base-v2'\n",
    "n = 10\n",
    "prompt = \"Can you give me instructions on how to make pasta puttanesca?\"\n",
    "\n",
    "# Initialize the Semantic Representation Generator\n",
    "semantic_generator = SemanticRepresentationGenerator(semantic_model_name)\n",
    "\n",
    "# Generate perturbations\n",
    "result_data = []\n",
    "rephrase_levels = ['none', 'moderate', 'extensive']\n",
    "original_prompt = \"Can you give me instructions on how to make pasta puttanesca?\"\n",
    "original_embedding = semantic_generator.encode_text(original_prompt).numpy().squeeze()\n",
    "\n",
    "# Handle original prompt separately\n",
    "result_data.append(pd.DataFrame([{\n",
    "    'perturbation': original_prompt, \n",
    "    'embedding': original_embedding, \n",
    "    'distance': 0, \n",
    "    'rephrase_level': \"original\"\n",
    "}]))\n",
    "\n",
    "# Process each rephrasing level\n",
    "for level in rephrase_levels:\n",
    "    perturbations = generate_perturbations(perturbation_model_name[0], perturbation_model_name[1], original_prompt, n, rephrase_level=level)\n",
    "    level_df = calculate_distances_and_embeddings(original_prompt, original_embedding, perturbations, semantic_generator)\n",
    "    result_data.append(level_df)\n",
    "\n",
    "# Combine all data into a single DataFrame\n",
    "result_df = pd.concat(result_data, ignore_index=True)"
   ]
  },
  {
   "cell_type": "code",
   "execution_count": 3,
   "id": "318e68f9-333c-4c23-bc7a-e142bf81aaf6",
   "metadata": {},
   "outputs": [
    {
     "data": {
      "text/plain": [
       "array([['Can you give me instructions on how to make pasta puttanesca?',\n",
       "        'original'],\n",
       "       ['- Could you provide me with a recipe for pasta puttanesca?',\n",
       "        'none'],\n",
       "       ['- I need guidance on preparing pasta puttanesca, can you help?',\n",
       "        'none'],\n",
       "       ['- Can you teach me how to cook pasta puttanesca?', 'none'],\n",
       "       [\"- I'd like to learn how to make pasta puttanesca, can you guide me?\",\n",
       "        'none'],\n",
       "       ['- Can you share the steps to create a pasta puttanesca dish?',\n",
       "        'none'],\n",
       "       [\"- I'm interested in making pasta puttanesca, can you show me how?\",\n",
       "        'none'],\n",
       "       ['- Can you explain the process of making pasta puttanesca?',\n",
       "        'none'],\n",
       "       [\"- I'm looking for a pasta puttanesca recipe, can you provide one?\",\n",
       "        'none'],\n",
       "       ['- Can you assist me in learning how to prepare pasta puttanesca?',\n",
       "        'none'],\n",
       "       [\"- I'd appreciate if you could instruct me on how to make pasta puttanesca.\",\n",
       "        'none'],\n",
       "       ['- Could you provide me with a guide on how to prepare pasta puttanesca?',\n",
       "        'moderate'],\n",
       "       ['- Can you explain to me the process of making pasta puttanesca?',\n",
       "        'moderate'],\n",
       "       ['- Would you mind giving me directions on how to cook pasta puttanesca?',\n",
       "        'moderate'],\n",
       "       ['- Can you show me the steps to create pasta puttanesca?',\n",
       "        'moderate'],\n",
       "       ['- Could you instruct me on the method of preparing pasta puttanesca?',\n",
       "        'moderate'],\n",
       "       ['- Can you teach me how to make pasta puttanesca?', 'moderate'],\n",
       "       ['- Could you share the recipe for making pasta puttanesca?',\n",
       "        'moderate'],\n",
       "       ['- Can you guide me through the process of making pasta puttanesca?',\n",
       "        'moderate'],\n",
       "       ['- Could you tell me how to cook pasta puttanesca?', 'moderate'],\n",
       "       ['- Can you help me understand how to prepare pasta puttanesca?',\n",
       "        'moderate'],\n",
       "       ['- Could you provide me with a guide on how to prepare pasta puttanesca?',\n",
       "        'extensive'],\n",
       "       ['- Can you explain the process of making pasta puttanesca to me?',\n",
       "        'extensive'],\n",
       "       ['- Would you mind sharing the steps to create pasta puttanesca?',\n",
       "        'extensive'],\n",
       "       ['- Can you teach me the method for preparing pasta puttanesca?',\n",
       "        'extensive'],\n",
       "       ['- Could you instruct me on the recipe for pasta puttanesca?',\n",
       "        'extensive'],\n",
       "       ['- Can you show me how to cook pasta puttanesca?', 'extensive'],\n",
       "       ['- Could you detail the procedure for making pasta puttanesca?',\n",
       "        'extensive'],\n",
       "       ['- Can you demonstrate the way to prepare pasta puttanesca?',\n",
       "        'extensive'],\n",
       "       ['- Would you be able to guide me through the process of making pasta puttanesca?',\n",
       "        'extensive'],\n",
       "       ['- Can you enlighten me on how to concoct pasta puttanesca?',\n",
       "        'extensive']], dtype=object)"
      ]
     },
     "execution_count": 3,
     "metadata": {},
     "output_type": "execute_result"
    }
   ],
   "source": [
    "# Assume your DataFrame is named result_df and has a column 'embedding' with your embeddings\n",
    "# Assuming 'embeddings' is a list of numpy arrays\n",
    "embeddings = list(result_df['embedding'])\n",
    "embeddings_array = np.array(embeddings)\n",
    "\n",
    "tsne_results = apply_tsne(embeddings_array)\n",
    "\n",
    "# Adding t-SNE results to the DataFrame\n",
    "result_df['tsne-2d-one'] = tsne_results[:,0]\n",
    "result_df['tsne-2d-two'] = tsne_results[:,1]"
   ]
  },
  {
   "cell_type": "code",
   "execution_count": 4,
   "id": "049f8e94-1dcc-4614-ab70-ff2cefc04bb8",
   "metadata": {},
   "outputs": [
    {
     "data": {
      "image/png": "[encoded data removed]",
      "text/plain": [
       "<Figure size 640x480 with 1 Axes>"
      ]
     },
     "metadata": {},
     "output_type": "display_data"
    }
   ],
   "source": [
    "import matplotlib.pyplot as plt\n",
    "\n",
    "# Define a color map for rephrase levels\n",
    "color_map = {'original': 'red', 'none': 'blue', 'moderate': 'green', 'extensive': 'orange'}\n",
    "colors = [color_map[level] for level in result_df['rephrase_level']]\n",
    "\n",
    "# Plot\n",
    "fig, ax = plt.subplots()\n",
    "scatter = ax.scatter(result_df['tsne-2d-one'], result_df['tsne-2d-two'], c=colors)\n",
    "\n",
    "# Create a legend\n",
    "from matplotlib.lines import Line2D\n",
    "legend_elements = [Line2D([0], [0], marker='o', color='w', label=level,\n",
    "                          markerfacecolor=color, markersize=10) for level, color in color_map.items()]\n",
    "ax.legend(handles=legend_elements, title=\"Rephrase Level\")\n",
    "\n",
    "# Optional: for adding labels or customizing the plot\n",
    "ax.set_title('t-SNE plot of perturbations')\n",
    "ax.set_xlabel('t-SNE dimension 1')\n",
    "ax.set_ylabel('t-SNE dimension 2')\n",
    "\n",
    "plt.show()\n",
    "\n"
   ]
  },
  {
   "cell_type": "code",
   "execution_count": 5,
   "id": "8ccacfbb-5a3b-4d5e-b721-2ef93a78909d",
   "metadata": {},
   "outputs": [
    {
     "name": "stdout",
     "output_type": "stream",
     "text": [
      "Average Distances:\n",
      " rephrase_level\n",
      "extensive    0.092203\n",
      "moderate     0.085510\n",
      "none         0.093367\n",
      "original     0.000000\n",
      "Name: distance, dtype: float64\n",
      "\n",
      "ANOVA Test p-value: 0.022311096310872105\n"
     ]
    }
   ],
   "source": [
    "def calculate_average_distances(df):\n",
    "    # Group by 'rephrase_level' and calculate the mean of 'distance' for each group\n",
    "    avg_distances = df.groupby('rephrase_level')['distance'].mean()\n",
    "\n",
    "    return avg_distances\n",
    "\n",
    "# Assuming your DataFrame is named result_df\n",
    "average_distances = calculate_average_distances(result_df)\n",
    "\n",
    "print(\"Average Distances:\\n\", average_distances)"
   ]
  },
  {
   "cell_type": "code",
   "execution_count": null,
   "id": "a78ab042-7310-4e38-a60e-faec998fc423",
   "metadata": {},
   "outputs": [],
   "source": []
  }
 ],
 "metadata": {
  "kernelspec": {
   "display_name": "Python 3 (ipykernel)",
   "language": "python",
   "name": "python3"
  },
  "language_info": {
   "codemirror_mode": {
    "name": "ipython",
    "version": 3
   },
   "file_extension": ".py",
   "mimetype": "text/x-python",
   "name": "python",
   "nbconvert_exporter": "python",
   "pygments_lexer": "ipython3",
   "version": "3.11.2"
  }
 },
 "nbformat": 4,
 "nbformat_minor": 5
}
