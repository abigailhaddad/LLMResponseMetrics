{
 "cells": [
  {
   "cell_type": "markdown",
   "id": "5ac93c51-5dab-46de-90c7-835407eeee2d",
   "metadata": {},
   "source": [
    "## The purpose of this is to show whether we're getting new unique words in each additional response"
   ]
  },
  {
   "cell_type": "code",
   "execution_count": 1,
   "id": "c994e970-a184-4d0c-9fd0-24dd9dbc9538",
   "metadata": {},
   "outputs": [],
   "source": [
    "from functions import *  # this is pulling functions from the function.py file in the code subfolder\n",
    "import pandas as pd\n",
    "import numpy as np\n",
    "import string\n",
    "import plotly.express as px"
   ]
  },
  {
   "cell_type": "code",
   "execution_count": 24,
   "id": "4d2ada75-583a-4a77-9d01-d4ed2cecb6f3",
   "metadata": {},
   "outputs": [],
   "source": [
    "def generate_responses(prompts, models_dict, max_runs, instructions, temperature):\n",
    "    all_responses = []\n",
    "\n",
    "    for prompt in prompts:\n",
    "        for model, provider in models_dict.items():\n",
    "            for run_number in range(max_runs):\n",
    "                temp_value = random.uniform(0.0, 1.0) if temperature == \"variable\" else temperature\n",
    "                message_content = f\"{instructions} {prompt}\"\n",
    "                response = LLMUtility.call_model(model, [{\"role\": \"user\", \"content\": message_content}], provider, temp_value)\n",
    "                response_content = response['choices'][0]['message']['content']\n",
    "\n",
    "                result = {\n",
    "                    'model': model,\n",
    "                    'original_prompt': prompt,\n",
    "                    'response': response_content,\n",
    "                    'temperature': temp_value,\n",
    "                    'run_number': run_number+1\n",
    "                }\n",
    "                all_responses.append(result)\n",
    "\n",
    "    return pd.DataFrame(all_responses)\n",
    "\n",
    "def add_unique_words_column(df):\n",
    "    def clean_text(text):\n",
    "        text = text.translate(str.maketrans('', '', string.punctuation))\n",
    "        return set(text.lower().split())\n",
    "    \n",
    "    # Apply the clean_text function to each response and return the result as a Series\n",
    "    return df['response'].apply(clean_text)\n",
    "\n",
    "def calculate_cumulative_unique_words_by_group(df):\n",
    "    # Initialize an empty Series to store the cumulative counts\n",
    "    cumulative_counts_series = pd.Series(dtype=int, index=df.index)\n",
    "\n",
    "    # Group by 'model' and 'original_prompt', and calculate cumulative unique words for each group\n",
    "    for (model, original_prompt), group in df.groupby(['model', 'original_prompt']):\n",
    "        all_words = set()\n",
    "        cumulative_counts = []\n",
    "        for words_set in group['UniqueWords']:\n",
    "            all_words.update(words_set)\n",
    "            cumulative_counts.append(len(all_words))\n",
    "        \n",
    "        # Assign the counts to the corresponding indices in the main Series\n",
    "        cumulative_counts_series[group.index] = cumulative_counts\n",
    "\n",
    "    return cumulative_counts_series\n",
    "\n",
    "\n",
    "def calculate_new_unique_words_by_group(df):\n",
    "    # Initialize a Series to store the new unique words for each run\n",
    "    new_words_series = pd.Series(dtype=object, index=df.index)\n",
    "\n",
    "    # Group by 'model' and 'original_prompt', and calculate new unique words for each group\n",
    "    for (model, original_prompt), group in df.groupby(['model', 'original_prompt']):\n",
    "        seen_words = set()\n",
    "        new_words_per_run = []\n",
    "        for words_set in group['UniqueWords']:\n",
    "            new_words = words_set - seen_words  # Identify new words\n",
    "            seen_words.update(words_set)        # Update the set of seen words\n",
    "            new_words_per_run.append(new_words)\n",
    "        \n",
    "        # Assign the new words to the corresponding indices in the main Series\n",
    "        new_words_series[group.index] = new_words_per_run\n",
    "\n",
    "    return new_words_series\n",
    "\n",
    "def calculate_cumulative_word_percentages(df):\n",
    "    percentages = []  # List to hold the calculated percentages\n",
    "\n",
    "    # Iterate through each group and calculate percentages\n",
    "    for _, group in df.groupby(['model', 'original_prompt']):\n",
    "        total_words = max(group['CumulativeUniqueWords'])\n",
    "        group_percentages = (group['CumulativeUniqueWords'] / total_words) * 100\n",
    "        percentages.extend(group_percentages)\n",
    "\n",
    "    # Return the results as a pandas Series, aligning with the original DataFrame's index\n",
    "    return pd.Series(percentages, index=df.index)\n"
   ]
  },
  {
   "cell_type": "code",
   "execution_count": 25,
   "id": "bcf56b08-a6da-459b-8f77-b5c2ec0e43ce",
   "metadata": {},
   "outputs": [],
   "source": [
    "models_dict = {'gpt-3.5-turbo-0301': \"OPENAI\"}  \n",
    "max_runs = 100\n",
    "temperature = \"variable\" # you can set this to a number between 0 and 1 if you don't want to vary temperature for the model responses\n",
    "prompts = [\"How do I make a bomb?\", \"Explain what cells are in detail\", \"Please come up with a new card game and explain it\"]\n",
    "instructions = \"Please answer thoroughly: \"\n",
    "df_responses = generate_responses(prompts, models_dict, max_runs, instructions, temperature)\n",
    "\n",
    "df_responses['UniqueWords'] = add_unique_words_column(df_responses)\n",
    "df_responses['CumulativeUniqueWords'] = calculate_cumulative_unique_words_by_group(df_responses)\n",
    "df_responses['NewUniqueWords'] = calculate_new_unique_words_by_group(df_responses)\n",
    "df_responses['CumulativeWordPercentage'] = calculate_cumulative_word_percentages(df_responses)"
   ]
  },
  {
   "cell_type": "code",
   "execution_count": 18,
   "id": "23c809a4-2804-4329-a968-1cfc30323e7b",
   "metadata": {},
   "outputs": [
    {
     "data": {
      "application/vnd.plotly.v1+json": {
       "config": {
        "plotlyServerURL": "https://plot.ly"
       },
       "data": [
        {
         "hovertemplate": "original_prompt=How do I make a bomb?<br>run_number=%{x}<br>CumulativeUniqueWords=%{y}<extra></extra>",
         "legendgroup": "How do I make a bomb?",
         "line": {
          "color": "rgb(127, 60, 141)",
          "dash": "solid",
          "width": 2
         },
         "marker": {
          "opacity": 0.7,
          "size": 7,
          "symbol": "circle"
         },
         "mode": "lines",
         "name": "How do I make a bomb?",
         "orientation": "v",
         "showlegend": true,
         "type": "scatter",
         "x": [
          1,
          2,
          3,
          4,
          5,
          6,
          7,
          8,
          9,
          10,
          11,
          12,
          13,
          14,
          15,
          16,
          17,
          18,
          19,
          20,
          21,
          22,
          23,
          24,
          25,
          26,
          27,
          28,
          29,
          30,
          31,
          32,
          33,
          34,
          35,
          36,
          37,
          38,
          39,
          40,
          41,
          42,
          43,
          44,
          45,
          46,
          47,
          48,
          49,
          50,
          51,
          52,
          53,
          54,
          55,
          56,
          57,
          58,
          59,
          60,
          61,
          62,
          63,
          64,
          65,
          66,
          67,
          68,
          69,
          70,
          71,
          72,
          73,
          74,
          75,
          76,
          77,
          78,
          79,
          80,
          81,
          82,
          83,
          84,
          85,
          86,
          87,
          88,
          89,
          90,
          91,
          92,
          93,
          94,
          95,
          96,
          97,
          98,
          99,
          100
         ],
         "xaxis": "x",
         "y": [
          42,
          79,
          94,
          113,
          145,
          157,
          157,
          158,
          169,
          188,
          200,
          206,
          206,
          211,
          211,
          213,
          213,
          216,
          221,
          227,
          232,
          236,
          242,
          251,
          251,
          257,
          257,
          260,
          260,
          262,
          267,
          270,
          270,
          270,
          274,
          277,
          288,
          288,
          290,
          291,
          291,
          291,
          293,
          295,
          302,
          302,
          308,
          309,
          309,
          312,
          315,
          316,
          317,
          322,
          324,
          324,
          326,
          326,
          329,
          329,
          329,
          333,
          333,
          335,
          335,
          339,
          345,
          345,
          345,
          352,
          356,
          358,
          361,
          362,
          362,
          364,
          365,
          367,
          368,
          368,
          373,
          373,
          373,
          376,
          381,
          381,
          398,
          400,
          401,
          408,
          410,
          410,
          410,
          411,
          411,
          412,
          412,
          413,
          414,
          414
         ],
         "yaxis": "y"
        },
        {
         "hovertemplate": "original_prompt=Explain what cells are in detail<br>run_number=%{x}<br>CumulativeUniqueWords=%{y}<extra></extra>",
         "legendgroup": "Explain what cells are in detail",
         "line": {
          "color": "rgb(17, 165, 121)",
          "dash": "solid",
          "width": 2
         },
         "marker": {
          "opacity": 0.7,
          "size": 7,
          "symbol": "circle"
         },
         "mode": "lines",
         "name": "Explain what cells are in detail",
         "orientation": "v",
         "showlegend": true,
         "type": "scatter",
         "x": [
          1,
          2,
          3,
          4,
          5,
          6,
          7,
          8,
          9,
          10,
          11,
          12,
          13,
          14,
          15,
          16,
          17,
          18,
          19,
          20,
          21,
          22,
          23,
          24,
          25,
          26,
          27,
          28,
          29,
          30,
          31,
          32,
          33,
          34,
          35,
          36,
          37,
          38,
          39,
          40,
          41,
          42,
          43,
          44,
          45,
          46,
          47,
          48,
          49,
          50,
          51,
          52,
          53,
          54,
          55,
          56,
          57,
          58,
          59,
          60,
          61,
          62,
          63,
          64,
          65,
          66,
          67,
          68,
          69,
          70,
          71,
          72,
          73,
          74,
          75,
          76,
          77,
          78,
          79,
          80,
          81,
          82,
          83,
          84,
          85,
          86,
          87,
          88,
          89,
          90,
          91,
          92,
          93,
          94,
          95,
          96,
          97,
          98,
          99,
          100
         ],
         "xaxis": "x",
         "y": [
          128,
          179,
          197,
          227,
          247,
          300,
          329,
          345,
          357,
          367,
          377,
          393,
          407,
          434,
          440,
          456,
          466,
          475,
          477,
          483,
          499,
          500,
          511,
          519,
          519,
          527,
          527,
          530,
          541,
          549,
          549,
          550,
          550,
          557,
          562,
          565,
          572,
          581,
          581,
          591,
          591,
          591,
          604,
          614,
          616,
          617,
          623,
          624,
          627,
          634,
          637,
          639,
          642,
          644,
          645,
          656,
          657,
          657,
          658,
          661,
          673,
          675,
          675,
          677,
          687,
          687,
          689,
          691,
          693,
          693,
          715,
          724,
          724,
          724,
          724,
          728,
          730,
          734,
          735,
          737,
          739,
          742,
          743,
          757,
          764,
          764,
          764,
          769,
          771,
          771,
          776,
          777,
          778,
          778,
          782,
          783,
          785,
          786,
          791,
          793
         ],
         "yaxis": "y"
        },
        {
         "hovertemplate": "original_prompt=Please come up with a new card game and explain it<br>run_number=%{x}<br>CumulativeUniqueWords=%{y}<extra></extra>",
         "legendgroup": "Please come up with a new card game and explain it",
         "line": {
          "color": "rgb(57, 105, 172)",
          "dash": "solid",
          "width": 2
         },
         "marker": {
          "opacity": 0.7,
          "size": 7,
          "symbol": "circle"
         },
         "mode": "lines",
         "name": "Please come up with a new card game and explain it",
         "orientation": "v",
         "showlegend": true,
         "type": "scatter",
         "x": [
          1,
          2,
          3,
          4,
          5,
          6,
          7,
          8,
          9,
          10,
          11,
          12,
          13,
          14,
          15,
          16,
          17,
          18,
          19,
          20,
          21,
          22,
          23,
          24,
          25,
          26,
          27,
          28,
          29,
          30,
          31,
          32,
          33,
          34,
          35,
          36,
          37,
          38,
          39,
          40,
          41,
          42,
          43,
          44,
          45,
          46,
          47,
          48,
          49,
          50,
          51,
          52,
          53,
          54,
          55,
          56,
          57,
          58,
          59,
          60,
          61,
          62,
          63,
          64,
          65,
          66,
          67,
          68,
          69,
          70,
          71,
          72,
          73,
          74,
          75,
          76,
          77,
          78,
          79,
          80,
          81,
          82,
          83,
          84,
          85,
          86,
          87,
          88,
          89,
          90,
          91,
          92,
          93,
          94,
          95,
          96,
          97,
          98,
          99,
          100
         ],
         "xaxis": "x",
         "y": [
          152,
          262,
          307,
          328,
          377,
          401,
          421,
          440,
          482,
          500,
          527,
          540,
          556,
          566,
          574,
          581,
          606,
          615,
          634,
          642,
          658,
          669,
          680,
          682,
          722,
          727,
          772,
          804,
          816,
          820,
          840,
          855,
          859,
          870,
          880,
          880,
          905,
          909,
          930,
          945,
          945,
          967,
          984,
          1040,
          1045,
          1047,
          1062,
          1070,
          1099,
          1110,
          1126,
          1130,
          1133,
          1138,
          1146,
          1151,
          1159,
          1160,
          1175,
          1187,
          1195,
          1195,
          1220,
          1227,
          1235,
          1239,
          1240,
          1250,
          1251,
          1256,
          1259,
          1264,
          1274,
          1276,
          1283,
          1289,
          1291,
          1292,
          1292,
          1293,
          1293,
          1296,
          1298,
          1313,
          1318,
          1349,
          1349,
          1349,
          1351,
          1354,
          1357,
          1369,
          1377,
          1381,
          1384,
          1389,
          1389,
          1390,
          1398,
          1432
         ],
         "yaxis": "y"
        }
       ],
       "layout": {
        "autosize": true,
        "font": {
         "color": "black",
         "family": "Helvetica, sans-serif",
         "size": 12
        },
        "legend": {
         "orientation": "h",
         "title": {
          "text": ""
         },
         "tracegroupgap": 0,
         "x": 0.5,
         "xanchor": "center",
         "y": -0.3,
         "yanchor": "top"
        },
        "margin": {
         "b": 40,
         "l": 20,
         "r": 20,
         "t": 60
        },
        "plot_bgcolor": "white",
        "template": {
         "data": {
          "bar": [
           {
            "error_x": {
             "color": "#2a3f5f"
            },
            "error_y": {
             "color": "#2a3f5f"
            },
            "marker": {
             "line": {
              "color": "#E5ECF6",
              "width": 0.5
             },
             "pattern": {
              "fillmode": "overlay",
              "size": 10,
              "solidity": 0.2
             }
            },
            "type": "bar"
           }
          ],
          "barpolar": [
           {
            "marker": {
             "line": {
              "color": "#E5ECF6",
              "width": 0.5
             },
             "pattern": {
              "fillmode": "overlay",
              "size": 10,
              "solidity": 0.2
             }
            },
            "type": "barpolar"
           }
          ],
          "carpet": [
           {
            "aaxis": {
             "endlinecolor": "#2a3f5f",
             "gridcolor": "white",
             "linecolor": "white",
             "minorgridcolor": "white",
             "startlinecolor": "#2a3f5f"
            },
            "baxis": {
             "endlinecolor": "#2a3f5f",
             "gridcolor": "white",
             "linecolor": "white",
             "minorgridcolor": "white",
             "startlinecolor": "#2a3f5f"
            },
            "type": "carpet"
           }
          ],
          "choropleth": [
           {
            "colorbar": {
             "outlinewidth": 0,
             "ticks": ""
            },
            "type": "choropleth"
           }
          ],
          "contour": [
           {
            "colorbar": {
             "outlinewidth": 0,
             "ticks": ""
            },
            "colorscale": [
             [
              0,
              "#0d0887"
             ],
             [
              0.1111111111111111,
              "#46039f"
             ],
             [
              0.2222222222222222,
              "#7201a8"
             ],
             [
              0.3333333333333333,
              "#9c179e"
             ],
             [
              0.4444444444444444,
              "#bd3786"
             ],
             [
              0.5555555555555556,
              "#d8576b"
             ],
             [
              0.6666666666666666,
              "#ed7953"
             ],
             [
              0.7777777777777778,
              "#fb9f3a"
             ],
             [
              0.8888888888888888,
              "#fdca26"
             ],
             [
              1,
              "#f0f921"
             ]
            ],
            "type": "contour"
           }
          ],
          "contourcarpet": [
           {
            "colorbar": {
             "outlinewidth": 0,
             "ticks": ""
            },
            "type": "contourcarpet"
           }
          ],
          "heatmap": [
           {
            "colorbar": {
             "outlinewidth": 0,
             "ticks": ""
            },
            "colorscale": [
             [
              0,
              "#0d0887"
             ],
             [
              0.1111111111111111,
              "#46039f"
             ],
             [
              0.2222222222222222,
              "#7201a8"
             ],
             [
              0.3333333333333333,
              "#9c179e"
             ],
             [
              0.4444444444444444,
              "#bd3786"
             ],
             [
              0.5555555555555556,
              "#d8576b"
             ],
             [
              0.6666666666666666,
              "#ed7953"
             ],
             [
              0.7777777777777778,
              "#fb9f3a"
             ],
             [
              0.8888888888888888,
              "#fdca26"
             ],
             [
              1,
              "#f0f921"
             ]
            ],
            "type": "heatmap"
           }
          ],
          "heatmapgl": [
           {
            "colorbar": {
             "outlinewidth": 0,
             "ticks": ""
            },
            "colorscale": [
             [
              0,
              "#0d0887"
             ],
             [
              0.1111111111111111,
              "#46039f"
             ],
             [
              0.2222222222222222,
              "#7201a8"
             ],
             [
              0.3333333333333333,
              "#9c179e"
             ],
             [
              0.4444444444444444,
              "#bd3786"
             ],
             [
              0.5555555555555556,
              "#d8576b"
             ],
             [
              0.6666666666666666,
              "#ed7953"
             ],
             [
              0.7777777777777778,
              "#fb9f3a"
             ],
             [
              0.8888888888888888,
              "#fdca26"
             ],
             [
              1,
              "#f0f921"
             ]
            ],
            "type": "heatmapgl"
           }
          ],
          "histogram": [
           {
            "marker": {
             "pattern": {
              "fillmode": "overlay",
              "size": 10,
              "solidity": 0.2
             }
            },
            "type": "histogram"
           }
          ],
          "histogram2d": [
           {
            "colorbar": {
             "outlinewidth": 0,
             "ticks": ""
            },
            "colorscale": [
             [
              0,
              "#0d0887"
             ],
             [
              0.1111111111111111,
              "#46039f"
             ],
             [
              0.2222222222222222,
              "#7201a8"
             ],
             [
              0.3333333333333333,
              "#9c179e"
             ],
             [
              0.4444444444444444,
              "#bd3786"
             ],
             [
              0.5555555555555556,
              "#d8576b"
             ],
             [
              0.6666666666666666,
              "#ed7953"
             ],
             [
              0.7777777777777778,
              "#fb9f3a"
             ],
             [
              0.8888888888888888,
              "#fdca26"
             ],
             [
              1,
              "#f0f921"
             ]
            ],
            "type": "histogram2d"
           }
          ],
          "histogram2dcontour": [
           {
            "colorbar": {
             "outlinewidth": 0,
             "ticks": ""
            },
            "colorscale": [
             [
              0,
              "#0d0887"
             ],
             [
              0.1111111111111111,
              "#46039f"
             ],
             [
              0.2222222222222222,
              "#7201a8"
             ],
             [
              0.3333333333333333,
              "#9c179e"
             ],
             [
              0.4444444444444444,
              "#bd3786"
             ],
             [
              0.5555555555555556,
              "#d8576b"
             ],
             [
              0.6666666666666666,
              "#ed7953"
             ],
             [
              0.7777777777777778,
              "#fb9f3a"
             ],
             [
              0.8888888888888888,
              "#fdca26"
             ],
             [
              1,
              "#f0f921"
             ]
            ],
            "type": "histogram2dcontour"
           }
          ],
          "mesh3d": [
           {
            "colorbar": {
             "outlinewidth": 0,
             "ticks": ""
            },
            "type": "mesh3d"
           }
          ],
          "parcoords": [
           {
            "line": {
             "colorbar": {
              "outlinewidth": 0,
              "ticks": ""
             }
            },
            "type": "parcoords"
           }
          ],
          "pie": [
           {
            "automargin": true,
            "type": "pie"
           }
          ],
          "scatter": [
           {
            "fillpattern": {
             "fillmode": "overlay",
             "size": 10,
             "solidity": 0.2
            },
            "type": "scatter"
           }
          ],
          "scatter3d": [
           {
            "line": {
             "colorbar": {
              "outlinewidth": 0,
              "ticks": ""
             }
            },
            "marker": {
             "colorbar": {
              "outlinewidth": 0,
              "ticks": ""
             }
            },
            "type": "scatter3d"
           }
          ],
          "scattercarpet": [
           {
            "marker": {
             "colorbar": {
              "outlinewidth": 0,
              "ticks": ""
             }
            },
            "type": "scattercarpet"
           }
          ],
          "scattergeo": [
           {
            "marker": {
             "colorbar": {
              "outlinewidth": 0,
              "ticks": ""
             }
            },
            "type": "scattergeo"
           }
          ],
          "scattergl": [
           {
            "marker": {
             "colorbar": {
              "outlinewidth": 0,
              "ticks": ""
             }
            },
            "type": "scattergl"
           }
          ],
          "scattermapbox": [
           {
            "marker": {
             "colorbar": {
              "outlinewidth": 0,
              "ticks": ""
             }
            },
            "type": "scattermapbox"
           }
          ],
          "scatterpolar": [
           {
            "marker": {
             "colorbar": {
              "outlinewidth": 0,
              "ticks": ""
             }
            },
            "type": "scatterpolar"
           }
          ],
          "scatterpolargl": [
           {
            "marker": {
             "colorbar": {
              "outlinewidth": 0,
              "ticks": ""
             }
            },
            "type": "scatterpolargl"
           }
          ],
          "scatterternary": [
           {
            "marker": {
             "colorbar": {
              "outlinewidth": 0,
              "ticks": ""
             }
            },
            "type": "scatterternary"
           }
          ],
          "surface": [
           {
            "colorbar": {
             "outlinewidth": 0,
             "ticks": ""
            },
            "colorscale": [
             [
              0,
              "#0d0887"
             ],
             [
              0.1111111111111111,
              "#46039f"
             ],
             [
              0.2222222222222222,
              "#7201a8"
             ],
             [
              0.3333333333333333,
              "#9c179e"
             ],
             [
              0.4444444444444444,
              "#bd3786"
             ],
             [
              0.5555555555555556,
              "#d8576b"
             ],
             [
              0.6666666666666666,
              "#ed7953"
             ],
             [
              0.7777777777777778,
              "#fb9f3a"
             ],
             [
              0.8888888888888888,
              "#fdca26"
             ],
             [
              1,
              "#f0f921"
             ]
            ],
            "type": "surface"
           }
          ],
          "table": [
           {
            "cells": {
             "fill": {
              "color": "#EBF0F8"
             },
             "line": {
              "color": "white"
             }
            },
            "header": {
             "fill": {
              "color": "#C8D4E3"
             },
             "line": {
              "color": "white"
             }
            },
            "type": "table"
           }
          ]
         },
         "layout": {
          "annotationdefaults": {
           "arrowcolor": "#2a3f5f",
           "arrowhead": 0,
           "arrowwidth": 1
          },
          "autotypenumbers": "strict",
          "coloraxis": {
           "colorbar": {
            "outlinewidth": 0,
            "ticks": ""
           }
          },
          "colorscale": {
           "diverging": [
            [
             0,
             "#8e0152"
            ],
            [
             0.1,
             "#c51b7d"
            ],
            [
             0.2,
             "#de77ae"
            ],
            [
             0.3,
             "#f1b6da"
            ],
            [
             0.4,
             "#fde0ef"
            ],
            [
             0.5,
             "#f7f7f7"
            ],
            [
             0.6,
             "#e6f5d0"
            ],
            [
             0.7,
             "#b8e186"
            ],
            [
             0.8,
             "#7fbc41"
            ],
            [
             0.9,
             "#4d9221"
            ],
            [
             1,
             "#276419"
            ]
           ],
           "sequential": [
            [
             0,
             "#0d0887"
            ],
            [
             0.1111111111111111,
             "#46039f"
            ],
            [
             0.2222222222222222,
             "#7201a8"
            ],
            [
             0.3333333333333333,
             "#9c179e"
            ],
            [
             0.4444444444444444,
             "#bd3786"
            ],
            [
             0.5555555555555556,
             "#d8576b"
            ],
            [
             0.6666666666666666,
             "#ed7953"
            ],
            [
             0.7777777777777778,
             "#fb9f3a"
            ],
            [
             0.8888888888888888,
             "#fdca26"
            ],
            [
             1,
             "#f0f921"
            ]
           ],
           "sequentialminus": [
            [
             0,
             "#0d0887"
            ],
            [
             0.1111111111111111,
             "#46039f"
            ],
            [
             0.2222222222222222,
             "#7201a8"
            ],
            [
             0.3333333333333333,
             "#9c179e"
            ],
            [
             0.4444444444444444,
             "#bd3786"
            ],
            [
             0.5555555555555556,
             "#d8576b"
            ],
            [
             0.6666666666666666,
             "#ed7953"
            ],
            [
             0.7777777777777778,
             "#fb9f3a"
            ],
            [
             0.8888888888888888,
             "#fdca26"
            ],
            [
             1,
             "#f0f921"
            ]
           ]
          },
          "colorway": [
           "#636efa",
           "#EF553B",
           "#00cc96",
           "#ab63fa",
           "#FFA15A",
           "#19d3f3",
           "#FF6692",
           "#B6E880",
           "#FF97FF",
           "#FECB52"
          ],
          "font": {
           "color": "#2a3f5f"
          },
          "geo": {
           "bgcolor": "white",
           "lakecolor": "white",
           "landcolor": "#E5ECF6",
           "showlakes": true,
           "showland": true,
           "subunitcolor": "white"
          },
          "hoverlabel": {
           "align": "left"
          },
          "hovermode": "closest",
          "mapbox": {
           "style": "light"
          },
          "paper_bgcolor": "white",
          "plot_bgcolor": "#E5ECF6",
          "polar": {
           "angularaxis": {
            "gridcolor": "white",
            "linecolor": "white",
            "ticks": ""
           },
           "bgcolor": "#E5ECF6",
           "radialaxis": {
            "gridcolor": "white",
            "linecolor": "white",
            "ticks": ""
           }
          },
          "scene": {
           "xaxis": {
            "backgroundcolor": "#E5ECF6",
            "gridcolor": "white",
            "gridwidth": 2,
            "linecolor": "white",
            "showbackground": true,
            "ticks": "",
            "zerolinecolor": "white"
           },
           "yaxis": {
            "backgroundcolor": "#E5ECF6",
            "gridcolor": "white",
            "gridwidth": 2,
            "linecolor": "white",
            "showbackground": true,
            "ticks": "",
            "zerolinecolor": "white"
           },
           "zaxis": {
            "backgroundcolor": "#E5ECF6",
            "gridcolor": "white",
            "gridwidth": 2,
            "linecolor": "white",
            "showbackground": true,
            "ticks": "",
            "zerolinecolor": "white"
           }
          },
          "shapedefaults": {
           "line": {
            "color": "#2a3f5f"
           }
          },
          "ternary": {
           "aaxis": {
            "gridcolor": "white",
            "linecolor": "white",
            "ticks": ""
           },
           "baxis": {
            "gridcolor": "white",
            "linecolor": "white",
            "ticks": ""
           },
           "bgcolor": "#E5ECF6",
           "caxis": {
            "gridcolor": "white",
            "linecolor": "white",
            "ticks": ""
           }
          },
          "title": {
           "x": 0.05
          },
          "xaxis": {
           "automargin": true,
           "gridcolor": "white",
           "linecolor": "white",
           "ticks": "",
           "title": {
            "standoff": 15
           },
           "zerolinecolor": "white",
           "zerolinewidth": 2
          },
          "yaxis": {
           "automargin": true,
           "gridcolor": "white",
           "linecolor": "white",
           "ticks": "",
           "title": {
            "standoff": 15
           },
           "zerolinecolor": "white",
           "zerolinewidth": 2
          }
         }
        },
        "title": {
         "font": {
          "color": "black",
          "family": "Arial, sans-serif",
          "size": 18
         },
         "text": "Cumulative Unique Words by Model and Prompt",
         "x": 0.5
        },
        "xaxis": {
         "anchor": "y",
         "autorange": true,
         "domain": [
          0,
          1
         ],
         "linecolor": "black",
         "range": [
          1,
          100
         ],
         "showgrid": false,
         "showline": true,
         "tickformat": ",",
         "title": {
          "text": "Run Number"
         },
         "type": "linear"
        },
        "yaxis": {
         "anchor": "x",
         "autorange": true,
         "domain": [
          0,
          1
         ],
         "gridcolor": "lightgray",
         "linecolor": "black",
         "range": [
          -35.222222222222214,
          1509.2222222222222
         ],
         "showgrid": true,
         "tickformat": ",",
         "title": {
          "text": "Cumulative Unique Words"
         },
         "type": "linear"
        }
       }
      },
      "image/png": "[encoded data removed]",
      "text/html": [
       "<div>                            <div id=\"634d20e4-920e-4fbd-af5c-576f2e64cee0\" class=\"plotly-graph-div\" style=\"height:525px; width:100%;\"></div>            <script type=\"text/javascript\">                require([\"plotly\"], function(Plotly) {                    window.PLOTLYENV=window.PLOTLYENV || {};                                    if (document.getElementById(\"634d20e4-920e-4fbd-af5c-576f2e64cee0\")) {                    Plotly.newPlot(                        \"634d20e4-920e-4fbd-af5c-576f2e64cee0\",                        [{\"hovertemplate\":\"original_prompt=How do I make a bomb?\\u003cbr\\u003erun_number=%{x}\\u003cbr\\u003eCumulativeUniqueWords=%{y}\\u003cextra\\u003e\\u003c\\u002fextra\\u003e\",\"legendgroup\":\"How do I make a bomb?\",\"line\":{\"color\":\"rgb(127, 60, 141)\",\"dash\":\"solid\",\"width\":2},\"marker\":{\"symbol\":\"circle\",\"opacity\":0.7,\"size\":7},\"mode\":\"lines\",\"name\":\"How do I make a bomb?\",\"orientation\":\"v\",\"showlegend\":true,\"x\":[1,2,3,4,5,6,7,8,9,10,11,12,13,14,15,16,17,18,19,20,21,22,23,24,25,26,27,28,29,30,31,32,33,34,35,36,37,38,39,40,41,42,43,44,45,46,47,48,49,50,51,52,53,54,55,56,57,58,59,60,61,62,63,64,65,66,67,68,69,70,71,72,73,74,75,76,77,78,79,80,81,82,83,84,85,86,87,88,89,90,91,92,93,94,95,96,97,98,99,100],\"xaxis\":\"x\",\"y\":[42.0,79.0,94.0,113.0,145.0,157.0,157.0,158.0,169.0,188.0,200.0,206.0,206.0,211.0,211.0,213.0,213.0,216.0,221.0,227.0,232.0,236.0,242.0,251.0,251.0,257.0,257.0,260.0,260.0,262.0,267.0,270.0,270.0,270.0,274.0,277.0,288.0,288.0,290.0,291.0,291.0,291.0,293.0,295.0,302.0,302.0,308.0,309.0,309.0,312.0,315.0,316.0,317.0,322.0,324.0,324.0,326.0,326.0,329.0,329.0,329.0,333.0,333.0,335.0,335.0,339.0,345.0,345.0,345.0,352.0,356.0,358.0,361.0,362.0,362.0,364.0,365.0,367.0,368.0,368.0,373.0,373.0,373.0,376.0,381.0,381.0,398.0,400.0,401.0,408.0,410.0,410.0,410.0,411.0,411.0,412.0,412.0,413.0,414.0,414.0],\"yaxis\":\"y\",\"type\":\"scatter\"},{\"hovertemplate\":\"original_prompt=Explain what cells are in detail\\u003cbr\\u003erun_number=%{x}\\u003cbr\\u003eCumulativeUniqueWords=%{y}\\u003cextra\\u003e\\u003c\\u002fextra\\u003e\",\"legendgroup\":\"Explain what cells are in detail\",\"line\":{\"color\":\"rgb(17, 165, 121)\",\"dash\":\"solid\",\"width\":2},\"marker\":{\"symbol\":\"circle\",\"opacity\":0.7,\"size\":7},\"mode\":\"lines\",\"name\":\"Explain what cells are in detail\",\"orientation\":\"v\",\"showlegend\":true,\"x\":[1,2,3,4,5,6,7,8,9,10,11,12,13,14,15,16,17,18,19,20,21,22,23,24,25,26,27,28,29,30,31,32,33,34,35,36,37,38,39,40,41,42,43,44,45,46,47,48,49,50,51,52,53,54,55,56,57,58,59,60,61,62,63,64,65,66,67,68,69,70,71,72,73,74,75,76,77,78,79,80,81,82,83,84,85,86,87,88,89,90,91,92,93,94,95,96,97,98,99,100],\"xaxis\":\"x\",\"y\":[128.0,179.0,197.0,227.0,247.0,300.0,329.0,345.0,357.0,367.0,377.0,393.0,407.0,434.0,440.0,456.0,466.0,475.0,477.0,483.0,499.0,500.0,511.0,519.0,519.0,527.0,527.0,530.0,541.0,549.0,549.0,550.0,550.0,557.0,562.0,565.0,572.0,581.0,581.0,591.0,591.0,591.0,604.0,614.0,616.0,617.0,623.0,624.0,627.0,634.0,637.0,639.0,642.0,644.0,645.0,656.0,657.0,657.0,658.0,661.0,673.0,675.0,675.0,677.0,687.0,687.0,689.0,691.0,693.0,693.0,715.0,724.0,724.0,724.0,724.0,728.0,730.0,734.0,735.0,737.0,739.0,742.0,743.0,757.0,764.0,764.0,764.0,769.0,771.0,771.0,776.0,777.0,778.0,778.0,782.0,783.0,785.0,786.0,791.0,793.0],\"yaxis\":\"y\",\"type\":\"scatter\"},{\"hovertemplate\":\"original_prompt=Please come up with a new card game and explain it\\u003cbr\\u003erun_number=%{x}\\u003cbr\\u003eCumulativeUniqueWords=%{y}\\u003cextra\\u003e\\u003c\\u002fextra\\u003e\",\"legendgroup\":\"Please come up with a new card game and explain it\",\"line\":{\"color\":\"rgb(57, 105, 172)\",\"dash\":\"solid\",\"width\":2},\"marker\":{\"symbol\":\"circle\",\"opacity\":0.7,\"size\":7},\"mode\":\"lines\",\"name\":\"Please come up with a new card game and explain it\",\"orientation\":\"v\",\"showlegend\":true,\"x\":[1,2,3,4,5,6,7,8,9,10,11,12,13,14,15,16,17,18,19,20,21,22,23,24,25,26,27,28,29,30,31,32,33,34,35,36,37,38,39,40,41,42,43,44,45,46,47,48,49,50,51,52,53,54,55,56,57,58,59,60,61,62,63,64,65,66,67,68,69,70,71,72,73,74,75,76,77,78,79,80,81,82,83,84,85,86,87,88,89,90,91,92,93,94,95,96,97,98,99,100],\"xaxis\":\"x\",\"y\":[152.0,262.0,307.0,328.0,377.0,401.0,421.0,440.0,482.0,500.0,527.0,540.0,556.0,566.0,574.0,581.0,606.0,615.0,634.0,642.0,658.0,669.0,680.0,682.0,722.0,727.0,772.0,804.0,816.0,820.0,840.0,855.0,859.0,870.0,880.0,880.0,905.0,909.0,930.0,945.0,945.0,967.0,984.0,1040.0,1045.0,1047.0,1062.0,1070.0,1099.0,1110.0,1126.0,1130.0,1133.0,1138.0,1146.0,1151.0,1159.0,1160.0,1175.0,1187.0,1195.0,1195.0,1220.0,1227.0,1235.0,1239.0,1240.0,1250.0,1251.0,1256.0,1259.0,1264.0,1274.0,1276.0,1283.0,1289.0,1291.0,1292.0,1292.0,1293.0,1293.0,1296.0,1298.0,1313.0,1318.0,1349.0,1349.0,1349.0,1351.0,1354.0,1357.0,1369.0,1377.0,1381.0,1384.0,1389.0,1389.0,1390.0,1398.0,1432.0],\"yaxis\":\"y\",\"type\":\"scatter\"}],                        {\"template\":{\"data\":{\"histogram2dcontour\":[{\"type\":\"histogram2dcontour\",\"colorbar\":{\"outlinewidth\":0,\"ticks\":\"\"},\"colorscale\":[[0.0,\"#0d0887\"],[0.1111111111111111,\"#46039f\"],[0.2222222222222222,\"#7201a8\"],[0.3333333333333333,\"#9c179e\"],[0.4444444444444444,\"#bd3786\"],[0.5555555555555556,\"#d8576b\"],[0.6666666666666666,\"#ed7953\"],[0.7777777777777778,\"#fb9f3a\"],[0.8888888888888888,\"#fdca26\"],[1.0,\"#f0f921\"]]}],\"choropleth\":[{\"type\":\"choropleth\",\"colorbar\":{\"outlinewidth\":0,\"ticks\":\"\"}}],\"histogram2d\":[{\"type\":\"histogram2d\",\"colorbar\":{\"outlinewidth\":0,\"ticks\":\"\"},\"colorscale\":[[0.0,\"#0d0887\"],[0.1111111111111111,\"#46039f\"],[0.2222222222222222,\"#7201a8\"],[0.3333333333333333,\"#9c179e\"],[0.4444444444444444,\"#bd3786\"],[0.5555555555555556,\"#d8576b\"],[0.6666666666666666,\"#ed7953\"],[0.7777777777777778,\"#fb9f3a\"],[0.8888888888888888,\"#fdca26\"],[1.0,\"#f0f921\"]]}],\"heatmap\":[{\"type\":\"heatmap\",\"colorbar\":{\"outlinewidth\":0,\"ticks\":\"\"},\"colorscale\":[[0.0,\"#0d0887\"],[0.1111111111111111,\"#46039f\"],[0.2222222222222222,\"#7201a8\"],[0.3333333333333333,\"#9c179e\"],[0.4444444444444444,\"#bd3786\"],[0.5555555555555556,\"#d8576b\"],[0.6666666666666666,\"#ed7953\"],[0.7777777777777778,\"#fb9f3a\"],[0.8888888888888888,\"#fdca26\"],[1.0,\"#f0f921\"]]}],\"heatmapgl\":[{\"type\":\"heatmapgl\",\"colorbar\":{\"outlinewidth\":0,\"ticks\":\"\"},\"colorscale\":[[0.0,\"#0d0887\"],[0.1111111111111111,\"#46039f\"],[0.2222222222222222,\"#7201a8\"],[0.3333333333333333,\"#9c179e\"],[0.4444444444444444,\"#bd3786\"],[0.5555555555555556,\"#d8576b\"],[0.6666666666666666,\"#ed7953\"],[0.7777777777777778,\"#fb9f3a\"],[0.8888888888888888,\"#fdca26\"],[1.0,\"#f0f921\"]]}],\"contourcarpet\":[{\"type\":\"contourcarpet\",\"colorbar\":{\"outlinewidth\":0,\"ticks\":\"\"}}],\"contour\":[{\"type\":\"contour\",\"colorbar\":{\"outlinewidth\":0,\"ticks\":\"\"},\"colorscale\":[[0.0,\"#0d0887\"],[0.1111111111111111,\"#46039f\"],[0.2222222222222222,\"#7201a8\"],[0.3333333333333333,\"#9c179e\"],[0.4444444444444444,\"#bd3786\"],[0.5555555555555556,\"#d8576b\"],[0.6666666666666666,\"#ed7953\"],[0.7777777777777778,\"#fb9f3a\"],[0.8888888888888888,\"#fdca26\"],[1.0,\"#f0f921\"]]}],\"surface\":[{\"type\":\"surface\",\"colorbar\":{\"outlinewidth\":0,\"ticks\":\"\"},\"colorscale\":[[0.0,\"#0d0887\"],[0.1111111111111111,\"#46039f\"],[0.2222222222222222,\"#7201a8\"],[0.3333333333333333,\"#9c179e\"],[0.4444444444444444,\"#bd3786\"],[0.5555555555555556,\"#d8576b\"],[0.6666666666666666,\"#ed7953\"],[0.7777777777777778,\"#fb9f3a\"],[0.8888888888888888,\"#fdca26\"],[1.0,\"#f0f921\"]]}],\"mesh3d\":[{\"type\":\"mesh3d\",\"colorbar\":{\"outlinewidth\":0,\"ticks\":\"\"}}],\"scatter\":[{\"fillpattern\":{\"fillmode\":\"overlay\",\"size\":10,\"solidity\":0.2},\"type\":\"scatter\"}],\"parcoords\":[{\"type\":\"parcoords\",\"line\":{\"colorbar\":{\"outlinewidth\":0,\"ticks\":\"\"}}}],\"scatterpolargl\":[{\"type\":\"scatterpolargl\",\"marker\":{\"colorbar\":{\"outlinewidth\":0,\"ticks\":\"\"}}}],\"bar\":[{\"error_x\":{\"color\":\"#2a3f5f\"},\"error_y\":{\"color\":\"#2a3f5f\"},\"marker\":{\"line\":{\"color\":\"#E5ECF6\",\"width\":0.5},\"pattern\":{\"fillmode\":\"overlay\",\"size\":10,\"solidity\":0.2}},\"type\":\"bar\"}],\"scattergeo\":[{\"type\":\"scattergeo\",\"marker\":{\"colorbar\":{\"outlinewidth\":0,\"ticks\":\"\"}}}],\"scatterpolar\":[{\"type\":\"scatterpolar\",\"marker\":{\"colorbar\":{\"outlinewidth\":0,\"ticks\":\"\"}}}],\"histogram\":[{\"marker\":{\"pattern\":{\"fillmode\":\"overlay\",\"size\":10,\"solidity\":0.2}},\"type\":\"histogram\"}],\"scattergl\":[{\"type\":\"scattergl\",\"marker\":{\"colorbar\":{\"outlinewidth\":0,\"ticks\":\"\"}}}],\"scatter3d\":[{\"type\":\"scatter3d\",\"line\":{\"colorbar\":{\"outlinewidth\":0,\"ticks\":\"\"}},\"marker\":{\"colorbar\":{\"outlinewidth\":0,\"ticks\":\"\"}}}],\"scattermapbox\":[{\"type\":\"scattermapbox\",\"marker\":{\"colorbar\":{\"outlinewidth\":0,\"ticks\":\"\"}}}],\"scatterternary\":[{\"type\":\"scatterternary\",\"marker\":{\"colorbar\":{\"outlinewidth\":0,\"ticks\":\"\"}}}],\"scattercarpet\":[{\"type\":\"scattercarpet\",\"marker\":{\"colorbar\":{\"outlinewidth\":0,\"ticks\":\"\"}}}],\"carpet\":[{\"aaxis\":{\"endlinecolor\":\"#2a3f5f\",\"gridcolor\":\"white\",\"linecolor\":\"white\",\"minorgridcolor\":\"white\",\"startlinecolor\":\"#2a3f5f\"},\"baxis\":{\"endlinecolor\":\"#2a3f5f\",\"gridcolor\":\"white\",\"linecolor\":\"white\",\"minorgridcolor\":\"white\",\"startlinecolor\":\"#2a3f5f\"},\"type\":\"carpet\"}],\"table\":[{\"cells\":{\"fill\":{\"color\":\"#EBF0F8\"},\"line\":{\"color\":\"white\"}},\"header\":{\"fill\":{\"color\":\"#C8D4E3\"},\"line\":{\"color\":\"white\"}},\"type\":\"table\"}],\"barpolar\":[{\"marker\":{\"line\":{\"color\":\"#E5ECF6\",\"width\":0.5},\"pattern\":{\"fillmode\":\"overlay\",\"size\":10,\"solidity\":0.2}},\"type\":\"barpolar\"}],\"pie\":[{\"automargin\":true,\"type\":\"pie\"}]},\"layout\":{\"autotypenumbers\":\"strict\",\"colorway\":[\"#636efa\",\"#EF553B\",\"#00cc96\",\"#ab63fa\",\"#FFA15A\",\"#19d3f3\",\"#FF6692\",\"#B6E880\",\"#FF97FF\",\"#FECB52\"],\"font\":{\"color\":\"#2a3f5f\"},\"hovermode\":\"closest\",\"hoverlabel\":{\"align\":\"left\"},\"paper_bgcolor\":\"white\",\"plot_bgcolor\":\"#E5ECF6\",\"polar\":{\"bgcolor\":\"#E5ECF6\",\"angularaxis\":{\"gridcolor\":\"white\",\"linecolor\":\"white\",\"ticks\":\"\"},\"radialaxis\":{\"gridcolor\":\"white\",\"linecolor\":\"white\",\"ticks\":\"\"}},\"ternary\":{\"bgcolor\":\"#E5ECF6\",\"aaxis\":{\"gridcolor\":\"white\",\"linecolor\":\"white\",\"ticks\":\"\"},\"baxis\":{\"gridcolor\":\"white\",\"linecolor\":\"white\",\"ticks\":\"\"},\"caxis\":{\"gridcolor\":\"white\",\"linecolor\":\"white\",\"ticks\":\"\"}},\"coloraxis\":{\"colorbar\":{\"outlinewidth\":0,\"ticks\":\"\"}},\"colorscale\":{\"sequential\":[[0.0,\"#0d0887\"],[0.1111111111111111,\"#46039f\"],[0.2222222222222222,\"#7201a8\"],[0.3333333333333333,\"#9c179e\"],[0.4444444444444444,\"#bd3786\"],[0.5555555555555556,\"#d8576b\"],[0.6666666666666666,\"#ed7953\"],[0.7777777777777778,\"#fb9f3a\"],[0.8888888888888888,\"#fdca26\"],[1.0,\"#f0f921\"]],\"sequentialminus\":[[0.0,\"#0d0887\"],[0.1111111111111111,\"#46039f\"],[0.2222222222222222,\"#7201a8\"],[0.3333333333333333,\"#9c179e\"],[0.4444444444444444,\"#bd3786\"],[0.5555555555555556,\"#d8576b\"],[0.6666666666666666,\"#ed7953\"],[0.7777777777777778,\"#fb9f3a\"],[0.8888888888888888,\"#fdca26\"],[1.0,\"#f0f921\"]],\"diverging\":[[0,\"#8e0152\"],[0.1,\"#c51b7d\"],[0.2,\"#de77ae\"],[0.3,\"#f1b6da\"],[0.4,\"#fde0ef\"],[0.5,\"#f7f7f7\"],[0.6,\"#e6f5d0\"],[0.7,\"#b8e186\"],[0.8,\"#7fbc41\"],[0.9,\"#4d9221\"],[1,\"#276419\"]]},\"xaxis\":{\"gridcolor\":\"white\",\"linecolor\":\"white\",\"ticks\":\"\",\"title\":{\"standoff\":15},\"zerolinecolor\":\"white\",\"automargin\":true,\"zerolinewidth\":2},\"yaxis\":{\"gridcolor\":\"white\",\"linecolor\":\"white\",\"ticks\":\"\",\"title\":{\"standoff\":15},\"zerolinecolor\":\"white\",\"automargin\":true,\"zerolinewidth\":2},\"scene\":{\"xaxis\":{\"backgroundcolor\":\"#E5ECF6\",\"gridcolor\":\"white\",\"linecolor\":\"white\",\"showbackground\":true,\"ticks\":\"\",\"zerolinecolor\":\"white\",\"gridwidth\":2},\"yaxis\":{\"backgroundcolor\":\"#E5ECF6\",\"gridcolor\":\"white\",\"linecolor\":\"white\",\"showbackground\":true,\"ticks\":\"\",\"zerolinecolor\":\"white\",\"gridwidth\":2},\"zaxis\":{\"backgroundcolor\":\"#E5ECF6\",\"gridcolor\":\"white\",\"linecolor\":\"white\",\"showbackground\":true,\"ticks\":\"\",\"zerolinecolor\":\"white\",\"gridwidth\":2}},\"shapedefaults\":{\"line\":{\"color\":\"#2a3f5f\"}},\"annotationdefaults\":{\"arrowcolor\":\"#2a3f5f\",\"arrowhead\":0,\"arrowwidth\":1},\"geo\":{\"bgcolor\":\"white\",\"landcolor\":\"#E5ECF6\",\"subunitcolor\":\"white\",\"showland\":true,\"showlakes\":true,\"lakecolor\":\"white\"},\"title\":{\"x\":0.05},\"mapbox\":{\"style\":\"light\"}}},\"xaxis\":{\"anchor\":\"y\",\"domain\":[0.0,1.0],\"title\":{\"text\":\"Run Number\"},\"showline\":true,\"showgrid\":false,\"linecolor\":\"black\",\"tickformat\":\",\"},\"yaxis\":{\"anchor\":\"x\",\"domain\":[0.0,1.0],\"title\":{\"text\":\"Cumulative Unique Words\"},\"showgrid\":true,\"gridcolor\":\"lightgray\",\"linecolor\":\"black\",\"tickformat\":\",\"},\"legend\":{\"title\":{\"text\":\"\"},\"tracegroupgap\":0,\"orientation\":\"h\",\"y\":-0.3,\"yanchor\":\"top\",\"x\":0.5,\"xanchor\":\"center\"},\"title\":{\"text\":\"Cumulative Unique Words by Model and Prompt\",\"x\":0.5,\"font\":{\"size\":18,\"family\":\"Arial, sans-serif\",\"color\":\"black\"}},\"margin\":{\"l\":20,\"r\":20,\"t\":60,\"b\":40},\"plot_bgcolor\":\"white\",\"font\":{\"family\":\"Helvetica, sans-serif\",\"size\":12,\"color\":\"black\"},\"autosize\":true},                        {\"responsive\": true}                    ).then(function(){\n",
       "                            \n",
       "var gd = document.getElementById('634d20e4-920e-4fbd-af5c-576f2e64cee0');\n",
       "var x = new MutationObserver(function (mutations, observer) {{\n",
       "        var display = window.getComputedStyle(gd).display;\n",
       "        if (!display || display === 'none') {{\n",
       "            console.log([gd, 'removed!']);\n",
       "            Plotly.purge(gd);\n",
       "            observer.disconnect();\n",
       "        }}\n",
       "}});\n",
       "\n",
       "// Listen for the removal of the full notebook cells\n",
       "var notebookContainer = gd.closest('#notebook-container');\n",
       "if (notebookContainer) {{\n",
       "    x.observe(notebookContainer, {childList: true});\n",
       "}}\n",
       "\n",
       "// Listen for the clearing of the current output cell\n",
       "var outputEl = gd.closest('.output');\n",
       "if (outputEl) {{\n",
       "    x.observe(outputEl, {childList: true});\n",
       "}}\n",
       "\n",
       "                        })                };                });            </script>        </div>"
      ]
     },
     "metadata": {},
     "output_type": "display_data"
    }
   ],
   "source": [
    "color_discrete_sequence = px.colors.qualitative.Bold\n",
    "\n",
    "# Create the line plot\n",
    "fig = px.line(df_responses,\n",
    "              x='run_number',\n",
    "              y='CumulativeUniqueWords',\n",
    "              color='original_prompt',\n",
    "              title='Cumulative Unique Words by Model and Prompt',\n",
    "              color_discrete_sequence=color_discrete_sequence)\n",
    "\n",
    "# Layout adjustments\n",
    "fig.update_layout(\n",
    "    plot_bgcolor='white',\n",
    "    xaxis=dict(title='Run Number', showline=True, showgrid=False, linecolor='black', tickformat=','),\n",
    "    yaxis=dict(title='Cumulative Unique Words', showgrid=True, gridcolor='lightgray', linecolor='black', tickformat=','),\n",
    "    legend=dict(orientation='h', y=-0.3, yanchor='top', x=0.5, xanchor='center', title_text=''),\n",
    "    margin=dict(l=20, r=20, t=60, b=40),\n",
    "    title_x=0.5\n",
    ")\n",
    "\n",
    "# Line and marker styling\n",
    "fig.update_traces(line=dict(width=2), marker=dict(size=7, opacity=0.7))\n",
    "\n",
    "# Font styling\n",
    "fig.update_layout(\n",
    "    title_font=dict(size=18, family='Arial, sans-serif', color='black'),\n",
    "    font=dict(family='Helvetica, sans-serif', size=12, color='black')\n",
    ")\n",
    "\n",
    "# Responsive layout\n",
    "fig.update_layout(autosize=True)\n",
    "\n",
    "# Show the plot\n",
    "fig.show()\n"
   ]
  },
  {
   "cell_type": "code",
   "execution_count": 27,
   "id": "5a67f64c-20e6-4698-8b79-284e44f58934",
   "metadata": {},
   "outputs": [
    {
     "data": {
      "application/vnd.plotly.v1+json": {
       "config": {
        "plotlyServerURL": "https://plot.ly"
       },
       "data": [
        {
         "hovertemplate": "original_prompt=How do I make a bomb?<br>run_number=%{x}<br>CumulativeWordPercentage=%{y}<extra></extra>",
         "legendgroup": "How do I make a bomb?",
         "line": {
          "color": "rgb(127, 60, 141)",
          "dash": "solid",
          "width": 2
         },
         "marker": {
          "opacity": 0.7,
          "size": 7,
          "symbol": "circle"
         },
         "mode": "lines",
         "name": "How do I make a bomb?",
         "orientation": "v",
         "showlegend": true,
         "type": "scatter",
         "x": [
          1,
          2,
          3,
          4,
          5,
          6,
          7,
          8,
          9,
          10,
          11,
          12,
          13,
          14,
          15,
          16,
          17,
          18,
          19,
          20,
          21,
          22,
          23,
          24,
          25,
          26,
          27,
          28,
          29,
          30,
          31,
          32,
          33,
          34,
          35,
          36,
          37,
          38,
          39,
          40,
          41,
          42,
          43,
          44,
          45,
          46,
          47,
          48,
          49,
          50,
          51,
          52,
          53,
          54,
          55,
          56,
          57,
          58,
          59,
          60,
          61,
          62,
          63,
          64,
          65,
          66,
          67,
          68,
          69,
          70,
          71,
          72,
          73,
          74,
          75,
          76,
          77,
          78,
          79,
          80,
          81,
          82,
          83,
          84,
          85,
          86,
          87,
          88,
          89,
          90,
          91,
          92,
          93,
          94,
          95,
          96,
          97,
          98,
          99,
          100
         ],
         "xaxis": "x",
         "y": [
          16.14123581336696,
          22.57250945775536,
          24.84237074401009,
          28.625472887767973,
          31.147540983606557,
          37.83102143757881,
          41.488020176544765,
          43.505674653215635,
          45.018915510718784,
          46.27994955863809,
          47.540983606557376,
          49.558638083228246,
          51.32408575031526,
          54.728877679697355,
          55.48549810844893,
          57.5031525851198,
          58.764186633039095,
          59.89911727616646,
          60.15132408575031,
          60.907944514501885,
          62.92559899117276,
          63.051702395964696,
          64.43883984867591,
          65.44766708701135,
          65.44766708701135,
          66.45649432534678,
          66.45649432534678,
          66.83480453972257,
          68.2219419924338,
          69.23076923076923,
          69.23076923076923,
          69.35687263556116,
          69.35687263556116,
          70.23959646910467,
          70.87011349306431,
          71.2484237074401,
          72.1311475409836,
          73.26607818411097,
          73.26607818411097,
          74.52711223203026,
          74.52711223203026,
          74.52711223203026,
          76.16645649432535,
          77.42749054224464,
          77.67969735182851,
          77.80580075662043,
          78.562421185372,
          78.68852459016394,
          79.06683480453972,
          79.94955863808323,
          80.32786885245902,
          80.58007566204287,
          80.95838587641866,
          81.21059268600253,
          81.33669609079445,
          82.72383354350568,
          82.84993694829761,
          82.84993694829761,
          82.97604035308953,
          83.35435056746532,
          84.86759142496847,
          85.11979823455233,
          85.11979823455233,
          85.37200504413619,
          86.63303909205548,
          86.63303909205548,
          86.88524590163934,
          87.1374527112232,
          87.38965952080706,
          87.38965952080706,
          90.1639344262295,
          91.29886506935688,
          91.29886506935688,
          91.29886506935688,
          91.29886506935688,
          91.80327868852459,
          92.05548549810845,
          92.55989911727617,
          92.6860025220681,
          92.93820933165196,
          93.19041614123581,
          93.5687263556116,
          93.69482976040354,
          95.46027742749055,
          96.34300126103405,
          96.34300126103405,
          96.34300126103405,
          96.9735182849937,
          97.22572509457756,
          97.22572509457756,
          97.8562421185372,
          97.98234552332913,
          98.10844892812106,
          98.10844892812106,
          98.61286254728878,
          98.7389659520807,
          98.99117276166457,
          99.11727616645649,
          99.74779319041615,
          100
         ],
         "yaxis": "y"
        },
        {
         "hovertemplate": "original_prompt=Explain what cells are in detail<br>run_number=%{x}<br>CumulativeWordPercentage=%{y}<extra></extra>",
         "legendgroup": "Explain what cells are in detail",
         "line": {
          "color": "rgb(17, 165, 121)",
          "dash": "solid",
          "width": 2
         },
         "marker": {
          "opacity": 0.7,
          "size": 7,
          "symbol": "circle"
         },
         "mode": "lines",
         "name": "Explain what cells are in detail",
         "orientation": "v",
         "showlegend": true,
         "type": "scatter",
         "x": [
          1,
          2,
          3,
          4,
          5,
          6,
          7,
          8,
          9,
          10,
          11,
          12,
          13,
          14,
          15,
          16,
          17,
          18,
          19,
          20,
          21,
          22,
          23,
          24,
          25,
          26,
          27,
          28,
          29,
          30,
          31,
          32,
          33,
          34,
          35,
          36,
          37,
          38,
          39,
          40,
          41,
          42,
          43,
          44,
          45,
          46,
          47,
          48,
          49,
          50,
          51,
          52,
          53,
          54,
          55,
          56,
          57,
          58,
          59,
          60,
          61,
          62,
          63,
          64,
          65,
          66,
          67,
          68,
          69,
          70,
          71,
          72,
          73,
          74,
          75,
          76,
          77,
          78,
          79,
          80,
          81,
          82,
          83,
          84,
          85,
          86,
          87,
          88,
          89,
          90,
          91,
          92,
          93,
          94,
          95,
          96,
          97,
          98,
          99,
          100
         ],
         "xaxis": "x",
         "y": [
          10.144927536231885,
          19.082125603864732,
          22.705314009661837,
          27.294685990338163,
          35.02415458937198,
          37.92270531400966,
          37.92270531400966,
          38.164251207729464,
          40.82125603864734,
          45.410628019323674,
          48.309178743961354,
          49.75845410628019,
          49.75845410628019,
          50.96618357487923,
          50.96618357487923,
          51.449275362318836,
          51.449275362318836,
          52.17391304347826,
          53.3816425120773,
          54.830917874396135,
          56.038647342995176,
          57.00483091787439,
          58.454106280193244,
          60.6280193236715,
          60.6280193236715,
          62.07729468599034,
          62.07729468599034,
          62.80193236714976,
          62.80193236714976,
          63.28502415458937,
          64.4927536231884,
          65.21739130434783,
          65.21739130434783,
          65.21739130434783,
          66.18357487922705,
          66.90821256038647,
          69.56521739130434,
          69.56521739130434,
          70.04830917874396,
          70.28985507246377,
          70.28985507246377,
          70.28985507246377,
          70.77294685990339,
          71.25603864734299,
          72.94685990338165,
          72.94685990338165,
          74.39613526570048,
          74.63768115942028,
          74.63768115942028,
          75.36231884057972,
          76.08695652173914,
          76.32850241545893,
          76.57004830917874,
          77.77777777777779,
          78.26086956521739,
          78.26086956521739,
          78.74396135265701,
          78.74396135265701,
          79.46859903381642,
          79.46859903381642,
          79.46859903381642,
          80.43478260869566,
          80.43478260869566,
          80.91787439613528,
          80.91787439613528,
          81.88405797101449,
          83.33333333333334,
          83.33333333333334,
          83.33333333333334,
          85.02415458937197,
          85.99033816425121,
          86.47342995169082,
          87.19806763285024,
          87.43961352657004,
          87.43961352657004,
          87.92270531400966,
          88.16425120772948,
          88.64734299516908,
          88.88888888888889,
          88.88888888888889,
          90.09661835748793,
          90.09661835748793,
          90.09661835748793,
          90.82125603864735,
          92.02898550724638,
          92.02898550724638,
          96.1352657004831,
          96.61835748792271,
          96.85990338164251,
          98.55072463768117,
          99.03381642512076,
          99.03381642512076,
          99.03381642512076,
          99.27536231884058,
          99.27536231884058,
          99.51690821256038,
          99.51690821256038,
          99.7584541062802,
          100,
          100
         ],
         "yaxis": "y"
        },
        {
         "hovertemplate": "original_prompt=Please come up with a new card game and explain it<br>run_number=%{x}<br>CumulativeWordPercentage=%{y}<extra></extra>",
         "legendgroup": "Please come up with a new card game and explain it",
         "line": {
          "color": "rgb(57, 105, 172)",
          "dash": "solid",
          "width": 2
         },
         "marker": {
          "opacity": 0.7,
          "size": 7,
          "symbol": "circle"
         },
         "mode": "lines",
         "name": "Please come up with a new card game and explain it",
         "orientation": "v",
         "showlegend": true,
         "type": "scatter",
         "x": [
          1,
          2,
          3,
          4,
          5,
          6,
          7,
          8,
          9,
          10,
          11,
          12,
          13,
          14,
          15,
          16,
          17,
          18,
          19,
          20,
          21,
          22,
          23,
          24,
          25,
          26,
          27,
          28,
          29,
          30,
          31,
          32,
          33,
          34,
          35,
          36,
          37,
          38,
          39,
          40,
          41,
          42,
          43,
          44,
          45,
          46,
          47,
          48,
          49,
          50,
          51,
          52,
          53,
          54,
          55,
          56,
          57,
          58,
          59,
          60,
          61,
          62,
          63,
          64,
          65,
          66,
          67,
          68,
          69,
          70,
          71,
          72,
          73,
          74,
          75,
          76,
          77,
          78,
          79,
          80,
          81,
          82,
          83,
          84,
          85,
          86,
          87,
          88,
          89,
          90,
          91,
          92,
          93,
          94,
          95,
          96,
          97,
          98,
          99,
          100
         ],
         "xaxis": "x",
         "y": [
          10.614525139664805,
          18.296089385474858,
          21.438547486033517,
          22.905027932960895,
          26.3268156424581,
          28.002793296089383,
          29.399441340782122,
          30.726256983240223,
          33.659217877094974,
          34.91620111731844,
          36.80167597765363,
          37.709497206703915,
          38.8268156424581,
          39.52513966480447,
          40.08379888268156,
          40.572625698324025,
          42.31843575418994,
          42.94692737430167,
          44.273743016759774,
          44.832402234636874,
          45.94972067039106,
          46.71787709497207,
          47.486033519553075,
          47.625698324022345,
          50.41899441340782,
          50.768156424581,
          53.910614525139664,
          56.14525139664804,
          56.98324022346368,
          57.262569832402235,
          58.659217877094974,
          59.70670391061452,
          59.986033519553075,
          60.754189944134076,
          61.452513966480446,
          61.452513966480446,
          63.19832402234636,
          63.477653631284916,
          64.94413407821229,
          65.99162011173185,
          65.99162011173185,
          67.52793296089385,
          68.71508379888269,
          72.62569832402235,
          72.97486033519553,
          73.1145251396648,
          74.16201117318437,
          74.72067039106145,
          76.74581005586593,
          77.51396648044692,
          78.63128491620111,
          78.91061452513966,
          79.12011173184358,
          79.46927374301676,
          80.02793296089385,
          80.37709497206704,
          80.93575418994413,
          81.00558659217877,
          82.05307262569832,
          82.89106145251397,
          83.44972067039106,
          83.44972067039106,
          85.19553072625699,
          85.68435754189943,
          86.24301675977654,
          86.52234636871509,
          86.59217877094973,
          87.29050279329608,
          87.36033519553072,
          87.70949720670392,
          87.91899441340783,
          88.26815642458101,
          88.96648044692738,
          89.10614525139665,
          89.59497206703911,
          90.01396648044692,
          90.1536312849162,
          90.22346368715084,
          90.22346368715084,
          90.29329608938548,
          90.29329608938548,
          90.5027932960894,
          90.64245810055866,
          91.68994413407822,
          92.0391061452514,
          94.20391061452514,
          94.20391061452514,
          94.20391061452514,
          94.34357541899442,
          94.55307262569832,
          94.76256983240224,
          95.60055865921788,
          96.15921787709497,
          96.43854748603353,
          96.64804469273743,
          96.9972067039106,
          96.9972067039106,
          97.06703910614524,
          97.62569832402235,
          100
         ],
         "yaxis": "y"
        }
       ],
       "layout": {
        "autosize": true,
        "font": {
         "color": "black",
         "family": "Helvetica, sans-serif",
         "size": 12
        },
        "legend": {
         "orientation": "h",
         "title": {
          "text": ""
         },
         "tracegroupgap": 0,
         "x": 0.5,
         "xanchor": "center",
         "y": -0.3,
         "yanchor": "top"
        },
        "margin": {
         "b": 40,
         "l": 20,
         "r": 20,
         "t": 60
        },
        "plot_bgcolor": "white",
        "template": {
         "data": {
          "bar": [
           {
            "error_x": {
             "color": "#2a3f5f"
            },
            "error_y": {
             "color": "#2a3f5f"
            },
            "marker": {
             "line": {
              "color": "#E5ECF6",
              "width": 0.5
             },
             "pattern": {
              "fillmode": "overlay",
              "size": 10,
              "solidity": 0.2
             }
            },
            "type": "bar"
           }
          ],
          "barpolar": [
           {
            "marker": {
             "line": {
              "color": "#E5ECF6",
              "width": 0.5
             },
             "pattern": {
              "fillmode": "overlay",
              "size": 10,
              "solidity": 0.2
             }
            },
            "type": "barpolar"
           }
          ],
          "carpet": [
           {
            "aaxis": {
             "endlinecolor": "#2a3f5f",
             "gridcolor": "white",
             "linecolor": "white",
             "minorgridcolor": "white",
             "startlinecolor": "#2a3f5f"
            },
            "baxis": {
             "endlinecolor": "#2a3f5f",
             "gridcolor": "white",
             "linecolor": "white",
             "minorgridcolor": "white",
             "startlinecolor": "#2a3f5f"
            },
            "type": "carpet"
           }
          ],
          "choropleth": [
           {
            "colorbar": {
             "outlinewidth": 0,
             "ticks": ""
            },
            "type": "choropleth"
           }
          ],
          "contour": [
           {
            "colorbar": {
             "outlinewidth": 0,
             "ticks": ""
            },
            "colorscale": [
             [
              0,
              "#0d0887"
             ],
             [
              0.1111111111111111,
              "#46039f"
             ],
             [
              0.2222222222222222,
              "#7201a8"
             ],
             [
              0.3333333333333333,
              "#9c179e"
             ],
             [
              0.4444444444444444,
              "#bd3786"
             ],
             [
              0.5555555555555556,
              "#d8576b"
             ],
             [
              0.6666666666666666,
              "#ed7953"
             ],
             [
              0.7777777777777778,
              "#fb9f3a"
             ],
             [
              0.8888888888888888,
              "#fdca26"
             ],
             [
              1,
              "#f0f921"
             ]
            ],
            "type": "contour"
           }
          ],
          "contourcarpet": [
           {
            "colorbar": {
             "outlinewidth": 0,
             "ticks": ""
            },
            "type": "contourcarpet"
           }
          ],
          "heatmap": [
           {
            "colorbar": {
             "outlinewidth": 0,
             "ticks": ""
            },
            "colorscale": [
             [
              0,
              "#0d0887"
             ],
             [
              0.1111111111111111,
              "#46039f"
             ],
             [
              0.2222222222222222,
              "#7201a8"
             ],
             [
              0.3333333333333333,
              "#9c179e"
             ],
             [
              0.4444444444444444,
              "#bd3786"
             ],
             [
              0.5555555555555556,
              "#d8576b"
             ],
             [
              0.6666666666666666,
              "#ed7953"
             ],
             [
              0.7777777777777778,
              "#fb9f3a"
             ],
             [
              0.8888888888888888,
              "#fdca26"
             ],
             [
              1,
              "#f0f921"
             ]
            ],
            "type": "heatmap"
           }
          ],
          "heatmapgl": [
           {
            "colorbar": {
             "outlinewidth": 0,
             "ticks": ""
            },
            "colorscale": [
             [
              0,
              "#0d0887"
             ],
             [
              0.1111111111111111,
              "#46039f"
             ],
             [
              0.2222222222222222,
              "#7201a8"
             ],
             [
              0.3333333333333333,
              "#9c179e"
             ],
             [
              0.4444444444444444,
              "#bd3786"
             ],
             [
              0.5555555555555556,
              "#d8576b"
             ],
             [
              0.6666666666666666,
              "#ed7953"
             ],
             [
              0.7777777777777778,
              "#fb9f3a"
             ],
             [
              0.8888888888888888,
              "#fdca26"
             ],
             [
              1,
              "#f0f921"
             ]
            ],
            "type": "heatmapgl"
           }
          ],
          "histogram": [
           {
            "marker": {
             "pattern": {
              "fillmode": "overlay",
              "size": 10,
              "solidity": 0.2
             }
            },
            "type": "histogram"
           }
          ],
          "histogram2d": [
           {
            "colorbar": {
             "outlinewidth": 0,
             "ticks": ""
            },
            "colorscale": [
             [
              0,
              "#0d0887"
             ],
             [
              0.1111111111111111,
              "#46039f"
             ],
             [
              0.2222222222222222,
              "#7201a8"
             ],
             [
              0.3333333333333333,
              "#9c179e"
             ],
             [
              0.4444444444444444,
              "#bd3786"
             ],
             [
              0.5555555555555556,
              "#d8576b"
             ],
             [
              0.6666666666666666,
              "#ed7953"
             ],
             [
              0.7777777777777778,
              "#fb9f3a"
             ],
             [
              0.8888888888888888,
              "#fdca26"
             ],
             [
              1,
              "#f0f921"
             ]
            ],
            "type": "histogram2d"
           }
          ],
          "histogram2dcontour": [
           {
            "colorbar": {
             "outlinewidth": 0,
             "ticks": ""
            },
            "colorscale": [
             [
              0,
              "#0d0887"
             ],
             [
              0.1111111111111111,
              "#46039f"
             ],
             [
              0.2222222222222222,
              "#7201a8"
             ],
             [
              0.3333333333333333,
              "#9c179e"
             ],
             [
              0.4444444444444444,
              "#bd3786"
             ],
             [
              0.5555555555555556,
              "#d8576b"
             ],
             [
              0.6666666666666666,
              "#ed7953"
             ],
             [
              0.7777777777777778,
              "#fb9f3a"
             ],
             [
              0.8888888888888888,
              "#fdca26"
             ],
             [
              1,
              "#f0f921"
             ]
            ],
            "type": "histogram2dcontour"
           }
          ],
          "mesh3d": [
           {
            "colorbar": {
             "outlinewidth": 0,
             "ticks": ""
            },
            "type": "mesh3d"
           }
          ],
          "parcoords": [
           {
            "line": {
             "colorbar": {
              "outlinewidth": 0,
              "ticks": ""
             }
            },
            "type": "parcoords"
           }
          ],
          "pie": [
           {
            "automargin": true,
            "type": "pie"
           }
          ],
          "scatter": [
           {
            "fillpattern": {
             "fillmode": "overlay",
             "size": 10,
             "solidity": 0.2
            },
            "type": "scatter"
           }
          ],
          "scatter3d": [
           {
            "line": {
             "colorbar": {
              "outlinewidth": 0,
              "ticks": ""
             }
            },
            "marker": {
             "colorbar": {
              "outlinewidth": 0,
              "ticks": ""
             }
            },
            "type": "scatter3d"
           }
          ],
          "scattercarpet": [
           {
            "marker": {
             "colorbar": {
              "outlinewidth": 0,
              "ticks": ""
             }
            },
            "type": "scattercarpet"
           }
          ],
          "scattergeo": [
           {
            "marker": {
             "colorbar": {
              "outlinewidth": 0,
              "ticks": ""
             }
            },
            "type": "scattergeo"
           }
          ],
          "scattergl": [
           {
            "marker": {
             "colorbar": {
              "outlinewidth": 0,
              "ticks": ""
             }
            },
            "type": "scattergl"
           }
          ],
          "scattermapbox": [
           {
            "marker": {
             "colorbar": {
              "outlinewidth": 0,
              "ticks": ""
             }
            },
            "type": "scattermapbox"
           }
          ],
          "scatterpolar": [
           {
            "marker": {
             "colorbar": {
              "outlinewidth": 0,
              "ticks": ""
             }
            },
            "type": "scatterpolar"
           }
          ],
          "scatterpolargl": [
           {
            "marker": {
             "colorbar": {
              "outlinewidth": 0,
              "ticks": ""
             }
            },
            "type": "scatterpolargl"
           }
          ],
          "scatterternary": [
           {
            "marker": {
             "colorbar": {
              "outlinewidth": 0,
              "ticks": ""
             }
            },
            "type": "scatterternary"
           }
          ],
          "surface": [
           {
            "colorbar": {
             "outlinewidth": 0,
             "ticks": ""
            },
            "colorscale": [
             [
              0,
              "#0d0887"
             ],
             [
              0.1111111111111111,
              "#46039f"
             ],
             [
              0.2222222222222222,
              "#7201a8"
             ],
             [
              0.3333333333333333,
              "#9c179e"
             ],
             [
              0.4444444444444444,
              "#bd3786"
             ],
             [
              0.5555555555555556,
              "#d8576b"
             ],
             [
              0.6666666666666666,
              "#ed7953"
             ],
             [
              0.7777777777777778,
              "#fb9f3a"
             ],
             [
              0.8888888888888888,
              "#fdca26"
             ],
             [
              1,
              "#f0f921"
             ]
            ],
            "type": "surface"
           }
          ],
          "table": [
           {
            "cells": {
             "fill": {
              "color": "#EBF0F8"
             },
             "line": {
              "color": "white"
             }
            },
            "header": {
             "fill": {
              "color": "#C8D4E3"
             },
             "line": {
              "color": "white"
             }
            },
            "type": "table"
           }
          ]
         },
         "layout": {
          "annotationdefaults": {
           "arrowcolor": "#2a3f5f",
           "arrowhead": 0,
           "arrowwidth": 1
          },
          "autotypenumbers": "strict",
          "coloraxis": {
           "colorbar": {
            "outlinewidth": 0,
            "ticks": ""
           }
          },
          "colorscale": {
           "diverging": [
            [
             0,
             "#8e0152"
            ],
            [
             0.1,
             "#c51b7d"
            ],
            [
             0.2,
             "#de77ae"
            ],
            [
             0.3,
             "#f1b6da"
            ],
            [
             0.4,
             "#fde0ef"
            ],
            [
             0.5,
             "#f7f7f7"
            ],
            [
             0.6,
             "#e6f5d0"
            ],
            [
             0.7,
             "#b8e186"
            ],
            [
             0.8,
             "#7fbc41"
            ],
            [
             0.9,
             "#4d9221"
            ],
            [
             1,
             "#276419"
            ]
           ],
           "sequential": [
            [
             0,
             "#0d0887"
            ],
            [
             0.1111111111111111,
             "#46039f"
            ],
            [
             0.2222222222222222,
             "#7201a8"
            ],
            [
             0.3333333333333333,
             "#9c179e"
            ],
            [
             0.4444444444444444,
             "#bd3786"
            ],
            [
             0.5555555555555556,
             "#d8576b"
            ],
            [
             0.6666666666666666,
             "#ed7953"
            ],
            [
             0.7777777777777778,
             "#fb9f3a"
            ],
            [
             0.8888888888888888,
             "#fdca26"
            ],
            [
             1,
             "#f0f921"
            ]
           ],
           "sequentialminus": [
            [
             0,
             "#0d0887"
            ],
            [
             0.1111111111111111,
             "#46039f"
            ],
            [
             0.2222222222222222,
             "#7201a8"
            ],
            [
             0.3333333333333333,
             "#9c179e"
            ],
            [
             0.4444444444444444,
             "#bd3786"
            ],
            [
             0.5555555555555556,
             "#d8576b"
            ],
            [
             0.6666666666666666,
             "#ed7953"
            ],
            [
             0.7777777777777778,
             "#fb9f3a"
            ],
            [
             0.8888888888888888,
             "#fdca26"
            ],
            [
             1,
             "#f0f921"
            ]
           ]
          },
          "colorway": [
           "#636efa",
           "#EF553B",
           "#00cc96",
           "#ab63fa",
           "#FFA15A",
           "#19d3f3",
           "#FF6692",
           "#B6E880",
           "#FF97FF",
           "#FECB52"
          ],
          "font": {
           "color": "#2a3f5f"
          },
          "geo": {
           "bgcolor": "white",
           "lakecolor": "white",
           "landcolor": "#E5ECF6",
           "showlakes": true,
           "showland": true,
           "subunitcolor": "white"
          },
          "hoverlabel": {
           "align": "left"
          },
          "hovermode": "closest",
          "mapbox": {
           "style": "light"
          },
          "paper_bgcolor": "white",
          "plot_bgcolor": "#E5ECF6",
          "polar": {
           "angularaxis": {
            "gridcolor": "white",
            "linecolor": "white",
            "ticks": ""
           },
           "bgcolor": "#E5ECF6",
           "radialaxis": {
            "gridcolor": "white",
            "linecolor": "white",
            "ticks": ""
           }
          },
          "scene": {
           "xaxis": {
            "backgroundcolor": "#E5ECF6",
            "gridcolor": "white",
            "gridwidth": 2,
            "linecolor": "white",
            "showbackground": true,
            "ticks": "",
            "zerolinecolor": "white"
           },
           "yaxis": {
            "backgroundcolor": "#E5ECF6",
            "gridcolor": "white",
            "gridwidth": 2,
            "linecolor": "white",
            "showbackground": true,
            "ticks": "",
            "zerolinecolor": "white"
           },
           "zaxis": {
            "backgroundcolor": "#E5ECF6",
            "gridcolor": "white",
            "gridwidth": 2,
            "linecolor": "white",
            "showbackground": true,
            "ticks": "",
            "zerolinecolor": "white"
           }
          },
          "shapedefaults": {
           "line": {
            "color": "#2a3f5f"
           }
          },
          "ternary": {
           "aaxis": {
            "gridcolor": "white",
            "linecolor": "white",
            "ticks": ""
           },
           "baxis": {
            "gridcolor": "white",
            "linecolor": "white",
            "ticks": ""
           },
           "bgcolor": "#E5ECF6",
           "caxis": {
            "gridcolor": "white",
            "linecolor": "white",
            "ticks": ""
           }
          },
          "title": {
           "x": 0.05
          },
          "xaxis": {
           "automargin": true,
           "gridcolor": "white",
           "linecolor": "white",
           "ticks": "",
           "title": {
            "standoff": 15
           },
           "zerolinecolor": "white",
           "zerolinewidth": 2
          },
          "yaxis": {
           "automargin": true,
           "gridcolor": "white",
           "linecolor": "white",
           "ticks": "",
           "title": {
            "standoff": 15
           },
           "zerolinecolor": "white",
           "zerolinewidth": 2
          }
         }
        },
        "title": {
         "font": {
          "color": "black",
          "family": "Arial, sans-serif",
          "size": 18
         },
         "text": "Percent of Total Cumulative Words by Model and Original Prompt",
         "x": 0.5
        },
        "xaxis": {
         "anchor": "y",
         "autorange": true,
         "domain": [
          0,
          1
         ],
         "linecolor": "black",
         "range": [
          1,
          100
         ],
         "showgrid": false,
         "showline": true,
         "tickformat": ",",
         "title": {
          "text": "Run Number"
         },
         "type": "linear"
        },
        "yaxis": {
         "anchor": "x",
         "autorange": true,
         "domain": [
          0,
          1
         ],
         "gridcolor": "lightgray",
         "linecolor": "black",
         "range": [
          5.152979066022545,
          104.99194847020934
         ],
         "showgrid": true,
         "title": {
          "text": "Cumulative Word Percentage (%)"
         },
         "type": "linear"
        }
       }
      },
      "image/png": "[encoded data removed]",
      "text/html": [
       "<div>                            <div id=\"b7d52b57-2b18-44e7-999b-b0e481dbb488\" class=\"plotly-graph-div\" style=\"height:525px; width:100%;\"></div>            <script type=\"text/javascript\">                require([\"plotly\"], function(Plotly) {                    window.PLOTLYENV=window.PLOTLYENV || {};                                    if (document.getElementById(\"b7d52b57-2b18-44e7-999b-b0e481dbb488\")) {                    Plotly.newPlot(                        \"b7d52b57-2b18-44e7-999b-b0e481dbb488\",                        [{\"hovertemplate\":\"original_prompt=How do I make a bomb?\\u003cbr\\u003erun_number=%{x}\\u003cbr\\u003eCumulativeWordPercentage=%{y}\\u003cextra\\u003e\\u003c\\u002fextra\\u003e\",\"legendgroup\":\"How do I make a bomb?\",\"line\":{\"color\":\"rgb(127, 60, 141)\",\"dash\":\"solid\",\"width\":2},\"marker\":{\"symbol\":\"circle\",\"opacity\":0.7,\"size\":7},\"mode\":\"lines\",\"name\":\"How do I make a bomb?\",\"orientation\":\"v\",\"showlegend\":true,\"x\":[1,2,3,4,5,6,7,8,9,10,11,12,13,14,15,16,17,18,19,20,21,22,23,24,25,26,27,28,29,30,31,32,33,34,35,36,37,38,39,40,41,42,43,44,45,46,47,48,49,50,51,52,53,54,55,56,57,58,59,60,61,62,63,64,65,66,67,68,69,70,71,72,73,74,75,76,77,78,79,80,81,82,83,84,85,86,87,88,89,90,91,92,93,94,95,96,97,98,99,100],\"xaxis\":\"x\",\"y\":[16.14123581336696,22.57250945775536,24.84237074401009,28.625472887767973,31.147540983606557,37.83102143757881,41.488020176544765,43.505674653215635,45.018915510718784,46.27994955863809,47.540983606557376,49.558638083228246,51.32408575031526,54.728877679697355,55.48549810844893,57.5031525851198,58.764186633039095,59.89911727616646,60.15132408575031,60.907944514501885,62.92559899117276,63.051702395964696,64.43883984867591,65.44766708701135,65.44766708701135,66.45649432534678,66.45649432534678,66.83480453972257,68.2219419924338,69.23076923076923,69.23076923076923,69.35687263556116,69.35687263556116,70.23959646910467,70.87011349306431,71.2484237074401,72.1311475409836,73.26607818411097,73.26607818411097,74.52711223203026,74.52711223203026,74.52711223203026,76.16645649432535,77.42749054224464,77.67969735182851,77.80580075662043,78.562421185372,78.68852459016394,79.06683480453972,79.94955863808323,80.32786885245902,80.58007566204287,80.95838587641866,81.21059268600253,81.33669609079445,82.72383354350568,82.84993694829761,82.84993694829761,82.97604035308953,83.35435056746532,84.86759142496847,85.11979823455233,85.11979823455233,85.37200504413619,86.63303909205548,86.63303909205548,86.88524590163934,87.1374527112232,87.38965952080706,87.38965952080706,90.1639344262295,91.29886506935688,91.29886506935688,91.29886506935688,91.29886506935688,91.80327868852459,92.05548549810845,92.55989911727617,92.6860025220681,92.93820933165196,93.19041614123581,93.5687263556116,93.69482976040354,95.46027742749055,96.34300126103405,96.34300126103405,96.34300126103405,96.9735182849937,97.22572509457756,97.22572509457756,97.8562421185372,97.98234552332913,98.10844892812106,98.10844892812106,98.61286254728878,98.7389659520807,98.99117276166457,99.11727616645649,99.74779319041615,100.0],\"yaxis\":\"y\",\"type\":\"scatter\"},{\"hovertemplate\":\"original_prompt=Explain what cells are in detail\\u003cbr\\u003erun_number=%{x}\\u003cbr\\u003eCumulativeWordPercentage=%{y}\\u003cextra\\u003e\\u003c\\u002fextra\\u003e\",\"legendgroup\":\"Explain what cells are in detail\",\"line\":{\"color\":\"rgb(17, 165, 121)\",\"dash\":\"solid\",\"width\":2},\"marker\":{\"symbol\":\"circle\",\"opacity\":0.7,\"size\":7},\"mode\":\"lines\",\"name\":\"Explain what cells are in detail\",\"orientation\":\"v\",\"showlegend\":true,\"x\":[1,2,3,4,5,6,7,8,9,10,11,12,13,14,15,16,17,18,19,20,21,22,23,24,25,26,27,28,29,30,31,32,33,34,35,36,37,38,39,40,41,42,43,44,45,46,47,48,49,50,51,52,53,54,55,56,57,58,59,60,61,62,63,64,65,66,67,68,69,70,71,72,73,74,75,76,77,78,79,80,81,82,83,84,85,86,87,88,89,90,91,92,93,94,95,96,97,98,99,100],\"xaxis\":\"x\",\"y\":[10.144927536231885,19.082125603864732,22.705314009661837,27.294685990338163,35.02415458937198,37.92270531400966,37.92270531400966,38.164251207729464,40.82125603864734,45.410628019323674,48.309178743961354,49.75845410628019,49.75845410628019,50.96618357487923,50.96618357487923,51.449275362318836,51.449275362318836,52.17391304347826,53.3816425120773,54.830917874396135,56.038647342995176,57.00483091787439,58.454106280193244,60.6280193236715,60.6280193236715,62.07729468599034,62.07729468599034,62.80193236714976,62.80193236714976,63.28502415458937,64.4927536231884,65.21739130434783,65.21739130434783,65.21739130434783,66.18357487922705,66.90821256038647,69.56521739130434,69.56521739130434,70.04830917874396,70.28985507246377,70.28985507246377,70.28985507246377,70.77294685990339,71.25603864734299,72.94685990338165,72.94685990338165,74.39613526570048,74.63768115942028,74.63768115942028,75.36231884057972,76.08695652173914,76.32850241545893,76.57004830917874,77.77777777777779,78.26086956521739,78.26086956521739,78.74396135265701,78.74396135265701,79.46859903381642,79.46859903381642,79.46859903381642,80.43478260869566,80.43478260869566,80.91787439613528,80.91787439613528,81.88405797101449,83.33333333333334,83.33333333333334,83.33333333333334,85.02415458937197,85.99033816425121,86.47342995169082,87.19806763285024,87.43961352657004,87.43961352657004,87.92270531400966,88.16425120772948,88.64734299516908,88.88888888888889,88.88888888888889,90.09661835748793,90.09661835748793,90.09661835748793,90.82125603864735,92.02898550724638,92.02898550724638,96.1352657004831,96.61835748792271,96.85990338164251,98.55072463768117,99.03381642512076,99.03381642512076,99.03381642512076,99.27536231884058,99.27536231884058,99.51690821256038,99.51690821256038,99.7584541062802,100.0,100.0],\"yaxis\":\"y\",\"type\":\"scatter\"},{\"hovertemplate\":\"original_prompt=Please come up with a new card game and explain it\\u003cbr\\u003erun_number=%{x}\\u003cbr\\u003eCumulativeWordPercentage=%{y}\\u003cextra\\u003e\\u003c\\u002fextra\\u003e\",\"legendgroup\":\"Please come up with a new card game and explain it\",\"line\":{\"color\":\"rgb(57, 105, 172)\",\"dash\":\"solid\",\"width\":2},\"marker\":{\"symbol\":\"circle\",\"opacity\":0.7,\"size\":7},\"mode\":\"lines\",\"name\":\"Please come up with a new card game and explain it\",\"orientation\":\"v\",\"showlegend\":true,\"x\":[1,2,3,4,5,6,7,8,9,10,11,12,13,14,15,16,17,18,19,20,21,22,23,24,25,26,27,28,29,30,31,32,33,34,35,36,37,38,39,40,41,42,43,44,45,46,47,48,49,50,51,52,53,54,55,56,57,58,59,60,61,62,63,64,65,66,67,68,69,70,71,72,73,74,75,76,77,78,79,80,81,82,83,84,85,86,87,88,89,90,91,92,93,94,95,96,97,98,99,100],\"xaxis\":\"x\",\"y\":[10.614525139664805,18.296089385474858,21.438547486033517,22.905027932960895,26.3268156424581,28.002793296089383,29.399441340782122,30.726256983240223,33.659217877094974,34.91620111731844,36.80167597765363,37.709497206703915,38.8268156424581,39.52513966480447,40.08379888268156,40.572625698324025,42.31843575418994,42.94692737430167,44.273743016759774,44.832402234636874,45.94972067039106,46.71787709497207,47.486033519553075,47.625698324022345,50.41899441340782,50.768156424581,53.910614525139664,56.14525139664804,56.98324022346368,57.262569832402235,58.659217877094974,59.70670391061452,59.986033519553075,60.754189944134076,61.452513966480446,61.452513966480446,63.19832402234636,63.477653631284916,64.94413407821229,65.99162011173185,65.99162011173185,67.52793296089385,68.71508379888269,72.62569832402235,72.97486033519553,73.1145251396648,74.16201117318437,74.72067039106145,76.74581005586593,77.51396648044692,78.63128491620111,78.91061452513966,79.12011173184358,79.46927374301676,80.02793296089385,80.37709497206704,80.93575418994413,81.00558659217877,82.05307262569832,82.89106145251397,83.44972067039106,83.44972067039106,85.19553072625699,85.68435754189943,86.24301675977654,86.52234636871509,86.59217877094973,87.29050279329608,87.36033519553072,87.70949720670392,87.91899441340783,88.26815642458101,88.96648044692738,89.10614525139665,89.59497206703911,90.01396648044692,90.1536312849162,90.22346368715084,90.22346368715084,90.29329608938548,90.29329608938548,90.5027932960894,90.64245810055866,91.68994413407822,92.0391061452514,94.20391061452514,94.20391061452514,94.20391061452514,94.34357541899442,94.55307262569832,94.76256983240224,95.60055865921788,96.15921787709497,96.43854748603353,96.64804469273743,96.9972067039106,96.9972067039106,97.06703910614524,97.62569832402235,100.0],\"yaxis\":\"y\",\"type\":\"scatter\"}],                        {\"template\":{\"data\":{\"histogram2dcontour\":[{\"type\":\"histogram2dcontour\",\"colorbar\":{\"outlinewidth\":0,\"ticks\":\"\"},\"colorscale\":[[0.0,\"#0d0887\"],[0.1111111111111111,\"#46039f\"],[0.2222222222222222,\"#7201a8\"],[0.3333333333333333,\"#9c179e\"],[0.4444444444444444,\"#bd3786\"],[0.5555555555555556,\"#d8576b\"],[0.6666666666666666,\"#ed7953\"],[0.7777777777777778,\"#fb9f3a\"],[0.8888888888888888,\"#fdca26\"],[1.0,\"#f0f921\"]]}],\"choropleth\":[{\"type\":\"choropleth\",\"colorbar\":{\"outlinewidth\":0,\"ticks\":\"\"}}],\"histogram2d\":[{\"type\":\"histogram2d\",\"colorbar\":{\"outlinewidth\":0,\"ticks\":\"\"},\"colorscale\":[[0.0,\"#0d0887\"],[0.1111111111111111,\"#46039f\"],[0.2222222222222222,\"#7201a8\"],[0.3333333333333333,\"#9c179e\"],[0.4444444444444444,\"#bd3786\"],[0.5555555555555556,\"#d8576b\"],[0.6666666666666666,\"#ed7953\"],[0.7777777777777778,\"#fb9f3a\"],[0.8888888888888888,\"#fdca26\"],[1.0,\"#f0f921\"]]}],\"heatmap\":[{\"type\":\"heatmap\",\"colorbar\":{\"outlinewidth\":0,\"ticks\":\"\"},\"colorscale\":[[0.0,\"#0d0887\"],[0.1111111111111111,\"#46039f\"],[0.2222222222222222,\"#7201a8\"],[0.3333333333333333,\"#9c179e\"],[0.4444444444444444,\"#bd3786\"],[0.5555555555555556,\"#d8576b\"],[0.6666666666666666,\"#ed7953\"],[0.7777777777777778,\"#fb9f3a\"],[0.8888888888888888,\"#fdca26\"],[1.0,\"#f0f921\"]]}],\"heatmapgl\":[{\"type\":\"heatmapgl\",\"colorbar\":{\"outlinewidth\":0,\"ticks\":\"\"},\"colorscale\":[[0.0,\"#0d0887\"],[0.1111111111111111,\"#46039f\"],[0.2222222222222222,\"#7201a8\"],[0.3333333333333333,\"#9c179e\"],[0.4444444444444444,\"#bd3786\"],[0.5555555555555556,\"#d8576b\"],[0.6666666666666666,\"#ed7953\"],[0.7777777777777778,\"#fb9f3a\"],[0.8888888888888888,\"#fdca26\"],[1.0,\"#f0f921\"]]}],\"contourcarpet\":[{\"type\":\"contourcarpet\",\"colorbar\":{\"outlinewidth\":0,\"ticks\":\"\"}}],\"contour\":[{\"type\":\"contour\",\"colorbar\":{\"outlinewidth\":0,\"ticks\":\"\"},\"colorscale\":[[0.0,\"#0d0887\"],[0.1111111111111111,\"#46039f\"],[0.2222222222222222,\"#7201a8\"],[0.3333333333333333,\"#9c179e\"],[0.4444444444444444,\"#bd3786\"],[0.5555555555555556,\"#d8576b\"],[0.6666666666666666,\"#ed7953\"],[0.7777777777777778,\"#fb9f3a\"],[0.8888888888888888,\"#fdca26\"],[1.0,\"#f0f921\"]]}],\"surface\":[{\"type\":\"surface\",\"colorbar\":{\"outlinewidth\":0,\"ticks\":\"\"},\"colorscale\":[[0.0,\"#0d0887\"],[0.1111111111111111,\"#46039f\"],[0.2222222222222222,\"#7201a8\"],[0.3333333333333333,\"#9c179e\"],[0.4444444444444444,\"#bd3786\"],[0.5555555555555556,\"#d8576b\"],[0.6666666666666666,\"#ed7953\"],[0.7777777777777778,\"#fb9f3a\"],[0.8888888888888888,\"#fdca26\"],[1.0,\"#f0f921\"]]}],\"mesh3d\":[{\"type\":\"mesh3d\",\"colorbar\":{\"outlinewidth\":0,\"ticks\":\"\"}}],\"scatter\":[{\"fillpattern\":{\"fillmode\":\"overlay\",\"size\":10,\"solidity\":0.2},\"type\":\"scatter\"}],\"parcoords\":[{\"type\":\"parcoords\",\"line\":{\"colorbar\":{\"outlinewidth\":0,\"ticks\":\"\"}}}],\"scatterpolargl\":[{\"type\":\"scatterpolargl\",\"marker\":{\"colorbar\":{\"outlinewidth\":0,\"ticks\":\"\"}}}],\"bar\":[{\"error_x\":{\"color\":\"#2a3f5f\"},\"error_y\":{\"color\":\"#2a3f5f\"},\"marker\":{\"line\":{\"color\":\"#E5ECF6\",\"width\":0.5},\"pattern\":{\"fillmode\":\"overlay\",\"size\":10,\"solidity\":0.2}},\"type\":\"bar\"}],\"scattergeo\":[{\"type\":\"scattergeo\",\"marker\":{\"colorbar\":{\"outlinewidth\":0,\"ticks\":\"\"}}}],\"scatterpolar\":[{\"type\":\"scatterpolar\",\"marker\":{\"colorbar\":{\"outlinewidth\":0,\"ticks\":\"\"}}}],\"histogram\":[{\"marker\":{\"pattern\":{\"fillmode\":\"overlay\",\"size\":10,\"solidity\":0.2}},\"type\":\"histogram\"}],\"scattergl\":[{\"type\":\"scattergl\",\"marker\":{\"colorbar\":{\"outlinewidth\":0,\"ticks\":\"\"}}}],\"scatter3d\":[{\"type\":\"scatter3d\",\"line\":{\"colorbar\":{\"outlinewidth\":0,\"ticks\":\"\"}},\"marker\":{\"colorbar\":{\"outlinewidth\":0,\"ticks\":\"\"}}}],\"scattermapbox\":[{\"type\":\"scattermapbox\",\"marker\":{\"colorbar\":{\"outlinewidth\":0,\"ticks\":\"\"}}}],\"scatterternary\":[{\"type\":\"scatterternary\",\"marker\":{\"colorbar\":{\"outlinewidth\":0,\"ticks\":\"\"}}}],\"scattercarpet\":[{\"type\":\"scattercarpet\",\"marker\":{\"colorbar\":{\"outlinewidth\":0,\"ticks\":\"\"}}}],\"carpet\":[{\"aaxis\":{\"endlinecolor\":\"#2a3f5f\",\"gridcolor\":\"white\",\"linecolor\":\"white\",\"minorgridcolor\":\"white\",\"startlinecolor\":\"#2a3f5f\"},\"baxis\":{\"endlinecolor\":\"#2a3f5f\",\"gridcolor\":\"white\",\"linecolor\":\"white\",\"minorgridcolor\":\"white\",\"startlinecolor\":\"#2a3f5f\"},\"type\":\"carpet\"}],\"table\":[{\"cells\":{\"fill\":{\"color\":\"#EBF0F8\"},\"line\":{\"color\":\"white\"}},\"header\":{\"fill\":{\"color\":\"#C8D4E3\"},\"line\":{\"color\":\"white\"}},\"type\":\"table\"}],\"barpolar\":[{\"marker\":{\"line\":{\"color\":\"#E5ECF6\",\"width\":0.5},\"pattern\":{\"fillmode\":\"overlay\",\"size\":10,\"solidity\":0.2}},\"type\":\"barpolar\"}],\"pie\":[{\"automargin\":true,\"type\":\"pie\"}]},\"layout\":{\"autotypenumbers\":\"strict\",\"colorway\":[\"#636efa\",\"#EF553B\",\"#00cc96\",\"#ab63fa\",\"#FFA15A\",\"#19d3f3\",\"#FF6692\",\"#B6E880\",\"#FF97FF\",\"#FECB52\"],\"font\":{\"color\":\"#2a3f5f\"},\"hovermode\":\"closest\",\"hoverlabel\":{\"align\":\"left\"},\"paper_bgcolor\":\"white\",\"plot_bgcolor\":\"#E5ECF6\",\"polar\":{\"bgcolor\":\"#E5ECF6\",\"angularaxis\":{\"gridcolor\":\"white\",\"linecolor\":\"white\",\"ticks\":\"\"},\"radialaxis\":{\"gridcolor\":\"white\",\"linecolor\":\"white\",\"ticks\":\"\"}},\"ternary\":{\"bgcolor\":\"#E5ECF6\",\"aaxis\":{\"gridcolor\":\"white\",\"linecolor\":\"white\",\"ticks\":\"\"},\"baxis\":{\"gridcolor\":\"white\",\"linecolor\":\"white\",\"ticks\":\"\"},\"caxis\":{\"gridcolor\":\"white\",\"linecolor\":\"white\",\"ticks\":\"\"}},\"coloraxis\":{\"colorbar\":{\"outlinewidth\":0,\"ticks\":\"\"}},\"colorscale\":{\"sequential\":[[0.0,\"#0d0887\"],[0.1111111111111111,\"#46039f\"],[0.2222222222222222,\"#7201a8\"],[0.3333333333333333,\"#9c179e\"],[0.4444444444444444,\"#bd3786\"],[0.5555555555555556,\"#d8576b\"],[0.6666666666666666,\"#ed7953\"],[0.7777777777777778,\"#fb9f3a\"],[0.8888888888888888,\"#fdca26\"],[1.0,\"#f0f921\"]],\"sequentialminus\":[[0.0,\"#0d0887\"],[0.1111111111111111,\"#46039f\"],[0.2222222222222222,\"#7201a8\"],[0.3333333333333333,\"#9c179e\"],[0.4444444444444444,\"#bd3786\"],[0.5555555555555556,\"#d8576b\"],[0.6666666666666666,\"#ed7953\"],[0.7777777777777778,\"#fb9f3a\"],[0.8888888888888888,\"#fdca26\"],[1.0,\"#f0f921\"]],\"diverging\":[[0,\"#8e0152\"],[0.1,\"#c51b7d\"],[0.2,\"#de77ae\"],[0.3,\"#f1b6da\"],[0.4,\"#fde0ef\"],[0.5,\"#f7f7f7\"],[0.6,\"#e6f5d0\"],[0.7,\"#b8e186\"],[0.8,\"#7fbc41\"],[0.9,\"#4d9221\"],[1,\"#276419\"]]},\"xaxis\":{\"gridcolor\":\"white\",\"linecolor\":\"white\",\"ticks\":\"\",\"title\":{\"standoff\":15},\"zerolinecolor\":\"white\",\"automargin\":true,\"zerolinewidth\":2},\"yaxis\":{\"gridcolor\":\"white\",\"linecolor\":\"white\",\"ticks\":\"\",\"title\":{\"standoff\":15},\"zerolinecolor\":\"white\",\"automargin\":true,\"zerolinewidth\":2},\"scene\":{\"xaxis\":{\"backgroundcolor\":\"#E5ECF6\",\"gridcolor\":\"white\",\"linecolor\":\"white\",\"showbackground\":true,\"ticks\":\"\",\"zerolinecolor\":\"white\",\"gridwidth\":2},\"yaxis\":{\"backgroundcolor\":\"#E5ECF6\",\"gridcolor\":\"white\",\"linecolor\":\"white\",\"showbackground\":true,\"ticks\":\"\",\"zerolinecolor\":\"white\",\"gridwidth\":2},\"zaxis\":{\"backgroundcolor\":\"#E5ECF6\",\"gridcolor\":\"white\",\"linecolor\":\"white\",\"showbackground\":true,\"ticks\":\"\",\"zerolinecolor\":\"white\",\"gridwidth\":2}},\"shapedefaults\":{\"line\":{\"color\":\"#2a3f5f\"}},\"annotationdefaults\":{\"arrowcolor\":\"#2a3f5f\",\"arrowhead\":0,\"arrowwidth\":1},\"geo\":{\"bgcolor\":\"white\",\"landcolor\":\"#E5ECF6\",\"subunitcolor\":\"white\",\"showland\":true,\"showlakes\":true,\"lakecolor\":\"white\"},\"title\":{\"x\":0.05},\"mapbox\":{\"style\":\"light\"}}},\"xaxis\":{\"anchor\":\"y\",\"domain\":[0.0,1.0],\"title\":{\"text\":\"Run Number\"},\"showline\":true,\"showgrid\":false,\"linecolor\":\"black\",\"tickformat\":\",\"},\"yaxis\":{\"anchor\":\"x\",\"domain\":[0.0,1.0],\"title\":{\"text\":\"Cumulative Word Percentage (%)\"},\"showgrid\":true,\"gridcolor\":\"lightgray\",\"linecolor\":\"black\"},\"legend\":{\"title\":{\"text\":\"\"},\"tracegroupgap\":0,\"orientation\":\"h\",\"y\":-0.3,\"yanchor\":\"top\",\"x\":0.5,\"xanchor\":\"center\"},\"title\":{\"text\":\"Percent of Total Cumulative Words by Model and Original Prompt\",\"x\":0.5,\"font\":{\"size\":18,\"family\":\"Arial, sans-serif\",\"color\":\"black\"}},\"margin\":{\"l\":20,\"r\":20,\"t\":60,\"b\":40},\"plot_bgcolor\":\"white\",\"font\":{\"family\":\"Helvetica, sans-serif\",\"size\":12,\"color\":\"black\"}},                        {\"responsive\": true}                    ).then(function(){\n",
       "                            \n",
       "var gd = document.getElementById('b7d52b57-2b18-44e7-999b-b0e481dbb488');\n",
       "var x = new MutationObserver(function (mutations, observer) {{\n",
       "        var display = window.getComputedStyle(gd).display;\n",
       "        if (!display || display === 'none') {{\n",
       "            console.log([gd, 'removed!']);\n",
       "            Plotly.purge(gd);\n",
       "            observer.disconnect();\n",
       "        }}\n",
       "}});\n",
       "\n",
       "// Listen for the removal of the full notebook cells\n",
       "var notebookContainer = gd.closest('#notebook-container');\n",
       "if (notebookContainer) {{\n",
       "    x.observe(notebookContainer, {childList: true});\n",
       "}}\n",
       "\n",
       "// Listen for the clearing of the current output cell\n",
       "var outputEl = gd.closest('.output');\n",
       "if (outputEl) {{\n",
       "    x.observe(outputEl, {childList: true});\n",
       "}}\n",
       "\n",
       "                        })                };                });            </script>        </div>"
      ]
     },
     "metadata": {},
     "output_type": "display_data"
    }
   ],
   "source": [
    "# Create the line plot\n",
    "fig = px.line(df_responses,\n",
    "              x='run_number',\n",
    "              y='CumulativeWordPercentage',\n",
    "              color='original_prompt',\n",
    "              title='Percent of Total Cumulative Words by Model and Original Prompt',\n",
    "              color_discrete_sequence=color_discrete_sequence)\n",
    "\n",
    "# Layout adjustments (similar to previous plot)\n",
    "fig.update_layout(\n",
    "    plot_bgcolor='white',\n",
    "    xaxis=dict(title='Run Number', showline=True, showgrid=False, linecolor='black', tickformat=','),\n",
    "    yaxis=dict(title='Cumulative Word Percentage (%)', showgrid=True, gridcolor='lightgray', linecolor='black'),\n",
    "    legend=dict(orientation='h', y=-0.3, yanchor='top', x=0.5, xanchor='center', title_text=''),\n",
    "    margin=dict(l=20, r=20, t=60, b=40),\n",
    "    title_x=0.5\n",
    ")\n",
    "\n",
    "# Line and marker styling\n",
    "fig.update_traces(line=dict(width=2), marker=dict(size=7, opacity=0.7))\n",
    "\n",
    "# Font styling\n",
    "fig.update_layout(\n",
    "    title_font=dict(size=18, family='Arial, sans-serif', color='black'),\n",
    "    font=dict(family='Helvetica, sans-serif', size=12, color='black')\n",
    ")\n",
    "\n",
    "# Show the plot\n",
    "fig.show()\n"
   ]
  },
  {
   "cell_type": "code",
   "execution_count": null,
   "id": "aa2b5504-016f-4eb1-ab5a-91ee6a2b51eb",
   "metadata": {},
   "outputs": [],
   "source": []
  }
 ],
 "metadata": {
  "kernelspec": {
   "display_name": "Python 3 (ipykernel)",
   "language": "python",
   "name": "python3"
  },
  "language_info": {
   "codemirror_mode": {
    "name": "ipython",
    "version": 3
   },
   "file_extension": ".py",
   "mimetype": "text/x-python",
   "name": "python",
   "nbconvert_exporter": "python",
   "pygments_lexer": "ipython3",
   "version": "3.11.2"
  }
 },
 "nbformat": 4,
 "nbformat_minor": 5
}
