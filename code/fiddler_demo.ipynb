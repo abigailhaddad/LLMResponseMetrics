{
 "cells": [
  {
   "cell_type": "code",
   "execution_count": 4,
   "metadata": {},
   "outputs": [],
   "source": [
    "from functions import *\n",
    "import pandas as pd\n",
    "from pathlib import Path"
   ]
  },
  {
   "cell_type": "code",
   "execution_count": 5,
   "metadata": {},
   "outputs": [],
   "source": [
    "# Define the parameters up top\n",
    "OPENAI_MODEL = 'text-davinci-003'\n",
    "TRANSFORMERS_MODEL = 'sentence-transformers/paraphrase-mpnet-base-v2'\n",
    "SIMILARITY_THRESHOLD = 0.75\n",
    "NUMBER_OF_TRIES = 5\n",
    "PRE_CONTEXT = \"Answer the following question in a concise manner.\"\n",
    "POST_CONTEXT  = \"Generate the response in JSON format with key 'answer'.\"\n"
   ]
  },
  {
   "cell_type": "code",
   "execution_count": 7,
   "metadata": {},
   "outputs": [
    {
     "ename": "TypeError",
     "evalue": "evaluate_row() missing 4 required positional arguments: 'openai_llm', 'similar_json_behavior', 'pre_context', and 'post_context'",
     "output_type": "error",
     "traceback": [
      "\u001b[1;31m---------------------------------------------------------------------------\u001b[0m",
      "\u001b[1;31mTypeError\u001b[0m                                 Traceback (most recent call last)",
      "\u001b[1;32mc:\\Users\\abiga\\OneDrive\\Documents\\PythonScripts\\fiddler_ai\\code\\fiddler_demo.ipynb Cell 3\u001b[0m line \u001b[0;36m1\n\u001b[0;32m      <a href='vscode-notebook-cell:/c%3A/Users/abiga/OneDrive/Documents/PythonScripts/fiddler_ai/code/fiddler_demo.ipynb#W1sZmlsZQ%3D%3D?line=7'>8</a>\u001b[0m similarity_model \u001b[39m=\u001b[39m initialize_similarity_model(TRANSFORMERS_MODEL)\n\u001b[0;32m      <a href='vscode-notebook-cell:/c%3A/Users/abiga/OneDrive/Documents/PythonScripts/fiddler_ai/code/fiddler_demo.ipynb#W1sZmlsZQ%3D%3D?line=8'>9</a>\u001b[0m similar_json_behavior \u001b[39m=\u001b[39m SimilarJSON(similarity_model, SIMILARITY_THRESHOLD)\n\u001b[1;32m---> <a href='vscode-notebook-cell:/c%3A/Users/abiga/OneDrive/Documents/PythonScripts/fiddler_ai/code/fiddler_demo.ipynb#W1sZmlsZQ%3D%3D?line=9'>10</a>\u001b[0m df[\u001b[39m'\u001b[39m\u001b[39mtest_result\u001b[39m\u001b[39m'\u001b[39m] \u001b[39m=\u001b[39m df\u001b[39m.\u001b[39;49mapply(evaluate_row, axis\u001b[39m=\u001b[39;49m\u001b[39m1\u001b[39;49m)\n\u001b[0;32m     <a href='vscode-notebook-cell:/c%3A/Users/abiga/OneDrive/Documents/PythonScripts/fiddler_ai/code/fiddler_demo.ipynb#W1sZmlsZQ%3D%3D?line=10'>11</a>\u001b[0m \u001b[39m# Now the DataFrame 'df' contains a new column 'test_result' with the evaluation results\u001b[39;00m\n\u001b[0;32m     <a href='vscode-notebook-cell:/c%3A/Users/abiga/OneDrive/Documents/PythonScripts/fiddler_ai/code/fiddler_demo.ipynb#W1sZmlsZQ%3D%3D?line=11'>12</a>\u001b[0m \u001b[39mprint\u001b[39m(df[[\u001b[39m'\u001b[39m\u001b[39mprompt\u001b[39m\u001b[39m'\u001b[39m, \u001b[39m'\u001b[39m\u001b[39mbest_answer\u001b[39m\u001b[39m'\u001b[39m, \u001b[39m'\u001b[39m\u001b[39mtest_result\u001b[39m\u001b[39m'\u001b[39m]])\n",
      "File \u001b[1;32mc:\\Users\\abiga\\OneDrive\\Documents\\PythonScripts\\fiddler_ai\\.venv\\Lib\\site-packages\\pandas\\core\\frame.py:9568\u001b[0m, in \u001b[0;36mDataFrame.apply\u001b[1;34m(self, func, axis, raw, result_type, args, **kwargs)\u001b[0m\n\u001b[0;32m   9557\u001b[0m \u001b[39mfrom\u001b[39;00m \u001b[39mpandas\u001b[39;00m\u001b[39m.\u001b[39;00m\u001b[39mcore\u001b[39;00m\u001b[39m.\u001b[39;00m\u001b[39mapply\u001b[39;00m \u001b[39mimport\u001b[39;00m frame_apply\n\u001b[0;32m   9559\u001b[0m op \u001b[39m=\u001b[39m frame_apply(\n\u001b[0;32m   9560\u001b[0m     \u001b[39mself\u001b[39m,\n\u001b[0;32m   9561\u001b[0m     func\u001b[39m=\u001b[39mfunc,\n\u001b[1;32m   (...)\u001b[0m\n\u001b[0;32m   9566\u001b[0m     kwargs\u001b[39m=\u001b[39mkwargs,\n\u001b[0;32m   9567\u001b[0m )\n\u001b[1;32m-> 9568\u001b[0m \u001b[39mreturn\u001b[39;00m op\u001b[39m.\u001b[39;49mapply()\u001b[39m.\u001b[39m__finalize__(\u001b[39mself\u001b[39m, method\u001b[39m=\u001b[39m\u001b[39m\"\u001b[39m\u001b[39mapply\u001b[39m\u001b[39m\"\u001b[39m)\n",
      "File \u001b[1;32mc:\\Users\\abiga\\OneDrive\\Documents\\PythonScripts\\fiddler_ai\\.venv\\Lib\\site-packages\\pandas\\core\\apply.py:764\u001b[0m, in \u001b[0;36mFrameApply.apply\u001b[1;34m(self)\u001b[0m\n\u001b[0;32m    761\u001b[0m \u001b[39melif\u001b[39;00m \u001b[39mself\u001b[39m\u001b[39m.\u001b[39mraw:\n\u001b[0;32m    762\u001b[0m     \u001b[39mreturn\u001b[39;00m \u001b[39mself\u001b[39m\u001b[39m.\u001b[39mapply_raw()\n\u001b[1;32m--> 764\u001b[0m \u001b[39mreturn\u001b[39;00m \u001b[39mself\u001b[39;49m\u001b[39m.\u001b[39;49mapply_standard()\n",
      "File \u001b[1;32mc:\\Users\\abiga\\OneDrive\\Documents\\PythonScripts\\fiddler_ai\\.venv\\Lib\\site-packages\\pandas\\core\\apply.py:891\u001b[0m, in \u001b[0;36mFrameApply.apply_standard\u001b[1;34m(self)\u001b[0m\n\u001b[0;32m    890\u001b[0m \u001b[39mdef\u001b[39;00m \u001b[39mapply_standard\u001b[39m(\u001b[39mself\u001b[39m):\n\u001b[1;32m--> 891\u001b[0m     results, res_index \u001b[39m=\u001b[39m \u001b[39mself\u001b[39;49m\u001b[39m.\u001b[39;49mapply_series_generator()\n\u001b[0;32m    893\u001b[0m     \u001b[39m# wrap results\u001b[39;00m\n\u001b[0;32m    894\u001b[0m     \u001b[39mreturn\u001b[39;00m \u001b[39mself\u001b[39m\u001b[39m.\u001b[39mwrap_results(results, res_index)\n",
      "File \u001b[1;32mc:\\Users\\abiga\\OneDrive\\Documents\\PythonScripts\\fiddler_ai\\.venv\\Lib\\site-packages\\pandas\\core\\apply.py:907\u001b[0m, in \u001b[0;36mFrameApply.apply_series_generator\u001b[1;34m(self)\u001b[0m\n\u001b[0;32m    904\u001b[0m \u001b[39mwith\u001b[39;00m option_context(\u001b[39m\"\u001b[39m\u001b[39mmode.chained_assignment\u001b[39m\u001b[39m\"\u001b[39m, \u001b[39mNone\u001b[39;00m):\n\u001b[0;32m    905\u001b[0m     \u001b[39mfor\u001b[39;00m i, v \u001b[39min\u001b[39;00m \u001b[39menumerate\u001b[39m(series_gen):\n\u001b[0;32m    906\u001b[0m         \u001b[39m# ignore SettingWithCopy here in case the user mutates\u001b[39;00m\n\u001b[1;32m--> 907\u001b[0m         results[i] \u001b[39m=\u001b[39m \u001b[39mself\u001b[39;49m\u001b[39m.\u001b[39;49mf(v)\n\u001b[0;32m    908\u001b[0m         \u001b[39mif\u001b[39;00m \u001b[39misinstance\u001b[39m(results[i], ABCSeries):\n\u001b[0;32m    909\u001b[0m             \u001b[39m# If we have a view on v, we need to make a copy because\u001b[39;00m\n\u001b[0;32m    910\u001b[0m             \u001b[39m#  series_generator will swap out the underlying data\u001b[39;00m\n\u001b[0;32m    911\u001b[0m             results[i] \u001b[39m=\u001b[39m results[i]\u001b[39m.\u001b[39mcopy(deep\u001b[39m=\u001b[39m\u001b[39mFalse\u001b[39;00m)\n",
      "\u001b[1;31mTypeError\u001b[0m: evaluate_row() missing 4 required positional arguments: 'openai_llm', 'similar_json_behavior', 'pre_context', and 'post_context'"
     ]
    }
   ],
   "source": [
    "# Initialize the models and set the API key\n",
    "set_openai_api_key()\n",
    "openai_llm = initialize_openai_llm(OPENAI_MODEL)\n",
    "similarity_model = initialize_similarity_model(TRANSFORMERS_MODEL)\n",
    "similar_json_behavior = SimilarJSON(similarity_model, SIMILARITY_THRESHOLD)\n",
    "\n",
    "# Read the CSV file into a DataFrame\n",
    "csv_file_path = Path('../data/prompt_best_answer_pairs.csv')\n",
    "df = pd.read_csv(csv_file_path)\n",
    "\n",
    "# Define a function that will apply your evaluation to each row\n",
    "def apply_evaluation(row):\n",
    "    return evaluate_row(row, openai_llm, similar_json_behavior, PRE_CONTEXT, POST_CONTEXT)\n",
    "\n",
    "# Apply the evaluation to each row in the DataFrame\n",
    "df['test_result'] = df.apply(apply_evaluation, axis=1)\n",
    "\n",
    "# Now, df contains a new column 'test_result' with the evaluation results for each row\n"
   ]
  }
 ],
 "metadata": {
  "kernelspec": {
   "display_name": ".venv",
   "language": "python",
   "name": "python3"
  },
  "language_info": {
   "codemirror_mode": {
    "name": "ipython",
    "version": 3
   },
   "file_extension": ".py",
   "mimetype": "text/x-python",
   "name": "python",
   "nbconvert_exporter": "python",
   "pygments_lexer": "ipython3",
   "version": "3.11.2"
  }
 },
 "nbformat": 4,
 "nbformat_minor": 2
}
