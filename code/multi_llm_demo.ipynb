{
 "cells": [
  {
   "cell_type": "code",
   "execution_count": null,
   "metadata": {},
   "outputs": [],
   "source": [
    "from multi_llm_functions import *\n",
    "import pandas as pd\n",
    "from pathlib import Path"
   ]
  },
  {
   "cell_type": "code",
   "execution_count": null,
   "metadata": {},
   "outputs": [],
   "source": [
    "num_perturbations = 5\n",
    "models_dict = {'claude-2.1':  \"ANTHROPIC\", 'gpt-3.5-turbo-0301': \"OPENAI\",  'gpt-3.5-turbo':  \"OPENAI\"\n",
    "               } \n",
    "csv_file_path = '../data/prompt_target_answer_pairs.csv'\n",
    "\n",
    "responses_df = process_prompts(csv_file_path, models_dict, num_perturbations)\n",
    "aggregated_df = aggregate_responses(responses_df)\n",
    "\n",
    "# Display the final DataFrame\n",
    "print(aggregated_df)\n"
   ]
  }
 ],
 "metadata": {
  "language_info": {
   "name": "python"
  }
 },
 "nbformat": 4,
 "nbformat_minor": 2
}
