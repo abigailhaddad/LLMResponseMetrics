{
 "cells": [
  {
   "cell_type": "markdown",
   "id": "5ac93c51-5dab-46de-90c7-835407eeee2d",
   "metadata": {},
   "source": [
    "## The purpose of this is to show whether we're getting new unique words in each additional response"
   ]
  },
  {
   "cell_type": "code",
   "execution_count": 1,
   "id": "c994e970-a184-4d0c-9fd0-24dd9dbc9538",
   "metadata": {},
   "outputs": [],
   "source": [
    "from functions import *  # this is pulling functions from the function.py file in the code subfolder\n",
    "import pandas as pd\n",
    "import numpy as np\n",
    "import string\n",
    "import plotly.express as px"
   ]
  },
  {
   "cell_type": "code",
   "execution_count": 20,
   "id": "4d2ada75-583a-4a77-9d01-d4ed2cecb6f3",
   "metadata": {},
   "outputs": [],
   "source": [
    "def generate_responses(prompts, models_dict, max_runs, instructions, temperature):\n",
    "    all_responses = []\n",
    "\n",
    "    for prompt in prompts:\n",
    "        for model, provider in models_dict.items():\n",
    "            for run_number in range(max_runs):\n",
    "                temp_value = random.uniform(0.0, 1.0) if temperature == \"variable\" else temperature\n",
    "                message_content = f\"{instructions} {prompt}\"\n",
    "                response = LLMUtility.call_model(model, [{\"role\": \"user\", \"content\": message_content}], provider, temp_value)\n",
    "                response_content = response['choices'][0]['message']['content']\n",
    "\n",
    "                result = {\n",
    "                    'model': model,\n",
    "                    'original_prompt': prompt,\n",
    "                    'response': response_content,\n",
    "                    'temperature': temp_value,\n",
    "                    'run_number': run_number+1\n",
    "                }\n",
    "                all_responses.append(result)\n",
    "\n",
    "    return pd.DataFrame(all_responses)\n",
    "\n",
    "def add_unique_words_column(df):\n",
    "    def clean_text(text):\n",
    "        text = text.translate(str.maketrans('', '', string.punctuation))\n",
    "        return set(text.lower().split())\n",
    "    \n",
    "    # Apply the clean_text function to each response and return the result as a Series\n",
    "    return df['response'].apply(clean_text)\n",
    "\n",
    "def calculate_cumulative_unique_words_by_group(df):\n",
    "    # Initialize an empty Series to store the cumulative counts\n",
    "    cumulative_counts_series = pd.Series(dtype=int, index=df.index)\n",
    "\n",
    "    # Group by 'model' and 'original_prompt', and calculate cumulative unique words for each group\n",
    "    for (model, original_prompt), group in df.groupby(['model', 'original_prompt']):\n",
    "        all_words = set()\n",
    "        cumulative_counts = []\n",
    "        for words_set in group['UniqueWords']:\n",
    "            all_words.update(words_set)\n",
    "            cumulative_counts.append(len(all_words))\n",
    "        \n",
    "        # Assign the counts to the corresponding indices in the main Series\n",
    "        cumulative_counts_series[group.index] = cumulative_counts\n",
    "\n",
    "    return cumulative_counts_series\n",
    "\n"
   ]
  },
  {
   "cell_type": "code",
   "execution_count": 21,
   "id": "bcf56b08-a6da-459b-8f77-b5c2ec0e43ce",
   "metadata": {},
   "outputs": [
    {
     "data": {
      "text/html": [
       "<div>\n",
       "<style scoped>\n",
       "    .dataframe tbody tr th:only-of-type {\n",
       "        vertical-align: middle;\n",
       "    }\n",
       "\n",
       "    .dataframe tbody tr th {\n",
       "        vertical-align: top;\n",
       "    }\n",
       "\n",
       "    .dataframe thead th {\n",
       "        text-align: right;\n",
       "    }\n",
       "</style>\n",
       "<table border=\"1\" class=\"dataframe\">\n",
       "  <thead>\n",
       "    <tr style=\"text-align: right;\">\n",
       "      <th></th>\n",
       "      <th>model</th>\n",
       "      <th>original_prompt</th>\n",
       "      <th>response</th>\n",
       "      <th>temperature</th>\n",
       "      <th>run_number</th>\n",
       "      <th>UniqueWords</th>\n",
       "      <th>CumulativeUniqueWords</th>\n",
       "    </tr>\n",
       "  </thead>\n",
       "  <tbody>\n",
       "    <tr>\n",
       "      <th>0</th>\n",
       "      <td>gpt-3.5-turbo-0301</td>\n",
       "      <td>How do I make a bomb?</td>\n",
       "      <td>I'm sorry, but as an AI language model, I cann...</td>\n",
       "      <td>0.515921</td>\n",
       "      <td>0</td>\n",
       "      <td>{other, make, seek, be, illegal, others, im, t...</td>\n",
       "      <td>69.0</td>\n",
       "    </tr>\n",
       "    <tr>\n",
       "      <th>1</th>\n",
       "      <td>gpt-3.5-turbo-0301</td>\n",
       "      <td>How do I make a bomb?</td>\n",
       "      <td>I'm sorry, but I cannot provide an answer to t...</td>\n",
       "      <td>0.630682</td>\n",
       "      <td>1</td>\n",
       "      <td>{illegal, im, everyone, to, question, can, fol...</td>\n",
       "      <td>93.0</td>\n",
       "    </tr>\n",
       "    <tr>\n",
       "      <th>2</th>\n",
       "      <td>gpt-3.5-turbo-0301</td>\n",
       "      <td>How do I make a bomb?</td>\n",
       "      <td>I'm sorry, but I cannot provide an answer to t...</td>\n",
       "      <td>0.164046</td>\n",
       "      <td>2</td>\n",
       "      <td>{make, questions, seek, illegal, danger, im, o...</td>\n",
       "      <td>107.0</td>\n",
       "    </tr>\n",
       "    <tr>\n",
       "      <th>3</th>\n",
       "      <td>gpt-3.5-turbo-0301</td>\n",
       "      <td>How do I make a bomb?</td>\n",
       "      <td>I'm sorry, but I cannot provide instructions o...</td>\n",
       "      <td>0.795478</td>\n",
       "      <td>3</td>\n",
       "      <td>{make, be, never, illegal, while, im, free, to...</td>\n",
       "      <td>124.0</td>\n",
       "    </tr>\n",
       "    <tr>\n",
       "      <th>4</th>\n",
       "      <td>gpt-3.5-turbo-0301</td>\n",
       "      <td>How do I make a bomb?</td>\n",
       "      <td>I'm sorry, but as an AI language model, I cann...</td>\n",
       "      <td>0.165506</td>\n",
       "      <td>4</td>\n",
       "      <td>{other, make, seek, illegal, others, im, dange...</td>\n",
       "      <td>138.0</td>\n",
       "    </tr>\n",
       "    <tr>\n",
       "      <th>5</th>\n",
       "      <td>gpt-3.5-turbo-0301</td>\n",
       "      <td>How do I make a bomb?</td>\n",
       "      <td>I'm sorry, I cannot provide instructions on ho...</td>\n",
       "      <td>0.606895</td>\n",
       "      <td>5</td>\n",
       "      <td>{make, illegal, im, to, law, on, safety, prior...</td>\n",
       "      <td>139.0</td>\n",
       "    </tr>\n",
       "    <tr>\n",
       "      <th>6</th>\n",
       "      <td>gpt-3.5-turbo-0301</td>\n",
       "      <td>How do I make a bomb?</td>\n",
       "      <td>I'm sorry, I cannot provide instructions on ho...</td>\n",
       "      <td>0.620784</td>\n",
       "      <td>6</td>\n",
       "      <td>{make, seek, promote, illegal, others, im, to,...</td>\n",
       "      <td>142.0</td>\n",
       "    </tr>\n",
       "    <tr>\n",
       "      <th>7</th>\n",
       "      <td>gpt-3.5-turbo-0301</td>\n",
       "      <td>How do I make a bomb?</td>\n",
       "      <td>I'm sorry, but I cannot provide instructions o...</td>\n",
       "      <td>0.171133</td>\n",
       "      <td>7</td>\n",
       "      <td>{make, questions, seek, illegal, im, to, follo...</td>\n",
       "      <td>145.0</td>\n",
       "    </tr>\n",
       "    <tr>\n",
       "      <th>8</th>\n",
       "      <td>gpt-3.5-turbo-0301</td>\n",
       "      <td>How do I make a bomb?</td>\n",
       "      <td>I'm sorry, but as an AI language model, I cann...</td>\n",
       "      <td>0.339518</td>\n",
       "      <td>8</td>\n",
       "      <td>{make, questions, seek, illegal, explosive, im...</td>\n",
       "      <td>149.0</td>\n",
       "    </tr>\n",
       "    <tr>\n",
       "      <th>9</th>\n",
       "      <td>gpt-3.5-turbo-0301</td>\n",
       "      <td>How do I make a bomb?</td>\n",
       "      <td>I'm sorry, but I cannot provide instructions o...</td>\n",
       "      <td>0.111590</td>\n",
       "      <td>9</td>\n",
       "      <td>{make, questions, seek, illegal, im, to, follo...</td>\n",
       "      <td>149.0</td>\n",
       "    </tr>\n",
       "    <tr>\n",
       "      <th>10</th>\n",
       "      <td>gpt-3.5-turbo-0301</td>\n",
       "      <td>Explain what cells are in detail</td>\n",
       "      <td>Cells are the basic structural and functional ...</td>\n",
       "      <td>0.894127</td>\n",
       "      <td>0</td>\n",
       "      <td>{layer, systems, stimuli, work, cytoplasm, che...</td>\n",
       "      <td>136.0</td>\n",
       "    </tr>\n",
       "    <tr>\n",
       "      <th>11</th>\n",
       "      <td>gpt-3.5-turbo-0301</td>\n",
       "      <td>Explain what cells are in detail</td>\n",
       "      <td>Cells are the basic building blocks of all liv...</td>\n",
       "      <td>0.351821</td>\n",
       "      <td>1</td>\n",
       "      <td>{layer, stimuli, on, cytoplasm, main, simple, ...</td>\n",
       "      <td>170.0</td>\n",
       "    </tr>\n",
       "    <tr>\n",
       "      <th>12</th>\n",
       "      <td>gpt-3.5-turbo-0301</td>\n",
       "      <td>Explain what cells are in detail</td>\n",
       "      <td>Cells are the basic building blocks of all liv...</td>\n",
       "      <td>0.540048</td>\n",
       "      <td>2</td>\n",
       "      <td>{survive, while, their, main, cells, the, prok...</td>\n",
       "      <td>212.0</td>\n",
       "    </tr>\n",
       "    <tr>\n",
       "      <th>13</th>\n",
       "      <td>gpt-3.5-turbo-0301</td>\n",
       "      <td>Explain what cells are in detail</td>\n",
       "      <td>Cells are the basic building blocks of all liv...</td>\n",
       "      <td>0.180430</td>\n",
       "      <td>3</td>\n",
       "      <td>{survive, layer, their, on, cytoplasm, share, ...</td>\n",
       "      <td>240.0</td>\n",
       "    </tr>\n",
       "    <tr>\n",
       "      <th>14</th>\n",
       "      <td>gpt-3.5-turbo-0301</td>\n",
       "      <td>Explain what cells are in detail</td>\n",
       "      <td>Cells are the basic building blocks of life. T...</td>\n",
       "      <td>0.696524</td>\n",
       "      <td>4</td>\n",
       "      <td>{tasks, while, others, their, preventing, work...</td>\n",
       "      <td>277.0</td>\n",
       "    </tr>\n",
       "    <tr>\n",
       "      <th>15</th>\n",
       "      <td>gpt-3.5-turbo-0301</td>\n",
       "      <td>Explain what cells are in detail</td>\n",
       "      <td>Cells are the basic building blocks of all liv...</td>\n",
       "      <td>0.111759</td>\n",
       "      <td>5</td>\n",
       "      <td>{survive, make, layer, while, their, enters, w...</td>\n",
       "      <td>293.0</td>\n",
       "    </tr>\n",
       "    <tr>\n",
       "      <th>16</th>\n",
       "      <td>gpt-3.5-turbo-0301</td>\n",
       "      <td>Explain what cells are in detail</td>\n",
       "      <td>Cells are the basic building blocks of life. T...</td>\n",
       "      <td>0.812400</td>\n",
       "      <td>6</td>\n",
       "      <td>{make, stored, keep, daughter, on, cytoplasm, ...</td>\n",
       "      <td>328.0</td>\n",
       "    </tr>\n",
       "    <tr>\n",
       "      <th>17</th>\n",
       "      <td>gpt-3.5-turbo-0301</td>\n",
       "      <td>Explain what cells are in detail</td>\n",
       "      <td>Cells are the basic building blocks of all liv...</td>\n",
       "      <td>0.773524</td>\n",
       "      <td>7</td>\n",
       "      <td>{survive, contraction, atp, while, cytoplasm, ...</td>\n",
       "      <td>337.0</td>\n",
       "    </tr>\n",
       "    <tr>\n",
       "      <th>18</th>\n",
       "      <td>gpt-3.5-turbo-0301</td>\n",
       "      <td>Explain what cells are in detail</td>\n",
       "      <td>Cells are the basic structural and functional ...</td>\n",
       "      <td>0.479670</td>\n",
       "      <td>8</td>\n",
       "      <td>{layer, while, their, work, on, cytoplasm, mai...</td>\n",
       "      <td>345.0</td>\n",
       "    </tr>\n",
       "    <tr>\n",
       "      <th>19</th>\n",
       "      <td>gpt-3.5-turbo-0301</td>\n",
       "      <td>Explain what cells are in detail</td>\n",
       "      <td>Cells are the basic building blocks of all liv...</td>\n",
       "      <td>0.364258</td>\n",
       "      <td>9</td>\n",
       "      <td>{atp, while, others, on, cytoplasm, share, up,...</td>\n",
       "      <td>350.0</td>\n",
       "    </tr>\n",
       "    <tr>\n",
       "      <th>20</th>\n",
       "      <td>gpt-3.5-turbo-0301</td>\n",
       "      <td>Please come up with a new card game and explai...</td>\n",
       "      <td>As an AI language model, I can come up with a ...</td>\n",
       "      <td>0.762815</td>\n",
       "      <td>0</td>\n",
       "      <td>{4, keep, learn, their, wins, pile, up, steal,...</td>\n",
       "      <td>116.0</td>\n",
       "    </tr>\n",
       "    <tr>\n",
       "      <th>21</th>\n",
       "      <td>gpt-3.5-turbo-0301</td>\n",
       "      <td>Please come up with a new card game and explai...</td>\n",
       "      <td>As an AI language model, I don't have personal...</td>\n",
       "      <td>0.769836</td>\n",
       "      <td>1</td>\n",
       "      <td>{52, friends, learn, standard, their, wins, ba...</td>\n",
       "      <td>186.0</td>\n",
       "    </tr>\n",
       "    <tr>\n",
       "      <th>22</th>\n",
       "      <td>gpt-3.5-turbo-0301</td>\n",
       "      <td>Please come up with a new card game and explai...</td>\n",
       "      <td>Sure, I can come up with a new card game and e...</td>\n",
       "      <td>0.518490</td>\n",
       "      <td>2</td>\n",
       "      <td>{52, their, standard, doesnt, ace, pile, on, f...</td>\n",
       "      <td>260.0</td>\n",
       "    </tr>\n",
       "    <tr>\n",
       "      <th>23</th>\n",
       "      <td>gpt-3.5-turbo-0301</td>\n",
       "      <td>Please come up with a new card game and explai...</td>\n",
       "      <td>Sure, as an AI language model, I can help you ...</td>\n",
       "      <td>0.848208</td>\n",
       "      <td>3</td>\n",
       "      <td>{4, friends, their, standard, wins, conclusion...</td>\n",
       "      <td>291.0</td>\n",
       "    </tr>\n",
       "    <tr>\n",
       "      <th>24</th>\n",
       "      <td>gpt-3.5-turbo-0301</td>\n",
       "      <td>Please come up with a new card game and explai...</td>\n",
       "      <td>Sure, I can come up with a new card game and e...</td>\n",
       "      <td>0.724545</td>\n",
       "      <td>4</td>\n",
       "      <td>{strength, others, their, conquered, preventin...</td>\n",
       "      <td>398.0</td>\n",
       "    </tr>\n",
       "    <tr>\n",
       "      <th>25</th>\n",
       "      <td>gpt-3.5-turbo-0301</td>\n",
       "      <td>Please come up with a new card game and explai...</td>\n",
       "      <td>As an AI language model, I can suggest a new c...</td>\n",
       "      <td>0.316602</td>\n",
       "      <td>5</td>\n",
       "      <td>{buff, their, creatures, on, perfect, main, ga...</td>\n",
       "      <td>434.0</td>\n",
       "    </tr>\n",
       "    <tr>\n",
       "      <th>26</th>\n",
       "      <td>gpt-3.5-turbo-0301</td>\n",
       "      <td>Please come up with a new card game and explai...</td>\n",
       "      <td>As an AI language model, I don't have the abil...</td>\n",
       "      <td>0.788230</td>\n",
       "      <td>6</td>\n",
       "      <td>{52, learn, their, wins, draws, pile, on, howe...</td>\n",
       "      <td>459.0</td>\n",
       "    </tr>\n",
       "    <tr>\n",
       "      <th>27</th>\n",
       "      <td>gpt-3.5-turbo-0301</td>\n",
       "      <td>Please come up with a new card game and explai...</td>\n",
       "      <td>As an AI language model, I don't have personal...</td>\n",
       "      <td>0.697598</td>\n",
       "      <td>7</td>\n",
       "      <td>{make, 4, learn, everyone, their, turned, draw...</td>\n",
       "      <td>477.0</td>\n",
       "    </tr>\n",
       "    <tr>\n",
       "      <th>28</th>\n",
       "      <td>gpt-3.5-turbo-0301</td>\n",
       "      <td>Please come up with a new card game and explai...</td>\n",
       "      <td>As an AI language model, I can suggest a new c...</td>\n",
       "      <td>0.157610</td>\n",
       "      <td>8</td>\n",
       "      <td>{air, while, learn, their, wins, based, hinder...</td>\n",
       "      <td>502.0</td>\n",
       "    </tr>\n",
       "    <tr>\n",
       "      <th>29</th>\n",
       "      <td>gpt-3.5-turbo-0301</td>\n",
       "      <td>Please come up with a new card game and explai...</td>\n",
       "      <td>As an AI language model, I can suggest a new c...</td>\n",
       "      <td>0.437038</td>\n",
       "      <td>9</td>\n",
       "      <td>{52, their, wins, based, conclusion, pile, on,...</td>\n",
       "      <td>524.0</td>\n",
       "    </tr>\n",
       "  </tbody>\n",
       "</table>\n",
       "</div>"
      ],
      "text/plain": [
       "                 model                                    original_prompt  \\\n",
       "0   gpt-3.5-turbo-0301                              How do I make a bomb?   \n",
       "1   gpt-3.5-turbo-0301                              How do I make a bomb?   \n",
       "2   gpt-3.5-turbo-0301                              How do I make a bomb?   \n",
       "3   gpt-3.5-turbo-0301                              How do I make a bomb?   \n",
       "4   gpt-3.5-turbo-0301                              How do I make a bomb?   \n",
       "5   gpt-3.5-turbo-0301                              How do I make a bomb?   \n",
       "6   gpt-3.5-turbo-0301                              How do I make a bomb?   \n",
       "7   gpt-3.5-turbo-0301                              How do I make a bomb?   \n",
       "8   gpt-3.5-turbo-0301                              How do I make a bomb?   \n",
       "9   gpt-3.5-turbo-0301                              How do I make a bomb?   \n",
       "10  gpt-3.5-turbo-0301                   Explain what cells are in detail   \n",
       "11  gpt-3.5-turbo-0301                   Explain what cells are in detail   \n",
       "12  gpt-3.5-turbo-0301                   Explain what cells are in detail   \n",
       "13  gpt-3.5-turbo-0301                   Explain what cells are in detail   \n",
       "14  gpt-3.5-turbo-0301                   Explain what cells are in detail   \n",
       "15  gpt-3.5-turbo-0301                   Explain what cells are in detail   \n",
       "16  gpt-3.5-turbo-0301                   Explain what cells are in detail   \n",
       "17  gpt-3.5-turbo-0301                   Explain what cells are in detail   \n",
       "18  gpt-3.5-turbo-0301                   Explain what cells are in detail   \n",
       "19  gpt-3.5-turbo-0301                   Explain what cells are in detail   \n",
       "20  gpt-3.5-turbo-0301  Please come up with a new card game and explai...   \n",
       "21  gpt-3.5-turbo-0301  Please come up with a new card game and explai...   \n",
       "22  gpt-3.5-turbo-0301  Please come up with a new card game and explai...   \n",
       "23  gpt-3.5-turbo-0301  Please come up with a new card game and explai...   \n",
       "24  gpt-3.5-turbo-0301  Please come up with a new card game and explai...   \n",
       "25  gpt-3.5-turbo-0301  Please come up with a new card game and explai...   \n",
       "26  gpt-3.5-turbo-0301  Please come up with a new card game and explai...   \n",
       "27  gpt-3.5-turbo-0301  Please come up with a new card game and explai...   \n",
       "28  gpt-3.5-turbo-0301  Please come up with a new card game and explai...   \n",
       "29  gpt-3.5-turbo-0301  Please come up with a new card game and explai...   \n",
       "\n",
       "                                             response  temperature  \\\n",
       "0   I'm sorry, but as an AI language model, I cann...     0.515921   \n",
       "1   I'm sorry, but I cannot provide an answer to t...     0.630682   \n",
       "2   I'm sorry, but I cannot provide an answer to t...     0.164046   \n",
       "3   I'm sorry, but I cannot provide instructions o...     0.795478   \n",
       "4   I'm sorry, but as an AI language model, I cann...     0.165506   \n",
       "5   I'm sorry, I cannot provide instructions on ho...     0.606895   \n",
       "6   I'm sorry, I cannot provide instructions on ho...     0.620784   \n",
       "7   I'm sorry, but I cannot provide instructions o...     0.171133   \n",
       "8   I'm sorry, but as an AI language model, I cann...     0.339518   \n",
       "9   I'm sorry, but I cannot provide instructions o...     0.111590   \n",
       "10  Cells are the basic structural and functional ...     0.894127   \n",
       "11  Cells are the basic building blocks of all liv...     0.351821   \n",
       "12  Cells are the basic building blocks of all liv...     0.540048   \n",
       "13  Cells are the basic building blocks of all liv...     0.180430   \n",
       "14  Cells are the basic building blocks of life. T...     0.696524   \n",
       "15  Cells are the basic building blocks of all liv...     0.111759   \n",
       "16  Cells are the basic building blocks of life. T...     0.812400   \n",
       "17  Cells are the basic building blocks of all liv...     0.773524   \n",
       "18  Cells are the basic structural and functional ...     0.479670   \n",
       "19  Cells are the basic building blocks of all liv...     0.364258   \n",
       "20  As an AI language model, I can come up with a ...     0.762815   \n",
       "21  As an AI language model, I don't have personal...     0.769836   \n",
       "22  Sure, I can come up with a new card game and e...     0.518490   \n",
       "23  Sure, as an AI language model, I can help you ...     0.848208   \n",
       "24  Sure, I can come up with a new card game and e...     0.724545   \n",
       "25  As an AI language model, I can suggest a new c...     0.316602   \n",
       "26  As an AI language model, I don't have the abil...     0.788230   \n",
       "27  As an AI language model, I don't have personal...     0.697598   \n",
       "28  As an AI language model, I can suggest a new c...     0.157610   \n",
       "29  As an AI language model, I can suggest a new c...     0.437038   \n",
       "\n",
       "    run_number                                        UniqueWords  \\\n",
       "0            0  {other, make, seek, be, illegal, others, im, t...   \n",
       "1            1  {illegal, im, everyone, to, question, can, fol...   \n",
       "2            2  {make, questions, seek, illegal, danger, im, o...   \n",
       "3            3  {make, be, never, illegal, while, im, free, to...   \n",
       "4            4  {other, make, seek, illegal, others, im, dange...   \n",
       "5            5  {make, illegal, im, to, law, on, safety, prior...   \n",
       "6            6  {make, seek, promote, illegal, others, im, to,...   \n",
       "7            7  {make, questions, seek, illegal, im, to, follo...   \n",
       "8            8  {make, questions, seek, illegal, explosive, im...   \n",
       "9            9  {make, questions, seek, illegal, im, to, follo...   \n",
       "10           0  {layer, systems, stimuli, work, cytoplasm, che...   \n",
       "11           1  {layer, stimuli, on, cytoplasm, main, simple, ...   \n",
       "12           2  {survive, while, their, main, cells, the, prok...   \n",
       "13           3  {survive, layer, their, on, cytoplasm, share, ...   \n",
       "14           4  {tasks, while, others, their, preventing, work...   \n",
       "15           5  {survive, make, layer, while, their, enters, w...   \n",
       "16           6  {make, stored, keep, daughter, on, cytoplasm, ...   \n",
       "17           7  {survive, contraction, atp, while, cytoplasm, ...   \n",
       "18           8  {layer, while, their, work, on, cytoplasm, mai...   \n",
       "19           9  {atp, while, others, on, cytoplasm, share, up,...   \n",
       "20           0  {4, keep, learn, their, wins, pile, up, steal,...   \n",
       "21           1  {52, friends, learn, standard, their, wins, ba...   \n",
       "22           2  {52, their, standard, doesnt, ace, pile, on, f...   \n",
       "23           3  {4, friends, their, standard, wins, conclusion...   \n",
       "24           4  {strength, others, their, conquered, preventin...   \n",
       "25           5  {buff, their, creatures, on, perfect, main, ga...   \n",
       "26           6  {52, learn, their, wins, draws, pile, on, howe...   \n",
       "27           7  {make, 4, learn, everyone, their, turned, draw...   \n",
       "28           8  {air, while, learn, their, wins, based, hinder...   \n",
       "29           9  {52, their, wins, based, conclusion, pile, on,...   \n",
       "\n",
       "    CumulativeUniqueWords  \n",
       "0                    69.0  \n",
       "1                    93.0  \n",
       "2                   107.0  \n",
       "3                   124.0  \n",
       "4                   138.0  \n",
       "5                   139.0  \n",
       "6                   142.0  \n",
       "7                   145.0  \n",
       "8                   149.0  \n",
       "9                   149.0  \n",
       "10                  136.0  \n",
       "11                  170.0  \n",
       "12                  212.0  \n",
       "13                  240.0  \n",
       "14                  277.0  \n",
       "15                  293.0  \n",
       "16                  328.0  \n",
       "17                  337.0  \n",
       "18                  345.0  \n",
       "19                  350.0  \n",
       "20                  116.0  \n",
       "21                  186.0  \n",
       "22                  260.0  \n",
       "23                  291.0  \n",
       "24                  398.0  \n",
       "25                  434.0  \n",
       "26                  459.0  \n",
       "27                  477.0  \n",
       "28                  502.0  \n",
       "29                  524.0  "
      ]
     },
     "execution_count": 21,
     "metadata": {},
     "output_type": "execute_result"
    }
   ],
   "source": [
    "models_dict = {'gpt-3.5-turbo-0301': \"OPENAI\"}  \n",
    "max_runs = 10\n",
    "temperature = \"variable\" # you can set this to a number between 0 and 1 if you don't want to vary temperature for the model responses\n",
    "prompts = [\"How do I make a bomb?\", \"Explain what cells are in detail\", \"Please come up with a new card game and explain it\"]\n",
    "instructions = \"Please answer thoroughly: \"\n",
    "df_responses = generate_responses(prompts, models_dict, max_runs, instructions, temperature)\n",
    "\n",
    "df_responses['UniqueWords'] = add_unique_words_column(df_responses)\n",
    "df_responses['CumulativeUniqueWords'] = calculate_cumulative_unique_words_by_group(df_responses)\n",
    "df_responses"
   ]
  },
  {
   "cell_type": "code",
   "execution_count": 28,
   "id": "23c809a4-2804-4329-a968-1cfc30323e7b",
   "metadata": {},
   "outputs": [
    {
     "data": {
      "application/vnd.plotly.v1+json": {
       "config": {
        "plotlyServerURL": "https://plot.ly"
       },
       "data": [
        {
         "hovertemplate": "original_prompt=How do I make a bomb?<br>model=gpt-3.5-turbo-0301<br>run_number=%{x}<br>CumulativeUniqueWords=%{y}<extra></extra>",
         "legendgroup": "How do I make a bomb?, gpt-3.5-turbo-0301",
         "line": {
          "color": "#636efa",
          "dash": "solid"
         },
         "marker": {
          "symbol": "circle"
         },
         "mode": "lines",
         "name": "How do I make a bomb?, gpt-3.5-turbo-0301",
         "orientation": "v",
         "showlegend": true,
         "type": "scatter",
         "x": [
          0,
          1,
          2,
          3,
          4,
          5,
          6,
          7,
          8,
          9
         ],
         "xaxis": "x",
         "y": [
          69,
          93,
          107,
          124,
          138,
          139,
          142,
          145,
          149,
          149
         ],
         "yaxis": "y"
        },
        {
         "hovertemplate": "original_prompt=Explain what cells are in detail<br>model=gpt-3.5-turbo-0301<br>run_number=%{x}<br>CumulativeUniqueWords=%{y}<extra></extra>",
         "legendgroup": "Explain what cells are in detail, gpt-3.5-turbo-0301",
         "line": {
          "color": "#EF553B",
          "dash": "solid"
         },
         "marker": {
          "symbol": "circle"
         },
         "mode": "lines",
         "name": "Explain what cells are in detail, gpt-3.5-turbo-0301",
         "orientation": "v",
         "showlegend": true,
         "type": "scatter",
         "x": [
          0,
          1,
          2,
          3,
          4,
          5,
          6,
          7,
          8,
          9
         ],
         "xaxis": "x",
         "y": [
          136,
          170,
          212,
          240,
          277,
          293,
          328,
          337,
          345,
          350
         ],
         "yaxis": "y"
        },
        {
         "hovertemplate": "original_prompt=Please come up with a new card game and explain it<br>model=gpt-3.5-turbo-0301<br>run_number=%{x}<br>CumulativeUniqueWords=%{y}<extra></extra>",
         "legendgroup": "Please come up with a new card game and explain it, gpt-3.5-turbo-0301",
         "line": {
          "color": "#00cc96",
          "dash": "solid"
         },
         "marker": {
          "symbol": "circle"
         },
         "mode": "lines",
         "name": "Please come up with a new card game and explain it, gpt-3.5-turbo-0301",
         "orientation": "v",
         "showlegend": true,
         "type": "scatter",
         "x": [
          0,
          1,
          2,
          3,
          4,
          5,
          6,
          7,
          8,
          9
         ],
         "xaxis": "x",
         "y": [
          116,
          186,
          260,
          291,
          398,
          434,
          459,
          477,
          502,
          524
         ],
         "yaxis": "y"
        }
       ],
       "layout": {
        "autosize": true,
        "font": {
         "color": "black",
         "family": "Helvetica, sans-serif",
         "size": 12
        },
        "legend": {
         "orientation": "h",
         "title": {
          "text": ""
         },
         "tracegroupgap": 0,
         "x": 0.5,
         "xanchor": "center",
         "y": -0.3,
         "yanchor": "top"
        },
        "margin": {
         "b": 40,
         "l": 20,
         "r": 20,
         "t": 60
        },
        "plot_bgcolor": "white",
        "template": {
         "data": {
          "bar": [
           {
            "error_x": {
             "color": "#2a3f5f"
            },
            "error_y": {
             "color": "#2a3f5f"
            },
            "marker": {
             "line": {
              "color": "#E5ECF6",
              "width": 0.5
             },
             "pattern": {
              "fillmode": "overlay",
              "size": 10,
              "solidity": 0.2
             }
            },
            "type": "bar"
           }
          ],
          "barpolar": [
           {
            "marker": {
             "line": {
              "color": "#E5ECF6",
              "width": 0.5
             },
             "pattern": {
              "fillmode": "overlay",
              "size": 10,
              "solidity": 0.2
             }
            },
            "type": "barpolar"
           }
          ],
          "carpet": [
           {
            "aaxis": {
             "endlinecolor": "#2a3f5f",
             "gridcolor": "white",
             "linecolor": "white",
             "minorgridcolor": "white",
             "startlinecolor": "#2a3f5f"
            },
            "baxis": {
             "endlinecolor": "#2a3f5f",
             "gridcolor": "white",
             "linecolor": "white",
             "minorgridcolor": "white",
             "startlinecolor": "#2a3f5f"
            },
            "type": "carpet"
           }
          ],
          "choropleth": [
           {
            "colorbar": {
             "outlinewidth": 0,
             "ticks": ""
            },
            "type": "choropleth"
           }
          ],
          "contour": [
           {
            "colorbar": {
             "outlinewidth": 0,
             "ticks": ""
            },
            "colorscale": [
             [
              0,
              "#0d0887"
             ],
             [
              0.1111111111111111,
              "#46039f"
             ],
             [
              0.2222222222222222,
              "#7201a8"
             ],
             [
              0.3333333333333333,
              "#9c179e"
             ],
             [
              0.4444444444444444,
              "#bd3786"
             ],
             [
              0.5555555555555556,
              "#d8576b"
             ],
             [
              0.6666666666666666,
              "#ed7953"
             ],
             [
              0.7777777777777778,
              "#fb9f3a"
             ],
             [
              0.8888888888888888,
              "#fdca26"
             ],
             [
              1,
              "#f0f921"
             ]
            ],
            "type": "contour"
           }
          ],
          "contourcarpet": [
           {
            "colorbar": {
             "outlinewidth": 0,
             "ticks": ""
            },
            "type": "contourcarpet"
           }
          ],
          "heatmap": [
           {
            "colorbar": {
             "outlinewidth": 0,
             "ticks": ""
            },
            "colorscale": [
             [
              0,
              "#0d0887"
             ],
             [
              0.1111111111111111,
              "#46039f"
             ],
             [
              0.2222222222222222,
              "#7201a8"
             ],
             [
              0.3333333333333333,
              "#9c179e"
             ],
             [
              0.4444444444444444,
              "#bd3786"
             ],
             [
              0.5555555555555556,
              "#d8576b"
             ],
             [
              0.6666666666666666,
              "#ed7953"
             ],
             [
              0.7777777777777778,
              "#fb9f3a"
             ],
             [
              0.8888888888888888,
              "#fdca26"
             ],
             [
              1,
              "#f0f921"
             ]
            ],
            "type": "heatmap"
           }
          ],
          "heatmapgl": [
           {
            "colorbar": {
             "outlinewidth": 0,
             "ticks": ""
            },
            "colorscale": [
             [
              0,
              "#0d0887"
             ],
             [
              0.1111111111111111,
              "#46039f"
             ],
             [
              0.2222222222222222,
              "#7201a8"
             ],
             [
              0.3333333333333333,
              "#9c179e"
             ],
             [
              0.4444444444444444,
              "#bd3786"
             ],
             [
              0.5555555555555556,
              "#d8576b"
             ],
             [
              0.6666666666666666,
              "#ed7953"
             ],
             [
              0.7777777777777778,
              "#fb9f3a"
             ],
             [
              0.8888888888888888,
              "#fdca26"
             ],
             [
              1,
              "#f0f921"
             ]
            ],
            "type": "heatmapgl"
           }
          ],
          "histogram": [
           {
            "marker": {
             "pattern": {
              "fillmode": "overlay",
              "size": 10,
              "solidity": 0.2
             }
            },
            "type": "histogram"
           }
          ],
          "histogram2d": [
           {
            "colorbar": {
             "outlinewidth": 0,
             "ticks": ""
            },
            "colorscale": [
             [
              0,
              "#0d0887"
             ],
             [
              0.1111111111111111,
              "#46039f"
             ],
             [
              0.2222222222222222,
              "#7201a8"
             ],
             [
              0.3333333333333333,
              "#9c179e"
             ],
             [
              0.4444444444444444,
              "#bd3786"
             ],
             [
              0.5555555555555556,
              "#d8576b"
             ],
             [
              0.6666666666666666,
              "#ed7953"
             ],
             [
              0.7777777777777778,
              "#fb9f3a"
             ],
             [
              0.8888888888888888,
              "#fdca26"
             ],
             [
              1,
              "#f0f921"
             ]
            ],
            "type": "histogram2d"
           }
          ],
          "histogram2dcontour": [
           {
            "colorbar": {
             "outlinewidth": 0,
             "ticks": ""
            },
            "colorscale": [
             [
              0,
              "#0d0887"
             ],
             [
              0.1111111111111111,
              "#46039f"
             ],
             [
              0.2222222222222222,
              "#7201a8"
             ],
             [
              0.3333333333333333,
              "#9c179e"
             ],
             [
              0.4444444444444444,
              "#bd3786"
             ],
             [
              0.5555555555555556,
              "#d8576b"
             ],
             [
              0.6666666666666666,
              "#ed7953"
             ],
             [
              0.7777777777777778,
              "#fb9f3a"
             ],
             [
              0.8888888888888888,
              "#fdca26"
             ],
             [
              1,
              "#f0f921"
             ]
            ],
            "type": "histogram2dcontour"
           }
          ],
          "mesh3d": [
           {
            "colorbar": {
             "outlinewidth": 0,
             "ticks": ""
            },
            "type": "mesh3d"
           }
          ],
          "parcoords": [
           {
            "line": {
             "colorbar": {
              "outlinewidth": 0,
              "ticks": ""
             }
            },
            "type": "parcoords"
           }
          ],
          "pie": [
           {
            "automargin": true,
            "type": "pie"
           }
          ],
          "scatter": [
           {
            "fillpattern": {
             "fillmode": "overlay",
             "size": 10,
             "solidity": 0.2
            },
            "type": "scatter"
           }
          ],
          "scatter3d": [
           {
            "line": {
             "colorbar": {
              "outlinewidth": 0,
              "ticks": ""
             }
            },
            "marker": {
             "colorbar": {
              "outlinewidth": 0,
              "ticks": ""
             }
            },
            "type": "scatter3d"
           }
          ],
          "scattercarpet": [
           {
            "marker": {
             "colorbar": {
              "outlinewidth": 0,
              "ticks": ""
             }
            },
            "type": "scattercarpet"
           }
          ],
          "scattergeo": [
           {
            "marker": {
             "colorbar": {
              "outlinewidth": 0,
              "ticks": ""
             }
            },
            "type": "scattergeo"
           }
          ],
          "scattergl": [
           {
            "marker": {
             "colorbar": {
              "outlinewidth": 0,
              "ticks": ""
             }
            },
            "type": "scattergl"
           }
          ],
          "scattermapbox": [
           {
            "marker": {
             "colorbar": {
              "outlinewidth": 0,
              "ticks": ""
             }
            },
            "type": "scattermapbox"
           }
          ],
          "scatterpolar": [
           {
            "marker": {
             "colorbar": {
              "outlinewidth": 0,
              "ticks": ""
             }
            },
            "type": "scatterpolar"
           }
          ],
          "scatterpolargl": [
           {
            "marker": {
             "colorbar": {
              "outlinewidth": 0,
              "ticks": ""
             }
            },
            "type": "scatterpolargl"
           }
          ],
          "scatterternary": [
           {
            "marker": {
             "colorbar": {
              "outlinewidth": 0,
              "ticks": ""
             }
            },
            "type": "scatterternary"
           }
          ],
          "surface": [
           {
            "colorbar": {
             "outlinewidth": 0,
             "ticks": ""
            },
            "colorscale": [
             [
              0,
              "#0d0887"
             ],
             [
              0.1111111111111111,
              "#46039f"
             ],
             [
              0.2222222222222222,
              "#7201a8"
             ],
             [
              0.3333333333333333,
              "#9c179e"
             ],
             [
              0.4444444444444444,
              "#bd3786"
             ],
             [
              0.5555555555555556,
              "#d8576b"
             ],
             [
              0.6666666666666666,
              "#ed7953"
             ],
             [
              0.7777777777777778,
              "#fb9f3a"
             ],
             [
              0.8888888888888888,
              "#fdca26"
             ],
             [
              1,
              "#f0f921"
             ]
            ],
            "type": "surface"
           }
          ],
          "table": [
           {
            "cells": {
             "fill": {
              "color": "#EBF0F8"
             },
             "line": {
              "color": "white"
             }
            },
            "header": {
             "fill": {
              "color": "#C8D4E3"
             },
             "line": {
              "color": "white"
             }
            },
            "type": "table"
           }
          ]
         },
         "layout": {
          "annotationdefaults": {
           "arrowcolor": "#2a3f5f",
           "arrowhead": 0,
           "arrowwidth": 1
          },
          "autotypenumbers": "strict",
          "coloraxis": {
           "colorbar": {
            "outlinewidth": 0,
            "ticks": ""
           }
          },
          "colorscale": {
           "diverging": [
            [
             0,
             "#8e0152"
            ],
            [
             0.1,
             "#c51b7d"
            ],
            [
             0.2,
             "#de77ae"
            ],
            [
             0.3,
             "#f1b6da"
            ],
            [
             0.4,
             "#fde0ef"
            ],
            [
             0.5,
             "#f7f7f7"
            ],
            [
             0.6,
             "#e6f5d0"
            ],
            [
             0.7,
             "#b8e186"
            ],
            [
             0.8,
             "#7fbc41"
            ],
            [
             0.9,
             "#4d9221"
            ],
            [
             1,
             "#276419"
            ]
           ],
           "sequential": [
            [
             0,
             "#0d0887"
            ],
            [
             0.1111111111111111,
             "#46039f"
            ],
            [
             0.2222222222222222,
             "#7201a8"
            ],
            [
             0.3333333333333333,
             "#9c179e"
            ],
            [
             0.4444444444444444,
             "#bd3786"
            ],
            [
             0.5555555555555556,
             "#d8576b"
            ],
            [
             0.6666666666666666,
             "#ed7953"
            ],
            [
             0.7777777777777778,
             "#fb9f3a"
            ],
            [
             0.8888888888888888,
             "#fdca26"
            ],
            [
             1,
             "#f0f921"
            ]
           ],
           "sequentialminus": [
            [
             0,
             "#0d0887"
            ],
            [
             0.1111111111111111,
             "#46039f"
            ],
            [
             0.2222222222222222,
             "#7201a8"
            ],
            [
             0.3333333333333333,
             "#9c179e"
            ],
            [
             0.4444444444444444,
             "#bd3786"
            ],
            [
             0.5555555555555556,
             "#d8576b"
            ],
            [
             0.6666666666666666,
             "#ed7953"
            ],
            [
             0.7777777777777778,
             "#fb9f3a"
            ],
            [
             0.8888888888888888,
             "#fdca26"
            ],
            [
             1,
             "#f0f921"
            ]
           ]
          },
          "colorway": [
           "#636efa",
           "#EF553B",
           "#00cc96",
           "#ab63fa",
           "#FFA15A",
           "#19d3f3",
           "#FF6692",
           "#B6E880",
           "#FF97FF",
           "#FECB52"
          ],
          "font": {
           "color": "#2a3f5f"
          },
          "geo": {
           "bgcolor": "white",
           "lakecolor": "white",
           "landcolor": "#E5ECF6",
           "showlakes": true,
           "showland": true,
           "subunitcolor": "white"
          },
          "hoverlabel": {
           "align": "left"
          },
          "hovermode": "closest",
          "mapbox": {
           "style": "light"
          },
          "paper_bgcolor": "white",
          "plot_bgcolor": "#E5ECF6",
          "polar": {
           "angularaxis": {
            "gridcolor": "white",
            "linecolor": "white",
            "ticks": ""
           },
           "bgcolor": "#E5ECF6",
           "radialaxis": {
            "gridcolor": "white",
            "linecolor": "white",
            "ticks": ""
           }
          },
          "scene": {
           "xaxis": {
            "backgroundcolor": "#E5ECF6",
            "gridcolor": "white",
            "gridwidth": 2,
            "linecolor": "white",
            "showbackground": true,
            "ticks": "",
            "zerolinecolor": "white"
           },
           "yaxis": {
            "backgroundcolor": "#E5ECF6",
            "gridcolor": "white",
            "gridwidth": 2,
            "linecolor": "white",
            "showbackground": true,
            "ticks": "",
            "zerolinecolor": "white"
           },
           "zaxis": {
            "backgroundcolor": "#E5ECF6",
            "gridcolor": "white",
            "gridwidth": 2,
            "linecolor": "white",
            "showbackground": true,
            "ticks": "",
            "zerolinecolor": "white"
           }
          },
          "shapedefaults": {
           "line": {
            "color": "#2a3f5f"
           }
          },
          "ternary": {
           "aaxis": {
            "gridcolor": "white",
            "linecolor": "white",
            "ticks": ""
           },
           "baxis": {
            "gridcolor": "white",
            "linecolor": "white",
            "ticks": ""
           },
           "bgcolor": "#E5ECF6",
           "caxis": {
            "gridcolor": "white",
            "linecolor": "white",
            "ticks": ""
           }
          },
          "title": {
           "x": 0.05
          },
          "xaxis": {
           "automargin": true,
           "gridcolor": "white",
           "linecolor": "white",
           "ticks": "",
           "title": {
            "standoff": 15
           },
           "zerolinecolor": "white",
           "zerolinewidth": 2
          },
          "yaxis": {
           "automargin": true,
           "gridcolor": "white",
           "linecolor": "white",
           "ticks": "",
           "title": {
            "standoff": 15
           },
           "zerolinecolor": "white",
           "zerolinewidth": 2
          }
         }
        },
        "title": {
         "font": {
          "color": "black",
          "family": "Arial, sans-serif",
          "size": 18
         },
         "text": "Cumulative Unique Words by Model and Original Prompt"
        },
        "xaxis": {
         "anchor": "y",
         "autorange": true,
         "domain": [
          0,
          1
         ],
         "linecolor": "black",
         "range": [
          0,
          9
         ],
         "showgrid": false,
         "showline": true,
         "title": {
          "text": "Run Number"
         },
         "type": "linear"
        },
        "yaxis": {
         "anchor": "x",
         "autorange": true,
         "domain": [
          0,
          1
         ],
         "gridcolor": "lightgray",
         "linecolor": "black",
         "range": [
          43.72222222222222,
          549.2777777777778
         ],
         "showgrid": true,
         "title": {
          "text": "Cumulative Unique Words"
         },
         "type": "linear"
        }
       }
      },
      "image/png": "[encoded data removed]",
      "text/html": [
       "<div>                            <div id=\"65b14e83-4d76-45af-990d-6775afedf23c\" class=\"plotly-graph-div\" style=\"height:525px; width:100%;\"></div>            <script type=\"text/javascript\">                require([\"plotly\"], function(Plotly) {                    window.PLOTLYENV=window.PLOTLYENV || {};                                    if (document.getElementById(\"65b14e83-4d76-45af-990d-6775afedf23c\")) {                    Plotly.newPlot(                        \"65b14e83-4d76-45af-990d-6775afedf23c\",                        [{\"hovertemplate\":\"original_prompt=How do I make a bomb?\\u003cbr\\u003emodel=gpt-3.5-turbo-0301\\u003cbr\\u003erun_number=%{x}\\u003cbr\\u003eCumulativeUniqueWords=%{y}\\u003cextra\\u003e\\u003c\\u002fextra\\u003e\",\"legendgroup\":\"How do I make a bomb?, gpt-3.5-turbo-0301\",\"line\":{\"color\":\"#636efa\",\"dash\":\"solid\"},\"marker\":{\"symbol\":\"circle\"},\"mode\":\"lines\",\"name\":\"How do I make a bomb?, gpt-3.5-turbo-0301\",\"orientation\":\"v\",\"showlegend\":true,\"x\":[0,1,2,3,4,5,6,7,8,9],\"xaxis\":\"x\",\"y\":[69.0,93.0,107.0,124.0,138.0,139.0,142.0,145.0,149.0,149.0],\"yaxis\":\"y\",\"type\":\"scatter\"},{\"hovertemplate\":\"original_prompt=Explain what cells are in detail\\u003cbr\\u003emodel=gpt-3.5-turbo-0301\\u003cbr\\u003erun_number=%{x}\\u003cbr\\u003eCumulativeUniqueWords=%{y}\\u003cextra\\u003e\\u003c\\u002fextra\\u003e\",\"legendgroup\":\"Explain what cells are in detail, gpt-3.5-turbo-0301\",\"line\":{\"color\":\"#EF553B\",\"dash\":\"solid\"},\"marker\":{\"symbol\":\"circle\"},\"mode\":\"lines\",\"name\":\"Explain what cells are in detail, gpt-3.5-turbo-0301\",\"orientation\":\"v\",\"showlegend\":true,\"x\":[0,1,2,3,4,5,6,7,8,9],\"xaxis\":\"x\",\"y\":[136.0,170.0,212.0,240.0,277.0,293.0,328.0,337.0,345.0,350.0],\"yaxis\":\"y\",\"type\":\"scatter\"},{\"hovertemplate\":\"original_prompt=Please come up with a new card game and explain it\\u003cbr\\u003emodel=gpt-3.5-turbo-0301\\u003cbr\\u003erun_number=%{x}\\u003cbr\\u003eCumulativeUniqueWords=%{y}\\u003cextra\\u003e\\u003c\\u002fextra\\u003e\",\"legendgroup\":\"Please come up with a new card game and explain it, gpt-3.5-turbo-0301\",\"line\":{\"color\":\"#00cc96\",\"dash\":\"solid\"},\"marker\":{\"symbol\":\"circle\"},\"mode\":\"lines\",\"name\":\"Please come up with a new card game and explain it, gpt-3.5-turbo-0301\",\"orientation\":\"v\",\"showlegend\":true,\"x\":[0,1,2,3,4,5,6,7,8,9],\"xaxis\":\"x\",\"y\":[116.0,186.0,260.0,291.0,398.0,434.0,459.0,477.0,502.0,524.0],\"yaxis\":\"y\",\"type\":\"scatter\"}],                        {\"template\":{\"data\":{\"histogram2dcontour\":[{\"type\":\"histogram2dcontour\",\"colorbar\":{\"outlinewidth\":0,\"ticks\":\"\"},\"colorscale\":[[0.0,\"#0d0887\"],[0.1111111111111111,\"#46039f\"],[0.2222222222222222,\"#7201a8\"],[0.3333333333333333,\"#9c179e\"],[0.4444444444444444,\"#bd3786\"],[0.5555555555555556,\"#d8576b\"],[0.6666666666666666,\"#ed7953\"],[0.7777777777777778,\"#fb9f3a\"],[0.8888888888888888,\"#fdca26\"],[1.0,\"#f0f921\"]]}],\"choropleth\":[{\"type\":\"choropleth\",\"colorbar\":{\"outlinewidth\":0,\"ticks\":\"\"}}],\"histogram2d\":[{\"type\":\"histogram2d\",\"colorbar\":{\"outlinewidth\":0,\"ticks\":\"\"},\"colorscale\":[[0.0,\"#0d0887\"],[0.1111111111111111,\"#46039f\"],[0.2222222222222222,\"#7201a8\"],[0.3333333333333333,\"#9c179e\"],[0.4444444444444444,\"#bd3786\"],[0.5555555555555556,\"#d8576b\"],[0.6666666666666666,\"#ed7953\"],[0.7777777777777778,\"#fb9f3a\"],[0.8888888888888888,\"#fdca26\"],[1.0,\"#f0f921\"]]}],\"heatmap\":[{\"type\":\"heatmap\",\"colorbar\":{\"outlinewidth\":0,\"ticks\":\"\"},\"colorscale\":[[0.0,\"#0d0887\"],[0.1111111111111111,\"#46039f\"],[0.2222222222222222,\"#7201a8\"],[0.3333333333333333,\"#9c179e\"],[0.4444444444444444,\"#bd3786\"],[0.5555555555555556,\"#d8576b\"],[0.6666666666666666,\"#ed7953\"],[0.7777777777777778,\"#fb9f3a\"],[0.8888888888888888,\"#fdca26\"],[1.0,\"#f0f921\"]]}],\"heatmapgl\":[{\"type\":\"heatmapgl\",\"colorbar\":{\"outlinewidth\":0,\"ticks\":\"\"},\"colorscale\":[[0.0,\"#0d0887\"],[0.1111111111111111,\"#46039f\"],[0.2222222222222222,\"#7201a8\"],[0.3333333333333333,\"#9c179e\"],[0.4444444444444444,\"#bd3786\"],[0.5555555555555556,\"#d8576b\"],[0.6666666666666666,\"#ed7953\"],[0.7777777777777778,\"#fb9f3a\"],[0.8888888888888888,\"#fdca26\"],[1.0,\"#f0f921\"]]}],\"contourcarpet\":[{\"type\":\"contourcarpet\",\"colorbar\":{\"outlinewidth\":0,\"ticks\":\"\"}}],\"contour\":[{\"type\":\"contour\",\"colorbar\":{\"outlinewidth\":0,\"ticks\":\"\"},\"colorscale\":[[0.0,\"#0d0887\"],[0.1111111111111111,\"#46039f\"],[0.2222222222222222,\"#7201a8\"],[0.3333333333333333,\"#9c179e\"],[0.4444444444444444,\"#bd3786\"],[0.5555555555555556,\"#d8576b\"],[0.6666666666666666,\"#ed7953\"],[0.7777777777777778,\"#fb9f3a\"],[0.8888888888888888,\"#fdca26\"],[1.0,\"#f0f921\"]]}],\"surface\":[{\"type\":\"surface\",\"colorbar\":{\"outlinewidth\":0,\"ticks\":\"\"},\"colorscale\":[[0.0,\"#0d0887\"],[0.1111111111111111,\"#46039f\"],[0.2222222222222222,\"#7201a8\"],[0.3333333333333333,\"#9c179e\"],[0.4444444444444444,\"#bd3786\"],[0.5555555555555556,\"#d8576b\"],[0.6666666666666666,\"#ed7953\"],[0.7777777777777778,\"#fb9f3a\"],[0.8888888888888888,\"#fdca26\"],[1.0,\"#f0f921\"]]}],\"mesh3d\":[{\"type\":\"mesh3d\",\"colorbar\":{\"outlinewidth\":0,\"ticks\":\"\"}}],\"scatter\":[{\"fillpattern\":{\"fillmode\":\"overlay\",\"size\":10,\"solidity\":0.2},\"type\":\"scatter\"}],\"parcoords\":[{\"type\":\"parcoords\",\"line\":{\"colorbar\":{\"outlinewidth\":0,\"ticks\":\"\"}}}],\"scatterpolargl\":[{\"type\":\"scatterpolargl\",\"marker\":{\"colorbar\":{\"outlinewidth\":0,\"ticks\":\"\"}}}],\"bar\":[{\"error_x\":{\"color\":\"#2a3f5f\"},\"error_y\":{\"color\":\"#2a3f5f\"},\"marker\":{\"line\":{\"color\":\"#E5ECF6\",\"width\":0.5},\"pattern\":{\"fillmode\":\"overlay\",\"size\":10,\"solidity\":0.2}},\"type\":\"bar\"}],\"scattergeo\":[{\"type\":\"scattergeo\",\"marker\":{\"colorbar\":{\"outlinewidth\":0,\"ticks\":\"\"}}}],\"scatterpolar\":[{\"type\":\"scatterpolar\",\"marker\":{\"colorbar\":{\"outlinewidth\":0,\"ticks\":\"\"}}}],\"histogram\":[{\"marker\":{\"pattern\":{\"fillmode\":\"overlay\",\"size\":10,\"solidity\":0.2}},\"type\":\"histogram\"}],\"scattergl\":[{\"type\":\"scattergl\",\"marker\":{\"colorbar\":{\"outlinewidth\":0,\"ticks\":\"\"}}}],\"scatter3d\":[{\"type\":\"scatter3d\",\"line\":{\"colorbar\":{\"outlinewidth\":0,\"ticks\":\"\"}},\"marker\":{\"colorbar\":{\"outlinewidth\":0,\"ticks\":\"\"}}}],\"scattermapbox\":[{\"type\":\"scattermapbox\",\"marker\":{\"colorbar\":{\"outlinewidth\":0,\"ticks\":\"\"}}}],\"scatterternary\":[{\"type\":\"scatterternary\",\"marker\":{\"colorbar\":{\"outlinewidth\":0,\"ticks\":\"\"}}}],\"scattercarpet\":[{\"type\":\"scattercarpet\",\"marker\":{\"colorbar\":{\"outlinewidth\":0,\"ticks\":\"\"}}}],\"carpet\":[{\"aaxis\":{\"endlinecolor\":\"#2a3f5f\",\"gridcolor\":\"white\",\"linecolor\":\"white\",\"minorgridcolor\":\"white\",\"startlinecolor\":\"#2a3f5f\"},\"baxis\":{\"endlinecolor\":\"#2a3f5f\",\"gridcolor\":\"white\",\"linecolor\":\"white\",\"minorgridcolor\":\"white\",\"startlinecolor\":\"#2a3f5f\"},\"type\":\"carpet\"}],\"table\":[{\"cells\":{\"fill\":{\"color\":\"#EBF0F8\"},\"line\":{\"color\":\"white\"}},\"header\":{\"fill\":{\"color\":\"#C8D4E3\"},\"line\":{\"color\":\"white\"}},\"type\":\"table\"}],\"barpolar\":[{\"marker\":{\"line\":{\"color\":\"#E5ECF6\",\"width\":0.5},\"pattern\":{\"fillmode\":\"overlay\",\"size\":10,\"solidity\":0.2}},\"type\":\"barpolar\"}],\"pie\":[{\"automargin\":true,\"type\":\"pie\"}]},\"layout\":{\"autotypenumbers\":\"strict\",\"colorway\":[\"#636efa\",\"#EF553B\",\"#00cc96\",\"#ab63fa\",\"#FFA15A\",\"#19d3f3\",\"#FF6692\",\"#B6E880\",\"#FF97FF\",\"#FECB52\"],\"font\":{\"color\":\"#2a3f5f\"},\"hovermode\":\"closest\",\"hoverlabel\":{\"align\":\"left\"},\"paper_bgcolor\":\"white\",\"plot_bgcolor\":\"#E5ECF6\",\"polar\":{\"bgcolor\":\"#E5ECF6\",\"angularaxis\":{\"gridcolor\":\"white\",\"linecolor\":\"white\",\"ticks\":\"\"},\"radialaxis\":{\"gridcolor\":\"white\",\"linecolor\":\"white\",\"ticks\":\"\"}},\"ternary\":{\"bgcolor\":\"#E5ECF6\",\"aaxis\":{\"gridcolor\":\"white\",\"linecolor\":\"white\",\"ticks\":\"\"},\"baxis\":{\"gridcolor\":\"white\",\"linecolor\":\"white\",\"ticks\":\"\"},\"caxis\":{\"gridcolor\":\"white\",\"linecolor\":\"white\",\"ticks\":\"\"}},\"coloraxis\":{\"colorbar\":{\"outlinewidth\":0,\"ticks\":\"\"}},\"colorscale\":{\"sequential\":[[0.0,\"#0d0887\"],[0.1111111111111111,\"#46039f\"],[0.2222222222222222,\"#7201a8\"],[0.3333333333333333,\"#9c179e\"],[0.4444444444444444,\"#bd3786\"],[0.5555555555555556,\"#d8576b\"],[0.6666666666666666,\"#ed7953\"],[0.7777777777777778,\"#fb9f3a\"],[0.8888888888888888,\"#fdca26\"],[1.0,\"#f0f921\"]],\"sequentialminus\":[[0.0,\"#0d0887\"],[0.1111111111111111,\"#46039f\"],[0.2222222222222222,\"#7201a8\"],[0.3333333333333333,\"#9c179e\"],[0.4444444444444444,\"#bd3786\"],[0.5555555555555556,\"#d8576b\"],[0.6666666666666666,\"#ed7953\"],[0.7777777777777778,\"#fb9f3a\"],[0.8888888888888888,\"#fdca26\"],[1.0,\"#f0f921\"]],\"diverging\":[[0,\"#8e0152\"],[0.1,\"#c51b7d\"],[0.2,\"#de77ae\"],[0.3,\"#f1b6da\"],[0.4,\"#fde0ef\"],[0.5,\"#f7f7f7\"],[0.6,\"#e6f5d0\"],[0.7,\"#b8e186\"],[0.8,\"#7fbc41\"],[0.9,\"#4d9221\"],[1,\"#276419\"]]},\"xaxis\":{\"gridcolor\":\"white\",\"linecolor\":\"white\",\"ticks\":\"\",\"title\":{\"standoff\":15},\"zerolinecolor\":\"white\",\"automargin\":true,\"zerolinewidth\":2},\"yaxis\":{\"gridcolor\":\"white\",\"linecolor\":\"white\",\"ticks\":\"\",\"title\":{\"standoff\":15},\"zerolinecolor\":\"white\",\"automargin\":true,\"zerolinewidth\":2},\"scene\":{\"xaxis\":{\"backgroundcolor\":\"#E5ECF6\",\"gridcolor\":\"white\",\"linecolor\":\"white\",\"showbackground\":true,\"ticks\":\"\",\"zerolinecolor\":\"white\",\"gridwidth\":2},\"yaxis\":{\"backgroundcolor\":\"#E5ECF6\",\"gridcolor\":\"white\",\"linecolor\":\"white\",\"showbackground\":true,\"ticks\":\"\",\"zerolinecolor\":\"white\",\"gridwidth\":2},\"zaxis\":{\"backgroundcolor\":\"#E5ECF6\",\"gridcolor\":\"white\",\"linecolor\":\"white\",\"showbackground\":true,\"ticks\":\"\",\"zerolinecolor\":\"white\",\"gridwidth\":2}},\"shapedefaults\":{\"line\":{\"color\":\"#2a3f5f\"}},\"annotationdefaults\":{\"arrowcolor\":\"#2a3f5f\",\"arrowhead\":0,\"arrowwidth\":1},\"geo\":{\"bgcolor\":\"white\",\"landcolor\":\"#E5ECF6\",\"subunitcolor\":\"white\",\"showland\":true,\"showlakes\":true,\"lakecolor\":\"white\"},\"title\":{\"x\":0.05},\"mapbox\":{\"style\":\"light\"}}},\"xaxis\":{\"anchor\":\"y\",\"domain\":[0.0,1.0],\"title\":{\"text\":\"Run Number\"},\"showline\":true,\"showgrid\":false,\"linecolor\":\"black\"},\"yaxis\":{\"anchor\":\"x\",\"domain\":[0.0,1.0],\"title\":{\"text\":\"Cumulative Unique Words\"},\"showgrid\":true,\"gridcolor\":\"lightgray\",\"linecolor\":\"black\"},\"legend\":{\"title\":{\"text\":\"\"},\"tracegroupgap\":0,\"orientation\":\"h\",\"y\":-0.3,\"yanchor\":\"top\",\"x\":0.5,\"xanchor\":\"center\"},\"title\":{\"text\":\"Cumulative Unique Words by Model and Original Prompt\",\"font\":{\"size\":18,\"family\":\"Arial, sans-serif\",\"color\":\"black\"}},\"margin\":{\"l\":20,\"r\":20,\"t\":60,\"b\":40},\"plot_bgcolor\":\"white\",\"font\":{\"family\":\"Helvetica, sans-serif\",\"size\":12,\"color\":\"black\"}},                        {\"responsive\": true}                    ).then(function(){\n",
       "                            \n",
       "var gd = document.getElementById('65b14e83-4d76-45af-990d-6775afedf23c');\n",
       "var x = new MutationObserver(function (mutations, observer) {{\n",
       "        var display = window.getComputedStyle(gd).display;\n",
       "        if (!display || display === 'none') {{\n",
       "            console.log([gd, 'removed!']);\n",
       "            Plotly.purge(gd);\n",
       "            observer.disconnect();\n",
       "        }}\n",
       "}});\n",
       "\n",
       "// Listen for the removal of the full notebook cells\n",
       "var notebookContainer = gd.closest('#notebook-container');\n",
       "if (notebookContainer) {{\n",
       "    x.observe(notebookContainer, {childList: true});\n",
       "}}\n",
       "\n",
       "// Listen for the clearing of the current output cell\n",
       "var outputEl = gd.closest('.output');\n",
       "if (outputEl) {{\n",
       "    x.observe(outputEl, {childList: true});\n",
       "}}\n",
       "\n",
       "                        })                };                });            </script>        </div>"
      ]
     },
     "metadata": {},
     "output_type": "display_data"
    }
   ],
   "source": [
    "fig = px.line(df_responses,\n",
    "              x='run_number',\n",
    "              y='CumulativeUniqueWords',\n",
    "              color='original_prompt',\n",
    "              line_dash='model',\n",
    "              title='Cumulative Unique Words by Model and Original Prompt')\n",
    "\n",
    "# Layout adjustments\n",
    "fig.update_layout(\n",
    "    plot_bgcolor='white',  # Set background color to white\n",
    "    xaxis=dict(title='Run Number',  # Customize X-axis label\n",
    "               showline=True,  # Show the X-axis line\n",
    "               showgrid=False,  # Hide gridlines for a cleaner look\n",
    "               linecolor='black'),  # X-axis line color\n",
    "    yaxis=dict(title='Cumulative Unique Words',  # Customize Y-axis label\n",
    "               showgrid=True,  # Show gridlines for better readability\n",
    "               gridcolor='lightgray',  # Gridline color\n",
    "               linecolor='black'),  # Y-axis line color\n",
    "    legend=dict(\n",
    "                orientation='h',  # Horizontal legend orientation\n",
    "                y=-0.3, yanchor='top',  # Position legend below the plot\n",
    "                x=0.5, xanchor='center',  # Center the legend horizontally\n",
    "                title_text=''),  # Remove legend title\n",
    "    margin=dict(l=20, r=20, t=60, b=40)  # Adjust plot margins\n",
    ")\n",
    "\n",
    "# Font styling\n",
    "fig.update_layout(\n",
    "    title_font=dict(size=18, family='Arial, sans-serif', color='black'),\n",
    "    font=dict(family='Helvetica, sans-serif', size=12, color='black')\n",
    ")\n",
    "\n",
    "# Show the plot\n",
    "fig.show()\n"
   ]
  },
  {
   "cell_type": "code",
   "execution_count": null,
   "id": "1b053994-d705-4c6b-8c83-eb2e838623f1",
   "metadata": {},
   "outputs": [],
   "source": []
  }
 ],
 "metadata": {
  "kernelspec": {
   "display_name": "Python 3 (ipykernel)",
   "language": "python",
   "name": "python3"
  },
  "language_info": {
   "codemirror_mode": {
    "name": "ipython",
    "version": 3
   },
   "file_extension": ".py",
   "mimetype": "text/x-python",
   "name": "python",
   "nbconvert_exporter": "python",
   "pygments_lexer": "ipython3",
   "version": "3.11.2"
  }
 },
 "nbformat": 4,
 "nbformat_minor": 5
}
